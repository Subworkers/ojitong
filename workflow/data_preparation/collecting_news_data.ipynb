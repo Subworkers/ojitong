{
 "cells": [
  {
   "cell_type": "code",
   "execution_count": null,
   "id": "514ea988-8439-4214-b74e-4bb7c88036a6",
   "metadata": {
    "editable": true,
    "slideshow": {
     "slide_type": ""
    },
    "tags": [
     "parameters"
    ]
   },
   "outputs": [],
   "source": [
    "deploy_phase = \"local\"\n",
    "execution_date = '2024-07-06T00:00:00+09:00'\n",
    "queries = [\"서울 지하철 파업\", \"서울 지하철 연착\", \"서울 지하철 지연\", \"서울 지하철 사고\", \"서울 지하철 연장\"]"
   ]
  },
  {
   "cell_type": "markdown",
   "id": "9cc0f0d0-9f37-498b-bbaf-250d2cb695dd",
   "metadata": {},
   "source": [
    "# Notebook Initialization"
   ]
  },
  {
   "cell_type": "code",
   "execution_count": null,
   "id": "ee639ee0-9ac0-4534-a9ff-c28b930df9ae",
   "metadata": {},
   "outputs": [],
   "source": [
    "%load_ext autoreload\n",
    "%autoreload 2"
   ]
  },
  {
   "cell_type": "code",
   "execution_count": null,
   "id": "f6ada3d1-701d-4f61-8446-056c077aecfe",
   "metadata": {},
   "outputs": [],
   "source": [
    "import sys"
   ]
  },
  {
   "cell_type": "code",
   "execution_count": null,
   "id": "76d7c152-cdb4-4e15-aff0-8ef2d1c3e4e9",
   "metadata": {},
   "outputs": [],
   "source": [
    "# sys.path.insert(0, \"/workspace/ojitong\")"
   ]
  },
  {
   "cell_type": "markdown",
   "id": "3736f512-143d-4f18-a6a4-bcabd6f75708",
   "metadata": {
    "editable": true,
    "slideshow": {
     "slide_type": ""
    },
    "tags": []
   },
   "source": [
    "# Global Const"
   ]
  },
  {
   "cell_type": "code",
   "execution_count": null,
   "id": "e3f14bfd-5c03-47bc-8965-8b6e836306b6",
   "metadata": {},
   "outputs": [],
   "source": [
    "from datetime import datetime\n",
    "\n",
    "def convert_to_datetime(date_str: str) -> datetime:\n",
    "    return datetime.fromisoformat(date_str)\n",
    "\n",
    "today_datetime = convert_to_datetime(execution_date)\n",
    "today_datetime"
   ]
  },
  {
   "cell_type": "markdown",
   "id": "b5e052fd-205d-405c-8811-e6440d83c345",
   "metadata": {},
   "source": [
    "# Knowledge Generation"
   ]
  },
  {
   "cell_type": "markdown",
   "id": "da3fa51a-4465-4b48-bd7a-4e0a33c45c98",
   "metadata": {},
   "source": [
    "1) 뉴스 URL 가져오기\n",
    "  - 네이버 뉴스에서 주어진 검색어로 뉴스 기사의 URL을 가져옵니다.\n",
    "\n",
    "2) 뉴스 기사 스크래핑\n",
    "- 추출한 URL에서 뉴스 기사의 세부 정보를 스크래핑합니다.\n",
    "\n",
    "3) 파일 s3 업로드"
   ]
  },
  {
   "cell_type": "code",
   "execution_count": null,
   "id": "f37ad65a-a49c-4ae2-91ce-064d5d0d5e88",
   "metadata": {},
   "outputs": [],
   "source": [
    "from typing import List\n",
    "import numpy as np\n",
    "import pandas as pd\n",
    "from datetime import datetime\n",
    "from workflow.data_preparation.news_scraper.data_enrichment import update_article_texts, update_kbs_titles, fill_missing_publish_dates\n",
    "from workflow.data_preparation.news_scraper.news_url_fetcher import format_today_date, create_search_url, fetch_html, get_news_urls\n",
    "from workflow.data_preparation.news_scraper.news_scraper import scrape_news_articles\n",
    "from workflow.data_preparation.news_scraper.webdriver_util import initialize_webdriver\n",
    "from data.utils.file import generate_s3_path\n",
    "\n",
    "def fetch_news_articles(queries, today_datetime):\n",
    "    all_articles_data = []\n",
    "    for query in queries:\n",
    "        news_urls = get_news_urls(query, today_datetime)\n",
    "        articles_data = scrape_news_articles(news_urls)\n",
    "        for article_data in articles_data:\n",
    "            article_data['category'] = query.split(\" \")[-1]\n",
    "        all_articles_data.extend(articles_data)\n",
    "    return all_articles_data\n",
    "\n",
    "def initialize_dataframe(articles_data):\n",
    "    df = pd.DataFrame(articles_data)\n",
    "    df = df.replace('', np.nan)\n",
    "    return df\n",
    "\n",
    "def fetch_and_process_data(queries: List[str], today_datetime: datetime):\n",
    "    # 1. 뉴스 기사 패치\n",
    "    print(\"*** 1. 뉴스 기사 패치 ***\")\n",
    "    articles_data = fetch_news_articles(queries, today_datetime)\n",
    "    df = initialize_dataframe(articles_data)\n",
    "    print(df.head())\n",
    "\n",
    "    # 2. 결측치 보강\n",
    "    print(\"*** 2. 결측치 보강 ***\")\n",
    "    driver = initialize_webdriver()\n",
    "    try:\n",
    "        print(\"*** 2-1. update_article_texts ***\")\n",
    "        df = update_article_texts(df, driver)\n",
    "        print(df.head())\n",
    "        \n",
    "        print(\"*** 2-2. fill_missing_publish_dates ***\")\n",
    "        df = fill_missing_publish_dates(df, driver)\n",
    "        df[\"publish_date\"] = df[\"publish_date\"].fillna(today_datetime.strftime('%Y-%m-%d %H:%M:%S%z'))\n",
    "        print(df.head())\n",
    "        \n",
    "        print(\"*** 2-3. update_kbs_titles ***\")\n",
    "        df = update_kbs_titles(df, driver)\n",
    "        print(df.head())\n",
    "    finally:\n",
    "        driver.quit()\n",
    "\n",
    "    # 3. 파일 S3 업로드\n",
    "    s3_path = generate_s3_path(today_datetime=today_datetime)\n",
    "    df.to_csv(s3_path, index=False)\n",
    "    print(f\"*** Data saved to {s3_path} ***\")\n",
    "    return df"
   ]
  },
  {
   "cell_type": "code",
   "execution_count": null,
   "id": "1bd7f0ef-36ff-4fc0-8d23-27fcb54c7897",
   "metadata": {},
   "outputs": [],
   "source": [
    "df = fetch_and_process_data(queries, today_datetime)"
   ]
  },
  {
   "cell_type": "code",
   "execution_count": null,
   "id": "a15f30ea-2b8e-488f-9053-0b7750dfb4a0",
   "metadata": {},
   "outputs": [],
   "source": [
    "df"
   ]
  },
  {
   "cell_type": "code",
   "execution_count": null,
   "id": "dc3f380a-d82d-46a6-b24a-509735585461",
   "metadata": {},
   "outputs": [],
   "source": []
  }
 ],
 "metadata": {
  "kernelspec": {
   "display_name": "Python 3 (ipykernel)",
   "language": "python",
   "name": "python3"
  },
  "language_info": {
   "codemirror_mode": {
    "name": "ipython",
    "version": 3
   },
   "file_extension": ".py",
   "mimetype": "text/x-python",
   "name": "python",
   "nbconvert_exporter": "python",
   "pygments_lexer": "ipython3",
   "version": "3.11.6"
  }
 },
 "nbformat": 4,
 "nbformat_minor": 5
}
