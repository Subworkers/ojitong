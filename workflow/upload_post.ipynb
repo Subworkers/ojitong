{
 "cells": [
  {
   "cell_type": "code",
   "execution_count": 74,
   "id": "5f588085-eb62-49f1-b273-354a7f3b8c90",
   "metadata": {***REMOVED***,
   "outputs": [
    {
     "name": "stdout",
     "output_type": "stream",
     "text": [
      "The autoreload extension is already loaded. To reload it, use:\n",
      "  %reload_ext autoreload\n"
     ***REMOVED***
    ***REMOVED***
   ***REMOVED***,
   "source": [
    "%load_ext autoreload\n",
    "%autoreload 2"
   ***REMOVED***
  ***REMOVED***,
  {
   "cell_type": "code",
   "execution_count": 75,
   "id": "1085d90a-c3c3-42ce-8bad-cddadcba162c",
   "metadata": {***REMOVED***,
   "outputs": [***REMOVED***,
   "source": [
    "import sys\n",
    "sys.path.insert(0, \"/workspace/ojitong\"***REMOVED***"
   ***REMOVED***
  ***REMOVED***,
  {
   "cell_type": "markdown",
   "id": "298dbd60-c725-4f6d-8b42-5ffeb08629ac",
   "metadata": {***REMOVED***,
   "source": [
    "# Login to naver"
   ***REMOVED***
  ***REMOVED***,
  {
   "cell_type": "code",
   "execution_count": 76,
   "id": "4c131147-0420-49cf-bf4d-ee35ca2b8668",
   "metadata": {***REMOVED***,
   "outputs": [***REMOVED***,
   "source": [
    "from selenium import webdriver\n",
    "from selenium.webdriver.chrome.service import Service\n",
    "from selenium.webdriver.chrome.options import Options\n",
    "from selenium.webdriver.common.by import By\n",
    "from selenium.webdriver.common.keys import Keys\n",
    "from selenium.webdriver.support.ui import WebDriverWait\n",
    "from selenium.webdriver.support import expected_conditions as EC\n",
    "import time\n",
    "import os\n",
    "\n",
    "from pyvirtualdisplay import Display\n",
    "import Xlib.display\n",
    "# 가상 디스플레이 시작\n",
    "display = Display(visible=0, size=(1920, 1080***REMOVED***, backend=\"xvfb\", use_xauth=True***REMOVED***\n",
    "display.start(***REMOVED***\n",
    "os.environ[\"DISPLAY\"***REMOVED*** = display.new_display_var\n",
    "\n",
    "import pyperclip\n",
    "import pyautogui\n",
    "\n",
    "pyperclip.set_clipboard(\"xclip\"***REMOVED***\n",
    "pyautogui._pyautogui_x11._display = Xlib.display.Display(os.environ['DISPLAY'***REMOVED******REMOVED***\n",
    "\n",
    "def login_to_naver(username, password***REMOVED***:\n",
    "    # DBus 관련 환경 변수를 설정하지 않음\n",
    "    os.environ[\"DBUS_SESSION_BUS_ADDRESS\"***REMOVED*** = \"/dev/null\"\n",
    "    os.environ[\"NO_AT_BRIDGE\"***REMOVED*** = \"1\"\n",
    "    \n",
    "    # 크롬 옵션 설정\n",
    "    chrome_options = Options(***REMOVED***\n",
    "    chrome_options.add_argument('--incognito'***REMOVED***\n",
    "    chrome_options.add_argument('--headless=new'***REMOVED***\n",
    "    chrome_options.add_argument('--no-sandbox'***REMOVED***\n",
    "    chrome_options.add_argument('--disable-dev-shm-usage'***REMOVED***\n",
    "    chrome_options.add_argument('--disable-gpu'***REMOVED***\n",
    "    chrome_options.add_argument('--remote-debugging-port=9222'***REMOVED***\n",
    "    chrome_options.add_argument('--window-size=1920,1080'***REMOVED*** # https://stackoverflow.com/a/60505472\n",
    "    chrome_options.add_argument(\"start-maximized\"***REMOVED***\n",
    "    chrome_driver_path = '/usr/local/bin/chromedriver'\n",
    "\n",
    "    # 크롬 드라이버 초기화\n",
    "    chrome_service = Service(chrome_driver_path***REMOVED***\n",
    "    driver = webdriver.Chrome(service=chrome_service, options=chrome_options***REMOVED***\n",
    "    driver.get('https://nid.naver.com/nidlogin.login'***REMOVED***\n",
    "\n",
    "    # 로딩 대기\n",
    "    time.sleep(2***REMOVED***\n",
    "\n",
    "    # 아이디 입력 필드 찾기\n",
    "    driver.execute_script(\n",
    "        f\"document.querySelector('input[id=\\\"id\\\"***REMOVED***'***REMOVED***.setAttribute('value', '{username***REMOVED***'***REMOVED***\"\n",
    "    ***REMOVED***\n",
    "    time.sleep(1***REMOVED***\n",
    "\n",
    "    # 패스워드 입력 필드 찾기\n",
    "    driver.execute_script(\n",
    "        f\"document.querySelector('input[id=\\\"pw\\\"***REMOVED***'***REMOVED***.setAttribute('value', '{password***REMOVED***'***REMOVED***\"\n",
    "    ***REMOVED***\n",
    "    time.sleep(1***REMOVED***\n",
    "    \n",
    "    # 로그인 버튼 클릭\n",
    "    login_btn = driver.find_element(By.ID, \"log.login\"***REMOVED***\n",
    "    login_btn.click(***REMOVED***\n",
    "\n",
    "    # 로그인 후의 추가적인 처리가 필요한 경우를 위해 대기\n",
    "    time.sleep(5***REMOVED***\n",
    "\n",
    "    return driver"
   ***REMOVED***
  ***REMOVED***,
  {
   "cell_type": "code",
   "execution_count": 77,
   "id": "3d39f486-24fd-4249-849d-c65c1b99a0a7",
   "metadata": {***REMOVED***,
   "outputs": [***REMOVED***,
   "source": [
    "username = \"tech_subworkers\"\n",
    "password = \"Workersubway1!\"\n",
    "nickname = \"subway__onda\""
   ***REMOVED***
  ***REMOVED***,
  {
   "cell_type": "code",
   "execution_count": 78,
   "id": "e869ae3b-5b39-4cfb-878d-849affad6ea6",
   "metadata": {***REMOVED***,
   "outputs": [***REMOVED***,
   "source": [
    "driver = login_to_naver(username, password***REMOVED***"
   ***REMOVED***
  ***REMOVED***,
  {
   "cell_type": "code",
   "execution_count": 85,
   "id": "ce7277e1-0aa3-479f-8e62-85f585fd742d",
   "metadata": {***REMOVED***,
   "outputs": [***REMOVED***,
   "source": [
    "from typing import Any, Dict\n",
    "from selenium.webdriver.common.action_chains import ActionChains\n",
    "\n",
    "def publish_blog_post(driver: Any, nickname: str, contents: Dict[str, Any***REMOVED******REMOVED*** -> None :\n",
    "    \n",
    "    actions = ActionChains(driver***REMOVED***\n",
    "    \n",
    "    # 글쓰기 페이지로 이동\n",
    "    driver.get(f'https://blog.naver.com/{nickname***REMOVED***?Redirect=Write&'***REMOVED***\n",
    "\n",
    "    time.sleep(2***REMOVED***\n",
    "\n",
    "    # 새 창으로 이동 (블로그 글쓰기 창이 새 탭/창에서 열렸다고 가정***REMOVED***\n",
    "    driver.switch_to.window(driver.window_handles[-1***REMOVED******REMOVED***\n",
    "    time.sleep(2***REMOVED***\n",
    "\n",
    "    # iframe으로 포커스 전환\n",
    "    WebDriverWait(driver, 10***REMOVED***.until(EC.frame_to_be_available_and_switch_to_it((By.ID, 'mainFrame'***REMOVED******REMOVED******REMOVED***\n",
    "    time.sleep(2***REMOVED***\n",
    "\n",
    "     # \"작성 중인 글이 있습니다.\" 팝업 처리\n",
    "    try:\n",
    "        cancel_button = WebDriverWait(driver, 5***REMOVED***.until(EC.presence_of_element_located((By.XPATH, '/html/body/div[1***REMOVED***/div/div[3***REMOVED***/div/div/div[1***REMOVED***/div/div[4***REMOVED***/div[2***REMOVED***/div[3***REMOVED***/button[1***REMOVED***'***REMOVED******REMOVED******REMOVED***\n",
    "        cancel_button.click(***REMOVED***\n",
    "    except Exception as e:\n",
    "        print(\"* No draft popup appeared.\"***REMOVED***\n",
    "\n",
    "    # 우측 팝업 처리\n",
    "    try:\n",
    "        close_button = WebDriverWait(driver, 5***REMOVED***.until(EC.presence_of_element_located((By.XPATH, '/html/body/div[1***REMOVED***/div/div[3***REMOVED***/div/div/div[1***REMOVED***/div/div[1***REMOVED***/article/div/header/button'***REMOVED******REMOVED******REMOVED***\n",
    "        close_button.click(***REMOVED***\n",
    "    except Exception as e:\n",
    "        print(\"* No right side popup appeared.\"***REMOVED***\n",
    "\n",
    "    time.sleep(2***REMOVED***\n",
    "\n",
    "    # 글쓰기 페이지 내 요소들의 XPATH\n",
    "\n",
    "    title_field_xpath = '/html/body/div[1***REMOVED***/div/div[3***REMOVED***/div/div/div[1***REMOVED***/div/div[1***REMOVED***/div[2***REMOVED***/section/article/div[1***REMOVED***/div[1***REMOVED***/div/div/p/span[2***REMOVED***'\n",
    "    content_field_xpath = '/html/body/div[1***REMOVED***/div/div[3***REMOVED***/div/div/div[1***REMOVED***/div/div[1***REMOVED***/div[2***REMOVED***/section/article/div[2***REMOVED***/div/div/div/div/p'\n",
    "    save_button_xpath = '/html/body/div[1***REMOVED***/div/div[1***REMOVED***/div/div[2***REMOVED***/button[1***REMOVED***'\n",
    "    text_image_xpath = '/html/body/div[1***REMOVED***/div/div[3***REMOVED***/div/div/div[1***REMOVED***/div/header/div[1***REMOVED***/ul/li[17***REMOVED***/button'\n",
    "    image_keyword_xpath = '/html/body/div[1***REMOVED***/div/div[3***REMOVED***/div/div/div[1***REMOVED***/div/div[1***REMOVED***/aside/div/div[1***REMOVED***/input'\n",
    "    first_image_xpath = '/html/body/div[1***REMOVED***/div/div[3***REMOVED***/div/div/div[1***REMOVED***/div/div[1***REMOVED***/aside/div/div[3***REMOVED***/div/ul/div/li[1***REMOVED***/div/div[2***REMOVED***'\n",
    "\n",
    "\n",
    "    # # 이미지 넣기(글감 무료 이미지 활용***REMOVED***\n",
    "    # #  글감 버튼 클릭\n",
    "    # image_button = driver.find_element(By.XPATH, text_image_xpath***REMOVED***\n",
    "    # image_button.click(***REMOVED***\n",
    "    # time.sleep(1***REMOVED***\n",
    "\n",
    "    # # 키워드 입력 후 이미지 검색\n",
    "    # keyword_field = WebDriverWait(driver, 5***REMOVED***.until(EC.element_to_be_clickable((By.XPATH, image_keyword_xpath***REMOVED******REMOVED******REMOVED***\n",
    "    # pyperclip.copy(contents['Title'***REMOVED******REMOVED***\n",
    "    # time.sleep(1***REMOVED***\n",
    "    # keyword_field.click(***REMOVED***\n",
    "    # pyautogui.hotkey('ctrl', 'v'***REMOVED***  # 클립보드 내용 붙여넣기\n",
    "    # pyautogui.press('enter'***REMOVED***\n",
    "    # time.sleep(2***REMOVED***\n",
    "\n",
    "    # #  첫 이미지 클릭\n",
    "    # login_button = driver.find_element(By.XPATH, first_image_xpath***REMOVED***\n",
    "    # login_button.click(***REMOVED***\n",
    "\n",
    "\n",
    "    # 제목 입력\n",
    "    title_field = WebDriverWait(driver, 5***REMOVED***.until(EC.element_to_be_clickable((By.XPATH, title_field_xpath***REMOVED******REMOVED******REMOVED***\n",
    "    title_field.click(***REMOVED***\n",
    "    actions.send_keys(contents['Title'***REMOVED******REMOVED***\n",
    "    actions.perform(***REMOVED***\n",
    "    time.sleep(1***REMOVED***\n",
    "    print(\"* Title is filled\"***REMOVED***\n",
    "\n",
    "    # 내용 입력\n",
    "    content_field = WebDriverWait(driver, 20***REMOVED***.until(EC.element_to_be_clickable((By.XPATH, content_field_xpath***REMOVED******REMOVED******REMOVED***\n",
    "    content_field.click(***REMOVED***\n",
    "    actions.send_keys(contents['Contents'***REMOVED******REMOVED***\n",
    "    actions.perform(***REMOVED***\n",
    "    print(\"* Content is filled\"***REMOVED***\n",
    "\n",
    "    # \"저장\" 버튼 클릭\n",
    "    save_button = WebDriverWait(driver, 10***REMOVED***.until(EC.element_to_be_clickable((By.XPATH, save_button_xpath***REMOVED******REMOVED******REMOVED***\n",
    "    save_button.click(***REMOVED***\n",
    "    print(\"* Savebutton is clicked\"***REMOVED***\n",
    "\n",
    "    # 저장 후의 처리가 필요한 경우를 위해 대기\n",
    "    time.sleep(2***REMOVED***\n",
    "\n",
    "    # 글쓰기 작업 종료 이후 드라이버 종료\n",
    "    # driver.quit(***REMOVED***  # 드라이버 종료"
   ***REMOVED***
  ***REMOVED***,
  {
   "cell_type": "code",
   "execution_count": 86,
   "id": "b05ea00e-fe61-49d2-b352-dcc114356238",
   "metadata": {***REMOVED***,
   "outputs": [***REMOVED***,
   "source": [
    "contents = {\"Title\" : \"테스트제목\", \"Contents\" : \"테스트내용\", \"Hashtags\": \"#해시태그\"***REMOVED***"
   ***REMOVED***
  ***REMOVED***,
  {
   "cell_type": "code",
   "execution_count": 87,
   "id": "d1a596cb-82f3-4bf9-a913-2d7f80e6df6a",
   "metadata": {***REMOVED***,
   "outputs": [
    {
     "name": "stdout",
     "output_type": "stream",
     "text": [
      "* No right side popup appeared.\n",
      "* Title is filled\n",
      "* Content is filled\n"
     ***REMOVED***
    ***REMOVED***
   ***REMOVED***,
   "source": [
    "publish_blog_post(driver, nickname, contents***REMOVED***"
   ***REMOVED***
  ***REMOVED***,
  {
   "cell_type": "code",
   "execution_count": null,
   "id": "5a7a064b-ed0e-4540-a02d-ef8b084c9aca",
   "metadata": {***REMOVED***,
   "outputs": [***REMOVED***,
   "source": [***REMOVED***
  ***REMOVED***
 ***REMOVED***,
 "metadata": {
  "kernelspec": {
   "display_name": "Python 3 (ipykernel***REMOVED***",
   "language": "python",
   "name": "python3"
  ***REMOVED***,
  "language_info": {
   "codemirror_mode": {
    "name": "ipython",
    "version": 3
   ***REMOVED***,
   "file_extension": ".py",
   "mimetype": "text/x-python",
   "name": "python",
   "nbconvert_exporter": "python",
   "pygments_lexer": "ipython3",
   "version": "3.11.6"
  ***REMOVED***
 ***REMOVED***,
 "nbformat": 4,
 "nbformat_minor": 5
***REMOVED***
