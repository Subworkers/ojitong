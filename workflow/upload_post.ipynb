{
 "cells": [
  {
   "cell_type": "code",
   "execution_count": 74,
   "id": "5f588085-eb62-49f1-b273-354a7f3b8c90",
   "metadata": {},
   "outputs": [
    {
     "name": "stdout",
     "output_type": "stream",
     "text": [
      "The autoreload extension is already loaded. To reload it, use:\n",
      "  %reload_ext autoreload\n"
     ]
    }
   ],
   "source": [
    "%load_ext autoreload\n",
    "%autoreload 2"
   ]
  },
  {
   "cell_type": "code",
   "execution_count": 75,
   "id": "1085d90a-c3c3-42ce-8bad-cddadcba162c",
   "metadata": {},
   "outputs": [],
   "source": [
    "import sys\n",
    "sys.path.insert(0, \"/workspace/ojitong\")"
   ]
  },
  {
   "cell_type": "markdown",
   "id": "298dbd60-c725-4f6d-8b42-5ffeb08629ac",
   "metadata": {},
   "source": [
    "# Login to naver"
   ]
  },
  {
   "cell_type": "code",
   "execution_count": 76,
   "id": "4c131147-0420-49cf-bf4d-ee35ca2b8668",
   "metadata": {},
   "outputs": [],
   "source": [
    "from selenium import webdriver\n",
    "from selenium.webdriver.chrome.service import Service\n",
    "from selenium.webdriver.chrome.options import Options\n",
    "from selenium.webdriver.common.by import By\n",
    "from selenium.webdriver.common.keys import Keys\n",
    "from selenium.webdriver.support.ui import WebDriverWait\n",
    "from selenium.webdriver.support import expected_conditions as EC\n",
    "import time\n",
    "import os\n",
    "\n",
    "from pyvirtualdisplay import Display\n",
    "import Xlib.display\n",
    "# 가상 디스플레이 시작\n",
    "display = Display(visible=0, size=(1920, 1080), backend=\"xvfb\", use_xauth=True)\n",
    "display.start()\n",
    "os.environ[\"DISPLAY\"] = display.new_display_var\n",
    "\n",
    "import pyperclip\n",
    "import pyautogui\n",
    "\n",
    "pyperclip.set_clipboard(\"xclip\")\n",
    "pyautogui._pyautogui_x11._display = Xlib.display.Display(os.environ['DISPLAY'])\n",
    "\n",
    "def login_to_naver(username, password):\n",
    "    # DBus 관련 환경 변수를 설정하지 않음\n",
    "    os.environ[\"DBUS_SESSION_BUS_ADDRESS\"] = \"/dev/null\"\n",
    "    os.environ[\"NO_AT_BRIDGE\"] = \"1\"\n",
    "    \n",
    "    # 크롬 옵션 설정\n",
    "    chrome_options = Options()\n",
    "    chrome_options.add_argument('--incognito')\n",
    "    chrome_options.add_argument('--headless=new')\n",
    "    chrome_options.add_argument('--no-sandbox')\n",
    "    chrome_options.add_argument('--disable-dev-shm-usage')\n",
    "    chrome_options.add_argument('--disable-gpu')\n",
    "    chrome_options.add_argument('--remote-debugging-port=9222')\n",
    "    chrome_options.add_argument('--window-size=1920,1080') # https://stackoverflow.com/a/60505472\n",
    "    chrome_options.add_argument(\"start-maximized\")\n",
    "    chrome_driver_path = '/usr/local/bin/chromedriver'\n",
    "\n",
    "    # 크롬 드라이버 초기화\n",
    "    chrome_service = Service(chrome_driver_path)\n",
    "    driver = webdriver.Chrome(service=chrome_service, options=chrome_options)\n",
    "    driver.get('https://nid.naver.com/nidlogin.login')\n",
    "\n",
    "    # 로딩 대기\n",
    "    time.sleep(2)\n",
    "\n",
    "    # 아이디 입력 필드 찾기\n",
    "    driver.execute_script(\n",
    "        f\"document.querySelector('input[id=\\\"id\\\"]').setAttribute('value', '{username}')\"\n",
    "    )\n",
    "    time.sleep(1)\n",
    "\n",
    "    # 패스워드 입력 필드 찾기\n",
    "    driver.execute_script(\n",
    "        f\"document.querySelector('input[id=\\\"pw\\\"]').setAttribute('value', '{password}')\"\n",
    "    )\n",
    "    time.sleep(1)\n",
    "    \n",
    "    # 로그인 버튼 클릭\n",
    "    login_btn = driver.find_element(By.ID, \"log.login\")\n",
    "    login_btn.click()\n",
    "\n",
    "    # 로그인 후의 추가적인 처리가 필요한 경우를 위해 대기\n",
    "    time.sleep(5)\n",
    "\n",
    "    return driver"
   ]
  },
  {
   "cell_type": "code",
   "execution_count": 77,
   "id": "3d39f486-24fd-4249-849d-c65c1b99a0a7",
   "metadata": {},
   "outputs": [],
   "source": [
    "username = \"tech_subworkers\"\n",
    "password = \"Workersubway1!\"\n",
    "nickname = \"subway__onda\""
   ]
  },
  {
   "cell_type": "code",
   "execution_count": 78,
   "id": "e869ae3b-5b39-4cfb-878d-849affad6ea6",
   "metadata": {},
   "outputs": [],
   "source": [
    "driver = login_to_naver(username, password)"
   ]
  },
  {
   "cell_type": "code",
   "execution_count": 85,
   "id": "ce7277e1-0aa3-479f-8e62-85f585fd742d",
   "metadata": {},
   "outputs": [],
   "source": [
    "from typing import Any, Dict\n",
    "from selenium.webdriver.common.action_chains import ActionChains\n",
    "\n",
    "def publish_blog_post(driver: Any, nickname: str, contents: Dict[str, Any]) -> None :\n",
    "    \n",
    "    actions = ActionChains(driver)\n",
    "    \n",
    "    # 글쓰기 페이지로 이동\n",
    "    driver.get(f'https://blog.naver.com/{nickname}?Redirect=Write&')\n",
    "\n",
    "    time.sleep(2)\n",
    "\n",
    "    # 새 창으로 이동 (블로그 글쓰기 창이 새 탭/창에서 열렸다고 가정)\n",
    "    driver.switch_to.window(driver.window_handles[-1])\n",
    "    time.sleep(2)\n",
    "\n",
    "    # iframe으로 포커스 전환\n",
    "    WebDriverWait(driver, 10).until(EC.frame_to_be_available_and_switch_to_it((By.ID, 'mainFrame')))\n",
    "    time.sleep(2)\n",
    "\n",
    "     # \"작성 중인 글이 있습니다.\" 팝업 처리\n",
    "    try:\n",
    "        cancel_button = WebDriverWait(driver, 5).until(EC.presence_of_element_located((By.XPATH, '/html/body/div[1]/div/div[3]/div/div/div[1]/div/div[4]/div[2]/div[3]/button[1]')))\n",
    "        cancel_button.click()\n",
    "    except Exception as e:\n",
    "        print(\"* No draft popup appeared.\")\n",
    "\n",
    "    # 우측 팝업 처리\n",
    "    try:\n",
    "        close_button = WebDriverWait(driver, 5).until(EC.presence_of_element_located((By.XPATH, '/html/body/div[1]/div/div[3]/div/div/div[1]/div/div[1]/article/div/header/button')))\n",
    "        close_button.click()\n",
    "    except Exception as e:\n",
    "        print(\"* No right side popup appeared.\")\n",
    "\n",
    "    time.sleep(2)\n",
    "\n",
    "    # 글쓰기 페이지 내 요소들의 XPATH\n",
    "\n",
    "    title_field_xpath = '/html/body/div[1]/div/div[3]/div/div/div[1]/div/div[1]/div[2]/section/article/div[1]/div[1]/div/div/p/span[2]'\n",
    "    content_field_xpath = '/html/body/div[1]/div/div[3]/div/div/div[1]/div/div[1]/div[2]/section/article/div[2]/div/div/div/div/p'\n",
    "    save_button_xpath = '/html/body/div[1]/div/div[1]/div/div[2]/button[1]'\n",
    "    text_image_xpath = '/html/body/div[1]/div/div[3]/div/div/div[1]/div/header/div[1]/ul/li[17]/button'\n",
    "    image_keyword_xpath = '/html/body/div[1]/div/div[3]/div/div/div[1]/div/div[1]/aside/div/div[1]/input'\n",
    "    first_image_xpath = '/html/body/div[1]/div/div[3]/div/div/div[1]/div/div[1]/aside/div/div[3]/div/ul/div/li[1]/div/div[2]'\n",
    "\n",
    "\n",
    "    # # 이미지 넣기(글감 무료 이미지 활용)\n",
    "    # #  글감 버튼 클릭\n",
    "    # image_button = driver.find_element(By.XPATH, text_image_xpath)\n",
    "    # image_button.click()\n",
    "    # time.sleep(1)\n",
    "\n",
    "    # # 키워드 입력 후 이미지 검색\n",
    "    # keyword_field = WebDriverWait(driver, 5).until(EC.element_to_be_clickable((By.XPATH, image_keyword_xpath)))\n",
    "    # pyperclip.copy(contents['Title'])\n",
    "    # time.sleep(1)\n",
    "    # keyword_field.click()\n",
    "    # pyautogui.hotkey('ctrl', 'v')  # 클립보드 내용 붙여넣기\n",
    "    # pyautogui.press('enter')\n",
    "    # time.sleep(2)\n",
    "\n",
    "    # #  첫 이미지 클릭\n",
    "    # login_button = driver.find_element(By.XPATH, first_image_xpath)\n",
    "    # login_button.click()\n",
    "\n",
    "\n",
    "    # 제목 입력\n",
    "    title_field = WebDriverWait(driver, 5).until(EC.element_to_be_clickable((By.XPATH, title_field_xpath)))\n",
    "    title_field.click()\n",
    "    actions.send_keys(contents['Title'])\n",
    "    actions.perform()\n",
    "    time.sleep(1)\n",
    "    print(\"* Title is filled\")\n",
    "\n",
    "    # 내용 입력\n",
    "    content_field = WebDriverWait(driver, 20).until(EC.element_to_be_clickable((By.XPATH, content_field_xpath)))\n",
    "    content_field.click()\n",
    "    actions.send_keys(contents['Contents'])\n",
    "    actions.perform()\n",
    "    print(\"* Content is filled\")\n",
    "\n",
    "    # \"저장\" 버튼 클릭\n",
    "    save_button = WebDriverWait(driver, 10).until(EC.element_to_be_clickable((By.XPATH, save_button_xpath)))\n",
    "    save_button.click()\n",
    "    print(\"* Savebutton is clicked\")\n",
    "\n",
    "    # 저장 후의 처리가 필요한 경우를 위해 대기\n",
    "    time.sleep(2)\n",
    "\n",
    "    # 글쓰기 작업 종료 이후 드라이버 종료\n",
    "    # driver.quit()  # 드라이버 종료"
   ]
  },
  {
   "cell_type": "code",
   "execution_count": 86,
   "id": "b05ea00e-fe61-49d2-b352-dcc114356238",
   "metadata": {},
   "outputs": [],
   "source": [
    "contents = {\"Title\" : \"테스트제목\", \"Contents\" : \"테스트내용\", \"Hashtags\": \"#해시태그\"}"
   ]
  },
  {
   "cell_type": "code",
   "execution_count": 87,
   "id": "d1a596cb-82f3-4bf9-a913-2d7f80e6df6a",
   "metadata": {},
   "outputs": [
    {
     "name": "stdout",
     "output_type": "stream",
     "text": [
      "* No right side popup appeared.\n",
      "* Title is filled\n",
      "* Content is filled\n"
     ]
    }
   ],
   "source": [
    "publish_blog_post(driver, nickname, contents)"
   ]
  },
  {
   "cell_type": "code",
   "execution_count": null,
   "id": "5a7a064b-ed0e-4540-a02d-ef8b084c9aca",
   "metadata": {},
   "outputs": [],
   "source": []
  }
 ],
 "metadata": {
  "kernelspec": {
   "display_name": "Python 3 (ipykernel)",
   "language": "python",
   "name": "python3"
  },
  "language_info": {
   "codemirror_mode": {
    "name": "ipython",
    "version": 3
   },
   "file_extension": ".py",
   "mimetype": "text/x-python",
   "name": "python",
   "nbconvert_exporter": "python",
   "pygments_lexer": "ipython3",
   "version": "3.11.6"
  }
 },
 "nbformat": 4,
 "nbformat_minor": 5
}
