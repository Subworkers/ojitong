{
 "cells": [
  {
   "cell_type": "code",
   "execution_count": null,
   "id": "514ea988-8439-4214-b74e-4bb7c88036a6",
   "metadata": {
    "editable": true,
    "slideshow": {
     "slide_type": ""
    },
    "tags": [
     "parameters"
    ]
   },
   "outputs": [],
   "source": [
    "deploy_phase = \"local\"\n",
    "execution_date = '2024-07-06T00:00:00+09:00'\n",
    "content_index = 0"
   ]
  },
  {
   "cell_type": "markdown",
   "id": "9cc0f0d0-9f37-498b-bbaf-250d2cb695dd",
   "metadata": {},
   "source": [
    "# Notebook Initialization"
   ]
  },
  {
   "cell_type": "code",
   "execution_count": null,
   "id": "ee639ee0-9ac0-4534-a9ff-c28b930df9ae",
   "metadata": {},
   "outputs": [],
   "source": [
    "%load_ext autoreload\n",
    "%autoreload 2"
   ]
  },
  {
   "cell_type": "code",
   "execution_count": null,
   "id": "76d7c152-cdb4-4e15-aff0-8ef2d1c3e4e9",
   "metadata": {},
   "outputs": [],
   "source": [
    "# import sys\n",
    "# sys.path.insert(0, \"/workspace/ojitong\")"
   ]
  },
  {
   "cell_type": "markdown",
   "id": "3736f512-143d-4f18-a6a4-bcabd6f75708",
   "metadata": {
    "editable": true,
    "slideshow": {
     "slide_type": ""
    },
    "tags": []
   },
   "source": [
    "# Global Const"
   ]
  },
  {
   "cell_type": "code",
   "execution_count": null,
   "id": "e3f14bfd-5c03-47bc-8965-8b6e836306b6",
   "metadata": {},
   "outputs": [],
   "source": [
    "from datetime import datetime\n",
    "\n",
    "def convert_to_datetime(date_str: str) -> datetime:\n",
    "    return datetime.fromisoformat(date_str)\n",
    "\n",
    "today_datetime = convert_to_datetime(execution_date)\n",
    "today_datetime"
   ]
  },
  {
   "cell_type": "code",
   "execution_count": null,
   "id": "012f4300-7993-41cd-8bc8-29ea168b451c",
   "metadata": {},
   "outputs": [],
   "source": [
    "import pandas as pd\n",
    "from data.utils.file import generate_s3_path\n",
    "s3_path = generate_s3_path(prefix=\"news_data_selected\", today_datetime=today_datetime)\n",
    "df = pd.read_csv(\"/workspace/ojitong/output_0706.csv\")"
   ]
  },
  {
   "cell_type": "code",
   "execution_count": null,
   "id": "63db6f3d-b71f-4a99-b3d9-74acf9382034",
   "metadata": {},
   "outputs": [],
   "source": [
    "content_row = df.iloc[content_index]"
   ]
  },
  {
   "cell_type": "code",
   "execution_count": null,
   "id": "d221da71-7df2-495e-baf2-f8f3c446f991",
   "metadata": {},
   "outputs": [],
   "source": [
    "# 1. 필요한 데이터 추출\n",
    "title = content_row['title']\n",
    "publish_date = content_row['publish_date']\n",
    "article = content_row['text']\n",
    "category = content_row['category']"
   ]
  },
  {
   "cell_type": "code",
   "execution_count": null,
   "id": "3a374186-c0ab-46a5-b4b5-f48b6143b909",
   "metadata": {},
   "outputs": [],
   "source": [
    "# 출력\n",
    "print(\"Title:\", title)\n",
    "print(\"Publish Date:\", publish_date)\n",
    "print(\"Article:\", article)\n",
    "print(\"Category:\", category)"
   ]
  },
  {
   "cell_type": "code",
   "execution_count": null,
   "id": "df609456-8c81-46c5-9d3c-3abab9d70769",
   "metadata": {},
   "outputs": [],
   "source": [
    "# 2. source content 생성\n",
    "publish_date = datetime.strptime(publish_date, '%Y-%m-%d %H:%M:%S%z')\n",
    "formatted_date_str = publish_date.strftime('%Y-%m-%d %H:%M:%S')\n",
    "source_content = title + formatted_date_str + article"
   ]
  },
  {
   "cell_type": "code",
   "execution_count": null,
   "id": "661e4707-19e0-4451-95c3-e7c1e27c8f50",
   "metadata": {},
   "outputs": [],
   "source": [
    "from data.tasks.writing_task import ChainingTask\n",
    "task = ChainingTask(category=category)"
   ]
  },
  {
   "cell_type": "code",
   "execution_count": null,
   "id": "9c29b39c-7e39-4ee2-b77d-22e5a837932d",
   "metadata": {
    "scrolled": true
   },
   "outputs": [],
   "source": [
    "response = task.execute(source_content=source_content)\n",
    "response"
   ]
  },
  {
   "cell_type": "code",
   "execution_count": null,
   "id": "5c793143-b8c0-40e3-9749-0bc69a60f4fc",
   "metadata": {},
   "outputs": [],
   "source": [
    "# SystemMessage 객체 리스트를 문자열로 변환하는 함수\n",
    "def extract_chat_history(messages):\n",
    "    return '\\n\\n'.join(message.content for message in messages)"
   ]
  },
  {
   "cell_type": "code",
   "execution_count": null,
   "id": "c6d1b309-ef26-4e9c-99c5-4cd24af8b29a",
   "metadata": {},
   "outputs": [],
   "source": [
    "blog_contents = {\n",
    "    \"question\": response[\"question\"],\n",
    "    \"chat_history\": extract_chat_history(response[\"chat_history\"]),\n",
    "    \"blog_content\": response[\"text\"],\n",
    "}"
   ]
  },
  {
   "cell_type": "code",
   "execution_count": null,
   "id": "492f2fe1-c16e-4229-b78a-281f8f760cff",
   "metadata": {},
   "outputs": [],
   "source": [
    "blog_contents"
   ]
  },
  {
   "cell_type": "code",
   "execution_count": null,
   "id": "88a07117-fb49-410f-834e-8866300b9b18",
   "metadata": {
    "scrolled": true
   },
   "outputs": [],
   "source": [
    "# 기존 DF\n",
    "for key, value in blog_contents.items():\n",
    "    df.at[content_index, key] = value"
   ]
  },
  {
   "cell_type": "code",
   "execution_count": null,
   "id": "6ccd7542-4463-4544-bd39-c6cabe4defec",
   "metadata": {},
   "outputs": [],
   "source": [
    "# 3. 업데이트 된 파일 S3 업로드\n",
    "s3_path = generate_s3_path(prefix=\"blog_contents\", today_datetime=today_datetime)\n",
    "df.to_csv(s3_path, index=False)\n",
    "print(f\"*** Data saved to {s3_path} ***\")"
   ]
  },
  {
   "cell_type": "code",
   "execution_count": null,
   "id": "65e04abe-0da2-4ee9-8ce5-4514188d1655",
   "metadata": {},
   "outputs": [],
   "source": []
  }
 ],
 "metadata": {
  "kernelspec": {
   "display_name": "Python 3 (ipykernel)",
   "language": "python",
   "name": "python3"
  },
  "language_info": {
   "codemirror_mode": {
    "name": "ipython",
    "version": 3
   },
   "file_extension": ".py",
   "mimetype": "text/x-python",
   "name": "python",
   "nbconvert_exporter": "python",
   "pygments_lexer": "ipython3",
   "version": "3.11.6"
  }
 },
 "nbformat": 4,
 "nbformat_minor": 5
}
