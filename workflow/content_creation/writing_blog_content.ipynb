{
 "cells": [
  {
   "cell_type": "code",
   "execution_count": null,
   "id": "514ea988-8439-4214-b74e-4bb7c88036a6",
   "metadata": {
    "editable": true,
    "slideshow": {
     "slide_type": ""
    ***REMOVED***,
    "tags": [
     "parameters"
    ***REMOVED***
   ***REMOVED***,
   "outputs": [***REMOVED***,
   "source": [
    "deploy_phase = \"local\"\n",
    "execution_date = '2024-07-30T00:00:00+09:00'\n",
    "content_index = 0"
   ***REMOVED***
  ***REMOVED***,
  {
   "cell_type": "markdown",
   "id": "9cc0f0d0-9f37-498b-bbaf-250d2cb695dd",
   "metadata": {***REMOVED***,
   "source": [
    "# Notebook Initialization"
   ***REMOVED***
  ***REMOVED***,
  {
   "cell_type": "code",
   "execution_count": null,
   "id": "ee639ee0-9ac0-4534-a9ff-c28b930df9ae",
   "metadata": {***REMOVED***,
   "outputs": [***REMOVED***,
   "source": [
    "%load_ext autoreload\n",
    "%autoreload 2"
   ***REMOVED***
  ***REMOVED***,
  {
   "cell_type": "code",
   "execution_count": null,
   "id": "76d7c152-cdb4-4e15-aff0-8ef2d1c3e4e9",
   "metadata": {***REMOVED***,
   "outputs": [***REMOVED***,
   "source": [
    "# import sys\n",
    "# sys.path.insert(0, \"/workspace/ojitong\"***REMOVED***"
   ***REMOVED***
  ***REMOVED***,
  {
   "cell_type": "markdown",
   "id": "3736f512-143d-4f18-a6a4-bcabd6f75708",
   "metadata": {
    "editable": true,
    "slideshow": {
     "slide_type": ""
    ***REMOVED***,
    "tags": [***REMOVED***
   ***REMOVED***,
   "source": [
    "# Global Const"
   ***REMOVED***
  ***REMOVED***,
  {
   "cell_type": "code",
   "execution_count": null,
   "id": "e3f14bfd-5c03-47bc-8965-8b6e836306b6",
   "metadata": {***REMOVED***,
   "outputs": [***REMOVED***,
   "source": [
    "from datetime import datetime\n",
    "\n",
    "def convert_to_datetime(date_str: str***REMOVED*** -> datetime:\n",
    "    return datetime.fromisoformat(date_str***REMOVED***\n",
    "\n",
    "today_datetime = convert_to_datetime(execution_date***REMOVED***\n",
    "today_datetime"
   ***REMOVED***
  ***REMOVED***,
  {
   "cell_type": "code",
   "execution_count": null,
   "id": "012f4300-7993-41cd-8bc8-29ea168b451c",
   "metadata": {***REMOVED***,
   "outputs": [***REMOVED***,
   "source": [
    "import pandas as pd\n",
    "from data.utils.file import generate_s3_path\n",
    "s3_path = generate_s3_path(prefix=\"news_data_selected\", today_datetime=today_datetime***REMOVED***\n",
    "df = pd.read_csv(s3_path***REMOVED***"
   ***REMOVED***
  ***REMOVED***,
  {
   "cell_type": "code",
   "execution_count": null,
   "id": "c12b13be-ac0c-4247-be8c-bc2f7a18cb17",
   "metadata": {***REMOVED***,
   "outputs": [***REMOVED***,
   "source": [
    "content_row = df.iloc[content_index***REMOVED***"
   ***REMOVED***
  ***REMOVED***,
  {
   "cell_type": "code",
   "execution_count": null,
   "id": "d221da71-7df2-495e-baf2-f8f3c446f991",
   "metadata": {***REMOVED***,
   "outputs": [***REMOVED***,
   "source": [
    "# 1. 필요한 데이터 추출\n",
    "title = content_row['title'***REMOVED***\n",
    "publish_date = content_row['publish_date'***REMOVED***\n",
    "article = content_row['text'***REMOVED***\n",
    "category = content_row['category'***REMOVED***"
   ***REMOVED***
  ***REMOVED***,
  {
   "cell_type": "code",
   "execution_count": null,
   "id": "3a374186-c0ab-46a5-b4b5-f48b6143b909",
   "metadata": {***REMOVED***,
   "outputs": [***REMOVED***,
   "source": [
    "# 출력\n",
    "print(\"Title:\", title***REMOVED***\n",
    "print(\"Publish Date:\", publish_date***REMOVED***\n",
    "print(\"Article:\", article***REMOVED***\n",
    "print(\"Category:\", category***REMOVED***"
   ***REMOVED***
  ***REMOVED***,
  {
   "cell_type": "code",
   "execution_count": null,
   "id": "df609456-8c81-46c5-9d3c-3abab9d70769",
   "metadata": {***REMOVED***,
   "outputs": [***REMOVED***,
   "source": [
    "# 2. source content 생성\n",
    "from data.utils.date import parse_any_datetime_format\n",
    "formatted_date_str = parse_any_datetime_format(publish_date***REMOVED***\n",
    "source_content = title + formatted_date_str + article"
   ***REMOVED***
  ***REMOVED***,
  {
   "cell_type": "code",
   "execution_count": null,
   "id": "661e4707-19e0-4451-95c3-e7c1e27c8f50",
   "metadata": {***REMOVED***,
   "outputs": [***REMOVED***,
   "source": [
    "from data.tasks.writing_task import ChainingTask\n",
    "task = ChainingTask(category=category***REMOVED***"
   ***REMOVED***
  ***REMOVED***,
  {
   "cell_type": "code",
   "execution_count": null,
   "id": "9c29b39c-7e39-4ee2-b77d-22e5a837932d",
   "metadata": {
    "scrolled": true
   ***REMOVED***,
   "outputs": [***REMOVED***,
   "source": [
    "response = task.execute(source_content=source_content***REMOVED***\n",
    "response"
   ***REMOVED***
  ***REMOVED***,
  {
   "cell_type": "code",
   "execution_count": null,
   "id": "5c793143-b8c0-40e3-9749-0bc69a60f4fc",
   "metadata": {***REMOVED***,
   "outputs": [***REMOVED***,
   "source": [
    "# SystemMessage 객체 리스트를 문자열로 변환하는 함수\n",
    "def extract_chat_history(messages***REMOVED***:\n",
    "    return '\\n\\n'.join(message.content for message in messages***REMOVED***"
   ***REMOVED***
  ***REMOVED***,
  {
   "cell_type": "code",
   "execution_count": null,
   "id": "c6d1b309-ef26-4e9c-99c5-4cd24af8b29a",
   "metadata": {***REMOVED***,
   "outputs": [***REMOVED***,
   "source": [
    "blog_contents = {\n",
    "    \"question\": response[\"question\"***REMOVED***,\n",
    "    \"chat_history\": extract_chat_history(response[\"chat_history\"***REMOVED******REMOVED***,\n",
    "    \"blog_content\": response[\"text\"***REMOVED***,\n",
    "***REMOVED***"
   ***REMOVED***
  ***REMOVED***,
  {
   "cell_type": "code",
   "execution_count": null,
   "id": "492f2fe1-c16e-4229-b78a-281f8f760cff",
   "metadata": {***REMOVED***,
   "outputs": [***REMOVED***,
   "source": [
    "blog_contents"
   ***REMOVED***
  ***REMOVED***,
  {
   "cell_type": "code",
   "execution_count": null,
   "id": "88a07117-fb49-410f-834e-8866300b9b18",
   "metadata": {
    "scrolled": true
   ***REMOVED***,
   "outputs": [***REMOVED***,
   "source": [
    "# 기존 DF\n",
    "for key, value in blog_contents.items(***REMOVED***:\n",
    "    df.at[content_index, key***REMOVED*** = value"
   ***REMOVED***
  ***REMOVED***,
  {
   "cell_type": "code",
   "execution_count": null,
   "id": "6ccd7542-4463-4544-bd39-c6cabe4defec",
   "metadata": {***REMOVED***,
   "outputs": [***REMOVED***,
   "source": [
    "# 3. 업데이트 된 파일 S3 업로드\n",
    "s3_path = generate_s3_path(prefix=\"blog_contents\", today_datetime=today_datetime***REMOVED***\n",
    "df.to_csv(s3_path, index=False***REMOVED***\n",
    "print(f\"*** Data saved to {s3_path***REMOVED*** ***\"***REMOVED***"
   ***REMOVED***
  ***REMOVED***,
  {
   "cell_type": "code",
   "execution_count": null,
   "id": "65e04abe-0da2-4ee9-8ce5-4514188d1655",
   "metadata": {***REMOVED***,
   "outputs": [***REMOVED***,
   "source": [***REMOVED***
  ***REMOVED***
 ***REMOVED***,
 "metadata": {
  "kernelspec": {
   "display_name": "Python 3 (ipykernel***REMOVED***",
   "language": "python",
   "name": "python3"
  ***REMOVED***,
  "language_info": {
   "codemirror_mode": {
    "name": "ipython",
    "version": 3
   ***REMOVED***,
   "file_extension": ".py",
   "mimetype": "text/x-python",
   "name": "python",
   "nbconvert_exporter": "python",
   "pygments_lexer": "ipython3",
   "version": "3.11.6"
  ***REMOVED***
 ***REMOVED***,
 "nbformat": 4,
 "nbformat_minor": 5
***REMOVED***
