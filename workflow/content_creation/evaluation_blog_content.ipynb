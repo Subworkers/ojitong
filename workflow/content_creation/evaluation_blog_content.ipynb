{
 "cells": [
  {
   "cell_type": "code",
   "execution_count": 1,
   "id": "514ea988-8439-4214-b74e-4bb7c88036a6",
   "metadata": {
    "editable": true,
    "slideshow": {
     "slide_type": ""
    },
    "tags": [
     "parameters"
    ]
   },
   "outputs": [],
   "source": [
    "deploy_phase = \"local\"\n",
    "execution_date = '2024-07-06T00:00:00+09:00'\n",
    "content_index = 0"
   ]
  },
  {
   "cell_type": "markdown",
   "id": "9cc0f0d0-9f37-498b-bbaf-250d2cb695dd",
   "metadata": {},
   "source": [
    "# Notebook Initialization"
   ]
  },
  {
   "cell_type": "code",
   "execution_count": 2,
   "id": "ee639ee0-9ac0-4534-a9ff-c28b930df9ae",
   "metadata": {},
   "outputs": [],
   "source": [
    "%load_ext autoreload\n",
    "%autoreload 2"
   ]
  },
  {
   "cell_type": "code",
   "execution_count": 3,
   "id": "76d7c152-cdb4-4e15-aff0-8ef2d1c3e4e9",
   "metadata": {},
   "outputs": [],
   "source": [
    "# import sys\n",
    "# sys.path.insert(0, \"/workspace/ojitong\")"
   ]
  },
  {
   "cell_type": "markdown",
   "id": "3736f512-143d-4f18-a6a4-bcabd6f75708",
   "metadata": {
    "editable": true,
    "slideshow": {
     "slide_type": ""
    },
    "tags": []
   },
   "source": [
    "# Global Const"
   ]
  },
  {
   "cell_type": "code",
   "execution_count": 4,
   "id": "e3f14bfd-5c03-47bc-8965-8b6e836306b6",
   "metadata": {},
   "outputs": [
    {
     "data": {
      "text/plain": [
       "datetime.datetime(2024, 7, 6, 0, 0, tzinfo=datetime.timezone(datetime.timedelta(seconds=32400)))"
      ]
     },
     "execution_count": 4,
     "metadata": {},
     "output_type": "execute_result"
    }
   ],
   "source": [
    "from datetime import datetime\n",
    "\n",
    "def convert_to_datetime(date_str: str) -> datetime:\n",
    "    return datetime.fromisoformat(date_str)\n",
    "\n",
    "today_datetime = convert_to_datetime(execution_date)\n",
    "today_datetime"
   ]
  },
  {
   "cell_type": "code",
   "execution_count": 5,
   "id": "012f4300-7993-41cd-8bc8-29ea168b451c",
   "metadata": {},
   "outputs": [],
   "source": [
    "import pandas as pd\n",
    "from data.utils.file import generate_s3_path\n",
    "s3_path = generate_s3_path(prefix=\"blog_contents\", today_datetime=today_datetime)\n",
    "df = pd.read_csv(s3_path)"
   ]
  },
  {
   "cell_type": "code",
   "execution_count": 6,
   "id": "63db6f3d-b71f-4a99-b3d9-74acf9382034",
   "metadata": {},
   "outputs": [],
   "source": [
    "content_row = df.iloc[content_index]"
   ]
  },
  {
   "cell_type": "code",
   "execution_count": 7,
   "id": "d221da71-7df2-495e-baf2-f8f3c446f991",
   "metadata": {},
   "outputs": [],
   "source": [
    "# 1. 필요한 데이터 추출\n",
    "title = content_row['title']\n",
    "publish_date = content_row['publish_date']\n",
    "article = content_row['text']\n",
    "category = content_row['category']"
   ]
  },
  {
   "cell_type": "code",
   "execution_count": 8,
   "id": "3a374186-c0ab-46a5-b4b5-f48b6143b909",
   "metadata": {
    "scrolled": true
   },
   "outputs": [
    {
     "name": "stdout",
     "output_type": "stream",
     "text": [
      "Title: '시청역 역주행' 가해 차량, 보험이력 살펴보니…6년간 6번 사고\n",
      "Publish Date: 2024-07-06 18:15:24+09:00\n",
      "Article: [아이뉴스24 김효진 기자] 서울 중구 시청역 인근에서 9명을 숨지게 한 운전자 차모(68)씨가 몰던 제네시스 G80 차량이 사실상 매년 사고가 났던 것으로 알려졌다.\n",
      "\n",
      "지난 1일 서울 시청역 인근 교차로에서 차량이 인도로 돌진해 9명이 숨졌다. 심하게 부서진 사고 차량. 2024.07.02. [사진=뉴시스]\n",
      "\n",
      "5일 뉴시스 보도에 따르면 차씨가 몰던 G80 차량은 지난 2018년부터 2021년까지 최소 6회 교통사고로 차량이 파손돼 보험 처리를 한 것으로 나타났다.\n",
      "\n",
      "이 사고들로 상대차 피해는 13회 발생했으며, 차씨 측이 부담한 상대차 수리(견적) 비용은 668만1847원에 달했다.\n",
      "\n",
      "해당 차량은 2018년 9월에 첫 사고가 발생한 후, 이듬해인 2019년 2월 17일에 두 번째 사고가 났다. 또 2020년 10월에는 1일과 27일 각각 두 차례 사고가 났고, 1년 후인 2021년 11월과 12월에도 사고가 각각 발생했다.\n",
      "\n",
      "차씨가 차량을 구입한 2018년부터 사실상 매해 사고가 발생한 셈이다.\n",
      "\n",
      "차씨는 1974년 버스 면허를 취득했으며, 지난해 2월 3일자로 경기도 안산 소재 버스회사에 입사해 20인승 시내버스를 운전했다.\n",
      "\n",
      "차씨가 근무했던 버스회사 측은 그에 대해 '무사고 경력자'라고 했으며, 차씨 아내 또한 사고 직후 남편에 대해 '베테랑 운전자'라고 말한 바 있다.\n",
      "\n",
      "제네시스 G80 차량의 소유주는 가해자의 아내인 것으로 알려졌으나, 부부는 이 차량을 함께 사용한 것으로 전해졌다. 따라서 6번 사고의 운전자가 차씨와 아내 중 누구인지는 확인되지 않은 상태다.\n",
      "\n",
      "앞서 지난 1일 오후 9시27분께 서울 지하철 2호선 시청역 인근 교차로에서 제네시스 G80 차량이 BMW, 소나타 등 차량을 차례로 친 후 횡단보도에 있던 보행자들을 덮치는 사고가 발생했다.\n",
      "\n",
      "이 사고로 9명이 사망하고 7명이 다치는 등 총 16명의 사상자가 발생했다. 경찰은 차씨에 대해 교통사고처리특례법상 업무상 과실치사상 혐의를 적용했다.\n",
      "\n",
      "경찰에 따르면 차씨는 \"사고 당시 브레이크를 밟았으나 딱딱했다\"며 급발진이 사고 원인임을 주장하고 있다.\n",
      "Category: 사고\n"
     ]
    }
   ],
   "source": [
    "# 출력\n",
    "print(\"Title:\", title)\n",
    "print(\"Publish Date:\", publish_date)\n",
    "print(\"Article:\", article)\n",
    "print(\"Category:\", category)"
   ]
  },
  {
   "cell_type": "code",
   "execution_count": 9,
   "id": "df609456-8c81-46c5-9d3c-3abab9d70769",
   "metadata": {},
   "outputs": [],
   "source": [
    "publish_date = datetime.strptime(publish_date, '%Y-%m-%d %H:%M:%S%z')\n",
    "formatted_date_str = publish_date.strftime('%Y-%m-%d %H:%M:%S')\n",
    "source_content = title + formatted_date_str + article"
   ]
  },
  {
   "cell_type": "code",
   "execution_count": null,
   "id": "ccf4a3e2-a07c-48be-9137-5e9791f49245",
   "metadata": {},
   "outputs": [],
   "source": [
    "from data.evaluations.handler import EvaluationHandler\n",
    "handler = EvaluationHandler(df, content_index, s3_path)"
   ]
  },
  {
   "cell_type": "markdown",
   "id": "5851f78a-787a-4fcb-8001-f7ca0d167224",
   "metadata": {},
   "source": [
    "# Metric-based Evaluation"
   ]
  },
  {
   "cell_type": "code",
   "execution_count": 64,
   "id": "56ebaad9-0944-4b86-93b8-3a2c92b6aded",
   "metadata": {},
   "outputs": [],
   "source": [
    "from data.const import PostType\n",
    "from data.evaluations.metric_based import (\n",
    "    evaluate_post_metric_based\n",
    ")"
   ]
  },
  {
   "cell_type": "code",
   "execution_count": 67,
   "id": "f85ae80b-81cf-451f-ac1f-79b29bb200bb",
   "metadata": {},
   "outputs": [
    {
     "name": "stdout",
     "output_type": "stream",
     "text": [
      "사고 범주에 대한 평균 ROUGE Recall 점수: 1.0\n"
     ]
    }
   ],
   "source": [
    "recall_score = evaluate_post_metric_based(category, content_row[\"blog_content\"])"
   ]
  },
  {
   "cell_type": "code",
   "execution_count": null,
   "id": "a8bfaf9d-5915-454a-8eb8-e74cc08857ad",
   "metadata": {},
   "outputs": [],
   "source": [
    "handler.eval_results[\"eval_metric_rouge1_score\"] = recall_score"
   ]
  },
  {
   "cell_type": "code",
   "execution_count": null,
   "id": "100e277b-5ec7-4825-9c13-ae16de49415b",
   "metadata": {},
   "outputs": [],
   "source": [
    "handler.check_metric(recall_score, category)"
   ]
  },
  {
   "cell_type": "markdown",
   "id": "98585fd8-aaef-4f3b-926d-206c2663de9c",
   "metadata": {},
   "source": [
    "# QGQA Evaluation"
   ]
  },
  {
   "cell_type": "code",
   "execution_count": 16,
   "id": "b97e820a-4c30-43f1-894b-3625760dde9b",
   "metadata": {},
   "outputs": [],
   "source": [
    "from data.tasks.evaluation_task import QGQAEvaluationTask\n",
    "qgqa_task = QGQAEvaluationTask()"
   ]
  },
  {
   "cell_type": "code",
   "execution_count": 15,
   "id": "656395ca-c3cb-4cfd-bcdd-ed2eb3420be5",
   "metadata": {},
   "outputs": [
    {
     "data": {
      "text/plain": [
       "'<뉴스 제목>: \\'시청역 역주행\\' 가해 차량, 보험이력 살펴보니…6년간 6번 사고, <뉴스 생성일자>: 2024-07-06 18:15:24+09:00, <뉴스 본문>: [아이뉴스24 김효진 기자] 서울 중구 시청역 인근에서 9명을 숨지게 한 운전자 차모(68)씨가 몰던 제네시스 G80 차량이 사실상 매년 사고가 났던 것으로 알려졌다.\\n\\n지난 1일 서울 시청역 인근 교차로에서 차량이 인도로 돌진해 9명이 숨졌다. 심하게 부서진 사고 차량. 2024.07.02. [사진=뉴시스]\\n\\n5일 뉴시스 보도에 따르면 차씨가 몰던 G80 차량은 지난 2018년부터 2021년까지 최소 6회 교통사고로 차량이 파손돼 보험 처리를 한 것으로 나타났다.\\n\\n이 사고들로 상대차 피해는 13회 발생했으며, 차씨 측이 부담한 상대차 수리(견적) 비용은 668만1847원에 달했다.\\n\\n해당 차량은 2018년 9월에 첫 사고가 발생한 후, 이듬해인 2019년 2월 17일에 두 번째 사고가 났다. 또 2020년 10월에는 1일과 27일 각각 두 차례 사고가 났고, 1년 후인 2021년 11월과 12월에도 사고가 각각 발생했다.\\n\\n차씨가 차량을 구입한 2018년부터 사실상 매해 사고가 발생한 셈이다.\\n\\n차씨는 1974년 버스 면허를 취득했으며, 지난해 2월 3일자로 경기도 안산 소재 버스회사에 입사해 20인승 시내버스를 운전했다.\\n\\n차씨가 근무했던 버스회사 측은 그에 대해 \\'무사고 경력자\\'라고 했으며, 차씨 아내 또한 사고 직후 남편에 대해 \\'베테랑 운전자\\'라고 말한 바 있다.\\n\\n제네시스 G80 차량의 소유주는 가해자의 아내인 것으로 알려졌으나, 부부는 이 차량을 함께 사용한 것으로 전해졌다. 따라서 6번 사고의 운전자가 차씨와 아내 중 누구인지는 확인되지 않은 상태다.\\n\\n앞서 지난 1일 오후 9시27분께 서울 지하철 2호선 시청역 인근 교차로에서 제네시스 G80 차량이 BMW, 소나타 등 차량을 차례로 친 후 횡단보도에 있던 보행자들을 덮치는 사고가 발생했다.\\n\\n이 사고로 9명이 사망하고 7명이 다치는 등 총 16명의 사상자가 발생했다. 경찰은 차씨에 대해 교통사고처리특례법상 업무상 과실치사상 혐의를 적용했다.\\n\\n경찰에 따르면 차씨는 \"사고 당시 브레이크를 밟았으나 딱딱했다\"며 급발진이 사고 원인임을 주장하고 있다.'"
      ]
     },
     "execution_count": 15,
     "metadata": {},
     "output_type": "execute_result"
    }
   ],
   "source": [
    "news_content = f\"<뉴스 제목>: {title}, <뉴스 생성일자>: {publish_date}, <뉴스 본문>: {article}\""
   ]
  },
  {
   "cell_type": "code",
   "execution_count": 17,
   "id": "c26e8455-ef3e-4ec7-ba93-fe5b37319ee8",
   "metadata": {},
   "outputs": [
    {
     "data": {
      "text/plain": [
       "'### 제목: \"서울 시청역 인근 대형 사고, 안전한 지하철 이용의 중요성\"\\n\\n### 본문:\\n안녕하세요, 여러분의 출퇴근 메신저 지하철 온다의 \\'오.지.통 [오늘의 지하철 소식통]\\' 인사 드립니다!\\n\\n**지연/사고 일시**\\n2023년 10월 10일\\n\\n**지연/사고 노선**\\n서울 시청역 인근\\n\\n**지연/사고 이유**\\n도로 교통 사고 (Genesis G80 차량)\\n\\n**문의 사항 링크**\\n[서울시 지하철 문의](https://www.seoulmetro.co.kr/)\\n\\n최근 서울 시청역 인근에서 발생한 대형 사고 소식이 전해져 안타까움을 자아내고 있습니다. 이번 사고는 Genesis G80 차량이 갑작스러운 가속으로 인해 발생한 것으로, 총 9명의 사망자와 7명의 부상자가 발생했어요. 차를 운전하던 68세의 차 모 씨는 브레이크가 갑자기 뻣뻣해져 제동이 어려웠다고 주장하고 있습니다. 경찰은 현재 이를 조사 중이며, 차 씨는 과거에도 최소 6회의 사고를 일으킨 전력이 있어 더욱 주목받고 있어요.\\n\\n차 씨는 오랜 경력의 버스 기사로 알려졌지만, 그의 사고 전력은 그와 상반되는 모습을 보여주고 있어요. 2018년에서 2021년 사이에 벌어진 6회의 사고로 총 13대의 다른 차량에 손해를 입힌 것으로 밝혀졌습니다. 이런 사고가 발생할 때마다 우리는 대중교통의 안전성에 대해 다시 한 번 생각하게 되네요.\\n\\n지하철은 상대적으로 안전한 대중교통 수단으로 평가받고 있으며, 사고나 지연이 발생할 확률이 낮습니다. 그러나 이번 사건은 우리에게 지하철 이용 시에도 안전에 대한 경각심을 가져야 함을 일깨워줍니다. 지하철을 이용할 때는 항상 안전수칙을 준수하고, 비상 상황에 대비해 비상구와 비상벨 위치를 미리 확인하는 것이 좋겠어요.\\n\\n마무리 말\\n\\n출퇴근 시간대에 지하철을 자주 이용하는 여러분께, 안전한 이용을 위한 정보를 제공하는 \\'지하철 온다\\' 블로그입니다. 이번 사고 소식을 전하면서 여러분의 안전을 다시 한번 강조하고 싶어요. 지하철 온다를 통해 실시간으로 다양한 지하철 정보를 확인하고, 안전하고 편리한 출퇴근길을 만들어보세요.\\n\\n오지통이 실시간으로 다양한 지하철 정보를 업데이트할 예정이니, 자주 방문해 주세요. \\'지하철 온다\\'는 단 한 번의 터치로 자신의 위치에서 가장 가까운 지하철 역의 실시간 정보를 제공합니다.\\n\\n🔽 지하철 온다 소개 보러가기\\n[지하철 온다 블로그](https://blog.naver.com/subway__onda/223258646349)'"
      ]
     },
     "execution_count": 17,
     "metadata": {},
     "output_type": "execute_result"
    }
   ],
   "source": [
    "content_row[\"blog_content\"]"
   ]
  },
  {
   "cell_type": "code",
   "execution_count": 27,
   "id": "f308c286-9a8c-4157-a3fa-c777501324e4",
   "metadata": {
    "scrolled": true
   },
   "outputs": [
    {
     "data": {
      "text/plain": [
       "{'date_comparison': False,\n",
       " 'line_comparison': False,\n",
       " 'news_details': '<뉴스> 발생일시: 2024년 7월 1일, 발생노선: 2호선',\n",
       " 'blog_details': '<블로그> 발생일시: Unknown, 발생노선: Unknown'}"
      ]
     },
     "execution_count": 27,
     "metadata": {},
     "output_type": "execute_result"
    }
   ],
   "source": [
    "gqga_results = qgqa_task.execute(news_content, content_row[\"blog_content\"])\n",
    "gqga_results"
   ]
  },
  {
   "cell_type": "code",
   "execution_count": null,
   "id": "cfbfb02b-43fb-457d-b1da-ca4ba8ca2064",
   "metadata": {},
   "outputs": [],
   "source": [
    "eval_results.update({f\"eval_qgqa_{key}\": value for key, value in gqga_results.items()})"
   ]
  },
  {
   "cell_type": "code",
   "execution_count": null,
   "id": "bafcab05-c1e6-4c96-a9a9-086bf6c26d96",
   "metadata": {},
   "outputs": [],
   "source": [
    "handler.check_qgqa_eval(date_comparison, line_comparison)"
   ]
  },
  {
   "cell_type": "markdown",
   "id": "dd5728f9-d799-4c41-8f5e-00f46caf0c9c",
   "metadata": {},
   "source": [
    "# GEval Evaluation"
   ]
  },
  {
   "cell_type": "code",
   "execution_count": 61,
   "id": "a104c4f7-b06b-4079-bc67-d120b25c61ac",
   "metadata": {},
   "outputs": [],
   "source": [
    "from data.tasks.evaluation_task import GEvalEvaluationTask"
   ]
  },
  {
   "cell_type": "code",
   "execution_count": 62,
   "id": "75732725-139b-444b-bdb2-c7ad269b172b",
   "metadata": {},
   "outputs": [],
   "source": [
    "geval_task = GEvalEvaluationTask()"
   ]
  },
  {
   "cell_type": "code",
   "execution_count": 63,
   "id": "a0c86101-9908-4862-92bf-6be3005ec945",
   "metadata": {
    "scrolled": true
   },
   "outputs": [
    {
     "data": {
      "text/plain": [
       "{'Consistency': {'score': 1,\n",
       "  'reason': 'The blog content contains a different date (July 1, 2024) and mentions a different number of casualties (9 deaths and 7 injuries) compared to the article, which states the incident occurred on October 10, 2023. The blog content also incorrectly implies that the incident was a new occurrence in 2024, while the article discusses an event from 2023. The context of the blog does not logically follow from the information contained in the article.'},\n",
       " 'Human_Likeness': {'score': 3,\n",
       "  'reason': \"The blog post provides detailed information about a tragic incident involving a vehicle crash, including statistics about the driver's accident history. While the content is informative and relevant, the tone is quite formal and lacks a conversational style. There are also some abrupt transitions between the paragraphs that disrupt the flow of the narrative. The writing could benefit from more engaging elements, such as personal anecdotes or rhetorical questions, to create a connection with the reader. Overall, while the writing is somewhat natural and informative, it has noticeable issues with flow and engagement that detract from the reading experience.\"},\n",
       " 'Coherence': {'score': 3,\n",
       "  'reason': 'The blog post presents a factual report on a tragic incident involving a driver and multiple accidents. While the writing conveys important information clearly, it lacks a conversational tone and personal engagement that would make it feel more human-like. The structure is straightforward, and there are no anecdotes or rhetorical questions to draw the reader in. Additionally, the language is somewhat technical and could benefit from more relatable phrasing to enhance readability. Overall, while it communicates the necessary details, it feels somewhat mechanical and lacks the warmth and personality often found in high-quality human-written content.'},\n",
       " 'Blog': {'score': 3,\n",
       "  'reason': \"The blog post presents factual information in a clear and structured manner, making it somewhat readable. However, it lacks a conversational tone and engagement elements that would enhance its human-likeness. While the post provides essential details about the accident and the driver's history, it does not incorporate personal anecdotes or emotional language that could make the writing more relatable or engaging for readers. The tone is predominantly factual and straightforward, which, while appropriate for a news article, may not resonate as well in a blog format aimed at a broader audience. Additionally, the flow between sentences and paragraphs is mostly logical but could benefit from smoother transitions. Overall, the writing is informative but does not fully capture a human touch, resulting in a score of 3.\"},\n",
       " 'Fluency': {'score': 3,\n",
       "  'reason': 'The blog post contains factual information about a tragic incident involving a vehicle and its driver, but it lacks a personal tone and engaging elements that would make it more relatable to readers. While the writing is clear and presents the events in a coherent manner, the tone is rather formal and journalistic, which may feel robotic to some readers. There are no anecdotes, humor, or rhetorical questions that could enhance engagement. The use of technical terms and specific details about the accidents contributes to a somewhat natural flow, but the overall lack of personality and relatability prevents it from being rated higher.'}}"
      ]
     },
     "execution_count": 63,
     "metadata": {},
     "output_type": "execute_result"
    }
   ],
   "source": [
    "geval_results = geval_task.execute(news_content, content_row[\"blog_content\"])\n",
    "geval_results"
   ]
  },
  {
   "cell_type": "code",
   "execution_count": null,
   "id": "a31db485-c354-4c57-8a3f-71cb5d141ec8",
   "metadata": {},
   "outputs": [],
   "source": [
    "handler.eval_results.update(\n",
    "    {\n",
    "        f\"eval_geval_{aspect.lower()}_{detail}\": detail_value \n",
    "        for aspect, aspect_value in geval_results.items() \n",
    "        for detail, detail_value in aspect_value.items()\n",
    "    }\n",
    ")"
   ]
  },
  {
   "cell_type": "code",
   "execution_count": null,
   "id": "a38ad18d-38a9-4427-b9a3-914bf37aeef7",
   "metadata": {},
   "outputs": [],
   "source": [
    "handler.check_geval_eval(geval_results)"
   ]
  },
  {
   "cell_type": "markdown",
   "id": "d68013d3-abcf-45e6-813f-ada1170c062d",
   "metadata": {},
   "source": [
    "# Evaluation Result 결과 업로드"
   ]
  },
  {
   "cell_type": "code",
   "execution_count": null,
   "id": "6ccd7542-4463-4544-bd39-c6cabe4defec",
   "metadata": {},
   "outputs": [],
   "source": [
    "# 업데이트 된 파일 S3 업로드\n",
    "s3_path = generate_s3_path(prefix=\"final_results\", today_datetime=today_datetime)\n",
    "df.to_csv(s3_path, index=False)\n",
    "print(f\"*** Data saved to {s3_path} ***\")"
   ]
  },
  {
   "cell_type": "code",
   "execution_count": null,
   "id": "bdfd3bf5-3a06-4136-81e2-deec18057349",
   "metadata": {},
   "outputs": [],
   "source": []
  }
 ],
 "metadata": {
  "kernelspec": {
   "display_name": "Python 3 (ipykernel)",
   "language": "python",
   "name": "python3"
  },
  "language_info": {
   "codemirror_mode": {
    "name": "ipython",
    "version": 3
   },
   "file_extension": ".py",
   "mimetype": "text/x-python",
   "name": "python",
   "nbconvert_exporter": "python",
   "pygments_lexer": "ipython3",
   "version": "3.11.6"
  }
 },
 "nbformat": 4,
 "nbformat_minor": 5
}
