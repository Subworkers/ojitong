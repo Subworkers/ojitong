{
 "cells": [
  {
   "cell_type": "markdown",
   "metadata": {},
   "source": [
    "## 라이브러리, API 접속"
   ]
  },
  {
   "cell_type": "code",
   "execution_count": 20,
   "metadata": {},
   "outputs": [
    {
     "name": "stdout",
     "output_type": "stream",
     "text": [
      "Collecting langchain\n",
      "  Downloading langchain-0.1.20-py3-none-any.whl.metadata (13 kB)\n",
      "Requirement already satisfied: PyYAML>=5.3 in /opt/conda/lib/python3.11/site-packages (from langchain) (6.0.1)\n",
      "Requirement already satisfied: SQLAlchemy<3,>=1.4 in /opt/conda/lib/python3.11/site-packages (from langchain) (2.0.22)\n",
      "Collecting aiohttp<4.0.0,>=3.8.3 (from langchain)\n",
      "  Downloading aiohttp-3.9.5-cp311-cp311-manylinux_2_17_x86_64.manylinux2014_x86_64.whl.metadata (7.5 kB)\n",
      "Collecting dataclasses-json<0.7,>=0.5.7 (from langchain)\n",
      "  Downloading dataclasses_json-0.6.6-py3-none-any.whl.metadata (25 kB)\n",
      "Collecting langchain-community<0.1,>=0.0.38 (from langchain)\n",
      "  Downloading langchain_community-0.0.38-py3-none-any.whl.metadata (8.7 kB)\n",
      "Requirement already satisfied: langchain-core<0.2.0,>=0.1.52 in /opt/conda/lib/python3.11/site-packages (from langchain) (0.1.52)\n",
      "Collecting langchain-text-splitters<0.1,>=0.0.1 (from langchain)\n",
      "  Downloading langchain_text_splitters-0.0.1-py3-none-any.whl.metadata (2.0 kB)\n",
      "Requirement already satisfied: langsmith<0.2.0,>=0.1.17 in /opt/conda/lib/python3.11/site-packages (from langchain) (0.1.57)\n",
      "Requirement already satisfied: numpy<2,>=1 in /opt/conda/lib/python3.11/site-packages (from langchain) (1.26.4)\n",
      "Requirement already satisfied: pydantic<3,>=1 in /opt/conda/lib/python3.11/site-packages (from langchain) (1.10.2)\n",
      "Requirement already satisfied: requests<3,>=2 in /opt/conda/lib/python3.11/site-packages (from langchain) (2.28.1)\n",
      "Requirement already satisfied: tenacity<9.0.0,>=8.1.0 in /opt/conda/lib/python3.11/site-packages (from langchain) (8.3.0)\n",
      "Collecting aiosignal>=1.1.2 (from aiohttp<4.0.0,>=3.8.3->langchain)\n",
      "  Downloading aiosignal-1.3.1-py3-none-any.whl.metadata (4.0 kB)\n",
      "Requirement already satisfied: attrs>=17.3.0 in /opt/conda/lib/python3.11/site-packages (from aiohttp<4.0.0,>=3.8.3->langchain) (23.1.0)\n",
      "Collecting frozenlist>=1.1.1 (from aiohttp<4.0.0,>=3.8.3->langchain)\n",
      "  Downloading frozenlist-1.4.1-cp311-cp311-manylinux_2_5_x86_64.manylinux1_x86_64.manylinux_2_17_x86_64.manylinux2014_x86_64.whl.metadata (12 kB)\n",
      "Collecting multidict<7.0,>=4.5 (from aiohttp<4.0.0,>=3.8.3->langchain)\n",
      "  Downloading multidict-6.0.5-cp311-cp311-manylinux_2_17_x86_64.manylinux2014_x86_64.whl.metadata (4.2 kB)\n",
      "Collecting yarl<2.0,>=1.0 (from aiohttp<4.0.0,>=3.8.3->langchain)\n",
      "  Downloading yarl-1.9.4-cp311-cp311-manylinux_2_17_x86_64.manylinux2014_x86_64.whl.metadata (31 kB)\n",
      "Collecting marshmallow<4.0.0,>=3.18.0 (from dataclasses-json<0.7,>=0.5.7->langchain)\n",
      "  Downloading marshmallow-3.21.2-py3-none-any.whl.metadata (7.1 kB)\n",
      "Collecting typing-inspect<1,>=0.4.0 (from dataclasses-json<0.7,>=0.5.7->langchain)\n",
      "  Downloading typing_inspect-0.9.0-py3-none-any.whl.metadata (1.5 kB)\n",
      "Requirement already satisfied: jsonpatch<2.0,>=1.33 in /opt/conda/lib/python3.11/site-packages (from langchain-core<0.2.0,>=0.1.52->langchain) (1.33)\n",
      "Requirement already satisfied: packaging<24.0,>=23.2 in /opt/conda/lib/python3.11/site-packages (from langchain-core<0.2.0,>=0.1.52->langchain) (23.2)\n",
      "Requirement already satisfied: orjson<4.0.0,>=3.9.14 in /opt/conda/lib/python3.11/site-packages (from langsmith<0.2.0,>=0.1.17->langchain) (3.10.3)\n",
      "Requirement already satisfied: typing-extensions>=4.1.0 in /opt/conda/lib/python3.11/site-packages (from pydantic<3,>=1->langchain) (4.8.0)\n",
      "Requirement already satisfied: charset-normalizer<3,>=2 in /opt/conda/lib/python3.11/site-packages (from requests<3,>=2->langchain) (2.1.1)\n",
      "Requirement already satisfied: idna<4,>=2.5 in /opt/conda/lib/python3.11/site-packages (from requests<3,>=2->langchain) (3.4)\n",
      "Requirement already satisfied: urllib3<1.27,>=1.21.1 in /opt/conda/lib/python3.11/site-packages (from requests<3,>=2->langchain) (1.26.12)\n",
      "Requirement already satisfied: certifi>=2017.4.17 in /opt/conda/lib/python3.11/site-packages (from requests<3,>=2->langchain) (2024.2.2)\n",
      "Requirement already satisfied: greenlet!=0.4.17 in /opt/conda/lib/python3.11/site-packages (from SQLAlchemy<3,>=1.4->langchain) (3.0.0)\n",
      "Requirement already satisfied: jsonpointer>=1.9 in /opt/conda/lib/python3.11/site-packages (from jsonpatch<2.0,>=1.33->langchain-core<0.2.0,>=0.1.52->langchain) (2.4)\n",
      "Requirement already satisfied: mypy-extensions>=0.3.0 in /opt/conda/lib/python3.11/site-packages (from typing-inspect<1,>=0.4.0->dataclasses-json<0.7,>=0.5.7->langchain) (0.4.3)\n",
      "Downloading langchain-0.1.20-py3-none-any.whl (1.0 MB)\n",
      "\u001b[2K   \u001b[90m━━━━━━━━━━━━━━━━━━━━━━━━━━━━━━━━━━━━━━━━\u001b[0m \u001b[32m1.0/1.0 MB\u001b[0m \u001b[31m3.7 MB/s\u001b[0m eta \u001b[36m0:00:00\u001b[0m00:01\u001b[0m00:01\u001b[0m\n",
      "\u001b[?25hDownloading aiohttp-3.9.5-cp311-cp311-manylinux_2_17_x86_64.manylinux2014_x86_64.whl (1.3 MB)\n",
      "\u001b[2K   \u001b[90m━━━━━━━━━━━━━━━━━━━━━━━━━━━━━━━━━━━━━━━━\u001b[0m \u001b[32m1.3/1.3 MB\u001b[0m \u001b[31m4.6 MB/s\u001b[0m eta \u001b[36m0:00:00\u001b[0m00:01\u001b[0m00:01\u001b[0m\n",
      "\u001b[?25hDownloading dataclasses_json-0.6.6-py3-none-any.whl (28 kB)\n",
      "Downloading langchain_community-0.0.38-py3-none-any.whl (2.0 MB)\n",
      "\u001b[2K   \u001b[90m━━━━━━━━━━━━━━━━━━━━━━━━━━━━━━━━━━━━━━━━\u001b[0m \u001b[32m2.0/2.0 MB\u001b[0m \u001b[31m6.4 MB/s\u001b[0m eta \u001b[36m0:00:00\u001b[0m00:01\u001b[0m00:01\u001b[0m\n",
      "\u001b[?25hDownloading langchain_text_splitters-0.0.1-py3-none-any.whl (21 kB)\n",
      "Downloading aiosignal-1.3.1-py3-none-any.whl (7.6 kB)\n",
      "Downloading frozenlist-1.4.1-cp311-cp311-manylinux_2_5_x86_64.manylinux1_x86_64.manylinux_2_17_x86_64.manylinux2014_x86_64.whl (272 kB)\n",
      "\u001b[2K   \u001b[90m━━━━━━━━━━━━━━━━━━━━━━━━━━━━━━━━━━━━━━━━\u001b[0m \u001b[32m272.3/272.3 kB\u001b[0m \u001b[31m3.6 MB/s\u001b[0m eta \u001b[36m0:00:00\u001b[0m00:01\u001b[0m\n",
      "\u001b[?25hDownloading marshmallow-3.21.2-py3-none-any.whl (49 kB)\n",
      "\u001b[2K   \u001b[90m━━━━━━━━━━━━━━━━━━━━━━━━━━━━━━━━━━━━━━━━\u001b[0m \u001b[32m49.3/49.3 kB\u001b[0m \u001b[31m980.7 kB/s\u001b[0m eta \u001b[36m0:00:00\u001b[0m\u001b[36m0:00:01\u001b[0m\n",
      "\u001b[?25hDownloading multidict-6.0.5-cp311-cp311-manylinux_2_17_x86_64.manylinux2014_x86_64.whl (128 kB)\n",
      "\u001b[2K   \u001b[90m━━━━━━━━━━━━━━━━━━━━━━━━━━━━━━━━━━━━━━━━\u001b[0m \u001b[32m128.7/128.7 kB\u001b[0m \u001b[31m2.0 MB/s\u001b[0m eta \u001b[36m0:00:00\u001b[0mta \u001b[36m0:00:01\u001b[0m\n",
      "\u001b[?25hDownloading typing_inspect-0.9.0-py3-none-any.whl (8.8 kB)\n",
      "Downloading yarl-1.9.4-cp311-cp311-manylinux_2_17_x86_64.manylinux2014_x86_64.whl (328 kB)\n",
      "\u001b[2K   \u001b[90m━━━━━━━━━━━━━━━━━━━━━━━━━━━━━━━━━━━━━━━━\u001b[0m \u001b[32m328.1/328.1 kB\u001b[0m \u001b[31m5.1 MB/s\u001b[0m eta \u001b[36m0:00:00\u001b[0m:00:01\u001b[0m\n",
      "\u001b[?25hInstalling collected packages: typing-inspect, multidict, marshmallow, frozenlist, yarl, dataclasses-json, aiosignal, aiohttp, langchain-text-splitters, langchain-community, langchain\n",
      "Successfully installed aiohttp-3.9.5 aiosignal-1.3.1 dataclasses-json-0.6.6 frozenlist-1.4.1 langchain-0.1.20 langchain-community-0.0.38 langchain-text-splitters-0.0.1 marshmallow-3.21.2 multidict-6.0.5 typing-inspect-0.9.0 yarl-1.9.4\n",
      "\u001b[33mWARNING: Running pip as the 'root' user can result in broken permissions and conflicting behaviour with the system package manager. It is recommended to use a virtual environment instead: https://pip.pypa.io/warnings/venv\u001b[0m\u001b[33m\n",
      "\u001b[0m"
     ]
    }
   ],
   "source": [
    "!pip install langchain"
   ]
  },
  {
   "cell_type": "code",
   "execution_count": 18,
   "metadata": {},
   "outputs": [
    {
     "name": "stdout",
     "output_type": "stream",
     "text": [
      "Requirement already satisfied: openai in /opt/conda/lib/python3.11/site-packages (1.30.1)\n",
      "Requirement already satisfied: anyio<5,>=3.5.0 in /opt/conda/lib/python3.11/site-packages (from openai) (4.0.0)\n",
      "Requirement already satisfied: distro<2,>=1.7.0 in /opt/conda/lib/python3.11/site-packages (from openai) (1.9.0)\n",
      "Requirement already satisfied: httpx<1,>=0.23.0 in /opt/conda/lib/python3.11/site-packages (from openai) (0.27.0)\n",
      "Requirement already satisfied: pydantic<3,>=1.9.0 in /opt/conda/lib/python3.11/site-packages (from openai) (1.10.2)\n",
      "Requirement already satisfied: sniffio in /opt/conda/lib/python3.11/site-packages (from openai) (1.3.0)\n",
      "Requirement already satisfied: tqdm>4 in /opt/conda/lib/python3.11/site-packages (from openai) (4.66.1)\n",
      "Requirement already satisfied: typing-extensions<5,>=4.7 in /opt/conda/lib/python3.11/site-packages (from openai) (4.8.0)\n",
      "Requirement already satisfied: idna>=2.8 in /opt/conda/lib/python3.11/site-packages (from anyio<5,>=3.5.0->openai) (3.4)\n",
      "Requirement already satisfied: certifi in /opt/conda/lib/python3.11/site-packages (from httpx<1,>=0.23.0->openai) (2024.2.2)\n",
      "Requirement already satisfied: httpcore==1.* in /opt/conda/lib/python3.11/site-packages (from httpx<1,>=0.23.0->openai) (1.0.5)\n",
      "Requirement already satisfied: h11<0.15,>=0.13 in /opt/conda/lib/python3.11/site-packages (from httpcore==1.*->httpx<1,>=0.23.0->openai) (0.14.0)\n",
      "\u001b[33mWARNING: Running pip as the 'root' user can result in broken permissions and conflicting behaviour with the system package manager. It is recommended to use a virtual environment instead: https://pip.pypa.io/warnings/venv\u001b[0m\u001b[33m\n",
      "\u001b[0m"
     ]
    }
   ],
   "source": [
    "!pip install openai"
   ]
  },
  {
   "cell_type": "code",
   "execution_count": 5,
   "metadata": {},
   "outputs": [
    {
     "name": "stdout",
     "output_type": "stream",
     "text": [
      "Collecting langchain_openai\n",
      "  Downloading langchain_openai-0.1.6-py3-none-any.whl.metadata (2.5 kB)\n",
      "Collecting langchain-core<0.2.0,>=0.1.46 (from langchain_openai)\n",
      "  Downloading langchain_core-0.1.52-py3-none-any.whl.metadata (5.9 kB)\n",
      "Collecting openai<2.0.0,>=1.24.0 (from langchain_openai)\n",
      "  Downloading openai-1.30.1-py3-none-any.whl.metadata (21 kB)\n",
      "Collecting tiktoken<1,>=0.5.2 (from langchain_openai)\n",
      "  Downloading tiktoken-0.7.0-cp311-cp311-manylinux_2_17_x86_64.manylinux2014_x86_64.whl.metadata (6.6 kB)\n",
      "Requirement already satisfied: PyYAML>=5.3 in /opt/conda/lib/python3.11/site-packages (from langchain-core<0.2.0,>=0.1.46->langchain_openai) (6.0.1)\n",
      "Requirement already satisfied: jsonpatch<2.0,>=1.33 in /opt/conda/lib/python3.11/site-packages (from langchain-core<0.2.0,>=0.1.46->langchain_openai) (1.33)\n",
      "Collecting langsmith<0.2.0,>=0.1.0 (from langchain-core<0.2.0,>=0.1.46->langchain_openai)\n",
      "  Downloading langsmith-0.1.57-py3-none-any.whl.metadata (13 kB)\n",
      "Requirement already satisfied: packaging<24.0,>=23.2 in /opt/conda/lib/python3.11/site-packages (from langchain-core<0.2.0,>=0.1.46->langchain_openai) (23.2)\n",
      "Requirement already satisfied: pydantic<3,>=1 in /opt/conda/lib/python3.11/site-packages (from langchain-core<0.2.0,>=0.1.46->langchain_openai) (1.10.2)\n",
      "Collecting tenacity<9.0.0,>=8.1.0 (from langchain-core<0.2.0,>=0.1.46->langchain_openai)\n",
      "  Downloading tenacity-8.3.0-py3-none-any.whl.metadata (1.2 kB)\n",
      "Requirement already satisfied: anyio<5,>=3.5.0 in /opt/conda/lib/python3.11/site-packages (from openai<2.0.0,>=1.24.0->langchain_openai) (4.0.0)\n",
      "Collecting distro<2,>=1.7.0 (from openai<2.0.0,>=1.24.0->langchain_openai)\n",
      "  Downloading distro-1.9.0-py3-none-any.whl.metadata (6.8 kB)\n",
      "Collecting httpx<1,>=0.23.0 (from openai<2.0.0,>=1.24.0->langchain_openai)\n",
      "  Downloading httpx-0.27.0-py3-none-any.whl.metadata (7.2 kB)\n",
      "Requirement already satisfied: sniffio in /opt/conda/lib/python3.11/site-packages (from openai<2.0.0,>=1.24.0->langchain_openai) (1.3.0)\n",
      "Requirement already satisfied: tqdm>4 in /opt/conda/lib/python3.11/site-packages (from openai<2.0.0,>=1.24.0->langchain_openai) (4.66.1)\n",
      "Requirement already satisfied: typing-extensions<5,>=4.7 in /opt/conda/lib/python3.11/site-packages (from openai<2.0.0,>=1.24.0->langchain_openai) (4.8.0)\n",
      "Collecting regex>=2022.1.18 (from tiktoken<1,>=0.5.2->langchain_openai)\n",
      "  Downloading regex-2024.5.10-cp311-cp311-manylinux_2_17_x86_64.manylinux2014_x86_64.whl.metadata (40 kB)\n",
      "\u001b[2K     \u001b[90m━━━━━━━━━━━━━━━━━━━━━━━━━━━━━━━━━━━━━━━\u001b[0m \u001b[32m40.9/40.9 kB\u001b[0m \u001b[31m963.9 kB/s\u001b[0m eta \u001b[36m0:00:00\u001b[0m\n",
      "\u001b[?25hRequirement already satisfied: requests>=2.26.0 in /opt/conda/lib/python3.11/site-packages (from tiktoken<1,>=0.5.2->langchain_openai) (2.28.1)\n",
      "Requirement already satisfied: idna>=2.8 in /opt/conda/lib/python3.11/site-packages (from anyio<5,>=3.5.0->openai<2.0.0,>=1.24.0->langchain_openai) (3.4)\n",
      "Requirement already satisfied: certifi in /opt/conda/lib/python3.11/site-packages (from httpx<1,>=0.23.0->openai<2.0.0,>=1.24.0->langchain_openai) (2024.2.2)\n",
      "Collecting httpcore==1.* (from httpx<1,>=0.23.0->openai<2.0.0,>=1.24.0->langchain_openai)\n",
      "  Downloading httpcore-1.0.5-py3-none-any.whl.metadata (20 kB)\n",
      "Requirement already satisfied: h11<0.15,>=0.13 in /opt/conda/lib/python3.11/site-packages (from httpcore==1.*->httpx<1,>=0.23.0->openai<2.0.0,>=1.24.0->langchain_openai) (0.14.0)\n",
      "Requirement already satisfied: jsonpointer>=1.9 in /opt/conda/lib/python3.11/site-packages (from jsonpatch<2.0,>=1.33->langchain-core<0.2.0,>=0.1.46->langchain_openai) (2.4)\n",
      "Collecting orjson<4.0.0,>=3.9.14 (from langsmith<0.2.0,>=0.1.0->langchain-core<0.2.0,>=0.1.46->langchain_openai)\n",
      "  Downloading orjson-3.10.3-cp311-cp311-manylinux_2_17_x86_64.manylinux2014_x86_64.whl.metadata (49 kB)\n",
      "\u001b[2K     \u001b[90m━━━━━━━━━━━━━━━━━━━━━━━━━━━━━━━━━━━━━━━━\u001b[0m \u001b[32m49.7/49.7 kB\u001b[0m \u001b[31m1.2 MB/s\u001b[0m eta \u001b[36m0:00:00\u001b[0m\n",
      "\u001b[?25hRequirement already satisfied: charset-normalizer<3,>=2 in /opt/conda/lib/python3.11/site-packages (from requests>=2.26.0->tiktoken<1,>=0.5.2->langchain_openai) (2.1.1)\n",
      "Requirement already satisfied: urllib3<1.27,>=1.21.1 in /opt/conda/lib/python3.11/site-packages (from requests>=2.26.0->tiktoken<1,>=0.5.2->langchain_openai) (1.26.12)\n",
      "Downloading langchain_openai-0.1.6-py3-none-any.whl (34 kB)\n",
      "Downloading langchain_core-0.1.52-py3-none-any.whl (302 kB)\n",
      "\u001b[2K   \u001b[90m━━━━━━━━━━━━━━━━━━━━━━━━━━━━━━━━━━━━━━━━\u001b[0m \u001b[32m302.9/302.9 kB\u001b[0m \u001b[31m2.1 MB/s\u001b[0m eta \u001b[36m0:00:00\u001b[0m00:01\u001b[0m00:01\u001b[0m\n",
      "\u001b[?25hDownloading openai-1.30.1-py3-none-any.whl (320 kB)\n",
      "\u001b[2K   \u001b[90m━━━━━━━━━━━━━━━━━━━━━━━━━━━━━━━━━━━━━━━━\u001b[0m \u001b[32m320.6/320.6 kB\u001b[0m \u001b[31m4.0 MB/s\u001b[0m eta \u001b[36m0:00:00\u001b[0m00:01\u001b[0m00:01\u001b[0m\n",
      "\u001b[?25hDownloading tiktoken-0.7.0-cp311-cp311-manylinux_2_17_x86_64.manylinux2014_x86_64.whl (1.1 MB)\n",
      "\u001b[2K   \u001b[90m━━━━━━━━━━━━━━━━━━━━━━━━━━━━━━━━━━━━━━━━\u001b[0m \u001b[32m1.1/1.1 MB\u001b[0m \u001b[31m3.7 MB/s\u001b[0m eta \u001b[36m0:00:00\u001b[0m00:01\u001b[0m00:01\u001b[0m\n",
      "\u001b[?25hDownloading distro-1.9.0-py3-none-any.whl (20 kB)\n",
      "Downloading httpx-0.27.0-py3-none-any.whl (75 kB)\n",
      "\u001b[2K   \u001b[90m━━━━━━━━━━━━━━━━━━━━━━━━━━━━━━━━━━━━━━━━\u001b[0m \u001b[32m75.6/75.6 kB\u001b[0m \u001b[31m1.2 MB/s\u001b[0m eta \u001b[36m0:00:00\u001b[0ma \u001b[36m0:00:01\u001b[0m\n",
      "\u001b[?25hDownloading httpcore-1.0.5-py3-none-any.whl (77 kB)\n",
      "\u001b[2K   \u001b[90m━━━━━━━━━━━━━━━━━━━━━━━━━━━━━━━━━━━━━━━━\u001b[0m \u001b[32m77.9/77.9 kB\u001b[0m \u001b[31m1.6 MB/s\u001b[0m eta \u001b[36m0:00:00\u001b[0mta \u001b[36m0:00:01\u001b[0m\n",
      "\u001b[?25hDownloading langsmith-0.1.57-py3-none-any.whl (121 kB)\n",
      "\u001b[2K   \u001b[90m━━━━━━━━━━━━━━━━━━━━━━━━━━━━━━━━━━━━━━━━\u001b[0m \u001b[32m121.0/121.0 kB\u001b[0m \u001b[31m2.9 MB/s\u001b[0m eta \u001b[36m0:00:00\u001b[0mta \u001b[36m0:00:01\u001b[0m\n",
      "\u001b[?25hDownloading regex-2024.5.10-cp311-cp311-manylinux_2_17_x86_64.manylinux2014_x86_64.whl (785 kB)\n",
      "\u001b[2K   \u001b[90m━━━━━━━━━━━━━━━━━━━━━━━━━━━━━━━━━━━━━━━━\u001b[0m \u001b[32m785.2/785.2 kB\u001b[0m \u001b[31m3.4 MB/s\u001b[0m eta \u001b[36m0:00:00\u001b[0m00:01\u001b[0m00:01\u001b[0m\n",
      "\u001b[?25hDownloading tenacity-8.3.0-py3-none-any.whl (25 kB)\n",
      "Downloading orjson-3.10.3-cp311-cp311-manylinux_2_17_x86_64.manylinux2014_x86_64.whl (142 kB)\n",
      "\u001b[2K   \u001b[90m━━━━━━━━━━━━━━━━━━━━━━━━━━━━━━━━━━━━━━━━\u001b[0m \u001b[32m142.5/142.5 kB\u001b[0m \u001b[31m1.6 MB/s\u001b[0m eta \u001b[36m0:00:00\u001b[0ma \u001b[36m0:00:01\u001b[0m\n",
      "\u001b[?25hInstalling collected packages: tenacity, regex, orjson, httpcore, distro, tiktoken, langsmith, httpx, openai, langchain-core, langchain_openai\n",
      "Successfully installed distro-1.9.0 httpcore-1.0.5 httpx-0.27.0 langchain-core-0.1.52 langchain_openai-0.1.6 langsmith-0.1.57 openai-1.30.1 orjson-3.10.3 regex-2024.5.10 tenacity-8.3.0 tiktoken-0.7.0\n",
      "\u001b[33mWARNING: Running pip as the 'root' user can result in broken permissions and conflicting behaviour with the system package manager. It is recommended to use a virtual environment instead: https://pip.pypa.io/warnings/venv\u001b[0m\u001b[33m\n",
      "\u001b[0m"
     ]
    }
   ],
   "source": [
    "!pip install langchain_openai"
   ]
  },
  {
   "cell_type": "code",
   "execution_count": 38,
   "metadata": {},
   "outputs": [],
   "source": [
    "from langchain_openai import ChatOpenAI\n",
    "from langchain_core.prompts import (\n",
    "    ChatPromptTemplate,\n",
    "    MessagesPlaceholder,\n",
    "    SystemMessagePromptTemplate,\n",
    "    HumanMessagePromptTemplate,\n",
    ")\n",
    "from langchain.memory import ConversationSummaryBufferMemory\n",
    "from langchain.chains import LLMChain\n",
    "from langchain.memory import ConversationBufferMemory\n",
    "#템플릿 생성 - 채팅 프롬프트 템플릿\n",
    "from langchain_core.prompts import ChatPromptTemplate\n",
    "from langchain_core.prompts import ChatPromptTemplate\n",
    "import getpass\n",
    "import os\n",
    "from langchain_openai import ChatOpenAI\n",
    "import pandas as pd\n",
    "from langchain_core.output_parsers import StrOutputParser\n"
   ]
  },
  {
   "cell_type": "code",
   "execution_count": 6,
   "metadata": {},
   "outputs": [
    {
     "name": "stdin",
     "output_type": "stream",
     "text": [
      " ········\n"
     ]
    }
   ],
   "source": [
    "# 환경변수에 OpenAI API 키 저장 (사용자 입력으로 안전하게)\n",
    "os.environ[\"OPENAI_API_KEY\"] = getpass.getpass()\n",
    "\n",
    "# GPT-4 모델로 챗봇 초기화\n",
    "llm = ChatOpenAI(model=\"gpt-4-turbo\")"
   ]
  },
  {
   "cell_type": "markdown",
   "metadata": {},
   "source": [
    "# 3가지 프롬프트로 구분\n",
    "1. 글구조 프롬프트\n",
    "2. 글 생성 프롬프트\n",
    "3. 글 평가 프롬프트\n"
   ]
  },
  {
   "cell_type": "markdown",
   "metadata": {},
   "source": [
    "## 1.글 구조 프롬프트"
   ]
  },
  {
   "cell_type": "code",
   "execution_count": 47,
   "metadata": {},
   "outputs": [],
   "source": [
    "page_benchmark=\"\"\"안녕하세요, 여러분의 출퇴근 메신저 지하철 온다의 '오.지.통 [오늘의 지하철 소식통]' 인사 드립니다!\n",
    "지하철 이용객 여러분, 서울 지하철 경고파업에 대한 중요한 업데이트가 있습니다.\n",
    "​\n",
    "파업 일정\n",
    "\n",
    "파업 일시: 2023년 11월 9일부터 11월 10일까지\n",
    "\n",
    "파업 노선: 서울지하철 1∼8호선, 9호선 2·3단계 구간(신논현∼중앙보훈병원역)\n",
    "\n",
    "파업 이유: 임금 및 단체협약 협상 결렬, 인력 감축 및 안전 업무 외주화 철회 요구\n",
    "\n",
    "문의 사항: 서울교통공사 홈페이지\n",
    "\n",
    "​\n",
    "\n",
    "\n",
    "서울 지하철에서 열리는 경고파업 소식, 여러분도 들으셨나요?\n",
    "\n",
    "서울의 지하철 노선들이 11월 9일부터 10일까지 파업을 예정하고 있어요.\n",
    "\n",
    "아침저녁 출퇴근길이 조금 힘들어질 수 있으니, 저와 함께 대비책을 세워봐요!\n",
    "\n",
    "파업 기간 중 대응 방법과 출근길 준비 전략\n",
    "\n",
    "시간대별 지하철 정보 챙기기\n",
    "\n",
    "파업 동안은 지하철 운행이 조금씩 달라질 수 있어요.\n",
    "\n",
    "집을 나서기 전에 미리 체크하고 시간을 조정해보세요!\n",
    "\n",
    "​\n",
    "\n",
    "대체 교통수단 적극 활용하기\n",
    "\n",
    "버스가 아침 7시부터 9시, 저녁 6시부터 8시까지 집중 배차된다고 하니,\n",
    "\n",
    "버스로 갈아타는 것도 좋은 선택이 될 수 있어요.\n",
    "\n",
    "​\n",
    "\n",
    "비상 연락망 활용하기\n",
    "\n",
    "파업 기간 중에는 유연하게 근무하거나 수업에 참여할 수 있도록 회사나 학교와 연락해 조율해 보세요.\n",
    "\n",
    "​\n",
    "\n",
    "비록 지하철이 잠시 멈춰 서도 우리의 출퇴근은 멈출 수 없잖아요!\n",
    "\n",
    "서울교통공사와 서울시가 불편을 최소화하기 위해 노력 중이니,\n",
    "\n",
    "조금만 참고 우리 모두 함께 이 어려운 시기를 잘 넘겨봐요.\n",
    "\n",
    "​\n",
    "\n",
    "오지통과 함께라면 출퇴근도 즐거워질 수 있어요, 자주 들러서 최신 소식도 확인하고 힘내세요!\n",
    "\n",
    "​\n",
    "\n",
    "​\n",
    "\n",
    "​\n",
    "\n",
    "​\n",
    "\n",
    "'지하철 온다'는 단 한 번의 터치로\n",
    "\n",
    "자신의 위치에서 가장 가까운 지하철역의\n",
    "\n",
    "실시간 도착 정보를 제공합니다\n",
    "\n",
    "​\n",
    "\n",
    "🔽 지하철 온다 소개 보러가기\n",
    "\n",
    "https://blog.naver.com/subway__onda/223258646349\"\"\""
   ]
  },
  {
   "cell_type": "code",
   "execution_count": 48,
   "metadata": {},
   "outputs": [],
   "source": [
    "prompt1 = ChatPromptTemplate.from_messages([\n",
    "    (\"system\", \"Extract the table of structure from the provided text in English. Please don't give me the details of the structure of the article JUST STRUCTURE 1: Greeting 2:\"), #\"목차정보 추출\"\n",
    "    (\"user\", \"{input}\")\n",
    "])\n",
    "chain= prompt1|llm\n",
    "Structure=chain.invoke({\"input\":page_benchmark})"
   ]
  },
  {
   "cell_type": "code",
   "execution_count": 49,
   "metadata": {},
   "outputs": [
    {
     "data": {
      "text/plain": [
       "'1: Greeting\\n2: Strike Update Announcement\\n3: Strike Details\\n4: Additional Explanatory Information\\n5: Strike Preparedness Suggestions\\n6: Encouragement and Conclusion\\n7: App Advertisement'"
      ]
     },
     "execution_count": 49,
     "metadata": {},
     "output_type": "execute_result"
    }
   ],
   "source": [
    "Structure.content"
   ]
  },
  {
   "cell_type": "code",
   "execution_count": 50,
   "metadata": {},
   "outputs": [],
   "source": [
    "#글 구조 리스트로 변형 (task 쪼개기 위함)\n",
    "import re\n",
    "#글의 구조에서 너무 자세한 정보는 직접 제거하였음.\n",
    "output1 = Structure.content\n",
    "# Using regex to split the string into sections starting with number and period\n",
    "sections = re.split(r'\\n(?=\\d+\\.)', output1)\n",
    "section=\"\"\n",
    "for i in (sections):\n",
    "          section+=i"
   ]
  },
  {
   "cell_type": "code",
   "execution_count": 51,
   "metadata": {},
   "outputs": [
    {
     "data": {
      "text/plain": [
       "'1: Greeting\\n2: Strike Update Announcement\\n3: Strike Details\\n4: Additional Explanatory Information\\n5: Strike Preparedness Suggestions\\n6: Encouragement and Conclusion\\n7: App Advertisement'"
      ]
     },
     "execution_count": 51,
     "metadata": {},
     "output_type": "execute_result"
    }
   ],
   "source": [
    "section"
   ]
  },
  {
   "cell_type": "markdown",
   "metadata": {},
   "source": [
    "## 2. 글 생성 프롬프트"
   ]
  },
  {
   "cell_type": "markdown",
   "metadata": {},
   "source": [
    "### source 기사 (text)"
   ]
  },
  {
   "cell_type": "code",
   "execution_count": 77,
   "metadata": {},
   "outputs": [],
   "source": [
    "source_link=\"https://www.khan.co.kr/national/national-general/article/202311211003001\"\n",
    "source_content=\"\"\"서울 지하철 멈추나…22일 총파업 예고, 노사 오늘 막판 본교섭\n",
    "김보미 기자 bomi83@kyunghyang.com\n",
    "2023.11.21 10:03 입력 2023.11.21 17:00 수정\n",
    "서울교통공사·연합교섭단 본교섭 재개\n",
    "\n",
    "쟁점은 정년퇴직 일자리 신규채용 충원\n",
    "\n",
    "협상불발 땐 노조 무기한 2차 파업 예고\n",
    "\n",
    "서울지하철 1∼8호선을 운영하는 서울교통공사 노조의 2차 총파업 예고한 가운데 노사가 본교섭에 나선 21일 서울 성동구 서울교통공사 회의장에서 노조 측에서 요구조건이 적힌 손팻말을 들고 있다. 권도현 기자\n",
    "\n",
    "서울교통공사노조가 예고한 오는 22일 서울 지하철 2차 총파업을 하루 앞두고 노사가 막판 협상을 시작한다.\n",
    "\n",
    "21일 노사에 따르면 서울교통공사와 노조 연합교섭단은 이날 오후 4시 서울 성동구 본사에서 본교섭을 재개한다. 연합교섭단은 민주노총 공공운수노조 산하 서울교통공사노조와 한국노총 공공연맹 소속 통합노조로 구성됐다.\n",
    "\n",
    "쟁점은 올해 정년퇴직에 따른 인력 공백을 신규채용으로 충원할 것인지가 핵심이다. 사측은 매년 1조원 안팎의 적자가 누적된 경영을 정상화하려면 2026년까지 2212명 감축은 불가피하며, 정년퇴직으로 자연감소를 유도하겠다는 입장이다. 이에 노조는 무리한 감축으로 업무 공백이 생기면 안전 문제로 이어질 수 있다며 더 늦기 전에 신규채용이 필요하다고 요구하고 있다.\n",
    "\n",
    "\n",
    "서울 지하철 파업, 쟁점은 정년퇴직 일자리 충원···서울시 “타협 없다”\n",
    "\n",
    "서울 지하철 1~8호선을 운영하는 서울교통공사노조(서교공노조)가 9일부터 이틀간 경고 파업에 돌입...\n",
    "\n",
    "https://www.khan.co.kr/national/national-general/article/202311091646001\n",
    "\n",
    "지난 7월11일 첫 교섭 이후 11차례 교섭에도 합의에 이르지 못하자 서교공노조는 지난 9~10일 경고 파업에 돌입한 바 있다. 21일 본교섭 재개 후 협상에 이르지 못하면 노조는 무기한 2차 파업을 예고한 상태다. 단, 교섭은 양대 노총이 참여하나 경고 파업 때와 마찬가지로 총파업은 민주노총 소속 서교공노조만 참가한다.\n",
    "\n",
    "서울시와 공사는 노조의 파업에 강경 대응 원칙을 강조하고 있다.\n",
    "\n",
    "앞서 공사는 9~10일 파업에 참가한 4470명에 대해 전원 ‘무노동 무임금’으로 12월 급여 약 7억원을 지급하지 않겠다는 방침을 밝혔다. 공사는 지난해 11월 노조 총파업 때도 참가자 2763명에 대해 3억6000만원의 임금을 미지급한 바 있다.\n",
    "\n",
    "공사 측은 “노조가 2차 파업에 돌입할 경우에도 참가자는 근무하지 않은 시간을 확인해 12월 급여에서 삭감할 예정”이며 “불법행위는 무관용 원칙으로 조치하겠다”고 강경 대응을 예고했다. 서울시 역시 “불법 파업은 원칙에 따라 처리하겠다”는 입장을 전날 대변인 브리핑을 통해 재확인했다.\n",
    "\n",
    "공사는 2차 파업이 현실화할 경우 비상대책본부를 꾸리고 대체인력 등을 확보해 평일 기준 현원 대비 83%의 인력을 유지할 계획이다.\n",
    "\n",
    "특히 평일 출근 시간대(오전 7~9시) 열차 운행률의 100% 수준을 유지한다. 퇴근 시간대(오후 6~8시)는 대기 열차 7대를 확보한다. 2호선은 내선 3대, 외선 2대 등 임시 열차 5편성을 추가 투입한다.\"\"\""
   ]
  },
  {
   "cell_type": "markdown",
   "metadata": {},
   "source": [
    "### 글생성 시작"
   ]
  },
  {
   "cell_type": "code",
   "execution_count": 25,
   "metadata": {},
   "outputs": [
    {
     "name": "stderr",
     "output_type": "stream",
     "text": [
      "/opt/conda/lib/python3.11/site-packages/langchain_core/_api/deprecation.py:119: LangChainDeprecationWarning: The method `Chain.__call__` was deprecated in langchain 0.1.0 and will be removed in 0.3.0. Use invoke instead.\n",
      "  warn_deprecated(\n"
     ]
    },
    {
     "name": "stdout",
     "output_type": "stream",
     "text": [
      "\n",
      "\n",
      "\u001b[1m> Entering new LLMChain chain...\u001b[0m\n",
      "Prompt after formatting:\n",
      "\u001b[32;1m\u001b[1;3mSystem: The system utilizes the structure from existing blog benchmark articles and creates new blog posts using information from new source data.\n",
      "          structure from existing blog benchmark articles : 1. Greeting from 'Oji-Tong', the mascot of 'Subway Onda'2. Overview of the subway delay incident 3. Details of the delay:\n",
      "   - Date and time of the Delay\n",
      "   - Affected subway lines\n",
      "   - Reasons for the delay4. Encouragement and reminder Delay or cause of Delay 6. Promotion of the 'Subway Onda' service and its features7. Closing encouragement and anticipation for better days\n",
      "          Once you obtain information from the source data, you will write the article considering the structure from existing blog benchmark articles.\n",
      "          \n",
      "Human: source data:{서울 지하철 멈추나…22일 총파업 예고, 노사 오늘 막판 본교섭\n",
      "김보미 기자 bomi83@kyunghyang.com\n",
      "2023.11.21 10:03 입력 2023.11.21 17:00 수정\n",
      "서울교통공사·연합교섭단 본교섭 재개\n",
      "\n",
      "쟁점은 정년퇴직 일자리 신규채용 충원\n",
      "\n",
      "협상불발 땐 노조 무기한 2차 파업 예고\n",
      "\n",
      "서울지하철 1∼8호선을 운영하는 서울교통공사 노조의 2차 총파업 예고한 가운데 노사가 본교섭에 나선 21일 서울 성동구 서울교통공사 회의장에서 노조 측에서 요구조건이 적힌 손팻말을 들고 있다. 권도현 기자\n",
      "\n",
      "서울교통공사노조가 예고한 오는 22일 서울 지하철 2차 총파업을 하루 앞두고 노사가 막판 협상을 시작한다.\n",
      "\n",
      "21일 노사에 따르면 서울교통공사와 노조 연합교섭단은 이날 오후 4시 서울 성동구 본사에서 본교섭을 재개한다. 연합교섭단은 민주노총 공공운수노조 산하 서울교통공사노조와 한국노총 공공연맹 소속 통합노조로 구성됐다.\n",
      "\n",
      "쟁점은 올해 정년퇴직에 따른 인력 공백을 신규채용으로 충원할 것인지가 핵심이다. 사측은 매년 1조원 안팎의 적자가 누적된 경영을 정상화하려면 2026년까지 2212명 감축은 불가피하며, 정년퇴직으로 자연감소를 유도하겠다는 입장이다. 이에 노조는 무리한 감축으로 업무 공백이 생기면 안전 문제로 이어질 수 있다며 더 늦기 전에 신규채용이 필요하다고 요구하고 있다.\n",
      "\n",
      "\n",
      "서울 지하철 파업, 쟁점은 정년퇴직 일자리 충원···서울시 “타협 없다”\n",
      "\n",
      "서울 지하철 1~8호선을 운영하는 서울교통공사노조(서교공노조)가 9일부터 이틀간 경고 파업에 돌입...\n",
      "\n",
      "https://www.khan.co.kr/national/national-general/article/202311091646001\n",
      "\n",
      "지난 7월11일 첫 교섭 이후 11차례 교섭에도 합의에 이르지 못하자 서교공노조는 지난 9~10일 경고 파업에 돌입한 바 있다. 21일 본교섭 재개 후 협상에 이르지 못하면 노조는 무기한 2차 파업을 예고한 상태다. 단, 교섭은 양대 노총이 참여하나 경고 파업 때와 마찬가지로 총파업은 민주노총 소속 서교공노조만 참가한다.\n",
      "\n",
      "서울시와 공사는 노조의 파업에 강경 대응 원칙을 강조하고 있다.\n",
      "\n",
      "앞서 공사는 9~10일 파업에 참가한 4470명에 대해 전원 ‘무노동 무임금’으로 12월 급여 약 7억원을 지급하지 않겠다는 방침을 밝혔다. 공사는 지난해 11월 노조 총파업 때도 참가자 2763명에 대해 3억6000만원의 임금을 미지급한 바 있다.\n",
      "\n",
      "공사 측은 “노조가 2차 파업에 돌입할 경우에도 참가자는 근무하지 않은 시간을 확인해 12월 급여에서 삭감할 예정”이며 “불법행위는 무관용 원칙으로 조치하겠다”고 강경 대응을 예고했다. 서울시 역시 “불법 파업은 원칙에 따라 처리하겠다”는 입장을 전날 대변인 브리핑을 통해 재확인했다.\n",
      "\n",
      "공사는 2차 파업이 현실화할 경우 비상대책본부를 꾸리고 대체인력 등을 확보해 평일 기준 현원 대비 83%의 인력을 유지할 계획이다.\n",
      "\n",
      "특히 평일 출근 시간대(오전 7~9시) 열차 운행률의 100% 수준을 유지한다. 퇴근 시간대(오후 6~8시)는 대기 열차 7대를 확보한다. 2호선은 내선 3대, 외선 2대 등 임시 열차 5편성을 추가 투입한다.}Do not start writing until you are given a command. Just Review source data\u001b[0m\n",
      "\n",
      "\u001b[1m> Finished chain.\u001b[0m\n",
      "\n",
      "\n",
      "\u001b[1m> Entering new LLMChain chain...\u001b[0m\n",
      "Prompt after formatting:\n",
      "\u001b[32;1m\u001b[1;3mSystem: The system utilizes the structure from existing blog benchmark articles and creates new blog posts using information from new source data.\n",
      "          structure from existing blog benchmark articles : 1. Greeting from 'Oji-Tong', the mascot of 'Subway Onda'2. Overview of the subway delay incident 3. Details of the delay:\n",
      "   - Date and time of the Delay\n",
      "   - Affected subway lines\n",
      "   - Reasons for the delay4. Encouragement and reminder Delay or cause of Delay 6. Promotion of the 'Subway Onda' service and its features7. Closing encouragement and anticipation for better days\n",
      "          Once you obtain information from the source data, you will write the article considering the structure from existing blog benchmark articles.\n",
      "          \n",
      "System: A second general strike by the Seoul Transportation Corporation union, operating Seoul Subway Lines 1 through 8, is scheduled for November 22 due to unresolved negotiations. The dispute centers on filling vacancies from retirements with new hires, against a backdrop of financial deficits and workforce reduction plans by the company. This situation may lead to substantial disruptions in subway services, prompting preparations for possible delays and operational challenges.\n",
      "Human: 1. Greeting from 'Oji-Tong', the mascot of 'Subway Onda'\u001b[0m\n",
      "\n",
      "\u001b[1m> Finished chain.\u001b[0m\n",
      "\n",
      "\n",
      "\u001b[1m> Entering new LLMChain chain...\u001b[0m\n",
      "Prompt after formatting:\n",
      "\u001b[32;1m\u001b[1;3mSystem: The system utilizes the structure from existing blog benchmark articles and creates new blog posts using information from new source data.\n",
      "          structure from existing blog benchmark articles : 1. Greeting from 'Oji-Tong', the mascot of 'Subway Onda'2. Overview of the subway delay incident 3. Details of the delay:\n",
      "   - Date and time of the Delay\n",
      "   - Affected subway lines\n",
      "   - Reasons for the delay4. Encouragement and reminder Delay or cause of Delay 6. Promotion of the 'Subway Onda' service and its features7. Closing encouragement and anticipation for better days\n",
      "          Once you obtain information from the source data, you will write the article considering the structure from existing blog benchmark articles.\n",
      "          \n",
      "System: A second general strike by the Seoul Transportation Corporation union, operating Seoul Subway Lines 1 through 8, is scheduled for November 22 due to unresolved negotiations. The dispute centers on filling vacancies from retirements with new hires, against a backdrop of financial deficits and workforce reduction plans by the company. This situation may lead to substantial disruptions in subway services, prompting preparations for possible delays and operational challenges.\n",
      "Human: 1. Greeting from 'Oji-Tong', the mascot of 'Subway Onda'\n",
      "AI: Hello, fellow commuters and fans of the Seoul subway! It’s me, Oji-Tong, your friendly mascot from 'Subway Onda'. I’m here to keep you updated and make your subway journeys as smooth as possible. Let’s dive into some important news regarding our beloved subway system.\n",
      "Human: 2. Overview of the subway delay incident \u001b[0m\n",
      "\n",
      "\u001b[1m> Finished chain.\u001b[0m\n",
      "\n",
      "\n",
      "\u001b[1m> Entering new LLMChain chain...\u001b[0m\n",
      "Prompt after formatting:\n",
      "\u001b[32;1m\u001b[1;3mSystem: The system utilizes the structure from existing blog benchmark articles and creates new blog posts using information from new source data.\n",
      "          structure from existing blog benchmark articles : 1. Greeting from 'Oji-Tong', the mascot of 'Subway Onda'2. Overview of the subway delay incident 3. Details of the delay:\n",
      "   - Date and time of the Delay\n",
      "   - Affected subway lines\n",
      "   - Reasons for the delay4. Encouragement and reminder Delay or cause of Delay 6. Promotion of the 'Subway Onda' service and its features7. Closing encouragement and anticipation for better days\n",
      "          Once you obtain information from the source data, you will write the article considering the structure from existing blog benchmark articles.\n",
      "          \n",
      "System: A second general strike by the Seoul Transportation Corporation union, operating Seoul Subway Lines 1 through 8, is scheduled for November 22 due to unresolved negotiations. The dispute centers on filling vacancies from retirements with new hires, against a backdrop of financial deficits and workforce reduction plans by the company. This situation may lead to substantial disruptions in subway services, prompting preparations for possible delays and operational challenges. 'Oji-Tong,' the mascot of 'Subway Onda,' greets commuters and promises to keep them updated and make their subway journeys as smooth as possible, including addressing the current delays.\n",
      "AI: Recently, there has been a significant development that could impact our travel plans. The Seoul Transportation Corporation union has announced a second general strike scheduled for November 22. This decision stems from ongoing disagreements and unresolved negotiations concerning workforce issues, specifically the hiring of new employees to fill vacancies left by retirees. This strike is expected to affect the operations of Seoul Subway Lines 1 through 8, potentially leading to considerable delays and disruptions in our daily commutes.\n",
      "Human: 3. Details of the delay:\n",
      "   - Date and time of the Delay\n",
      "   - Affected subway lines\n",
      "   - Reasons for the delay\u001b[0m\n",
      "\n",
      "\u001b[1m> Finished chain.\u001b[0m\n",
      "\n",
      "\n",
      "\u001b[1m> Entering new LLMChain chain...\u001b[0m\n",
      "Prompt after formatting:\n",
      "\u001b[32;1m\u001b[1;3mSystem: The system utilizes the structure from existing blog benchmark articles and creates new blog posts using information from new source data.\n",
      "          structure from existing blog benchmark articles : 1. Greeting from 'Oji-Tong', the mascot of 'Subway Onda'2. Overview of the subway delay incident 3. Details of the delay:\n",
      "   - Date and time of the Delay\n",
      "   - Affected subway lines\n",
      "   - Reasons for the delay4. Encouragement and reminder Delay or cause of Delay 6. Promotion of the 'Subway Onda' service and its features7. Closing encouragement and anticipation for better days\n",
      "          Once you obtain information from the source data, you will write the article considering the structure from existing blog benchmark articles.\n",
      "          \n",
      "System: A second general strike by the Seoul Transportation Corporation union, operating Seoul Subway Lines 1 through 8, is scheduled for November 22 due to unresolved negotiations. The dispute centers on filling vacancies from retirements with new hires, against a backdrop of financial deficits and workforce reduction plans by the company. This situation may lead to substantial disruptions in subway services, prompting preparations for possible delays and operational challenges. 'Oji-Tong,' the mascot of 'Subway Onda,' greets commuters and promises to keep them updated and make their subway journeys as smooth as possible, including addressing the current delays. The strike is expected to affect daily commutes significantly, with the potential for varying disruptions throughout the day. Key details include the strike occurring on November 22nd, affecting major subway lines that traverse across the city, and stemming from unresolved hiring issues due to financial and workforce reduction challenges. Commuters are advised to stay informed through real-time updates and consider alternative routes.\n",
      "Human: 4. Encouragement and reminder Delay or cause of Delay \u001b[0m\n",
      "\n",
      "\u001b[1m> Finished chain.\u001b[0m\n",
      "\n",
      "\n",
      "\u001b[1m> Entering new LLMChain chain...\u001b[0m\n",
      "Prompt after formatting:\n",
      "\u001b[32;1m\u001b[1;3mSystem: The system utilizes the structure from existing blog benchmark articles and creates new blog posts using information from new source data.\n",
      "          structure from existing blog benchmark articles : 1. Greeting from 'Oji-Tong', the mascot of 'Subway Onda'2. Overview of the subway delay incident 3. Details of the delay:\n",
      "   - Date and time of the Delay\n",
      "   - Affected subway lines\n",
      "   - Reasons for the delay4. Encouragement and reminder Delay or cause of Delay 6. Promotion of the 'Subway Onda' service and its features7. Closing encouragement and anticipation for better days\n",
      "          Once you obtain information from the source data, you will write the article considering the structure from existing blog benchmark articles.\n",
      "          \n",
      "System: A second general strike by the Seoul Transportation Corporation union, operating Seoul Subway Lines 1 through 8, is scheduled for November 22 due to unresolved negotiations. The dispute centers on filling vacancies from retirements with new hires, against a backdrop of financial deficits and workforce reduction plans by the company. This situation may lead to substantial disruptions in subway services, prompting preparations for possible delays and operational challenges. 'Oji-Tong,' the mascot of 'Subway Onda,' greets commuters and promises to keep them updated and make their subway journeys as smooth as possible, including addressing the current delays. The strike is expected to affect daily commutes significantly, with the potential for varying disruptions throughout the day. Key details include the strike occurring on November 22nd, affecting major subway lines that traverse across the city, and stemming from unresolved hiring issues due to financial and workforce reduction challenges. Commuters are advised to stay informed through real-time updates and consider alternative routes.\n",
      "\n",
      "'Oji-Tong' reminds commuters about the strike's causes and encourages planning with alternative travel options like carpooling, buses, or walking. Emphasizing that the strike is part of a broader effort to improve future services, 'Oji-Tong' asks for patience and support from the public during this period. 'Subway Onda' will continue providing updates and travel management tips.\n",
      "Human: 6. Promotion of the 'Subway Onda' service and its features\u001b[0m\n",
      "\n",
      "\u001b[1m> Finished chain.\u001b[0m\n",
      "\n",
      "\n",
      "\u001b[1m> Entering new LLMChain chain...\u001b[0m\n",
      "Prompt after formatting:\n",
      "\u001b[32;1m\u001b[1;3mSystem: The system utilizes the structure from existing blog benchmark articles and creates new blog posts using information from new source data.\n",
      "          structure from existing blog benchmark articles : 1. Greeting from 'Oji-Tong', the mascot of 'Subway Onda'2. Overview of the subway delay incident 3. Details of the delay:\n",
      "   - Date and time of the Delay\n",
      "   - Affected subway lines\n",
      "   - Reasons for the delay4. Encouragement and reminder Delay or cause of Delay 6. Promotion of the 'Subway Onda' service and its features7. Closing encouragement and anticipation for better days\n",
      "          Once you obtain information from the source data, you will write the article considering the structure from existing blog benchmark articles.\n",
      "          \n",
      "System: A second general strike by the Seoul Transportation Corporation union, operating Seoul Subway Lines 1 through 8, is scheduled for November 22 due to unresolved negotiations. The dispute centers on filling vacancies from retirements with new hires, against a backdrop of financial deficits and workforce reduction plans by the company. This situation may lead to substantial disruptions in subway services, prompting preparations for possible delays and operational challenges. 'Oji-Tong,' the mascot of 'Subway Onda,' greets commuters and promises to keep them updated and make their subway journeys as smooth as possible, including addressing the current delays. The strike is expected to affect daily commutes significantly, with the potential for varying disruptions throughout the day. Key details include the strike occurring on November 22nd, affecting major subway lines that traverse across the city, and stemming from unresolved hiring issues due to financial and workforce reduction challenges. Commuters are advised to stay informed through real-time updates and consider alternative routes. 'Oji-Tong' reminds commuters about the strike's causes and encourages planning with alternative travel options like carpooling, buses, or walking. Emphasizing that the strike is part of a broader effort to improve future services, 'Oji-Tong' asks for patience and support from the public during this period. 'Subway Onda' will continue providing updates and travel management tips. \n",
      "\n",
      "Moreover, 'Subway Onda' promotes its service as a tool to enhance the commuting experience during these challenging times, offering real-time updates, a trip planner, 24/7 customer support, and enhanced safety measures. These features are designed to keep commuters informed, help them find the best routes amid service changes, and ensure their safety throughout their journeys.\n",
      "Human: 7. Closing encouragement and anticipation for better days\u001b[0m\n",
      "\n",
      "\u001b[1m> Finished chain.\u001b[0m\n",
      "\n",
      "\n",
      "\u001b[1m> Entering new LLMChain chain...\u001b[0m\n",
      "Prompt after formatting:\n",
      "\u001b[32;1m\u001b[1;3mSystem: The system utilizes the structure from existing blog benchmark articles and creates new blog posts using information from new source data.\n",
      "          structure from existing blog benchmark articles : 1. Greeting from 'Oji-Tong', the mascot of 'Subway Onda'2. Overview of the subway delay incident 3. Details of the delay:\n",
      "   - Date and time of the Delay\n",
      "   - Affected subway lines\n",
      "   - Reasons for the delay4. Encouragement and reminder Delay or cause of Delay 6. Promotion of the 'Subway Onda' service and its features7. Closing encouragement and anticipation for better days\n",
      "          Once you obtain information from the source data, you will write the article considering the structure from existing blog benchmark articles.\n",
      "          \n",
      "System: A second general strike by the Seoul Transportation Corporation union, operating Seoul Subway Lines 1 through 8, is scheduled for November 22 due to unresolved negotiations. The dispute centers on filling vacancies from retirements with new hires, against a backdrop of financial deficits and workforce reduction plans by the company. This situation may lead to substantial disruptions in subway services, prompting preparations for possible delays and operational challenges. 'Oji-Tong,' the mascot of 'Subway Onda,' greets commuters and promises to keep them updated and make their subway journeys as smooth as possible, including addressing the current delays. The strike is expected to affect daily commutes significantly, with the potential for varying disruptions throughout the day. Key details include the strike occurring on November 22nd, affecting major subway lines that traverse across the city, and stemming from unresolved hiring issues due to financial and workforce reduction challenges. Commuters are advised to stay informed through real-time updates and consider alternative routes. 'Oji-Tong' reminds commuters about the strike's causes and encourages planning with alternative travel options like carpooling, buses, or walking. Emphasizing that the strike is part of a broader effort to improve future services, 'Oji-Tong' asks for patience and support from the public during this period. 'Subway Onda' will continue providing updates and travel management tips. Moreover, 'Subway Onda' promotes its service as a tool to enhance the commuting experience during these challenging times, offering real-time updates, a trip planner, 24/7 customer support, and enhanced safety measures. These features are designed to keep commuters informed, help them find the best routes amid service changes, and ensure their safety throughout their journeys.\n",
      "\n",
      "In addition to these efforts, 'Oji-Tong' and the 'Subway Onda' team express their commitment to supporting commuters through the strike period, understanding the inconvenience caused, and assisting in making journeys smoother. They encourage looking forward to better days when the subways will operate efficiently and reliably again, appreciating the public's understanding and cooperation, and urging everyone to stay connected for ongoing updates and tips. This anticipation for improved future services underscores their dedication to enhancing commuter experiences during and beyond the strike.\n",
      "Human: Translate English to Korean\u001b[0m\n",
      "\n",
      "\u001b[1m> Finished chain.\u001b[0m\n",
      "\n",
      "\n",
      "\u001b[1m> Entering new LLMChain chain...\u001b[0m\n",
      "Prompt after formatting:\n",
      "\u001b[32;1m\u001b[1;3mSystem: The system utilizes the structure from existing blog benchmark articles and creates new blog posts using information from new source data.\n",
      "          structure from existing blog benchmark articles : 1. Greeting from 'Oji-Tong', the mascot of 'Subway Onda'2. Overview of the subway delay incident 3. Details of the delay:\n",
      "   - Date and time of the Delay\n",
      "   - Affected subway lines\n",
      "   - Reasons for the delay4. Encouragement and reminder Delay or cause of Delay 6. Promotion of the 'Subway Onda' service and its features7. Closing encouragement and anticipation for better days\n",
      "          Once you obtain information from the source data, you will write the article considering the structure from existing blog benchmark articles.\n",
      "          \n",
      "System: A second general strike by the Seoul Transportation Corporation union, operating Seoul Subway Lines 1 through 8, is scheduled for November 22 due to unresolved negotiations. The dispute centers on filling vacancies from retirements with new hires, against a backdrop of financial deficits and workforce reduction plans by the company. This situation may lead to substantial disruptions in subway services, prompting preparations for possible delays and operational challenges. 'Oji-Tong,' the mascot of 'Subway Onda,' greets commuters and promises to keep them updated and make their subway journeys as smooth as possible, including addressing the current delays. The strike is expected to affect daily commutes significantly, with the potential for varying disruptions throughout the day. Key details include the strike occurring on November 22nd, affecting major subway lines that traverse across the city, and stemming from unresolved hiring issues due to financial and workforce reduction challenges. Commuters are advised to stay informed through real-time updates and consider alternative routes. 'Oji-Tong' reminds commuters about the strike's causes and encourages planning with alternative travel options like carpooling, buses, or walking. Emphasizing that the strike is part of a broader effort to improve future services, 'Oji-Tong' asks for patience and support from the public during this period. 'Subway Onda' will continue providing updates and travel management tips. Moreover, 'Subway Onda' promotes its service as a tool to enhance the commuting experience during these challenging times, offering real-time updates, a trip planner, 24/7 customer support, and enhanced safety measures. These features are designed to keep commuters informed, help them find the best routes amid service changes, and ensure their safety throughout their journeys.\n",
      "\n",
      "In addition to these efforts, 'Oji-Tong' and the 'Subway Onda' team express their commitment to supporting commuters through the strike period, understanding the inconvenience caused, and assisting in making journeys smoother. They encourage looking forward to better days when the subways will operate efficiently and reliably again, appreciating the public's understanding and cooperation, and urging everyone to stay connected for ongoing updates and tips. This anticipation for improved future services underscores their dedication to enhancing commuter experiences during and beyond the strike. The conversation also includes a translation from English to Korean, summarizing the key aspects of the strike and the services provided by 'Subway Onda' to assist commuters during this period.\n",
      "Human: 대학생서포터즈가 작성한 것 처럼 통통 튀게 작성해줘.\u001b[0m\n",
      "\n",
      "\u001b[1m> Finished chain.\u001b[0m\n"
     ]
    }
   ],
   "source": [
    "prompt = ChatPromptTemplate(\n",
    "messages=[\n",
    "SystemMessagePromptTemplate.from_template(\n",
    "          \"\"\"The system utilizes the structure from existing blog benchmark articles and creates new blog posts using information from new source data.\n",
    "          structure from existing blog benchmark articles : \"\"\"+section+\"\"\"\n",
    "          Once you obtain information from the source data, you will write the article considering the structure from existing blog benchmark articles.\n",
    "          \"\"\"\n",
    "),\n",
    "# The `variable_name` here is what must align with memory\n",
    "MessagesPlaceholder(variable_name=\"chat_history\"),\n",
    "HumanMessagePromptTemplate.from_template(\"{question}\")\n",
    "]\n",
    ")\n",
    "\n",
    "memory = ConversationSummaryBufferMemory(llm=llm, max_token_limit=100,memory_key=\"chat_history\", return_messages=True)\n",
    "conversation = LLMChain(\n",
    "llm=llm,\n",
    "prompt=prompt,\n",
    "verbose=True,\n",
    "memory=memory\n",
    ")\n",
    "\n",
    "conversation({\"question\":'source data:{'+source_content +'}Do not start writing until you are given a command. Just Review source data'})\n",
    "content=\"\"\n",
    "for j in sections:\n",
    "          content+=conversation.predict(question=j)\n",
    "#시스템프롬프트수정 - 번역 & 대학생서포터즈\n",
    "conversation.predict(question=\"Translate English to Korean\")\n",
    "result=conversation.predict(question=\"대학생서포터즈가 작성한 것 처럼 통통 튀게 작성해줘.\")\n"
   ]
  },
  {
   "cell_type": "code",
   "execution_count": 54,
   "metadata": {},
   "outputs": [
    {
     "data": {
      "text/plain": [
       "\"안녕하세요, 여러분! '지하철 온다'의 마스코트 ‘오지통’이 인사드립니다! 오늘은 여러분의 출퇴근길을 조금 더 특별하게 만들어줄 소식을 가지고 왔어요. 바로 11월 22일 예정된 서울교통공사 노동조합의 파업 소식인데요, 이번 파업은 우리의 일상에 큰 변화를 줄 수 있답니다.\\n\\n일단 파업의 근본 원인부터 말씀드릴게요. 서울 지하철 1호선부터 8호선까지 운영하는 서울교통공사가 재정적자와 인력 감축 계획을 두고 신규 채용 문제로 노조와 협상에 난항을 겪고 있어요. 이로 인해 11월 22일에 큰 파업이 예정되어 있고, 이는 서울 시내 주요 지하철 노선에 큰 영향을 미칠 수 있어요.\\n\\n하지만 걱정 마세요! ‘지하철 온다’가 여러분의 든든한 동반자가 되어 드릴게요. 파업 동안에도 실시간 업데이트와 여정 관리 팁을 제공해, 여러분이 최상의 대안을 찾을 수 있도록 도와드릴 거예요. 차량 공유, 버스, 걷기 등 다른 교통 수단도 고려해 보시는 걸 추천드려요.\\n\\n그리고, ‘지하철 온다’ 서비스의 다양한 기능을 잊지 마세요! 여행 계획자, 24시간 고객 지원, 강화된 안전 조치 등을 통해 여러분의 출퇴근을 더욱 편리하고 안전하게 만들어 드릴 거예요.\\n\\n우리 모두 힘든 시간을 잘 견디고, 더 나은 미래를 기대해 봅시다. 파업이 끝나고 지하철이 다시 원활하게 운영될 날을 함께 기다리며, 서로를 응원하고 지지해요. 계속해서 업데이트되는 소식과 팁을 확인하시고, ‘지하철 온다’와 함께라면 어떤 상황에서도 최선의 해결책을 찾을 수 있을 거예요.\\n\\n오늘도 행복한 하루 되시고, ‘지하철 온다’와 함께 즐거운 출퇴근길이 되길 바랍니다! 다음 소식에서 또 만나요, 여러분! 🚇💨🌟\""
      ]
     },
     "execution_count": 54,
     "metadata": {},
     "output_type": "execute_result"
    }
   ],
   "source": [
    "result"
   ]
  },
  {
   "cell_type": "markdown",
   "metadata": {},
   "source": [
    "## 3.글 평가 프롬프트"
   ]
  },
  {
   "cell_type": "code",
   "execution_count": 70,
   "metadata": {},
   "outputs": [],
   "source": [
    "#리스트 생성\n",
    "consistency=[]\n",
    "coherence=[]\n",
    "friendliness=[]\n",
    "fluency=[]\n",
    "human_likeness=[]"
   ]
  },
  {
   "cell_type": "markdown",
   "metadata": {},
   "source": [
    "### 3-1 평가 방법 "
   ]
  },
  {
   "cell_type": "code",
   "execution_count": 71,
   "metadata": {},
   "outputs": [],
   "source": [
    "eval=[\"\"\"Compare and evaluate the blog content you created with the article.\n",
    "First, Extract the key information from the article. (time,date,subway line)\n",
    "You need to decide whether the key information is entailed by the  CONTEXT by choosing one of the following rating: \n",
    "\n",
    "1. 5 point: The blog content follows logically from the information contained in the article. \n",
    "\n",
    "2. 1 point: The blog content is logically false from the information contained in the article. \n",
    "\n",
    "3. an integer score between 1 and 5 and if such integer score does not exist,  \n",
    "\n",
    "use 1: It is not possible to determine whether the blog content is true or false without further information. \n",
    "\n",
    "Read the passage of information thoroughly and select the correct answer from the three answer labels. \n",
    "\n",
    "Read the CONTEXT thoroughly to ensure you know what the CONTEXT entails.  \n",
    "\n",
    "Note the blog content is generated by a computer system, it can contain certain symbols, which should not be a negative factor in the evaluation.\n",
    "\n",
    "\n",
    "Evaluation Form (scores ONLY):\n",
    "\n",
    "- Consistency:\n",
    "          \n",
    "          \"\"\",\n",
    "\"\"\"Your task is to rate the blog content on one metric.\n",
    "\n",
    "          Please make sure you read and understand these instructions carefully. Please keep this document open while reviewing, and refer to it as needed.\n",
    "\n",
    "          Evaluation Criteria:\n",
    "\n",
    "          Coherence (1-5) - the collective quality of all sentences. We align this dimension with the DUC quality question of structure and coherence whereby \"the summary should be well-structured and well-organized. The summary should not just be a heap of related information, but should build from sentence to a coherent body of information about a topic.\"\n",
    "\n",
    "          Evaluation Steps:\n",
    "\n",
    "          1. Read the news article carefully and identify the main topic and key points.\n",
    "          2. Read the blog content and compare it to the news article. Check if the summary covers the main topic and key points of the news article, and if it presents them in a clear and logical order.\n",
    "          3. Assign a score for coherence on a scale of 1 to 5, where 1 is the lowest and 5 is the highest based on the Evaluation Criteria.\n",
    "\n",
    "\n",
    "\n",
    "          Evaluation Form (scores ONLY):\n",
    "\n",
    "          - Coherence:\n",
    "          \n",
    "          \"\"\",\n",
    "\"\"\"Friendliness, as a metric, measures how effectively the text of a blog content engages the reader with a friendly and inviting tone. If the tone and style of the text foster a sense of warmth and familiarity, making the reader feel welcomed and engaged, then the value of the Friendliness metric should be high; otherwise, it should be low. After reading the blog post, evaluate its tone and style against typical friendly communication, and determine the value of the Friendliness metric using the following rating scale:\n",
    "\n",
    "          - One star: The tone is cold or unfriendly, not engaging the reader in any appreciable way.\n",
    "          - Two stars: The tone has minimal warmth, slightly engaging but largely formal or distant.\n",
    "          - Three stars: The tone is moderately friendly, balancing formal and informal elements to somewhat engage the reader.\n",
    "          - Four stars: The tone is very friendly, actively engaging the reader with warmth and lively expressions.\n",
    "          - Five stars: The tone is exceptionally friendly and lively, creating a strong sense of connection and engagement with the reader.\n",
    "\n",
    "          This rating should always be an integer between 1 and 5. Thus, the rating produced should be 1, 2, 3, 4, or 5, based on your assessment of how friendly and engaging the text is towards the read.\n",
    "\n",
    "          Evaluation Template (Score Only):\n",
    "\n",
    "          Friendliness:\n",
    "          \"\"\",\n",
    "\"\"\"Fluency measures the quality of individual sentences in the answer, and whether they are well-written and grammatically correct. Consider the quality of individual sentences when evaluating fluency. Given the question and answer, score the fluency of the answer between one to five stars using the following rating scale: \n",
    "\n",
    "          One star: the answer completely lacks fluency \n",
    "\n",
    "          Two stars: the answer mostly lacks fluency \n",
    "\n",
    "          Three stars: the answer is partially fluent \n",
    "\n",
    "          Four stars: the answer is mostly fluent \n",
    "\n",
    "          Five stars: the answer has perfect fluency \n",
    "\n",
    "          This rating value should always be an integer between 1 and 5. So the rating produced should be 1 or 2 or 3 or 4 or 5.\n",
    "\n",
    "\n",
    "          Evaluation Template (Score Only):\n",
    "\n",
    "          Fluency:\n",
    "          \"\"\",\n",
    "\"\"\"Human-likeness, as a metric, evaluates how closely the style and delivery of GPT-generated text resemble that of naturally written human text. If the text is indistinguishable from human writing in terms of natural flow, vocabulary use, and contextual accuracy, then the value of the Human-likeness metric should be high; otherwise, it should be low. Given the text generated by GPT and comparing it to typical human-written text, determine the value of the Human-likeness metric using the following rating scale:\n",
    "\n",
    "          - One star: The text is entirely machine-like, with unnatural flow and numerous contextual errors.\n",
    "          - Two stars: The text is mostly machine-like, with frequent unnatural expressions and noticeable errors.\n",
    "          - Three stars: The text is somewhat human-like, showing signs of natural language use but with some mechanical characteristics.\n",
    "          - Four stars: The text is mostly human-like, with very few mechanical traits and generally natural language use.\n",
    "          - Five stars: The text is completely human-like, indistinguishable from something a human might write.\n",
    "\n",
    "          This rating should always be an integer between 1 and 5. Thus, the rating produced should be 1, 2, 3, 4, or 5, based on the evaluation.\n",
    "          \"\"\"\n",
    "]"
   ]
  },
  {
   "cell_type": "markdown",
   "metadata": {},
   "source": [
    "### 3-2. 평가 시작 (평가에서는 각각의 새로운 채팅으로 하였음) -> memory 사용x"
   ]
  },
  {
   "cell_type": "markdown",
   "metadata": {},
   "source": [
    "#### 정확성"
   ]
  },
  {
   "cell_type": "code",
   "execution_count": 82,
   "metadata": {},
   "outputs": [],
   "source": [
    "output_parser = StrOutputParser()\n",
    "#정확성- 기사(source)와 블로그 콘텐츠 모두 넣어야함\n",
    "prompt = ChatPromptTemplate.from_messages([\n",
    "    (\"system\", eval[0]),\n",
    "    (\"user\", \"{input}\")\n",
    "])\n",
    "chain = prompt | llm | output_parser\n",
    "consistency+=[chain.invoke({\"input\": \"blog content:\"+result+\"article, source:\"+source_content})]\n",
    "\n"
   ]
  },
  {
   "cell_type": "markdown",
   "metadata": {},
   "source": [
    "#### conherence"
   ]
  },
  {
   "cell_type": "code",
   "execution_count": 72,
   "metadata": {},
   "outputs": [],
   "source": [
    "prompt = ChatPromptTemplate.from_messages([\n",
    "    (\"system\", eval[1]),\n",
    "    (\"user\", \"{input}\")\n",
    "])\n",
    "chain=prompt|llm|output_parser\n",
    "coherence+=[chain.invoke({\"input\": \"blog content:\"+result})]\n"
   ]
  },
  {
   "cell_type": "markdown",
   "metadata": {},
   "source": [
    "#### Friendliness"
   ]
  },
  {
   "cell_type": "code",
   "execution_count": 73,
   "metadata": {},
   "outputs": [],
   "source": [
    "prompt = ChatPromptTemplate.from_messages([\n",
    "    (\"system\", eval[2]),\n",
    "    (\"user\", \"{input}\")\n",
    "])\n",
    "chain=prompt|llm|output_parser\n",
    "friendliness+=[chain.invoke({\"input\": \"blog content:\"+result})]\n"
   ]
  },
  {
   "cell_type": "markdown",
   "metadata": {},
   "source": [
    "#### Fluency"
   ]
  },
  {
   "cell_type": "code",
   "execution_count": 74,
   "metadata": {},
   "outputs": [],
   "source": [
    "prompt = ChatPromptTemplate.from_messages([\n",
    "    (\"system\", eval[3]),\n",
    "    (\"user\", \"{input}\")\n",
    "])\n",
    "chain=prompt|llm|output_parser\n",
    "fluency+=[chain.invoke({\"input\": \"blog content:\"+result})]\n"
   ]
  },
  {
   "cell_type": "markdown",
   "metadata": {},
   "source": [
    "#### Human-likeness"
   ]
  },
  {
   "cell_type": "code",
   "execution_count": 75,
   "metadata": {},
   "outputs": [],
   "source": [
    "prompt = ChatPromptTemplate.from_messages([\n",
    "    (\"system\", eval[4]),\n",
    "    (\"user\", \"{input}\")\n",
    "])\n",
    "chain=prompt|llm|output_parser\n",
    "humanlikeness+=[chain.invoke({\"input\": \"blog content:\"+result})]\n"
   ]
  },
  {
   "cell_type": "code",
   "execution_count": 83,
   "metadata": {},
   "outputs": [
    {
     "data": {
      "text/html": [
       "<div>\n",
       "<style scoped>\n",
       "    .dataframe tbody tr th:only-of-type {\n",
       "        vertical-align: middle;\n",
       "    }\n",
       "\n",
       "    .dataframe tbody tr th {\n",
       "        vertical-align: top;\n",
       "    }\n",
       "\n",
       "    .dataframe thead th {\n",
       "        text-align: right;\n",
       "    }\n",
       "</style>\n",
       "<table border=\"1\" class=\"dataframe\">\n",
       "  <thead>\n",
       "    <tr style=\"text-align: right;\">\n",
       "      <th></th>\n",
       "      <th>link</th>\n",
       "      <th>source</th>\n",
       "      <th>result</th>\n",
       "      <th>consistency</th>\n",
       "      <th>coherence</th>\n",
       "      <th>friendliness</th>\n",
       "      <th>human_likeness</th>\n",
       "    </tr>\n",
       "  </thead>\n",
       "  <tbody>\n",
       "    <tr>\n",
       "      <th>0</th>\n",
       "      <td>https://www.khan.co.kr/national/national-gener...</td>\n",
       "      <td>서울 지하철 멈추나…22일 총파업 예고, 노사 오늘 막판 본교섭\\n김보미 기자 bo...</td>\n",
       "      <td>안녕하세요, 여러분! '지하철 온다'의 마스코트 ‘오지통’이 인사드립니다! 오늘은 ...</td>\n",
       "      <td>[- Consistency: 5]</td>\n",
       "      <td>- Coherence: 4</td>\n",
       "      <td>Friendliness:\\n5</td>\n",
       "      <td>The provided text, written as a blog post from...</td>\n",
       "    </tr>\n",
       "  </tbody>\n",
       "</table>\n",
       "</div>"
      ],
      "text/plain": [
       "                                                link  \\\n",
       "0  https://www.khan.co.kr/national/national-gener...   \n",
       "\n",
       "                                              source  \\\n",
       "0  서울 지하철 멈추나…22일 총파업 예고, 노사 오늘 막판 본교섭\\n김보미 기자 bo...   \n",
       "\n",
       "                                              result         consistency  \\\n",
       "0  안녕하세요, 여러분! '지하철 온다'의 마스코트 ‘오지통’이 인사드립니다! 오늘은 ...  [- Consistency: 5]   \n",
       "\n",
       "        coherence      friendliness  \\\n",
       "0  - Coherence: 4  Friendliness:\\n5   \n",
       "\n",
       "                                      human_likeness  \n",
       "0  The provided text, written as a blog post from...  "
      ]
     },
     "execution_count": 83,
     "metadata": {},
     "output_type": "execute_result"
    }
   ],
   "source": [
    "df=pd.DataFrame({\"link\":[source_link],\"source\":[source],\"result\":[result],\"consistency\":[consistency],\"coherence\":[coherence],\"friendliness\":[friendliness],\"human_likeness\":[humanlikeness]})\n",
    "df"
   ]
  },
  {
   "cell_type": "code",
   "execution_count": 84,
   "metadata": {},
   "outputs": [
    {
     "data": {
      "text/plain": [
       "['- Consistency: 5']"
      ]
     },
     "execution_count": 84,
     "metadata": {},
     "output_type": "execute_result"
    }
   ],
   "source": []
  }
 ],
 "metadata": {
  "kernelspec": {
   "display_name": "Python 3 (ipykernel)",
   "language": "python",
   "name": "python3"
  },
  "language_info": {
   "codemirror_mode": {
    "name": "ipython",
    "version": 3
   },
   "file_extension": ".py",
   "mimetype": "text/x-python",
   "name": "python",
   "nbconvert_exporter": "python",
   "pygments_lexer": "ipython3",
   "version": "3.11.6"
  }
 },
 "nbformat": 4,
 "nbformat_minor": 4
}
