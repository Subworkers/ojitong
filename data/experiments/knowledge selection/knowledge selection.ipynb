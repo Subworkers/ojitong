{
 "cells": [
  {
   "cell_type": "markdown",
   "id": "dd3ee57f-351a-48d1-bc5a-3c14beb6a829",
   "metadata": {},
   "source": [
    "# Knowledge Selection"
   ]
  },
  {
   "cell_type": "code",
   "execution_count": 23,
   "id": "ed6e1e56-207f-4c64-83ea-45e0828e7bf8",
   "metadata": {},
   "outputs": [
    {
     "name": "stdout",
     "output_type": "stream",
     "text": [
      "                                                  url  \\\n",
      "0   http://www.m-i.kr/news/articleView.html?idxno=...   \n",
      "1   http://www.m-i.kr/news/articleView.html?idxno=...   \n",
      "2   https://biz.newdaily.co.kr/site/data/html/2024...   \n",
      "3   https://www.newsis.com/view/?id=NISX20240426_0...   \n",
      "4   http://weekly.chosun.com/news/articleView.html...   \n",
      "5   http://www.kyeongin.com/main/view.php?key=2024...   \n",
      "6           https://www.mediapen.com/news/view/912145   \n",
      "7   https://www.newsquest.co.kr/news/articleView.h...   \n",
      "8   https://biz.chosun.com/topics/topics_social/20...   \n",
      "9   http://tbs.seoul.kr/news/newsView.do?typ_800=7...   \n",
      "10  https://www.khan.co.kr/national/national-gener...   \n",
      "11  https://www.donga.com/news/Culture/article/all...   \n",
      "12  https://www.newsis.com/view/?id=NISX20240319_0...   \n",
      "13  https://www.dailian.co.kr/news/view/1337742/?s...   \n",
      "14  http://www.labortoday.co.kr/news/articleView.h...   \n",
      "15  https://news.kbs.co.kr/news/pc/view/view.do?nc...   \n",
      "16  https://www.obsnews.co.kr/news/articleView.htm...   \n",
      "17  https://imnews.imbc.com/replay/2024/nwdesk/art...   \n",
      "18  http://news.mt.co.kr/mtview.php?no=20240222163...   \n",
      "19        https://www.sedaily.com/NewsView/2D5GKPHTS3   \n",
      "20              https://www.mk.co.kr/article/11013698   \n",
      "21              https://www.mk.co.kr/article/11013565   \n",
      "22  http://www.dailyimpact.co.kr/news/articleView....   \n",
      "23  https://www.dt.co.kr/contents.html?article_no=...   \n",
      "24  https://www.obsnews.co.kr/news/articleView.htm...   \n",
      "25  https://www.korea.kr/news/reporterView.do?news...   \n",
      "26  http://www.sisajournal.com/news/articleView.ht...   \n",
      "27  http://www.hansbiz.co.kr/news/articleView.html...   \n",
      "28  https://www.asiatime.co.kr/article/20240502500403   \n",
      "29  https://www.incheonilbo.com/news/articleView.h...   \n",
      "\n",
      "                                                title     authors  \\\n",
      "0                      [기획] “먹거리에 공공요금까지”… 물가 도미노 현실화          []   \n",
      "1          [기획] “물가 자극하는 대내외 악재 산적”…공공요금 하반기 줄인상 가능성↑          []   \n",
      "2               김밥부터 치킨·피자에 공공요금 인상까지… 가정의 달 물가 융단 폭격          []   \n",
      "3                 가스·지하철 등 공공요금 도미노 인상 예고[끝모를 물가 충격②]          []   \n",
      "4                                   사모펀드에 포획된 버스 준공영제          []   \n",
      "5   김교흥 '제2 경의선숲길', 이용우 '서울 통근 교통혁명', 모경종 '5호선 연장 ...          []   \n",
      "6                       1호선 의왕~당정역 구간서 사망사고…상행선 운행 차질          []   \n",
      "7             '총선이 끝나고 난 뒤~' 에너지요금 '꿈틀'...대중교통·의료대란은?          []   \n",
      "8               ‘파업하면 올스톱’ 법 구멍에 서울 버스기사 월급 500만원 넘었다          []   \n",
      "9                 서울 시내버스 파업에 출퇴근대란 없도록…'필수공익사업' 지정될까  ['최가영 기자']   \n",
      "10          장애인 시위 ‘지하철 탑승→승강장 눕기’로 바꿨지만···경찰 대응은 그대로          []   \n",
      "11                                 경의중앙선을 위한 변명[소소칼럼]          []   \n",
      "12                   또 멈춘 수도권지하철…\"운행차량 칸 절반이상 20년 넘어\"          []   \n",
      "13      서울지하철 정시도착률 살펴보니…5·6·7호선 '100점' [데일리안이 간다 36]          []   \n",
      "14     [김영삼 정권시대의 노동운동 ②] 유례 없는 총파업, 막지 못한 신자유주의 노동체제          []   \n",
      "15                                             KBS 뉴스          []   \n",
      "16                             폭설에 서울지하철 운행 차질…사고 잇따라          []   \n",
      "17             서울에 내린 10cm 넘는 폭설‥출근길 혼잡·지하철 지연운행도 잇따라          []   \n",
      "18                 폭설로 지하철 지연…\"일찍 나왔는데 면접 지각\" 누리꾼 하소연          []   \n",
      "19            [기습폭설에 사고 속출] '습설'에 건물 붕괴…미끄러진 차에 목숨 잃어          []   \n",
      "20                           GTX·5호선 연장 호재 … 김포 집값 쑥쑥          []   \n",
      "21                GTX·5호선 연장 호재…‘이 지역’ 집값 슬금슬금 계속 오르네          []   \n",
      "22           예상 뛰어넘는 K-패스 인기에...카드업계 '미소' < 금융 < 기사본문          []   \n",
      "23                  귀해지는 수도권 아파트 물량 속 승승장구하는 정비사업 아파트          []   \n",
      "24                        5호선 연장안 이달 확정되나? 대광위 중재력 관건          []   \n",
      "25                                 대중교통, 난 K-패스로 통한다!          []   \n",
      "26                   “분양가 내릴 기미 안 보여”…무순위·입주권 찾는 수요자들          []   \n",
      "27  “하남시-강동구 9호선 연장하라!”...경기도에 일반열차 연장 운행 및 조속개통 공...          []   \n",
      "28            [증권소식] 작년 증권사 해외법인 순익 1814억원…전년비 11% 증가          []   \n",
      "29                               9호선 일반열차 연장·조속 개통 촉구          []   \n",
      "\n",
      "                 publish_date  \\\n",
      "0   2024-05-02 12:00:00+09:00   \n",
      "1   2024-05-02 14:39:44+09:00   \n",
      "2         2024-04-28 00:00:00   \n",
      "3   2024-04-29 15:09:44+09:00   \n",
      "4   2024-04-26 15:00:00+09:00   \n",
      "5         2024-04-25 00:00:00   \n",
      "6         2024-04-15 00:00:00   \n",
      "7   2024-04-14 00:43:20+09:00   \n",
      "8         2024-04-13 00:00:00   \n",
      "9         2024-04-12 10:26:00   \n",
      "10  2024-04-23 16:42:00+09:00   \n",
      "11        2024-04-23 12:00:00   \n",
      "12  2024-03-20 11:29:41+09:00   \n",
      "13  2024-03-12 05:07:00+09:00   \n",
      "14  2024-03-08 07:30:04+09:00   \n",
      "15        2024-02-22 00:00:00   \n",
      "16  2024-02-22 20:16:00+09:00   \n",
      "17  2024-02-22 19:57:06+09:00   \n",
      "18  2024-02-22 17:22:29+09:00   \n",
      "19  2024-02-22 16:10:00+09:00   \n",
      "20  2024-05-12 17:32:13+09:00   \n",
      "21  2024-05-12 14:56:53+09:00   \n",
      "22  2024-05-10 17:02:08+09:00   \n",
      "23        2024-05-10 00:00:00   \n",
      "24  2024-05-09 20:12:39+09:00   \n",
      "25  2024-05-08 14:50:00+00:00   \n",
      "26  2024-05-07 12:00:00+09:00   \n",
      "27  2024-05-03 16:10:00+09:00   \n",
      "28        2024-05-02 00:00:00   \n",
      "29  2024-05-02 19:44:00+09:00   \n",
      "\n",
      "                                                 text category  \n",
      "0   누르던 먹거리 물가 터졌다… 외식업계 가격 줄인상\\n\\n정부 공공요금 동결…가스공사...       파업  \n",
      "1   물가 ‘복병’ 공공요금…도시가스·전기료 동결\\n\\n누적 적자 한계로 하반기 인상 가...       파업  \n",
      "2   ▲ 대형마트 전경. ⓒ뉴데일리DB\\n\\n김밥·치킨·커피 등 외식품목 가격과 가스·지...       파업  \n",
      "3   [서울=뉴시스] 지난달 소비자물가 상승률이 3.1%를 기록하며 2개월 연속 3%대를...       파업  \n",
      "4   서울 시내버스가 12년 만에 총파업에 돌입한 지난 3월 28일 서울 소재 시내버스 ...       파업  \n",
      "5   [공약으로 보는 22대 국회·(4·끝)] 인천 서구갑·을·병\\n\\n\\n\\n\\n\\n김...       파업  \n",
      "6   전동열차 선로 통행 불가…화서·당정역 무정차 통과\\n\\n[미디어펜=김준희 기자]수도...       파업  \n",
      "7   총선 뒤 공공요금은 물론 장바구니 물가도 심상찮은 움직임을 나타내고 있다. [사진=...       파업  \n",
      "8   손덕호 기자\\n입력 2024.04.13. 06:00\\n서울 시내버스 노조가 총파업을...       파업  \n",
      "9   [서울의 한 차고지에 주차된 시내버스<사진=연합뉴스>]\\n\\n【 앵커멘트 】\\n\\n...       파업  \n",
      "10  전국장애인차별철폐연대(전장연)가 오는 5월 개원하는 22대 국회에 장애인 권리 관련...       연착  \n",
      "11  ‘달구지’ ‘대중고통’ 악평 듣는 경의중앙선\\n\\n악명 높지만 규정 지켜야 하는 한...       연착  \n",
      "12  [과천=뉴시스] 김금보 기자 = 최근 서울 지하철 1호선·3호선 등에서의 열차 고장...       연착  \n",
      "13  1·3·4호선 출근시간 지나도 제 시간에 오는 열차 거의 없어…열차시간표 무용지물 ...       연착  \n",
      "14  ▲ 유혜경 노동법 박사 (laborkyung@hanmail.net)\\n\\n1994년...       연착  \n",
      "15  동영상 고정 취소\\n\\n[앵커]\\n\\n\\n\\n서울에선 지하철 운행이 곳곳에서 지연되...       연착  \n",
      "16  【앵커】\\n\\n오늘 출근길 많이 힘드셨죠.\\n\\n밤새 수도권엔 많은 눈이 내리면서 ...       연착  \n",
      "17  전체재생\\n\\n◀ 앵커 ▶밤사이 서울을 비롯한 수도권에 10cm 넘는 눈이 내리면서...       연착  \n",
      "18  밤사이 내린 눈으로 인한 기지 출고 장애로 서울 지하철 5호선 전 구간 열차 운행이...       연착  \n",
      "19  viewer 서울 지역에 폭설이 내리면서 출근 시간대 지하철 5호선 열차 운행이 전...       연착  \n",
      "20  '메가서울' 논란 상관없이\\n\\n중대형 중심 7억원대 거래\\n\\n호가 올리는 집주인...       지연  \n",
      "21  ‘서울 편입’ 이슈 있던 김포\\n\\n중대형 중심 7억원대 거래\\n\\n호가 올리는 집...       지연  \n",
      "22  사진=K-패스 홈페이지 캡처\\n\\n[데일리임팩트 심민현 기자] 대중교통비를 일부 되...       지연  \n",
      "23  올해 아파트 1순위 청약경쟁률 TOP 3, 인프라·미래가치 남다른 정비사업 단지가 ...       지연  \n",
      "24  【앵커】\\n\\n서울 지하철 5호선 연장 최종안이 예정대로라면 이번 달 확정됩니다.\\...       지연  \n",
      "25  여행\\n\\n청정하고도 청량한 비밀의 화원, 양구수목원 청정하고도 청량한 비밀의 화원...       지연  \n",
      "26  글씨키우기 글씨줄이기 프린트 top\\n\\nfacebook twitter kakao ...       지연  \n",
      "27  내용요약 9호선 현안 해결을 위한‘강동·하남 공동대응 협력 T/F 추진단’구성\\n\\...       지연  \n",
      "28  advertisement\\n\\n[아시아타임즈=김지호 기자] ◆ 작년 증권사 해외 현...       지연  \n",
      "29  하남시·강동구 TF 공동대응\\n\\n현안 해결 두 지자체 목소리\\n\\n“급행만 운행땐...       지연  \n"
     ]
    }
   ],
   "source": [
    "import pandas as pd\n",
    "# CSV 파일 불러오기\n",
    "df = pd.read_csv('knowledge_generation_data.csv')\n",
    "# 데이터 확인\n",
    "print(df)"
   ]
  },
  {
   "cell_type": "code",
   "execution_count": 24,
   "id": "6017466e-4619-4e91-b534-07d4afc19a06",
   "metadata": {},
   "outputs": [
    {
     "name": "stdout",
     "output_type": "stream",
     "text": [
      "Requirement already satisfied: scikit-learn in /opt/conda/lib/python3.11/site-packages (1.4.2)\n",
      "Requirement already satisfied: numpy>=1.19.5 in /opt/conda/lib/python3.11/site-packages (from scikit-learn) (1.26.4)\n",
      "Requirement already satisfied: scipy>=1.6.0 in /opt/conda/lib/python3.11/site-packages (from scikit-learn) (1.13.0)\n",
      "Requirement already satisfied: joblib>=1.2.0 in /opt/conda/lib/python3.11/site-packages (from scikit-learn) (1.3.2)\n",
      "Requirement already satisfied: threadpoolctl>=2.0.0 in /opt/conda/lib/python3.11/site-packages (from scikit-learn) (3.5.0)\n",
      "\u001b[33mWARNING: Running pip as the 'root' user can result in broken permissions and conflicting behaviour with the system package manager. It is recommended to use a virtual environment instead: https://pip.pypa.io/warnings/venv\u001b[0m\u001b[33m\n",
      "\u001b[0m"
     ]
    }
   ],
   "source": [
    "!pip install scikit-learn"
   ]
  },
  {
   "cell_type": "code",
   "execution_count": 25,
   "id": "d5e30c51-39bc-42ac-bff6-3d6012b1195d",
   "metadata": {},
   "outputs": [
    {
     "name": "stdout",
     "output_type": "stream",
     "text": [
      "Requirement already satisfied: konlpy in /opt/conda/lib/python3.11/site-packages (0.6.0)\n",
      "Requirement already satisfied: JPype1>=0.7.0 in /opt/conda/lib/python3.11/site-packages (from konlpy) (1.5.0)\n",
      "Requirement already satisfied: lxml>=4.1.0 in /opt/conda/lib/python3.11/site-packages (from konlpy) (5.2.1)\n",
      "Requirement already satisfied: numpy>=1.6 in /opt/conda/lib/python3.11/site-packages (from konlpy) (1.26.4)\n",
      "Requirement already satisfied: packaging in /opt/conda/lib/python3.11/site-packages (from JPype1>=0.7.0->konlpy) (23.2)\n",
      "\u001b[33mWARNING: Running pip as the 'root' user can result in broken permissions and conflicting behaviour with the system package manager. It is recommended to use a virtual environment instead: https://pip.pypa.io/warnings/venv\u001b[0m\u001b[33m\n",
      "\u001b[0m"
     ]
    }
   ],
   "source": [
    "!pip install konlpy"
   ]
  },
  {
   "cell_type": "markdown",
   "id": "db4655a5-5798-4250-911b-3cd1bee09ee5",
   "metadata": {},
   "source": [
    "# 1.동일 주제 기사 분류"
   ]
  },
  {
   "cell_type": "markdown",
   "id": "dbda2e38-7e19-4d72-a3af-9a04a6faa2af",
   "metadata": {},
   "source": [
    "### 1) 데이터 전처리"
   ]
  },
  {
   "cell_type": "code",
   "execution_count": 26,
   "id": "783e4b7f-67f7-47fa-86fa-5a92f20d7bf4",
   "metadata": {},
   "outputs": [],
   "source": [
    "from konlpy.tag import Okt\n",
    "# Okt 객체 생성\n",
    "okt = Okt()\n",
    "\n",
    "def preprocess_korean_text(text):\n",
    "    # 정규 표현식을 통한 한글 외 문자 제거 및 형태소 분석\n",
    "    tokens = okt.morphs(text, stem=True)  # stem=True로 설정하여 어간을 추출\n",
    "\n",
    "    # 한국어 불용어 리스트 (예시, 실제로는 더 많은 불용어 포함 가능)\n",
    "    stop_words = ['에', '는', '을', '를', '이', '가', '도', '다', '의', '한', '에게', '으로', '와', '과', '고', '임', '게','.','하다','있다',\"'\",',','되다','로','은','것','등','에서','이다']\n",
    "    \n",
    "    # 불용어 제거\n",
    "    tokens = [word for word in tokens if word not in stop_words]\n",
    "    \n",
    "    return ' '.join(tokens)\n",
    "\n",
    "# 텍스트 전처리\n",
    "df['text_processed'] = df['text'].apply(preprocess_korean_text)\n"
   ]
  },
  {
   "cell_type": "markdown",
   "id": "28489984-8e22-4661-a37c-6bbc89b8b94b",
   "metadata": {},
   "source": [
    "### 2) TF-IDF 벡터화 및 거리 계산:"
   ]
  },
  {
   "cell_type": "code",
   "execution_count": 27,
   "id": "3aab3b8f-6838-4de8-a372-c01109abc518",
   "metadata": {},
   "outputs": [],
   "source": [
    "from sklearn.feature_extraction.text import TfidfVectorizer  \n",
    "from sklearn.metrics.pairwise import cosine_distances\n",
    "\n",
    "# TF-IDF 벡터화\n",
    "vectorizer = TfidfVectorizer(min_df=0.01, max_df=0.8, token_pattern=r'\\b\\w+\\b')\n",
    "tfidf_matrix = vectorizer.fit_transform(df['text_processed'])\n",
    "\n",
    "# 유사도가 아닌 거리 계산\n",
    "distance_matrix = cosine_distances(tfidf_matrix)\n"
   ]
  },
  {
   "cell_type": "code",
   "execution_count": 28,
   "id": "d802066d-6c13-4f7b-b559-7eb5751d05e2",
   "metadata": {},
   "outputs": [
    {
     "name": "stdout",
     "output_type": "stream",
     "text": [
      "Requirement already satisfied: matplotlib in /opt/conda/lib/python3.11/site-packages (3.8.4)\n",
      "Requirement already satisfied: contourpy>=1.0.1 in /opt/conda/lib/python3.11/site-packages (from matplotlib) (1.2.1)\n",
      "Requirement already satisfied: cycler>=0.10 in /opt/conda/lib/python3.11/site-packages (from matplotlib) (0.12.1)\n",
      "Requirement already satisfied: fonttools>=4.22.0 in /opt/conda/lib/python3.11/site-packages (from matplotlib) (4.51.0)\n",
      "Requirement already satisfied: kiwisolver>=1.3.1 in /opt/conda/lib/python3.11/site-packages (from matplotlib) (1.4.5)\n",
      "Requirement already satisfied: numpy>=1.21 in /opt/conda/lib/python3.11/site-packages (from matplotlib) (1.26.4)\n",
      "Requirement already satisfied: packaging>=20.0 in /opt/conda/lib/python3.11/site-packages (from matplotlib) (23.2)\n",
      "Requirement already satisfied: pillow>=8 in /opt/conda/lib/python3.11/site-packages (from matplotlib) (10.3.0)\n",
      "Requirement already satisfied: pyparsing>=2.3.1 in /opt/conda/lib/python3.11/site-packages (from matplotlib) (3.1.2)\n",
      "Requirement already satisfied: python-dateutil>=2.7 in /opt/conda/lib/python3.11/site-packages (from matplotlib) (2.8.2)\n",
      "Requirement already satisfied: six>=1.5 in /opt/conda/lib/python3.11/site-packages (from python-dateutil>=2.7->matplotlib) (1.16.0)\n",
      "\u001b[33mWARNING: Running pip as the 'root' user can result in broken permissions and conflicting behaviour with the system package manager. It is recommended to use a virtual environment instead: https://pip.pypa.io/warnings/venv\u001b[0m\u001b[33m\n",
      "\u001b[0m"
     ]
    }
   ],
   "source": [
    "!pip install matplotlib"
   ]
  },
  {
   "cell_type": "markdown",
   "id": "88cb0da9-5acd-49b6-b229-2113805d694d",
   "metadata": {},
   "source": [
    "### 3) 계층적 클러스터링"
   ]
  },
  {
   "cell_type": "code",
   "execution_count": 29,
   "id": "d824b954-94aa-4eeb-91ca-d2e16fedece2",
   "metadata": {},
   "outputs": [
    {
     "name": "stderr",
     "output_type": "stream",
     "text": [
      "/opt/conda/lib/python3.11/site-packages/scipy/cluster/hierarchy.py:796: ClusterWarning: The symmetric non-negative hollow observation matrix looks suspiciously like an uncondensed distance matrix\n",
      "  return linkage(y, method='ward', metric='euclidean')\n"
     ]
    }
   ],
   "source": [
    "from scipy.cluster.hierarchy import ward\n",
    "# 계층적 클러스터링\n",
    "linkage_matrix = ward(distance_matrix)"
   ]
  },
  {
   "cell_type": "markdown",
   "id": "3ed910bc-5a42-4eb8-8dd6-79bfdcc8f989",
   "metadata": {},
   "source": [
    "### 4) 덴드로그램 그리기"
   ]
  },
  {
   "cell_type": "code",
   "execution_count": 30,
   "id": "f729c5a8-293d-4d84-8805-ec1ea1743d99",
   "metadata": {},
   "outputs": [
    {
     "data": {
      "image/png": "[encoded data removed]",
      "text/plain": [
       "<Figure size 1500x1000 with 1 Axes>"
      ]
     },
     "metadata": {},
     "output_type": "display_data"
    }
   ],
   "source": [
    "import matplotlib.pyplot as plt\n",
    "from scipy.cluster.hierarchy import dendrogram\n",
    "\n",
    "# 덴드로그램 그리기\n",
    "plt.rcParams['font.family'] = ''\n",
    "fig, ax = plt.subplots(figsize=(15, 10))  # 그래프 크기 조정\n",
    "\n",
    "# 문서 제목 대신 문서의 인덱스 사용\n",
    "index_labels = [f'Index {i}' for i in range(len(df))]\n",
    "\n",
    "dendrogram(linkage_matrix, ax=ax, labels=index_labels, leaf_rotation=90, leaf_font_size=10)\n",
    "plt.title('Hierarchical Clustering Dendrogram', fontsize=14)\n",
    "plt.xlabel('Document Index', fontsize=12)\n",
    "plt.ylabel('Distance', fontsize=12)\n",
    "plt.show()\n"
   ]
  },
  {
   "cell_type": "markdown",
   "id": "491b8f64-1867-4f51-8d17-9462452e633d",
   "metadata": {},
   "source": [
    "### 5) 클러스터링 결과 출력 함수 및 관련 함수"
   ]
  },
  {
   "cell_type": "code",
   "execution_count": 31,
   "id": "a2538894-c1d4-4922-ad14-63bd29dbf687",
   "metadata": {},
   "outputs": [],
   "source": [
    "# 클러스터링 결과 출력 함수\n",
    "def print_cluster_results(clusters):\n",
    "    for key, indices in clusters.items():\n",
    "        print(f\"Cluster {key} includes the following articles:\")\n",
    "        for idx in indices:\n",
    "            if idx >= 0 and idx < len(df):  # 인덱스가 데이터프레임의 범위 내에 있는지 확인\n",
    "                print(f\"- {df.iloc[idx]['title']} ({df.iloc[idx]['url']})\")\n",
    "            else:\n",
    "                print(f\"- Index {idx} is out of range\")\n",
    "        if indices:  # 클러스터 내에 인덱스가 있는 경우에만 가장 일반적인 단어 출력\n",
    "            common_words = most_common_words(indices)\n",
    "            print(\"Most common words:\", common_words)\n",
    "        print(\"\\n---\\n\")\n",
    "\n",
    "\n",
    "\n",
    "# 클러스터 내 가장 일반적인 단어 찾기 함수\n",
    "def most_common_words(cluster_indices):\n",
    "    words = []\n",
    "    for idx in cluster_indices:\n",
    "        words.extend(df.iloc[idx]['text_processed'].split())\n",
    "    return Counter(words).most_common(5)\n"
   ]
  },
  {
   "cell_type": "markdown",
   "id": "fac027e2-4b5e-4108-a6f7-3a75bff00731",
   "metadata": {},
   "source": [
    "### 6) 클러스터링"
   ]
  },
  {
   "cell_type": "code",
   "execution_count": 32,
   "id": "ba206f16-a9c0-420a-b037-7462886b0624",
   "metadata": {},
   "outputs": [
    {
     "name": "stdout",
     "output_type": "stream",
     "text": [
      "Cluster 30 includes the following articles:\n",
      "- GTX·5호선 연장 호재 … 김포 집값 쑥쑥 (https://www.mk.co.kr/article/11013698)\n",
      "- GTX·5호선 연장 호재…‘이 지역’ 집값 슬금슬금 계속 오르네 (https://www.mk.co.kr/article/11013565)\n",
      "Most common words: [('김포', 29), ('서울', 20), ('거래', 20), ('호선', 18), ('김포시', 16)]\n",
      "\n",
      "---\n",
      "\n",
      "Cluster 31 includes the following articles:\n",
      "- “하남시-강동구 9호선 연장하라!”...경기도에 일반열차 연장 운행 및 조속개통 공동 건의문 제출 (http://www.hansbiz.co.kr/news/articleView.html?idxno=692267)\n",
      "- 9호선 일반열차 연장·조속 개통 촉구 (https://www.incheonilbo.com/news/articleView.html?idxno=1247725)\n",
      "Most common words: [('하남', 23), ('하남시', 19), ('강동', 18), ('강동구', 15), ('남양', 14)]\n",
      "\n",
      "---\n",
      "\n",
      "Cluster 32 includes the following articles:\n",
      "- [기획] “먹거리에 공공요금까지”… 물가 도미노 현실화 (http://www.m-i.kr/news/articleView.html?idxno=1116839)\n",
      "- 김밥부터 치킨·피자에 공공요금 인상까지… 가정의 달 물가 융단 폭격 (https://biz.newdaily.co.kr/site/data/html/2024/04/28/2024042800007.html)\n",
      "Most common words: [('가격', 52), ('인상', 40), ('물가', 19), ('요금', 17), ('외식', 12)]\n",
      "\n",
      "---\n",
      "\n",
      "Cluster 33 includes the following articles:\n",
      "- [기획] “물가 자극하는 대내외 악재 산적”…공공요금 하반기 줄인상 가능성↑ (http://www.m-i.kr/news/articleView.html?idxno=1116735)\n",
      "- '총선이 끝나고 난 뒤~' 에너지요금 '꿈틀'...대중교통·의료대란은? (https://www.newsquest.co.kr/news/articleView.html?idxno=221587)\n",
      "Most common words: [('인상', 36), ('요금', 35), ('정부', 17), ('공공', 11), ('도시가스', 10)]\n",
      "\n",
      "---\n",
      "\n",
      "Cluster 34 includes the following articles:\n",
      "- ‘파업하면 올스톱’ 법 구멍에 서울 버스기사 월급 500만원 넘었다 (https://biz.chosun.com/topics/topics_social/2024/04/13/DZT6DUDAYRGUJMQB7YZ7HKNF74/?utm_source=naver&utm_medium=original&utm_campaign=biz)\n",
      "- 서울 시내버스 파업에 출퇴근대란 없도록…'필수공익사업' 지정될까 (http://tbs.seoul.kr/news/newsView.do?typ_800=7&idx_800=3519652&seq_800=20512432)\n",
      "Most common words: [('시내버스', 24), ('파업', 19), ('노조', 18), ('서울', 16), ('버스', 14)]\n",
      "\n",
      "---\n",
      "\n",
      "Cluster 35 includes the following articles:\n",
      "- 폭설에 서울지하철 운행 차질…사고 잇따라 (https://www.obsnews.co.kr/news/articleView.html?idxno=1432161)\n",
      "- [기습폭설에 사고 속출] '습설'에 건물 붕괴…미끄러진 차에 목숨 잃어 (https://www.sedaily.com/NewsView/2D5GKPHTS3)\n",
      "Most common words: [('눈', 14), ('호선', 13), ('서울', 11), ('지하철', 9), ('미끄러지다', 9)]\n",
      "\n",
      "---\n",
      "\n",
      "Cluster 36 includes the following articles:\n",
      "- 서울에 내린 10cm 넘는 폭설‥출근길 혼잡·지하철 지연운행도 잇따라 (https://imnews.imbc.com/replay/2024/nwdesk/article/6573683_36515.html)\n",
      "- Index 35 is out of range\n"
     ]
    },
    {
     "ename": "IndexError",
     "evalue": "single positional indexer is out-of-bounds",
     "output_type": "error",
     "traceback": [
      "\u001b[0;31m---------------------------------------------------------------------------\u001b[0m",
      "\u001b[0;31mIndexError\u001b[0m                                Traceback (most recent call last)",
      "Cell \u001b[0;32mIn[32], line 24\u001b[0m\n\u001b[1;32m     21\u001b[0m         \u001b[38;5;28mprint\u001b[39m(\u001b[38;5;124m\"\u001b[39m\u001b[38;5;130;01m\\n\u001b[39;00m\u001b[38;5;124m---\u001b[39m\u001b[38;5;130;01m\\n\u001b[39;00m\u001b[38;5;124m\"\u001b[39m)\n\u001b[1;32m     23\u001b[0m \u001b[38;5;66;03m# 클러스터링 결과 출력\u001b[39;00m\n\u001b[0;32m---> 24\u001b[0m \u001b[43mprint_cluster_results\u001b[49m\u001b[43m(\u001b[49m\u001b[43mclusters\u001b[49m\u001b[43m)\u001b[49m\n",
      "Cell \u001b[0;32mIn[32], line 19\u001b[0m, in \u001b[0;36mprint_cluster_results\u001b[0;34m(clusters)\u001b[0m\n\u001b[1;32m     17\u001b[0m         \u001b[38;5;28mprint\u001b[39m(\u001b[38;5;124mf\u001b[39m\u001b[38;5;124m\"\u001b[39m\u001b[38;5;124m- Index \u001b[39m\u001b[38;5;132;01m{\u001b[39;00midx\u001b[38;5;132;01m}\u001b[39;00m\u001b[38;5;124m is out of range\u001b[39m\u001b[38;5;124m\"\u001b[39m)\n\u001b[1;32m     18\u001b[0m \u001b[38;5;28;01mif\u001b[39;00m indices:  \u001b[38;5;66;03m# 클러스터 내에 인덱스가 있는 경우에만 가장 일반적인 단어 출력\u001b[39;00m\n\u001b[0;32m---> 19\u001b[0m     common_words \u001b[38;5;241m=\u001b[39m \u001b[43mmost_common_words\u001b[49m\u001b[43m(\u001b[49m\u001b[43mindices\u001b[49m\u001b[43m)\u001b[49m\n\u001b[1;32m     20\u001b[0m     \u001b[38;5;28mprint\u001b[39m(\u001b[38;5;124m\"\u001b[39m\u001b[38;5;124mMost common words:\u001b[39m\u001b[38;5;124m\"\u001b[39m, common_words)\n\u001b[1;32m     21\u001b[0m \u001b[38;5;28mprint\u001b[39m(\u001b[38;5;124m\"\u001b[39m\u001b[38;5;130;01m\\n\u001b[39;00m\u001b[38;5;124m---\u001b[39m\u001b[38;5;130;01m\\n\u001b[39;00m\u001b[38;5;124m\"\u001b[39m)\n",
      "Cell \u001b[0;32mIn[31], line 21\u001b[0m, in \u001b[0;36mmost_common_words\u001b[0;34m(cluster_indices)\u001b[0m\n\u001b[1;32m     19\u001b[0m words \u001b[38;5;241m=\u001b[39m []\n\u001b[1;32m     20\u001b[0m \u001b[38;5;28;01mfor\u001b[39;00m idx \u001b[38;5;129;01min\u001b[39;00m cluster_indices:\n\u001b[0;32m---> 21\u001b[0m     words\u001b[38;5;241m.\u001b[39mextend(\u001b[43mdf\u001b[49m\u001b[38;5;241;43m.\u001b[39;49m\u001b[43miloc\u001b[49m\u001b[43m[\u001b[49m\u001b[43midx\u001b[49m\u001b[43m]\u001b[49m[\u001b[38;5;124m'\u001b[39m\u001b[38;5;124mtext_processed\u001b[39m\u001b[38;5;124m'\u001b[39m]\u001b[38;5;241m.\u001b[39msplit())\n\u001b[1;32m     22\u001b[0m \u001b[38;5;28;01mreturn\u001b[39;00m Counter(words)\u001b[38;5;241m.\u001b[39mmost_common(\u001b[38;5;241m5\u001b[39m)\n",
      "File \u001b[0;32m/opt/conda/lib/python3.11/site-packages/pandas/core/indexing.py:1191\u001b[0m, in \u001b[0;36m_LocationIndexer.__getitem__\u001b[0;34m(self, key)\u001b[0m\n\u001b[1;32m   1189\u001b[0m maybe_callable \u001b[38;5;241m=\u001b[39m com\u001b[38;5;241m.\u001b[39mapply_if_callable(key, \u001b[38;5;28mself\u001b[39m\u001b[38;5;241m.\u001b[39mobj)\n\u001b[1;32m   1190\u001b[0m maybe_callable \u001b[38;5;241m=\u001b[39m \u001b[38;5;28mself\u001b[39m\u001b[38;5;241m.\u001b[39m_check_deprecated_callable_usage(key, maybe_callable)\n\u001b[0;32m-> 1191\u001b[0m \u001b[38;5;28;01mreturn\u001b[39;00m \u001b[38;5;28;43mself\u001b[39;49m\u001b[38;5;241;43m.\u001b[39;49m\u001b[43m_getitem_axis\u001b[49m\u001b[43m(\u001b[49m\u001b[43mmaybe_callable\u001b[49m\u001b[43m,\u001b[49m\u001b[43m \u001b[49m\u001b[43maxis\u001b[49m\u001b[38;5;241;43m=\u001b[39;49m\u001b[43maxis\u001b[49m\u001b[43m)\u001b[49m\n",
      "File \u001b[0;32m/opt/conda/lib/python3.11/site-packages/pandas/core/indexing.py:1752\u001b[0m, in \u001b[0;36m_iLocIndexer._getitem_axis\u001b[0;34m(self, key, axis)\u001b[0m\n\u001b[1;32m   1749\u001b[0m     \u001b[38;5;28;01mraise\u001b[39;00m \u001b[38;5;167;01mTypeError\u001b[39;00m(\u001b[38;5;124m\"\u001b[39m\u001b[38;5;124mCannot index by location index with a non-integer key\u001b[39m\u001b[38;5;124m\"\u001b[39m)\n\u001b[1;32m   1751\u001b[0m \u001b[38;5;66;03m# validate the location\u001b[39;00m\n\u001b[0;32m-> 1752\u001b[0m \u001b[38;5;28;43mself\u001b[39;49m\u001b[38;5;241;43m.\u001b[39;49m\u001b[43m_validate_integer\u001b[49m\u001b[43m(\u001b[49m\u001b[43mkey\u001b[49m\u001b[43m,\u001b[49m\u001b[43m \u001b[49m\u001b[43maxis\u001b[49m\u001b[43m)\u001b[49m\n\u001b[1;32m   1754\u001b[0m \u001b[38;5;28;01mreturn\u001b[39;00m \u001b[38;5;28mself\u001b[39m\u001b[38;5;241m.\u001b[39mobj\u001b[38;5;241m.\u001b[39m_ixs(key, axis\u001b[38;5;241m=\u001b[39maxis)\n",
      "File \u001b[0;32m/opt/conda/lib/python3.11/site-packages/pandas/core/indexing.py:1685\u001b[0m, in \u001b[0;36m_iLocIndexer._validate_integer\u001b[0;34m(self, key, axis)\u001b[0m\n\u001b[1;32m   1683\u001b[0m len_axis \u001b[38;5;241m=\u001b[39m \u001b[38;5;28mlen\u001b[39m(\u001b[38;5;28mself\u001b[39m\u001b[38;5;241m.\u001b[39mobj\u001b[38;5;241m.\u001b[39m_get_axis(axis))\n\u001b[1;32m   1684\u001b[0m \u001b[38;5;28;01mif\u001b[39;00m key \u001b[38;5;241m>\u001b[39m\u001b[38;5;241m=\u001b[39m len_axis \u001b[38;5;129;01mor\u001b[39;00m key \u001b[38;5;241m<\u001b[39m \u001b[38;5;241m-\u001b[39mlen_axis:\n\u001b[0;32m-> 1685\u001b[0m     \u001b[38;5;28;01mraise\u001b[39;00m \u001b[38;5;167;01mIndexError\u001b[39;00m(\u001b[38;5;124m\"\u001b[39m\u001b[38;5;124msingle positional indexer is out-of-bounds\u001b[39m\u001b[38;5;124m\"\u001b[39m)\n",
      "\u001b[0;31mIndexError\u001b[0m: single positional indexer is out-of-bounds"
     ]
    }
   ],
   "source": [
    "import pandas as pd\n",
    "from collections import Counter\n",
    "\n",
    "# 클러스터링\n",
    "clusters = {}\n",
    "for i, label in enumerate(linkage_matrix[:, :2], len(df)):\n",
    "    clusters[i] = [int(label[0]), int(label[1])]\n",
    "\n",
    "# 클러스터링 결과 출력 함수\n",
    "def print_cluster_results(clusters):\n",
    "    for key, indices in clusters.items():\n",
    "        print(f\"Cluster {key} includes the following articles:\")\n",
    "        for idx in indices:\n",
    "            if idx >= 0 and idx < len(df):  # 인덱스가 데이터프레임의 범위 내에 있는지 확인\n",
    "                print(f\"- {df.iloc[idx]['title']} ({df.iloc[idx]['url']})\")\n",
    "            else:\n",
    "                print(f\"- Index {idx} is out of range\")\n",
    "        if indices:  # 클러스터 내에 인덱스가 있는 경우에만 가장 일반적인 단어 출력\n",
    "            common_words = most_common_words(indices)\n",
    "            print(\"Most common words:\", common_words)\n",
    "        print(\"\\n---\\n\")\n",
    "\n",
    "# 클러스터링 결과 출력\n",
    "print_cluster_results(clusters)\n"
   ]
  },
  {
   "cell_type": "code",
   "execution_count": null,
   "id": "55fbb9ad-a6d4-4344-b409-091636b71387",
   "metadata": {},
   "outputs": [],
   "source": []
  },
  {
   "cell_type": "code",
   "execution_count": null,
   "id": "1568b133-a2da-4b95-8788-05f9b3c4c777",
   "metadata": {},
   "outputs": [],
   "source": []
  },
  {
   "cell_type": "markdown",
   "id": "10b494a5-66b9-42e7-a320-eb019b17005a",
   "metadata": {},
   "source": [
    "## 1) 동일 기사 분류"
   ]
  },
  {
   "cell_type": "markdown",
   "id": "a4ceb208-6638-4a86-93db-53c4fc0d9474",
   "metadata": {},
   "source": [
    "### 1) 시간 관련 지시어\n",
    "1. 절대 시간 지시어\n",
    "- 특정 날짜나 시간: 예를 들어, \"2023년 1월 1일\", \"오전 9시\"\n",
    "- 기념일이나 특정 기간: \"크리스마스\", \"한가위\"\n",
    "2. 상대 시간 지시어\n",
    "- 현재를 기준으로 한 시간: \"오늘\", \"내일\", \"어제\", \"지금\", \"방금\"\n",
    "- 주간 단위: \"이번 주\", \"다음 주\", \"지난 주\"\n",
    "- 월간 단위: \"이번 달\", \"다음 달\", \"지난 달\"\n",
    "- 연간 단위: \"올해\", \"내년\", \"작년\"\n",
    "3. 주기적 시간 지시어\n",
    "- 반복되는 시간 단위: \"매일\", \"매주\", \"매년\", \"매시간\"\n",
    "- 시즌이나 기간: \"겨울\", \"하반기\", \"방학\"\n",
    "4. 지속적 시간 지시어\n",
    "시작과 끝을 포함하는 표현: \"부터 ... 까지\", \"동안\", \"내내\""
   ]
  },
  {
   "cell_type": "code",
   "execution_count": null,
   "id": "b6cc8084-760c-41ea-ba5a-1e0946f751ed",
   "metadata": {},
   "outputs": [],
   "source": [
    "import pandas as pd\n",
    "from datetime import datetime\n",
    "from dateutil.relativedelta import relativedelta\n",
    "\n",
    "# 시간 지시어와 관련된 계산을 수행하는 함수\n",
    "def calculate_actual_date(text, publish_date):\n",
    "    time_keywords = {\n",
    "        \"내일\": relativedelta(days=1),\n",
    "        \"어제\": relativedelta(days=-1),\n",
    "        \"다음 주\": relativedelta(weeks=1),\n",
    "        \"모레\": relativedelta(days=2),\n",
    "        \"지난 주\": relativedelta(weeks=-1),\n",
    "        \"다음날\": relativedelta(days=1),\n",
    "        \"다음 달\": relativedelta(months=1),\n",
    "        \"지난 달\": relativedelta(months=-1),\n",
    "        \"차주\": relativedelta(weeks=1),\n",
    "        \"오는 주\": relativedelta(weeks=1),\n",
    "        \"금일\": relativedelta(days=0), \n",
    "        \"오늘\": relativedelta(days=0),  \n",
    "        \"당일\": relativedelta(days=0),  \n",
    "        \"현재\": relativedelta(days=0)   \n",
    "    }\n",
    "    \n",
    "    for keyword, delta in time_keywords.items():\n",
    "        if keyword in text:\n",
    "            return publish_date + delta\n",
    "    return publish_date\n",
    "\n",
    "# 시간대를 UTC로 변환하고 actual_date 계산\n",
    "df['publish_date'] = pd.to_datetime(df['publish_date'], utc=True)\n",
    "df['actual_date'] = df.apply(lambda row: calculate_actual_date(row['text'], row['publish_date']), axis=1)\n",
    "\n",
    "print(df[['text', 'publish_date', 'actual_date']])\n"
   ]
  },
  {
   "cell_type": "code",
   "execution_count": null,
   "id": "68602ddb-0262-400a-b57e-0557c64cfcb3",
   "metadata": {},
   "outputs": [],
   "source": []
  }
 ],
 "metadata": {
  "kernelspec": {
   "display_name": "Python 3 (ipykernel)",
   "language": "python",
   "name": "python3"
  },
  "language_info": {
   "codemirror_mode": {
    "name": "ipython",
    "version": 3
   },
   "file_extension": ".py",
   "mimetype": "text/x-python",
   "name": "python",
   "nbconvert_exporter": "python",
   "pygments_lexer": "ipython3",
   "version": "3.11.6"
  }
 },
 "nbformat": 4,
 "nbformat_minor": 5
}
