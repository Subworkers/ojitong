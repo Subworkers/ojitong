{
  "nbformat": 4,
  "nbformat_minor": 0,
  "metadata": {
    "colab": {
      "provenance": [],
      "toc_visible": true
    },
    "kernelspec": {
      "name": "python3",
      "display_name": "Python 3"
    },
    "language_info": {
      "name": "python"
    }
  },
  "cells": [
    {
      "cell_type": "markdown",
      "source": [
        "# **🎯 GPT 기반 정량평가 : : QG-QA**\n",
        "## **📍문제 정의**\n",
        "- 뉴스 기사 각각에 대해 LLM을 적용하여 기사에 대한 블로그 글을 만든 상황에서,\n",
        "- 블로그 글이 뉴스 기사의 내용을 잘 담고 있는지 QG-QA를 통해 평가하고자 한다.\n",
        "- 사용 모델: **GPT-4**\n",
        "1. **뉴스 기사와 그에 대응하는 블로그 글에 대해 동일한 질문을 생성**\n",
        "  - OUTPUT 이 질문 리스트가 되도록 PROMPT 구성하기\n",
        "  - 질문은 다음과 같은 것들이어야 한다:\n",
        "    - \"지연된 노선은 3, 4, 5호선이 맞나요?\"\n",
        "    - \"시간표 변경은 5월 27일부터 적용되나요?\"\n",
        "    - \"언제 지하철 파업이 시작되었나요?\"\n",
        "2. **뉴스 기사, 블로그 글에 질문 각각 ASK**\n",
        "3. **그에 대한 답변이 서로 일치하는지 확인한다.**\n",
        "  - 두 답변을 서로 비교하여 일치할 경우 True(1), 아닐 경우 False(0) 반환\n"
      ],
      "metadata": {
        "id": "DW_s8u_v7TL7"
      }
    },
    {
      "cell_type": "markdown",
      "source": [
        "        * (1) 입력 - 뉴스 제목, 뉴스 본문, 뉴스 날짜, 블로그 텍스트 → news_sample, blog_sample\n",
        "        * (2) RPOMPT1 - 뉴스기사를 기반으로 질문을 만들어줘- 질문 도출\n",
        "        * (3) PROMPT2 - 뉴스 기사에 대해 질문의 답변 도출\n",
        "        * (4) PROMPT3 - 블로그 글에 대해 질문의 답변 도출\n",
        "        * (5)일치여부판단 - (3), (4)의 결과로 나온 답변을 비교"
      ],
      "metadata": {
        "id": "Qk83wLiPBhoc"
      }
    },
    {
      "cell_type": "markdown",
      "source": [
        "# **📍1. 환경세팅**"
      ],
      "metadata": {
        "id": "5yT-uvWf6nBm"
      }
    },
    {
      "cell_type": "code",
      "execution_count": 7,
      "metadata": {
        "id": "_gTZPC03UnGS",
        "colab": {
          "base_uri": "https://localhost:8080/"
        },
        "collapsed": true,
        "outputId": "363cd582-101c-4b7d-9ae4-1025cfdca878"
      },
      "outputs": [
        {
          "output_type": "stream",
          "name": "stdout",
          "text": [
            "Drive already mounted at /content/drive; to attempt to forcibly remount, call drive.mount(\"/content/drive\", force_remount=True).\n"
          ]
        }
      ],
      "source": [
        "# 구글 드라이브 연결\n",
        "from google.colab import drive\n",
        "drive.mount('/content/drive')\n",
        "\n",
        "# 데이터 불러오기\n",
        "import pandas as pd\n",
        "news_data = pd.read_csv(\"/content/drive/My Drive/DSCapstone/Newsdata_URL_TEXT.csv\", index_col=0)"
      ]
    },
    {
      "cell_type": "code",
      "source": [
        "!pip install langchain"
      ],
      "metadata": {
        "collapsed": true,
        "colab": {
          "base_uri": "https://localhost:8080/"
        },
        "id": "iViAvUtO52eX",
        "outputId": "ae0a0bb5-f790-4009-c2c4-4bbdffcb8661"
      },
      "execution_count": 8,
      "outputs": [
        {
          "output_type": "stream",
          "name": "stdout",
          "text": [
            "Requirement already satisfied: langchain in /usr/local/lib/python3.10/dist-packages (0.2.1)\n",
            "Requirement already satisfied: PyYAML>=5.3 in /usr/local/lib/python3.10/dist-packages (from langchain) (6.0.1)\n",
            "Requirement already satisfied: SQLAlchemy<3,>=1.4 in /usr/local/lib/python3.10/dist-packages (from langchain) (2.0.30)\n",
            "Requirement already satisfied: aiohttp<4.0.0,>=3.8.3 in /usr/local/lib/python3.10/dist-packages (from langchain) (3.9.5)\n",
            "Requirement already satisfied: async-timeout<5.0.0,>=4.0.0 in /usr/local/lib/python3.10/dist-packages (from langchain) (4.0.3)\n",
            "Requirement already satisfied: langchain-core<0.3.0,>=0.2.0 in /usr/local/lib/python3.10/dist-packages (from langchain) (0.2.1)\n",
            "Requirement already satisfied: langchain-text-splitters<0.3.0,>=0.2.0 in /usr/local/lib/python3.10/dist-packages (from langchain) (0.2.0)\n",
            "Requirement already satisfied: langsmith<0.2.0,>=0.1.17 in /usr/local/lib/python3.10/dist-packages (from langchain) (0.1.62)\n",
            "Requirement already satisfied: numpy<2,>=1 in /usr/local/lib/python3.10/dist-packages (from langchain) (1.25.2)\n",
            "Requirement already satisfied: pydantic<3,>=1 in /usr/local/lib/python3.10/dist-packages (from langchain) (2.7.1)\n",
            "Requirement already satisfied: requests<3,>=2 in /usr/local/lib/python3.10/dist-packages (from langchain) (2.31.0)\n",
            "Requirement already satisfied: tenacity<9.0.0,>=8.1.0 in /usr/local/lib/python3.10/dist-packages (from langchain) (8.3.0)\n",
            "Requirement already satisfied: aiosignal>=1.1.2 in /usr/local/lib/python3.10/dist-packages (from aiohttp<4.0.0,>=3.8.3->langchain) (1.3.1)\n",
            "Requirement already satisfied: attrs>=17.3.0 in /usr/local/lib/python3.10/dist-packages (from aiohttp<4.0.0,>=3.8.3->langchain) (23.2.0)\n",
            "Requirement already satisfied: frozenlist>=1.1.1 in /usr/local/lib/python3.10/dist-packages (from aiohttp<4.0.0,>=3.8.3->langchain) (1.4.1)\n",
            "Requirement already satisfied: multidict<7.0,>=4.5 in /usr/local/lib/python3.10/dist-packages (from aiohttp<4.0.0,>=3.8.3->langchain) (6.0.5)\n",
            "Requirement already satisfied: yarl<2.0,>=1.0 in /usr/local/lib/python3.10/dist-packages (from aiohttp<4.0.0,>=3.8.3->langchain) (1.9.4)\n",
            "Requirement already satisfied: jsonpatch<2.0,>=1.33 in /usr/local/lib/python3.10/dist-packages (from langchain-core<0.3.0,>=0.2.0->langchain) (1.33)\n",
            "Requirement already satisfied: packaging<24.0,>=23.2 in /usr/local/lib/python3.10/dist-packages (from langchain-core<0.3.0,>=0.2.0->langchain) (23.2)\n",
            "Requirement already satisfied: orjson<4.0.0,>=3.9.14 in /usr/local/lib/python3.10/dist-packages (from langsmith<0.2.0,>=0.1.17->langchain) (3.10.3)\n",
            "Requirement already satisfied: annotated-types>=0.4.0 in /usr/local/lib/python3.10/dist-packages (from pydantic<3,>=1->langchain) (0.7.0)\n",
            "Requirement already satisfied: pydantic-core==2.18.2 in /usr/local/lib/python3.10/dist-packages (from pydantic<3,>=1->langchain) (2.18.2)\n",
            "Requirement already satisfied: typing-extensions>=4.6.1 in /usr/local/lib/python3.10/dist-packages (from pydantic<3,>=1->langchain) (4.11.0)\n",
            "Requirement already satisfied: charset-normalizer<4,>=2 in /usr/local/lib/python3.10/dist-packages (from requests<3,>=2->langchain) (3.3.2)\n",
            "Requirement already satisfied: idna<4,>=2.5 in /usr/local/lib/python3.10/dist-packages (from requests<3,>=2->langchain) (3.7)\n",
            "Requirement already satisfied: urllib3<3,>=1.21.1 in /usr/local/lib/python3.10/dist-packages (from requests<3,>=2->langchain) (2.0.7)\n",
            "Requirement already satisfied: certifi>=2017.4.17 in /usr/local/lib/python3.10/dist-packages (from requests<3,>=2->langchain) (2024.2.2)\n",
            "Requirement already satisfied: greenlet!=0.4.17 in /usr/local/lib/python3.10/dist-packages (from SQLAlchemy<3,>=1.4->langchain) (3.0.3)\n",
            "Requirement already satisfied: jsonpointer>=1.9 in /usr/local/lib/python3.10/dist-packages (from jsonpatch<2.0,>=1.33->langchain-core<0.3.0,>=0.2.0->langchain) (2.4)\n"
          ]
        }
      ]
    },
    {
      "cell_type": "code",
      "source": [
        "!pip install langchain_openai"
      ],
      "metadata": {
        "colab": {
          "base_uri": "https://localhost:8080/"
        },
        "collapsed": true,
        "id": "4nwyT-R650_L",
        "outputId": "ecf63b64-a276-45fc-c939-e0739eb502e2"
      },
      "execution_count": 9,
      "outputs": [
        {
          "output_type": "stream",
          "name": "stdout",
          "text": [
            "Requirement already satisfied: langchain_openai in /usr/local/lib/python3.10/dist-packages (0.1.7)\n",
            "Requirement already satisfied: langchain-core<0.3,>=0.1.46 in /usr/local/lib/python3.10/dist-packages (from langchain_openai) (0.2.1)\n",
            "Requirement already satisfied: openai<2.0.0,>=1.24.0 in /usr/local/lib/python3.10/dist-packages (from langchain_openai) (1.30.2)\n",
            "Requirement already satisfied: tiktoken<1,>=0.7 in /usr/local/lib/python3.10/dist-packages (from langchain_openai) (0.7.0)\n",
            "Requirement already satisfied: PyYAML>=5.3 in /usr/local/lib/python3.10/dist-packages (from langchain-core<0.3,>=0.1.46->langchain_openai) (6.0.1)\n",
            "Requirement already satisfied: jsonpatch<2.0,>=1.33 in /usr/local/lib/python3.10/dist-packages (from langchain-core<0.3,>=0.1.46->langchain_openai) (1.33)\n",
            "Requirement already satisfied: langsmith<0.2.0,>=0.1.0 in /usr/local/lib/python3.10/dist-packages (from langchain-core<0.3,>=0.1.46->langchain_openai) (0.1.62)\n",
            "Requirement already satisfied: packaging<24.0,>=23.2 in /usr/local/lib/python3.10/dist-packages (from langchain-core<0.3,>=0.1.46->langchain_openai) (23.2)\n",
            "Requirement already satisfied: pydantic<3,>=1 in /usr/local/lib/python3.10/dist-packages (from langchain-core<0.3,>=0.1.46->langchain_openai) (2.7.1)\n",
            "Requirement already satisfied: tenacity<9.0.0,>=8.1.0 in /usr/local/lib/python3.10/dist-packages (from langchain-core<0.3,>=0.1.46->langchain_openai) (8.3.0)\n",
            "Requirement already satisfied: anyio<5,>=3.5.0 in /usr/local/lib/python3.10/dist-packages (from openai<2.0.0,>=1.24.0->langchain_openai) (3.7.1)\n",
            "Requirement already satisfied: distro<2,>=1.7.0 in /usr/lib/python3/dist-packages (from openai<2.0.0,>=1.24.0->langchain_openai) (1.7.0)\n",
            "Requirement already satisfied: httpx<1,>=0.23.0 in /usr/local/lib/python3.10/dist-packages (from openai<2.0.0,>=1.24.0->langchain_openai) (0.27.0)\n",
            "Requirement already satisfied: sniffio in /usr/local/lib/python3.10/dist-packages (from openai<2.0.0,>=1.24.0->langchain_openai) (1.3.1)\n",
            "Requirement already satisfied: tqdm>4 in /usr/local/lib/python3.10/dist-packages (from openai<2.0.0,>=1.24.0->langchain_openai) (4.66.4)\n",
            "Requirement already satisfied: typing-extensions<5,>=4.7 in /usr/local/lib/python3.10/dist-packages (from openai<2.0.0,>=1.24.0->langchain_openai) (4.11.0)\n",
            "Requirement already satisfied: regex>=2022.1.18 in /usr/local/lib/python3.10/dist-packages (from tiktoken<1,>=0.7->langchain_openai) (2023.12.25)\n",
            "Requirement already satisfied: requests>=2.26.0 in /usr/local/lib/python3.10/dist-packages (from tiktoken<1,>=0.7->langchain_openai) (2.31.0)\n",
            "Requirement already satisfied: idna>=2.8 in /usr/local/lib/python3.10/dist-packages (from anyio<5,>=3.5.0->openai<2.0.0,>=1.24.0->langchain_openai) (3.7)\n",
            "Requirement already satisfied: exceptiongroup in /usr/local/lib/python3.10/dist-packages (from anyio<5,>=3.5.0->openai<2.0.0,>=1.24.0->langchain_openai) (1.2.1)\n",
            "Requirement already satisfied: certifi in /usr/local/lib/python3.10/dist-packages (from httpx<1,>=0.23.0->openai<2.0.0,>=1.24.0->langchain_openai) (2024.2.2)\n",
            "Requirement already satisfied: httpcore==1.* in /usr/local/lib/python3.10/dist-packages (from httpx<1,>=0.23.0->openai<2.0.0,>=1.24.0->langchain_openai) (1.0.5)\n",
            "Requirement already satisfied: h11<0.15,>=0.13 in /usr/local/lib/python3.10/dist-packages (from httpcore==1.*->httpx<1,>=0.23.0->openai<2.0.0,>=1.24.0->langchain_openai) (0.14.0)\n",
            "Requirement already satisfied: jsonpointer>=1.9 in /usr/local/lib/python3.10/dist-packages (from jsonpatch<2.0,>=1.33->langchain-core<0.3,>=0.1.46->langchain_openai) (2.4)\n",
            "Requirement already satisfied: orjson<4.0.0,>=3.9.14 in /usr/local/lib/python3.10/dist-packages (from langsmith<0.2.0,>=0.1.0->langchain-core<0.3,>=0.1.46->langchain_openai) (3.10.3)\n",
            "Requirement already satisfied: annotated-types>=0.4.0 in /usr/local/lib/python3.10/dist-packages (from pydantic<3,>=1->langchain-core<0.3,>=0.1.46->langchain_openai) (0.7.0)\n",
            "Requirement already satisfied: pydantic-core==2.18.2 in /usr/local/lib/python3.10/dist-packages (from pydantic<3,>=1->langchain-core<0.3,>=0.1.46->langchain_openai) (2.18.2)\n",
            "Requirement already satisfied: charset-normalizer<4,>=2 in /usr/local/lib/python3.10/dist-packages (from requests>=2.26.0->tiktoken<1,>=0.7->langchain_openai) (3.3.2)\n",
            "Requirement already satisfied: urllib3<3,>=1.21.1 in /usr/local/lib/python3.10/dist-packages (from requests>=2.26.0->tiktoken<1,>=0.7->langchain_openai) (2.0.7)\n"
          ]
        }
      ]
    },
    {
      "cell_type": "code",
      "source": [
        "import getpass\n",
        "import os\n",
        "# 환경변수에 OpenAI API 키 저장 (사용자 입력으로 안전하게)\n",
        "os.environ[\"OPENAI_API_KEY\"] = getpass.getpass()"
      ],
      "metadata": {
        "colab": {
          "base_uri": "https://localhost:8080/"
        },
        "id": "b5_qBKyD550F",
        "outputId": "1b82dca8-6a0a-4d1d-937a-2dd3c3141b7f"
      },
      "execution_count": 10,
      "outputs": [
        {
          "name": "stdout",
          "output_type": "stream",
          "text": [
            "··········\n"
          ]
        }
      ]
    },
    {
      "cell_type": "markdown",
      "source": [
        "# **📍2.입력 데이터 준비**"
      ],
      "metadata": {
        "id": "fu-aozCO6viV"
      }
    },
    {
      "cell_type": "markdown",
      "source": [
        "* **2-1. 뉴스 제목, 날짜, 본문 데이터**"
      ],
      "metadata": {
        "id": "-nGohUW86y_i"
      }
    },
    {
      "cell_type": "code",
      "source": [
        "# 우선은 1개의 뉴스-블로그 쌍에 대해서만 적용\n",
        "news_title = news_data.iloc[0]['TITLE'] # 제목\n",
        "news_date = news_data.iloc[0]['DATE'] # 날짜\n",
        "news_article = news_data.iloc[0]['ARTICLE'] # 본문\n",
        "news_sample = f\"\"\"<뉴스 제목>: {news_title},\n",
        "<뉴스 생성일자>: {news_date},\n",
        "<뉴스 본문>: {news_article}\"\"\" # 뉴스 샘플 = 뉴스 제목+날짜+본문"
      ],
      "metadata": {
        "id": "tTOvQ0bH6yPz"
      },
      "execution_count": 11,
      "outputs": []
    },
    {
      "cell_type": "code",
      "source": [
        "# 하나의 뉴스 기사 샘플 데이터\n",
        "news_sample"
      ],
      "metadata": {
        "colab": {
          "base_uri": "https://localhost:8080/",
          "height": 162
        },
        "id": "nhjfMoRJ-a2c",
        "outputId": "8c71de0b-b290-40ca-baca-088ec0923008"
      },
      "execution_count": 12,
      "outputs": [
        {
          "output_type": "execute_result",
          "data": {
            "text/plain": [
              "'<뉴스 제목>: 서울 1~8호선 지하철, 오늘 오전 9시부터 ‘경고 파업’, \\n<뉴스 생성일자>: 2023-11-08 22:20:00,\\n<뉴스 본문>:  서울지하철 1~8호선을 운영하는 서울교통공사(공사) 노동조합이 9일 아침 9시부터 10일 오후 6시까지 이틀 동안 경고 파업에 돌입한다. 회사가 제시한 인력감축·외주화 문제를 두고 노사가 8일 밤까지 벌인 막판 교섭에서도 타협점을 찾지 못한 결과다. 공사는 노조가 파업에 돌입해도 필수 유지업무 인력과 대체 인력 등을 활용해 80% 이상의 운행률을 유지할 방침이다.\\n\\n공사는 8일 밤 “노사 간 협상이 최종 결렬됐다”며 “양대노총 소속 서울교통공사 노조들로 구성된 연합교섭단은 9일 오전 9시부터 10일 저녁 6시까지 (서울시와 사쪽의 입장 변화를 촉구하는 의미) 경고 파업에 돌입한다”고 밝혔다. 이날 오후 3시부터 교섭단과 공사는 막판 교섭을 시작했으나 타협점을 찾지 못했다.\\n\\n핵심 쟁점은 ‘인력 감축’이었다. 공사는 최근 2026년까지 2212명의 인력을 줄이겠다는 계획을 노조에 제시했다. 이는 현재 공사 전체 정원의 약 13.5% 수준이다. 공사는 연 1조원 안팎의 대규모 적자를 내고 있어 인력 감축이 불가피하다는 입장이다. 반면 연합교섭단은 무리한 인력 감축이 시민의 안전 문제와 직결될 수 있다며 감축안 철회를 요구했다.\\n\\n노사가 맺은 필수 유지업무 실무 협정에 따라 파업 기간 1~4호선 65.7%, 5~8호선 79.8%의 운행률은 유지돼야 한다. 서울교통공사쪽은 “9일부터 경고파업에 돌입하더라도 파업 대비 정상운행 대책본부를 운영해 열차 정상 운행과 시설물 안전 확보 등 대책을 마련해 시민의 불편을 최소화할 계획”이라며 ““(파업 돌입 시) 필수유지업무 인력과 대체 인력 등을 확보해 오전 7시∼9시 출근길에는 100%, 나머지 시간에는 80% 정도 수준의 운행률로 시민 불편을 최소화할 것”이라고 말했다.'"
            ],
            "application/vnd.google.colaboratory.intrinsic+json": {
              "type": "string"
            }
          },
          "metadata": {},
          "execution_count": 12
        }
      ]
    },
    {
      "cell_type": "markdown",
      "source": [
        "* **2-2. 뉴스 블로그 글  데이터**"
      ],
      "metadata": {
        "id": "4L7mkKzD64UK"
      }
    },
    {
      "cell_type": "code",
      "source": [
        "blog_sample = \"\"\" 서울 지하철 파업 경보: 1~8호선 운행 차질 예고!\n",
        "안녕하세요, 여러분의 출퇴근 메신저 지하철 온다의 '오.지.통 [오늘의 지하철 소식통]' 인사 드립니다!\n",
        "오늘 아침, 서울의 출근길이 조금 달라졌습니다. 서울지하철 1~8호선을 운영하는 서울교통공사의 노동조합이 2023년 11월 9일 아침 9시부터 10일 오후 6시까지 이틀 간 경고 파업에 돌입했습니다. 이는 노사 간의 인력감축 및 외주화 문제를 두고 벌어진 교섭이 결렬된 결과입니다.\n",
        "\n",
        "사건 일시: 2023년 11월 9일 오전 9시부터 11월 10일 오후 6시까지\n",
        "사건 지하철 노선: 서울 지하철 1~8호선\n",
        "사건 발생 원인: 인력 감축 및 외주화 문제에 대한 노사 간 최종 교섭 결렬\n",
        "공사는 파업 동안 필수 유지 업무 인력과 대체 인력을 활용하여 14호선은 65.7%, 58호선은 79.8%의 운행률을 유지할 계획입니다. 특히 출근 시간대에는 100%에 가까운 운행률을 목표로 하고 있으나, 여전히 출퇴근길 혼잡이 예상됩니다.\n",
        "\n",
        "지하철 운행 차질에 대한 간단 요약\n",
        "2023년 11월 9일과 10일에 걸쳐 서울 지하철 1~8호선에서 경고 파업이 실시되며, 이는 노사 간 인력 감축 및 외주화 문제에 대한 논의 실패로 인한 것입니다. 파업 기간 동안 일부 노선의 운행률이 저하되어 출퇴근 시간대의 혼잡이 가중될 것으로 보입니다. 서울교통공사는 필수 유지 업무 인력을 활용하여 운행률을 최대한 유지하려 하고 있습니다.\n",
        "\n",
        "출근길이 힘들어지셨죠? 파업으로 인한 지하철 운행 차질로 여러분의 하루가 더욱 버거워졌을 텐데요, 저희 '지하철 온다' 앱을 활용하시면 더욱 효율적으로 대처하실 수 있습니다!\n",
        "오지통이 실시간으로 다양한 지하철 정보를 업데이트 할 예정이니, 자주 방문해 주세요. 지하철과 함께라면 어디든지 즐거운 여정이 될 거예요. 🚆💨\n",
        "\n",
        "🔽 지하철 온다 소개 보러가기\n",
        "\n",
        "http://www.letskorail.com\n",
        "\n",
        "이번 파업은 단순한 교통 불편 문제를 넘어, 우리 모두가 함께 고민하고 해결해 나가야 할 사회적 이슈입니다. 서로를 배려하며,공동의 이익을 위해 논의하는 자세가 중요합니다. 서울교통공사와 노조 양측이 상호 이해와 협력을 통해 더 나은 해결책을 모색하길 바라며, 이 과정에서 시민들의 안전과 편의가 최우선으로 고려되어야 할 것입니다. 모두가 조금씩 양보하고 소통하여, 이번 경고 파업이 조속히 마무리되어 일상이 원활하게 회복되길 기원합니다. 이러한 상황에서 '지하철 온다' 앱이 실시간으로 변경되는 교통 상황을 알려드리고, 여러분이 좀 더 편리하게 대처할 수 있도록 도움을 제공하겠습니다.\"\"\""
      ],
      "metadata": {
        "id": "8apYIU5R9GKb"
      },
      "execution_count": 13,
      "outputs": []
    },
    {
      "cell_type": "markdown",
      "source": [
        "# **📍3.(메모리 미사용)Question Generation & Question Answering**"
      ],
      "metadata": {
        "id": "Am-zQNAkwSs5"
      }
    },
    {
      "cell_type": "code",
      "source": [
        "# GPT-4 챗봇 객체 생성\n",
        "from langchain_openai import ChatOpenAI\n",
        "llm = ChatOpenAI(model=\"gpt-4-turbo\")\n",
        "\n",
        "# 프롬프트 템플릿, 파서를 각각 생성한 뒤 챗봇과 체인 결합\n",
        "from langchain_core.prompts import ChatPromptTemplate\n",
        "from langchain_core.output_parsers import StrOutputParser\n",
        "prompt = ChatPromptTemplate.from_messages([\n",
        "    (\"system\", \"\"), # 페르소나 부여\n",
        "    (\"user\", \"{input}\")\n",
        "])\n",
        "output_parser = StrOutputParser()\n",
        "chain = prompt | llm | output_parser\n",
        "\n",
        "# PROMPT1 입력 - 뉴스 기반으로 질문 만들어줘\n",
        "prompt_1 = ChatPromptTemplate.from_messages([\n",
        "    (\"system\", \"\"\"너는 뉴스 기사를 읽고, 뉴스의 핵심 내용들에 대해서 오지선다 질문을 던지는 것을 잘 해.\"\"\"), # 페르소나 부여\n",
        "    (\"user\", \"\"\"제시된 서울 지하철 뉴스를 읽고, 뉴스의 주요 내용(사건 일시, 사건 지하철 호선, 사건 발생 원인)을 확인하기 위한 3가지 질문을 만들어줘. 이 때, 질문은 1번부터 5번까지의 선지 중에서 하나를 고르는 5지선다형 문제여야만해.\n",
        "    예시= '해당 지하철 사건이 일어난 발생지는 어디 인가요? (1)강남역 (2)성수역 (3)수유역 (4)안국역 (5)홍대입구역)\n",
        "    뉴스= {input}\n",
        "    \"\"\"),\n",
        "    (\"system\", \"\"\"템플릿:\n",
        "    질문1: {{question_1}},\n",
        "    질문2: {{question_2}},\n",
        "    질문3: {{question_3}}\"\"\")\n",
        "])\n",
        "chain_1 = prompt_1 | llm | output_parser\n",
        "question_list = chain_1.invoke({\"input\": news_sample}) # 활용\n",
        "\n",
        "\n"
      ],
      "metadata": {
        "id": "z4Xl-vvrx4aU"
      },
      "execution_count": 19,
      "outputs": []
    },
    {
      "cell_type": "code",
      "source": [
        "\n",
        "# PROMPT2 입력 - 뉴스 기사에 대해 질문의 답변 도출\n",
        "prompt_2 = ChatPromptTemplate.from_messages([\n",
        "    (\"system\", \"\"\"너는 뉴스 기사를 읽고, 읽은 내용을 바탕으로 질문에 대해 정확히 답변해\"\"\"), # 페르소나 부여\n",
        "    (\"user\", \"\"\"제시된 서울 지하철 뉴스와 해당 뉴스에 대한 3가지 질문에 대해 답변해줘.\n",
        "    예시= \"1번, 5번, 4번\",\n",
        "    뉴스= {input}\n",
        "    질문= {question}\n",
        "    \"\"\"),\n",
        "    (\"system\", \"\"\"템플릿:\n",
        "    답변1: {{answer_1}}번,\n",
        "    답변2: {{answer_2}}번,\n",
        "    답변3: {{answer_3}}번\"\"\")\n",
        "])\n",
        "chain_2 = prompt_2 | llm | output_parser\n",
        "answer_list_news = chain_2.invoke({\"input\": news_sample, \"question\": question_list}) # 활용\n"
      ],
      "metadata": {
        "id": "0O-AT_fI5_om"
      },
      "execution_count": 27,
      "outputs": []
    },
    {
      "cell_type": "code",
      "source": [
        "print(question_list)\n",
        "print(answer_list)"
      ],
      "metadata": {
        "colab": {
          "base_uri": "https://localhost:8080/"
        },
        "id": "u0LF7x-e7aQL",
        "outputId": "4066242f-ce79-488c-e4e6-0765804bfe45"
      },
      "execution_count": 28,
      "outputs": [
        {
          "output_type": "stream",
          "name": "stdout",
          "text": [
            "질문1: 이번 서울 지하철 경고 파업이 시작되는 시간은 언제입니까?\n",
            "(1) 오전 7시 (2) 오전 8시 (3) 오전 9시 (4) 오전 10시 (5) 오전 11시\n",
            "\n",
            "질문2: 이번 파업이 적용되는 서울 지하철의 호선은 어디까지 입니까?\n",
            "(1) 1~2호선 (2) 1~4호선 (3) 1~6호선 (4) 1~8호선 (5) 1~10호선\n",
            "\n",
            "질문3: 이번 파업의 주요 원인은 무엇 때문입니까?\n",
            "(1) 임금 삭감 (2) 근무 조건 개선 요구 (3) 인력 감축 (4) 운영 시간 변경 (5) 열차 운행 감소\n",
            "답변1: 3번,\n",
            "답변2: 4번,\n",
            "답변3: 3번\n"
          ]
        }
      ]
    },
    {
      "cell_type": "code",
      "source": [
        "# PROMPT3 입력 - 블로그글에 대해 질문의 답변 도출\n",
        "prompt_3 = ChatPromptTemplate.from_messages([\n",
        "    (\"system\", \"\"\"너는 블로그 글을 읽고, 읽은 내용을 바탕으로 질문에 대해 정확히 답변해\"\"\"), # 페르소나 부여\n",
        "    (\"user\", \"\"\"제시된 서울 지하철 뉴스와 해당 뉴스에 대한 3가지 질문에 대해 답변해줘.\n",
        "    예시= \"1번, 5번, 4번\",\n",
        "    블로그 글= {input}\n",
        "    질문= {question}\n",
        "    \"\"\"),\n",
        "    (\"system\", \"\"\"템플릿:\n",
        "    답변1: {{answer_1}}번,\n",
        "    답변2: {{answer_2}}번,\n",
        "    답변3: {{answer_3}}번\"\"\")\n",
        "])\n",
        "chain_3 = prompt_3 | llm | output_parser\n",
        "answer_list_blog = chain_3.invoke({\"input\": blog_sample, \"question\": question_list}) # 활용"
      ],
      "metadata": {
        "id": "_elvsQO57tYE"
      },
      "execution_count": 30,
      "outputs": []
    },
    {
      "cell_type": "code",
      "source": [
        "print(question_list)\n",
        "print(answer_list_blog)"
      ],
      "metadata": {
        "colab": {
          "base_uri": "https://localhost:8080/"
        },
        "id": "x1iP2N_38Ad3",
        "outputId": "94b96398-d8f1-42f1-e3f9-12fe37ee7108"
      },
      "execution_count": 32,
      "outputs": [
        {
          "output_type": "stream",
          "name": "stdout",
          "text": [
            "질문1: 이번 서울 지하철 경고 파업이 시작되는 시간은 언제입니까?\n",
            "(1) 오전 7시 (2) 오전 8시 (3) 오전 9시 (4) 오전 10시 (5) 오전 11시\n",
            "\n",
            "질문2: 이번 파업이 적용되는 서울 지하철의 호선은 어디까지 입니까?\n",
            "(1) 1~2호선 (2) 1~4호선 (3) 1~6호선 (4) 1~8호선 (5) 1~10호선\n",
            "\n",
            "질문3: 이번 파업의 주요 원인은 무엇 때문입니까?\n",
            "(1) 임금 삭감 (2) 근무 조건 개선 요구 (3) 인력 감축 (4) 운영 시간 변경 (5) 열차 운행 감소\n",
            "답변1: 3번,\n",
            "답변2: 4번,\n",
            "답변3: 3번\n"
          ]
        }
      ]
    },
    {
      "cell_type": "code",
      "source": [
        "print(answer_list_news == answer_list_blog)"
      ],
      "metadata": {
        "colab": {
          "base_uri": "https://localhost:8080/"
        },
        "id": "_jjmWZHj8MvY",
        "outputId": "481b479d-0aa8-4829-965d-0537421e485e"
      },
      "execution_count": 33,
      "outputs": [
        {
          "output_type": "stream",
          "name": "stdout",
          "text": [
            "True\n"
          ]
        }
      ]
    },
    {
      "cell_type": "markdown",
      "source": [
        "# **📍4.함수화**\n",
        "- 입력: 뉴스의 제목, 날짜, 본문, 그리고 뉴스를 기반으로 만든 블로그 글\n",
        "- 출력: 3가지 질문에 대해 뉴스, 블로그의 답변이 모두 일치하면 True, 아니면 False 반환\n"
      ],
      "metadata": {
        "id": "zyEkffHc87k_"
      }
    },
    {
      "cell_type": "code",
      "source": [
        "def temp_function(title, date, article, blog):\n",
        "\n",
        "  # news = 제목 + 날짜 + 본문\n",
        "  news = f\"\"\"<뉴스 제목>: {news_title},\n",
        "  <뉴스 생성일자>: {news_date},\n",
        "  <뉴스 본문>: {news_article}\"\"\"\n",
        "\n",
        "  # news 기반으로 질문 3개 생성\n",
        "  question_list = chain_1.invoke({\"input\": news})\n",
        "\n",
        "  # 질문 3개에 대해 news 기반으로 답변\n",
        "  answer_list_news = chain_2.invoke({\"input\": news, \"question\": question_list})\n",
        "\n",
        "  # 질문 3개에 대해 blog 기반으로 답변\n",
        "  answer_list_blog = chain_3.invoke({\"input\": blog, \"question\": question_list})\n",
        "\n",
        "  # 일치 여부 판단(True/False)\n",
        "  return answer_list_news == answer_list_blog"
      ],
      "metadata": {
        "id": "4oh5JDwr8-2U"
      },
      "execution_count": 34,
      "outputs": []
    },
    {
      "cell_type": "code",
      "source": [
        "# 작동 확인(19초 소요)\n",
        "temp_function(news_title, news_date, news_article, blog_sample)"
      ],
      "metadata": {
        "colab": {
          "base_uri": "https://localhost:8080/"
        },
        "id": "HEpTHNZb8-0e",
        "outputId": "7d195b96-c46c-4d5a-b94a-e3dbd0d3f32c"
      },
      "execution_count": 35,
      "outputs": [
        {
          "output_type": "execute_result",
          "data": {
            "text/plain": [
              "True"
            ]
          },
          "metadata": {},
          "execution_count": 35
        }
      ]
    },
    {
      "cell_type": "markdown",
      "source": [
        "# **📍5.1~4 내용 단일 셀로 정리**"
      ],
      "metadata": {
        "id": "p1gEAbbQ_IJ4"
      }
    },
    {
      "cell_type": "code",
      "source": [
        "# GPT-4 챗봇 객체 생성\n",
        "from langchain_openai import ChatOpenAI\n",
        "llm = ChatOpenAI(model=\"gpt-4-turbo\")\n",
        "\n",
        "# 프롬프트 템플릿, 파서를 각각 생성한 뒤 챗봇과 체인 결합\n",
        "from langchain_core.prompts import ChatPromptTemplate\n",
        "from langchain_core.output_parsers import StrOutputParser\n",
        "output_parser = StrOutputParser()\n",
        "\n",
        "# PROMPT1 - 뉴스 기반으로 질문 생성 - chain_1으로 생성\n",
        "prompt_1 = ChatPromptTemplate.from_messages([\n",
        "    (\"system\", \"\"\"너는 뉴스 기사를 읽고, 뉴스의 핵심 내용들에 대해서 오지선다 질문을 던지는 것을 잘 해.\"\"\"), # 페르소나 부여\n",
        "    (\"user\", \"\"\"제시된 서울 지하철 뉴스를 읽고, 뉴스의 주요 내용(사건 일시, 사건 지하철 호선, 사건 발생 원인)을 확인하기 위한 3가지 질문을 만들어줘. 이 때, 질문은 1번부터 5번까지의 선지 중에서 하나를 고르는 5지선다형 문제여야만해.\n",
        "    예시= '해당 지하철 사건이 일어난 발생지는 어디 인가요? (1)강남역 (2)성수역 (3)수유역 (4)안국역 (5)홍대입구역)\n",
        "    뉴스= {input}\n",
        "    \"\"\"),\n",
        "    (\"system\", \"\"\"템플릿:\n",
        "    질문1: {{question_1}},\n",
        "    질문2: {{question_2}},\n",
        "    질문3: {{question_3}}\"\"\")\n",
        "])\n",
        "chain_1 = prompt_1 | llm | output_parser\n",
        "\n",
        "# PROMPT2 입력 - 뉴스 기사에 대해 질문의 답변 도출 - chain_2으로 생성\n",
        "prompt_2 = ChatPromptTemplate.from_messages([\n",
        "    (\"system\", \"\"\"너는 뉴스 기사를 읽고, 읽은 내용을 바탕으로 질문에 대해 정확히 답변해\"\"\"), # 페르소나 부여\n",
        "    (\"user\", \"\"\"제시된 서울 지하철 뉴스와 해당 뉴스에 대한 3가지 질문에 대해 답변해줘.\n",
        "    예시= \"1번, 5번, 4번\",\n",
        "    뉴스= {input}\n",
        "    질문= {question}\n",
        "    \"\"\"),\n",
        "    (\"system\", \"\"\"템플릿:\n",
        "    답변1: {{answer_1}}번,\n",
        "    답변2: {{answer_2}}번,\n",
        "    답변3: {{answer_3}}번\"\"\")\n",
        "])\n",
        "chain_2 = prompt_2 | llm | output_parser\n",
        "\n",
        "# PROMPT3 입력 - 블로그글에 대해 질문의 답변 도출 - chain_3으로 생성\n",
        "prompt_3 = ChatPromptTemplate.from_messages([\n",
        "    (\"system\", \"\"\"너는 블로그 글을 읽고, 읽은 내용을 바탕으로 질문에 대해 정확히 답변해\"\"\"), # 페르소나 부여\n",
        "    (\"user\", \"\"\"제시된 서울 지하철 뉴스와 해당 뉴스에 대한 3가지 질문에 대해 답변해줘.\n",
        "    예시= \"1번, 5번, 4번\",\n",
        "    블로그 글= {input}\n",
        "    질문= {question}\n",
        "    \"\"\"),\n",
        "    (\"system\", \"\"\"템플릿:\n",
        "    답변1: {{answer_1}}번,\n",
        "    답변2: {{answer_2}}번,\n",
        "    답변3: {{answer_3}}번\"\"\")\n",
        "])\n",
        "chain_3 = prompt_3 | llm | output_parser\n",
        "\n",
        "\n",
        "\n",
        "# 함수(제목, 날짜, 본문이 따로 추출된 경우)\n",
        "def quan_eval_1(title, date, article, blog):\n",
        "  # news = 제목 + 날짜 + 본문\n",
        "  news = f\"\"\"<뉴스 제목>: {news_title},\n",
        "  <뉴스 생성일자>: {news_date},\n",
        "  <뉴스 본문>: {news_article}\"\"\"\n",
        "\n",
        "  # news 기반으로 질문 3개 생성\n",
        "  question_list = chain_1.invoke({\"input\": news})\n",
        "\n",
        "  # 질문 3개에 대해 news 기반으로 답변\n",
        "  answer_list_news = chain_2.invoke({\"input\": news, \"question\": question_list})\n",
        "\n",
        "  # 질문 3개에 대해 blog 기반으로 답변\n",
        "  answer_list_blog = chain_3.invoke({\"input\": blog, \"question\": question_list})\n",
        "\n",
        "  # 일치 여부 판단(True/False)\n",
        "  return answer_list_news == answer_list_blog\n",
        "\n",
        "\n",
        "\n",
        "# 함수(제목, 날짜, 본문이 따로 추출된 경우)\n",
        "def quan_eval_2(news, blog):\n",
        "\n",
        "  # news 기반으로 질문 3개 생성\n",
        "  question_list = chain_1.invoke({\"input\": news})\n",
        "\n",
        "  # 질문 3개에 대해 news 기반으로 답변\n",
        "  answer_list_news = chain_2.invoke({\"input\": news, \"question\": question_list})\n",
        "\n",
        "  # 질문 3개에 대해 blog 기반으로 답변\n",
        "  answer_list_blog = chain_3.invoke({\"input\": blog, \"question\": question_list})\n",
        "\n",
        "  # 일치 여부 판단(True/False)\n",
        "  return answer_list_news == answer_list_blog"
      ],
      "metadata": {
        "id": "ChfQwmoQ8-zQ"
      },
      "execution_count": 41,
      "outputs": []
    },
    {
      "cell_type": "markdown",
      "source": [
        "### **✦ 논의사항**\n",
        "- 하나의 기사-블로그 쌍에 대해 **질문 몇 개씩** 만들건지?\n",
        "    - 현재 **3**개로 설정해 둔 상태\n",
        "\n",
        "- **점수 부여**는 어떤 식으로 진행할 것인지?\n",
        "        * 세개 중에서 맞는 것도, 틀린 것도 생길 것.\n",
        "            * 후보1) 하나라도 틀리면 False 로 처리 > 현재 이렇게 설정해 둔 상태\n",
        "            * 후보2) 1개까지는/2개까지.... 는 틀려도 True로 처리\n",
        "            * 후보3) 틀린 개수에 비례하게 총점에서 감점시키기\n"
      ],
      "metadata": {
        "id": "GkI1SlVeAURL"
      }
    },
    {
      "cell_type": "markdown",
      "source": [
        "# **📍6. 다른 뉴스-블로그 쌍에 적용**\n",
        "\n",
        "- 가장 최근에 업데이트 된 프롬프트로 만든 블로그글로 테스트\n",
        "- 사용한 파일 명세\n",
        "  - 파업글: strikeresult.csv\n",
        "  - 연착글: delayresult.csv\n",
        "  - 시간표글: timeresult.csv"
      ],
      "metadata": {
        "id": "gGfKBLEeByIt"
      }
    },
    {
      "cell_type": "markdown",
      "source": [
        "## **6-1. 데이터 불러오기**"
      ],
      "metadata": {
        "id": "gj62quAeDHfi"
      }
    },
    {
      "cell_type": "code",
      "source": [
        "strike_data = pd.read_csv(\"/content/drive/MyDrive/DSCapstone/strikresult.csv\", index_col=0) # 파업\n",
        "delay_data = pd.read_csv(\"/content/drive/MyDrive/DSCapstone/delayresult.csv\", index_col=0) # 지연\n",
        "time_data = pd.read_csv(\"/content/drive/MyDrive/DSCapstone/timeresult.csv\", index_col=0) # 시간표"
      ],
      "metadata": {
        "id": "Xun48gPWDIgR"
      },
      "execution_count": 36,
      "outputs": []
    },
    {
      "cell_type": "code",
      "source": [
        "strike_data.head(1)"
      ],
      "metadata": {
        "colab": {
          "base_uri": "https://localhost:8080/",
          "height": 98
        },
        "id": "jG3yY7UgDGqy",
        "outputId": "ca95b598-91a1-4c7b-ca45-7affe3713145"
      },
      "execution_count": 37,
      "outputs": [
        {
          "output_type": "execute_result",
          "data": {
            "text/plain": [
              "                                                text  \\\n",
              "0  \\n“파업소식에 1시간 일찍 출근”…기차 취소돼 급히 버스 예매도\\n중앙일보\\n입력...   \n",
              "\n",
              "                                              output Consistency Coherence  \\\n",
              "0  **교통 대란 주의보! 전국 철도 파업, 대체 교통수단은?**\\n\\n안녕하세요, 여...  {score: 5}         4   \n",
              "\n",
              "   Friendliness  Fluency  Humanlikeness Readability  \n",
              "0             3        5              4           4  "
            ],
            "text/html": [
              "\n",
              "  <div id=\"df-b1df9470-5883-4446-a06f-07f46b069b6a\" class=\"colab-df-container\">\n",
              "    <div>\n",
              "<style scoped>\n",
              "    .dataframe tbody tr th:only-of-type {\n",
              "        vertical-align: middle;\n",
              "    }\n",
              "\n",
              "    .dataframe tbody tr th {\n",
              "        vertical-align: top;\n",
              "    }\n",
              "\n",
              "    .dataframe thead th {\n",
              "        text-align: right;\n",
              "    }\n",
              "</style>\n",
              "<table border=\"1\" class=\"dataframe\">\n",
              "  <thead>\n",
              "    <tr style=\"text-align: right;\">\n",
              "      <th></th>\n",
              "      <th>text</th>\n",
              "      <th>output</th>\n",
              "      <th>Consistency</th>\n",
              "      <th>Coherence</th>\n",
              "      <th>Friendliness</th>\n",
              "      <th>Fluency</th>\n",
              "      <th>Humanlikeness</th>\n",
              "      <th>Readability</th>\n",
              "    </tr>\n",
              "  </thead>\n",
              "  <tbody>\n",
              "    <tr>\n",
              "      <th>0</th>\n",
              "      <td>\\n“파업소식에 1시간 일찍 출근”…기차 취소돼 급히 버스 예매도\\n중앙일보\\n입력...</td>\n",
              "      <td>**교통 대란 주의보! 전국 철도 파업, 대체 교통수단은?**\\n\\n안녕하세요, 여...</td>\n",
              "      <td>{score: 5}</td>\n",
              "      <td>4</td>\n",
              "      <td>3</td>\n",
              "      <td>5</td>\n",
              "      <td>4</td>\n",
              "      <td>4</td>\n",
              "    </tr>\n",
              "  </tbody>\n",
              "</table>\n",
              "</div>\n",
              "    <div class=\"colab-df-buttons\">\n",
              "\n",
              "  <div class=\"colab-df-container\">\n",
              "    <button class=\"colab-df-convert\" onclick=\"convertToInteractive('df-b1df9470-5883-4446-a06f-07f46b069b6a')\"\n",
              "            title=\"Convert this dataframe to an interactive table.\"\n",
              "            style=\"display:none;\">\n",
              "\n",
              "  <svg xmlns=\"http://www.w3.org/2000/svg\" height=\"24px\" viewBox=\"0 -960 960 960\">\n",
              "    <path d=\"M120-120v-720h720v720H120Zm60-500h600v-160H180v160Zm220 220h160v-160H400v160Zm0 220h160v-160H400v160ZM180-400h160v-160H180v160Zm440 0h160v-160H620v160ZM180-180h160v-160H180v160Zm440 0h160v-160H620v160Z\"/>\n",
              "  </svg>\n",
              "    </button>\n",
              "\n",
              "  <style>\n",
              "    .colab-df-container {\n",
              "      display:flex;\n",
              "      gap: 12px;\n",
              "    }\n",
              "\n",
              "    .colab-df-convert {\n",
              "      background-color: #E8F0FE;\n",
              "      border: none;\n",
              "      border-radius: 50%;\n",
              "      cursor: pointer;\n",
              "      display: none;\n",
              "      fill: #1967D2;\n",
              "      height: 32px;\n",
              "      padding: 0 0 0 0;\n",
              "      width: 32px;\n",
              "    }\n",
              "\n",
              "    .colab-df-convert:hover {\n",
              "      background-color: #E2EBFA;\n",
              "      box-shadow: 0px 1px 2px rgba(60, 64, 67, 0.3), 0px 1px 3px 1px rgba(60, 64, 67, 0.15);\n",
              "      fill: #174EA6;\n",
              "    }\n",
              "\n",
              "    .colab-df-buttons div {\n",
              "      margin-bottom: 4px;\n",
              "    }\n",
              "\n",
              "    [theme=dark] .colab-df-convert {\n",
              "      background-color: #3B4455;\n",
              "      fill: #D2E3FC;\n",
              "    }\n",
              "\n",
              "    [theme=dark] .colab-df-convert:hover {\n",
              "      background-color: #434B5C;\n",
              "      box-shadow: 0px 1px 3px 1px rgba(0, 0, 0, 0.15);\n",
              "      filter: drop-shadow(0px 1px 2px rgba(0, 0, 0, 0.3));\n",
              "      fill: #FFFFFF;\n",
              "    }\n",
              "  </style>\n",
              "\n",
              "    <script>\n",
              "      const buttonEl =\n",
              "        document.querySelector('#df-b1df9470-5883-4446-a06f-07f46b069b6a button.colab-df-convert');\n",
              "      buttonEl.style.display =\n",
              "        google.colab.kernel.accessAllowed ? 'block' : 'none';\n",
              "\n",
              "      async function convertToInteractive(key) {\n",
              "        const element = document.querySelector('#df-b1df9470-5883-4446-a06f-07f46b069b6a');\n",
              "        const dataTable =\n",
              "          await google.colab.kernel.invokeFunction('convertToInteractive',\n",
              "                                                    [key], {});\n",
              "        if (!dataTable) return;\n",
              "\n",
              "        const docLinkHtml = 'Like what you see? Visit the ' +\n",
              "          '<a target=\"_blank\" href=https://colab.research.google.com/notebooks/data_table.ipynb>data table notebook</a>'\n",
              "          + ' to learn more about interactive tables.';\n",
              "        element.innerHTML = '';\n",
              "        dataTable['output_type'] = 'display_data';\n",
              "        await google.colab.output.renderOutput(dataTable, element);\n",
              "        const docLink = document.createElement('div');\n",
              "        docLink.innerHTML = docLinkHtml;\n",
              "        element.appendChild(docLink);\n",
              "      }\n",
              "    </script>\n",
              "  </div>\n",
              "\n",
              "\n",
              "    </div>\n",
              "  </div>\n"
            ],
            "application/vnd.google.colaboratory.intrinsic+json": {
              "type": "dataframe",
              "variable_name": "strike_data",
              "summary": "{\n  \"name\": \"strike_data\",\n  \"rows\": 5,\n  \"fields\": [\n    {\n      \"column\": \"text\",\n      \"properties\": {\n        \"dtype\": \"string\",\n        \"num_unique_values\": 5,\n        \"samples\": [\n          \"\\n\\u201c\\uac71\\uc815\\ub3fc\\uc11c \\uc77c\\ucc0d \\ub098\\uc654\\ub2e4\\u201d\\u2026\\uc9c0\\ud558\\ucca0 \\uacbd\\uace0 \\ud30c\\uc5c5 \\uccab\\ub0a0, \\ud1f4\\uadfc\\uae38 \\ud63c\\uc7a1\\ub3c4\\u2191\\n\\uc785\\ub825 : 2023.11.09 19:11\\n\\n\\\"\\uad50\\ud1b5\\uacf5\\uc0ac \\ub178\\uc870 \\ud30c\\uc5c5\\uc73c\\ub85c \\uc778\\ud574 \\uc5f4\\ucc28 \\uc6b4\\ud589 \\uc9c0\\uc5f0\\ub420 \\uc218 \\uc788\\uc2b5\\ub2c8\\ub2e4. \\uc7a5\\uc2dc\\uac04 \\uc9c0\\uc5f0 \\uc2dc \\ub2e4\\ub978 \\uad50\\ud1b5\\uc218\\ub2e8\\uc744 \\uc774\\uc6a9\\ud574 \\uc8fc\\uc2dc\\uae30 \\ubc14\\ub78d\\ub2c8\\ub2e4.\\u201d\\n\\n\\uc11c\\uc6b8 \\uc9c0\\ud558\\ucca0 1~8\\ud638\\uc120\\uc744 \\uc6b4\\uc601\\ud558\\ub294 \\uc11c\\uc6b8\\uad50\\ud1b5\\uacf5\\uc0ac \\ub178\\uc870\\uc758 \\uacbd\\uace0 \\ud30c\\uc5c5\\uc774 \\uc2dc\\uc791\\ub41c 9\\uc77c, \\uc11c\\uc6b8 \\uc804\\uc5ed \\uc9c0\\ud558\\ucca0 \\uc5ed\\uc0ac\\uc5d0\\uc11c \\uc774\\uac19\\uc740 \\uc548\\ub0b4 \\ubc29\\uc1a1\\uc774 \\uc885\\uc77c \\ud758\\ub7ec\\ub098\\uc654\\ub2e4. \\uc9c0\\ud558\\ucca0 \\uac1c\\ucc30\\uad6c\\uc640 \\uc2b9\\uac15\\uc7a5 \\uacf3\\uacf3\\uc5d0\\ub294 \\u201c\\uc548\\uc804\\uc778\\ub825 \\uac10\\ucd95, \\uc2dc\\ubbfc\\u00b7\\ub178\\ub3d9\\uc790 \\uc548\\uc804\\uc740 \\ub204\\uac00 \\uc9c0\\ud0b5\\ub2c8\\uae4c\\u201d \\u201c\\uc2dc\\ubbfc \\ubd80\\ub2f4 \\uc804\\uac00, \\ub178\\ub3d9 \\uc548\\uc804 \\ud30c\\uad34, \\uc989\\uac01 \\uc911\\ub2e8\\ud558\\ub77c\\u201d \\ub4f1\\uc774 \\uc801\\ud78c \\ub178\\uc870 \\ud64d\\ubcf4\\ubb3c\\uc774 \\ubd99\\uc5c8\\ub2e4. \\uc624\\ud6c4 6\\uc2dc\\ucbe4 5\\ud638\\uc120 \\uc11c\\ub300\\ubb38\\uc5ed\\uc5d0\\uc11c \\ub9cc\\ub09c \\uc6d0\\uc0c1\\ud6c8\\uc528(55)\\ub294 \\u201c\\uc9c0\\ud558\\ucca0 \\ud30c\\uc5c5 \\uc18c\\uc2dd\\uc744 \\ub4e3\\uace0 \\ud68c\\uc0ac\\uc5d0\\uc11c \\uc77c\\ucc0d \\ucd9c\\ubc1c\\ud588\\ub2e4\\u201d\\uba74\\uc11c \\u201c\\uac71\\uc815\\ub3fc\\uc11c \\uc804\\ucca0\\uc5ed\\uae4c\\uc9c0 7\\ubd84 \\uac70\\ub9ac\\ub97c \\ub0b4\\ub0b4 \\ub6f0\\uc5c8\\ub2e4\\u201d\\uace0 \\ub9d0\\ud588\\ub2e4.\\n\\n\\uc11c\\uc6b8\\uad50\\ud1b5\\uacf5\\uc0ac\\uc758 \\ubbfc\\uc8fc\\ub178\\ucd1d \\uc18c\\uc18d \\ub178\\ub3d9\\uc870\\ud569\\uc774 \\uc774\\ub0a0\\ubd80\\ud130 \\uc774\\ud2c0\\uac04 \\uacbd\\uace0\\ud30c\\uc5c5\\uc5d0 \\ub3cc\\uc785\\ud558\\uba74\\uc11c \\uccab\\ub0a0 \\ud1f4\\uadfc\\uae38\\uc5d0 \\uc77c\\ubd80 \\ud63c\\uc7a1\\uc774 \\ubc1c\\uc0dd\\ud588\\ub2e4. \\uc624\\uc804 7~9\\uc2dc \\ucd9c\\uadfc \\uc2dc\\uac04\\ub300\\uc5d0\\ub294 \\uc9c0\\ud558\\ucca0\\uc774 \\uc815\\uc0c1 \\uc6b4\\ud589\\ub410\\uc73c\\ub098 \\ud1f4\\uadfc \\uc2dc\\uac04\\uc778 \\uc624\\ud6c4 6\\uc2dc \\uc774\\ud6c4\\uc5d0\\ub294 \\ubc30\\ucc28 \\uac04\\uaca9\\uc774 \\ub2e4\\uc18c \\ub298\\uac70\\ub098 \\ud3c9\\uc18c \\uc218\\uc900\\uc73c\\ub85c \\uc720\\uc9c0\\ub410\\ub2e4. \\uc77c\\ucc0d \\ud1f4\\uadfc\\uae38\\uc5d0 \\ub098\\uc120 \\uc9c1\\uc7a5\\uc778\\ub4e4\\uc774 \\uc624\\ud6c4 5\\uc2dc\\ubd80\\ud130 \\ubab0\\ub9ac\\uba74\\uc11c \\uc5ed\\uc0ac \\ub0b4\\ubd80\\uac00 \\ube44\\uad50\\uc801 \\uc774\\ub978 \\uc2dc\\uac04\\uc5d0 \\ube7d\\ube7d\\uc774 \\ub4e4\\uc5b4\\ucc3c\\ub2e4. \\uc804\\ucca0\\uc744 \\ud53c\\ud574 \\ubc84\\uc2a4\\ub97c \\ud0c0\\ub824\\ub294 \\uc2dc\\ubbfc\\ub4e4\\ub85c \\ubc84\\uc2a4 \\uc815\\ub958\\uc7a5\\uc5d0 \\uae34 \\ub300\\uae30\\uc904\\uc774 \\uc774\\uc5b4\\uc9c0\\uae30\\ub3c4 \\ud588\\ub2e4.\\n\\n\\uc774\\ub0a0 \\uc624\\ud6c4 5\\uc2dc\\ucbe4\\ubd80\\ud130 \\uc9c0\\ud558\\ucca0\\uc5ed\\uc740 \\uc774\\ub978 \\ud1f4\\uadfc\\uae38\\uc5d0 \\ub098\\uc120 \\uc774\\ub4e4\\ub85c \\ubd90\\ubcd0\\ub2e4. \\uc624\\ud6c4 5\\uc2dc30\\ubd84\\ucbe4 5\\ud638\\uc120 \\uc11c\\ub300\\ubb38\\uc5ed\\uc5d0\\uc11c \\ub9cc\\ub09c \\uae40\\ubaa8\\uc528(47)\\ub294 \\u201c\\ub274\\uc2a4\\ub97c \\ubcf4\\uace0 \\uc9c0\\ud558\\ucca0 (\\ub178\\ub3d9\\uc790\\ub4e4\\uc774) \\ud30c\\uc5c5\\ud55c\\ub2e4\\ub294 \\uc0ac\\uc2e4\\uc744 \\uc54c\\uc558\\ub2e4\\u201d\\uba74\\uc11c \\u201c\\uacf5\\ub355\\uae4c\\uc9c0 \\uac00\\uc57c \\ud558\\ub294\\ub370 10\\ubd84\\uc774 \\uc9c0\\ub098\\ub3c4 \\uc9c0\\ud558\\ucca0\\uc774 \\uc548 \\uc654\\ub2e4\\u201d\\uace0 \\ub9d0\\ud588\\ub2e4. \\uae40\\uc528\\ub294 \\u201c\\uc774\\ubbf8 \\uad50\\ud1b5\\uce74\\ub4dc\\ub97c \\ucc0d\\uace0 \\uac1c\\ucc30\\uad6c \\uc548\\uc73c\\ub85c \\ub4e4\\uc5b4\\uc628 \\uc774\\uc0c1 \\uadf8\\ub0e5 \\uae30\\ub2e4\\ub838\\ub2e4 \\uac00\\ub824\\uace0 \\ud55c\\ub2e4\\u201d\\uace0 \\ud588\\ub2e4. 2\\ud638\\uc120 \\uc131\\uc218\\uc5ed\\uc5d0\\uc11c \\ub9cc\\ub09c \\uc2ec\\uc601\\ud6c8\\uc528(26)\\ub3c4 \\u201c\\ud3c9\\uc18c\\uc640 \\ub2e4\\ub978 \\uacbd\\ub85c\\ub85c \\ud1f4\\uadfc\\ud558\\uc9c4 \\uc54a\\ub354\\ub77c\\ub3c4 (\\uc5f4\\ucc28 \\uc9c0\\uc5f0\\uc5d0 \\ub300\\ube44\\ud574) \\uc870\\uae08 \\uc77c\\ucc0d \\uc9d1\\uc73c\\ub85c \\uac00\\ub824 \\ud55c\\ub2e4\\u201d\\uace0 \\ud588\\ub2e4.\\n\\n\\uc804\\ucca0 \\ud63c\\uc7a1\\uc744 \\ud53c\\ud574 \\ubc84\\uc2a4 \\uc815\\ub958\\uc7a5\\uc73c\\ub85c \\ubc1c\\uae38\\uc744 \\ub3cc\\ub9b0 \\uc774\\ub4e4\\ub3c4 \\uc788\\uc5c8\\ub2e4. \\uc624\\ud6c4 6\\uc2dc30\\ubd84\\ucbe4 \\uc11c\\ub300\\ubb38\\uad6c \\uc11c\\uc6b8\\uc5ed\\uc0ac\\ubc15\\ubb3c\\uad00 \\uc778\\uadfc \\ubc84\\uc2a4 \\uc815\\ub958\\uc7a5\\uc5d0\\uc11c \\ub9cc\\ub09c \\uae40\\ubaa8\\uc528(29)\\ub294 \\u201c\\uc774 \\uc2dc\\uac04\\ub300 \\uc6d0\\ub798 \\uc0ac\\ub78c\\uc774 \\ub9ce\\uae34 \\ud55c\\ub370 \\uc624\\ub298\\uc740 \\uc720\\ub3c5 \\ubc84\\uc2a4\\uc5d0 \\uc0ac\\ub78c\\uc774 \\uaf49 \\ucc2c \\ucc44\\ub85c \\uc624\\ub294 \\uac83 \\uac19\\ub2e4\\u201d\\uba74\\uc11c \\u201c\\uc9c0\\ud558\\ucca0 \\ud30c\\uc5c5 \\ub54c\\ubb38\\uc5d0 \\uc0ac\\ub78c\\ub4e4\\uc774 \\uc5ec\\uae30\\ub85c \\ubab0\\ub9b0 \\uac83 \\uac19\\ub2e4\\u201d\\uace0 \\ud588\\ub2e4.\\n\\n\\ucd9c\\u00b7\\ud1f4\\uadfc\\uae38\\uc5d0 \\ub9cc\\ub09c \\uc2dc\\ubbfc\\ub4e4\\uc740 \\ud30c\\uc5c5\\uc5d0 \\ub300\\ud574 \\uc798 \\ubaa8\\ub974\\ub294 \\uacbd\\uc6b0\\uac00 \\ub9ce\\uc558\\ub2e4. \\uc11c\\ub300\\ubb38\\uc5ed\\uc5d0\\uc11c \\uc655\\uc2ed\\ub9ac\\uc5ed\\uae4c\\uc9c0 30\\ubd84 \\uac70\\ub9ac\\ub97c \\ud1f4\\uadfc\\ud55c\\ub2e4\\ub294 \\uc2e0\\uc9c4\\uc6b1\\uc528(38)\\ub294 \\u201c\\ubc84\\uc2a4 \\ud0c8\\uae4c, \\uc7a0\\uc2dc \\uace0\\ubbfc\\uc744 \\ud558\\ub2e4\\uac00 \\uadf8\\ub0e5 \\ubab8\\uc774 \\uc774\\ub044\\ub294 \\ub300\\ub85c \\uc9c0\\ud558\\ucca0\\ub85c \\uc654\\ub2e4\\u201d\\uba74\\uc11c \\u201c\\ud30c\\uc5c5\\uc758 \\uad6c\\uccb4\\uc801\\uc778 \\ubc30\\uacbd\\uc740 \\uc798 \\ubaa8\\ub974\\ub294\\ub370, \\uc5b4\\ub5a4 \\uc774\\uc720\\uc778\\uc9c0 \\uad81\\uae08\\ud558\\uae34 \\ud558\\ub2e4\\u201d\\uace0 \\ud588\\ub2e4.\\n\\n\\ub178\\uc870\\uc758 \\ud30c\\uc5c5 \\ubc30\\uacbd\\uc740 \\uacf5\\uc0ac\\uc758 \\u2018\\uc778\\ub825 \\uac10\\ucd95\\u2019\\uc774\\ub2e4. \\uacf5\\uc0ac\\ub294 2026\\ub144\\uae4c\\uc9c0 2212\\uba85\\uc758 \\uc778\\ub825\\uc744 \\uc904\\uc774\\uaca0\\ub2e4\\ub294 \\uacc4\\ud68d\\uc744 \\ucd5c\\uadfc \\ub178\\uc870\\uc5d0 \\uc81c\\uc2dc\\ud588\\ub2e4. \\uacf5\\uc0ac \\uc804\\uccb4 \\uc815\\uc6d0\\uc758 \\uc57d 13.5% \\uc218\\uc900\\uc774\\ub2e4. \\uacf5\\uc0ac\\ub294 \\uc5f0 1\\uc870\\uc6d0 \\uc548\\ud30e\\uc758 \\ub300\\uaddc\\ubaa8 \\uc801\\uc790\\ub97c \\uc904\\uc774\\uae30 \\uc704\\ud574 \\uc778\\ub825 \\uac10\\ucd95\\uc774 \\ubd88\\uac00\\ud53c\\ud558\\ub2e4\\ub294 \\uc785\\uc7a5\\uc774\\ub2e4. \\ubc18\\uba74 \\ub178\\uc870 \\uce21\\uc740 \\ubb34\\ub9ac\\ud55c \\uc778\\ub825 \\uac10\\ucd95\\uc774 \\uc2dc\\ubbfc\\uc758 \\uc548\\uc804 \\ubb38\\uc81c\\uc640 \\uc9c1\\uacb0\\ub420 \\uc218 \\uc788\\ub2e4\\uba70 \\uac10\\ucd95\\uc548 \\ucca0\\ud68c\\ub97c \\uc694\\uad6c\\ud558\\uace0 \\uc788\\ub2e4.\\n\\n\\uc2dc\\ubbfc\\ub4e4 \\uc0ac\\uc774\\uc5d0\\uc120 \\uc774\\ubc88 \\ud30c\\uc5c5\\uc744 \\ub450\\uace0 \\uc0c1\\ubc18\\ub41c \\ubc18\\uc751\\uc774 \\ub098\\uc654\\ub2e4. \\uc624\\uc804 9\\uc2dc\\ucbe4 \\uad11\\ud654\\ubb38\\uc5ed \\uc2b9\\uac15\\uc7a5\\uc5d0\\uc11c \\uc5f4\\ucc28\\ub97c \\uae30\\ub2e4\\ub9ac\\ub358 \\uc774\\ubaa8\\uc528(60)\\ub294 \\u201c\\ud30c\\uc5c5\\uc744 \\ud558\\ub294 \\uac83\\uc740 \\ub178\\ub3d9\\uc790\\uc758 \\ub2f9\\uc5f0\\ud55c \\uad8c\\ub9ac\\u201d\\ub77c\\uba74\\uc11c \\u201c\\uc2dc\\ubbfc\\ub4e4\\uc5d0\\uac8c \\ubd88\\ud3b8\\uc774 \\uc788\\ub2e4 \\ud558\\ub354\\ub77c\\ub3c4 \\uc77c\\uc0c1\\uc5d0 \\ud06c\\uac8c \\uc9c0\\uc7a5\\uc774 \\uac00\\ub294 \\uac83\\uc740 \\uc544\\ub2c8\\ub2e4\\u201d\\ub77c\\uace0 \\ud588\\ub2e4. \\uadf8\\ub294 \\u201c\\uc778\\ub825 \\uac10\\ucd95 \\ub54c\\ubb38\\uc5d0 \\ud30c\\uc5c5\\ud55c\\ub2e4\\uace0 \\ub4e4\\uc5c8\\ub294\\ub370, \\uc778\\ub825\\uc744 \\uc904\\uc774\\uba74 \\uc0ac\\uace0 \\ub0a0 \\uc704\\ud5d8\\ub3c4 \\ucee4\\uc9c0\\uc9c0 \\uc54a\\uaca0\\ub098\\u201d\\ub77c\\uace0 \\ud588\\ub2e4. \\ubc18\\uba74 5\\ud638\\uc120 \\ub9c8\\ucc9c\\uc5ed\\uc5d0\\uc11c \\uad11\\ud654\\ubb38\\uc5ed\\uc73c\\ub85c \\ucd9c\\u00b7\\ud1f4\\uadfc\\ud55c\\ub2e4\\ub294 \\uc774\\uc6a9\\uc528(69)\\ub294 \\u201c\\uc870\\uc9c1\\uc774 \\ube44\\ub300\\ud574\\uc84c\\uc73c\\uba74 \\uaddc\\ubaa8\\ub97c \\uc904\\uc774\\ub294 \\uac83\\ub3c4 \\ud544\\uc694\\ud558\\ub2e4\\u201d\\uba74\\uc11c \\u201c\\ud30c\\uc5c5\\uc744 \\ud558\\ub354\\ub77c\\ub3c4 \\uacf5\\uac10\\ub300\\uac00 \\ud615\\uc131\\ub3fc\\uc57c \\ud558\\ub294\\ub370, \\uc9c0\\uae08\\uc740 \\ubc18\\ub300\\ub9cc \\ud558\\ub294 \\uc815\\uce58\\uc801 \\ud30c\\uc5c5\\uc73c\\ub85c \\ubcf4\\uc778\\ub2e4\\u201d\\uace0 \\ud588\\ub2e4.\\n\\n\\n\",\n          \"\\n\\uc804\\uc7a5\\uc5f0 \\u201c4\\ud638\\uc120\\uc11c \\ud3c9\\uc77c 1\\ub144 \\ub0b4\\ub0b4 \\uc2dc\\uc704\\u201d \\uc624\\uc138\\ud6c8 \\u201c\\ubb34\\uad00\\uc6a9 \\uac15\\ub825 \\ub300\\uc751\\u201d\\n\\uc911\\uc559\\uc77c\\ubcf4\\n\\uc785\\ub825 2023.01.04 00:02\\n\\n\\uc804\\uad6d\\uc7a5\\uc560\\uc778\\ucc28\\ubcc4\\ucca0\\ud3d0\\uc5f0\\ub300(\\uc804\\uc7a5\\uc5f0)\\uac00 \\uc774\\ub3d9\\uad8c \\uc608\\uc0b0 \\ud655\\ubcf4\\ub97c \\uc694\\uad6c\\ud558\\uba70 3\\uc77c \\uc11c\\uc6b8\\uc9c0\\ud558\\ucca0 4\\ud638\\uc120\\uc5d0\\uc11c \\uc774\\ud2c0\\uc9f8 \\uc2dc\\uc704\\ub97c \\ubc8c\\uc600\\ub2e4.\\n\\n\\uc11c\\uc6b8\\uad50\\ud1b5\\uacf5\\uc0ac\\uc640 \\uacbd\\ucc30\\uc774 \\uc774\\ub4e4\\uc758 \\uc2b9\\ucc28 \\uc2dc\\uc704\\ub97c \\uc800\\uc9c0\\ud558\\uace0 \\ub098\\uc11c\\uba74\\uc11c 6\\uc2dc\\uac04\\uac00\\ub7c9 \\ub300\\uce58\\uc640 \\ucda9\\ub3cc\\uc774 \\uac70\\ub4ed\\ub410\\ub2e4. \\uc804\\uc7a5\\uc5f0\\uc740 \\uc62c\\ud574 \\uc8fc\\ub9d0\\uacfc \\uacf5\\ud734\\uc77c\\uc744 \\uc81c\\uc678\\ud558\\uace0 260\\uc77c \\ub0b4\\ub0b4 \\ucd9c\\uadfc\\uae38 \\uc120\\uc804\\uc804\\uc5d0 \\ub098\\uc11c\\uaca0\\ub2e4\\ub294 \\uc785\\uc7a5\\uc774\\ub2e4.\\n\\n\\uc2dc\\uc704\\ub294 \\uc774\\ub0a0 \\uc624\\uc804 8\\uc2dc\\ucbe4 \\uc131\\uc2e0\\uc5ec\\ub300\\uc785\\uad6c\\uc5ed\\uc5d0\\uc11c \\uc2dc\\uc791\\ub410\\ub2e4. \\uc774\\ud6c4 \\uc804\\uc7a5\\uc5f0 \\ud68c\\uc6d0 20\\uc5ec \\uba85\\uc774 \\uc804\\ub3d9\\ucc28\\ub97c \\ud0c0\\uace0 \\ub3d9\\ub300\\ubb38\\uc5ed\\uc0ac\\ubb38\\ud654\\uacf5\\uc6d0\\uc5ed\\uacfc \\uc0bc\\uac01\\uc9c0\\uc5ed\\uc73c\\ub85c \\uac01\\uac01 \\uc774\\ub3d9\\ud574 \\uc2dc\\uc704\\ub97c \\uc774\\uc5b4\\uac14\\ub2e4. \\ud604\\uc7a5\\uc5d0\\uc120 \\uc804\\ub3d9\\ucc28\\uc5d0 \\ud0c0\\ub824\\ub294 \\uc804\\ub3d9\\ud720\\uccb4\\uc5b4\\uc640 \\uc774\\ub97c \\uac00\\ub85c\\ub9c9\\ub294 \\uacbd\\ucc30\\uc774 \\ucda9\\ub3cc\\ud558\\uace0, \\uc2b9\\uac15\\uc7a5 \\uacf3\\uacf3\\uc5d0\\uc11c \\u201c\\uc7a5\\uc560\\uc778\\ub3c4 \\uc2dc\\ubbfc\\uc774\\ub2e4. \\uc774\\ub3d9\\uad8c\\uc744 \\ubcf4\\uc7a5\\ud558\\ub77c\\u201d\\ub294 \\uad6c\\ud638\\uc640 \\ube44\\uba85\\uc774 \\ub3d9\\uc2dc\\uc5d0 \\ud130\\uc838 \\ub098\\uc654\\ub2e4. \\uacf5\\uc0ac \\uce21\\uc740 \\uc5ed\\ub0b4 \\ubc29\\uc1a1 \\ub4f1\\uc744 \\ud1b5\\ud574 \\u201c\\uc989\\uc2dc \\uc2dc\\uc704\\ub97c \\uc911\\ub2e8\\ud558\\uace0 \\uc5ed\\uc0ac \\ubc16\\uc73c\\ub85c \\ud1f4\\uac70\\ud558\\ub77c\\u201d\\uace0 \\uacbd\\uace0 \\ubc29\\uc1a1\\uc744 \\ud588\\ub2e4.\\n\\ubd80\\uc0c1\\uc790\\ub3c4 \\ubc1c\\uc0dd\\ud588\\ub2e4. \\uc624\\uc804 9\\uc2dc\\ucbe4 \\uad6c\\uae30\\uc815 \\uc0bc\\uac01\\uc9c0\\uc5ed\\uc7a5\\uc774 \\uc5ed\\ub0b4\\uc5d0\\uc11c \\uc804\\ub3d9\\ud720\\uccb4\\uc5b4\\uc640 \\ubd80\\ub52a\\ud788\\uba70 \\uc4f0\\ub7ec\\uc838 \\ubcd1\\uc6d0\\uc73c\\ub85c \\uc62e\\uaca8\\uc84c\\ub2e4. \\uad6c \\uc5ed\\uc7a5\\uc740 \\uc911\\uc559\\uc77c\\ubcf4\\uc5d0 \\u201c\\ud798\\uc774 \\uac15\\ud55c \\uc804\\ub3d9\\ud720\\uccb4\\uc5b4\\uac00 \\ub3cc\\uc9c4\\ud574 \\uc654\\ub2e4\\u201d\\uba70 \\u201c\\ud568\\uaed8 \\ud604\\uc7a5\\uc5d0 \\uc788\\uc5c8\\ub358 \\uc9c0\\ud558\\ucca0 \\ubcf4\\uc548\\uad00 \\ud55c \\uba85\\ub3c4 \\ud720\\uccb4\\uc5b4\\uc5d0 \\uae54\\ub824 \\uc9c4\\ub8cc\\ub97c \\ubc1b\\uc558\\ub2e4\\u201d\\uace0 \\uc804\\ud588\\ub2e4. \\uc624\\uc804 11\\uc2dc20\\ubd84\\ucbe4\\uc5d4 \\ub3d9\\ub300\\ubb38\\uc5ed\\uc0ac\\ubb38\\ud654\\uacf5\\uc6d0\\uc5ed\\uc5d0\\uc11c \\ube44\\uc7a5\\uc560\\uc778 \\ud68c\\uc6d0\\uc774 \\uacbd\\ucc30\\uacfc \\ucda9\\ub3cc\\ud558\\ub294 \\uacfc\\uc815\\uc5d0\\uc11c \\uc190\\uac00\\ub77d\\uc744 \\ub2e4\\ucce4\\ub2e4. \\uc804\\ub0a0\\uc5d0\\ub3c4 \\uc591\\uce21\\uc758 \\ucda9\\ub3cc\\ub85c \\uacbd\\ucc30 3\\uba85, \\uc804\\uc7a5\\uc5f0 \\ud68c\\uc6d0 2\\uba85\\uc774 \\ubd80\\uc0c1\\ud588\\ub2e4.\\n\\n\\uc2dc\\uc704\\ub97c \\uc9c0\\ucf1c\\ubcf8 \\uc2dc\\ubbfc \\uc11c\\uc548\\uc11d(73)\\uc528\\ub294 \\u201c\\ub098\\uac00\\ub824\\uace0 \\ud558\\ub294\\ub370 \\ub108\\ubb34 \\ubcf5\\uc7a1\\ud558\\ub2e4. \\uc774\\ub7f0 \\uc0c1\\ud669\\uc778 \\uc904 \\uc54c\\uc558\\ub2e4\\uba74 \\uc624\\uc9c0 \\uc54a\\uc558\\uc744 \\uac83\\u201d\\uc774\\ub77c\\uba70 \\ubd88\\ud3b8\\uc744 \\ud638\\uc18c\\ud588\\ub2e4. \\ucd5c\\uc120\\ubbf8(30)\\uc528\\ub294 \\u201c\\ud3c9\\uc18c\\uc5d0 \\uc804\\uc7a5\\uc5f0 \\uc2dc\\uc704\\ub97c \\ubc18\\ub300\\ud558\\uc9c4 \\uc54a\\uc558\\uc9c0\\ub9cc \\uc801\\uc5b4\\ub3c4 \\uc5b4\\ub514\\uc11c \\ud558\\ub294\\uc9c0\\ub294 \\uacf5\\uc9c0\\uac00 \\ub410\\uc73c\\uba74 \\uc88b\\uaca0\\ub2e4\\u201d\\uace0 \\ub9d0\\ud588\\ub2e4.\\n\\n\\uc804\\uc7a5\\uc5f0 \\uce21\\uc740 \\ub300\\ud1b5\\ub839\\uc5d0\\uac8c \\ud638\\uc18c\\ud558\\ub824\\uba74 \\uc6a9\\uc0b0 \\uc0bc\\uac01\\uc9c0\\uc5ed\\uc744 \\uc9c0\\ub098\\ub294 4\\ud638\\uc120\\uc744 \\ud0dd\\ud560 \\uc218\\ubc16\\uc5d0 \\uc5c6\\uc5c8\\ub2e4\\uba70 \\u201c\\uc2dc\\ubbfc\\ub4e4\\uc5d0\\uac8c \\ubb34\\uac70\\uc6b4 \\ub9c8\\uc74c\\uc73c\\ub85c \\uc8c4\\uc1a1\\ud568\\uc744 \\ud45c\\ud55c\\ub2e4\\u201d\\uace0 \\ubc1d\\ud614\\ub2e4. \\ubc15\\uacbd\\uc11d \\uc804\\uc7a5\\uc5f0 \\uc0c1\\uc784\\uacf5\\ub3d9\\ub300\\ud45c\\ub294 \\u201c\\uc7a5\\uc560\\uc778\\uc5d0\\uac8c \\uc608\\uc0b0\\uc744 \\ub2e4 \\ucc59\\uaca8\\uc8fc\\uba74 \\ub098\\ub77c\\uac00 \\ub9dd\\ud55c\\ub2e4\\uace0 \\ud588\\ub358 \\uae30\\ud68d\\uc7ac\\uc815\\ubd80\\uac00 \\uc9c4\\uc815\\uc73c\\ub85c \\uc6b0\\ub9ac\\ub97c \\ub9cc\\ub098\\ub824\\uace0 \\ud55c\\ub2e4\\uba74 \\uc120\\uc804\\uc804\\uc744 \\uc720\\ubcf4\\ud558\\uaca0\\ub2e4\\u201d\\uba70 \\u201c\\ucd94\\ud6c4 \\uc2dc\\uc704\\ub294 (\\uc624\\ub298\\ucc98\\ub7fc) \\uc624\\uc804 8\\uc2dc\\uc5d0 \\uacf5\\uc9c0\\ub420 \\uac83\\u201d\\uc774\\ub77c\\uace0 \\ub9d0\\ud588\\ub2e4.\\n\\n\\uc11c\\uc6b8\\uc2dc\\uc640 \\uc11c\\uc6b8\\uad50\\ud1b5\\uacf5\\uc0ac\\ub294 \\uac15\\uacbd \\ub300\\uc751\\uc73c\\ub85c \\ub9de\\uc11c\\uace0 \\uc788\\ub2e4. \\uc624\\uc138\\ud6c8 \\uc11c\\uc6b8\\uc2dc\\uc7a5\\uc740 \\uc804\\uc7a5\\uc5f0\\uc774 \\uc2dc\\uc704 \\uc7ac\\uac1c\\ub97c \\uc120\\uc5b8\\ud55c \\ub2e4\\uc74c \\ub0a0\\uc778 \\uc9c0\\ub09c\\ub2ec 26\\uc77c \\u201c\\uc6a9\\ub0a9\\ud560 \\uc218 \\uc5c6\\ub2e4\\u201d\\uace0 \\uacbd\\uace0\\ud55c \\ub370 \\uc774\\uc5b4 \\uc0c8\\ud574 \\uccab\\ub0a0\\uc5d0\\ub294 \\u201c\\ubbfc\\u00b7\\ud615\\uc0ac\\uc801 \\ub300\\uc751\\uc744 \\ub3d9\\uc6d0\\ud574 \\ubb34\\uad00\\uc6a9\\uc73c\\ub85c \\uac15\\ub825\\ud788 \\ub300\\uc751\\ud560 \\uac83\\u201d\\uc774\\ub77c\\uba70 \\ub300\\uc751 \\uc218\\uc704\\ub97c \\ub354 \\ub04c\\uc5b4\\uc62c\\ub838\\ub2e4. \\u2018\\uc57d\\uc790\\uc640\\uc758 \\ub3d9\\ud589\\u2019\\uc744 \\ub0b4\\uc138\\uc6b0\\uba70 \\u201c\\uc2dc\\uc704 \\uc790\\uc81c\\ub97c \\ubd80\\ud0c1\\ud55c\\ub2e4\\u201d\\ub294 \\uc815\\ub3c4\\ub85c \\uc644\\uace1\\ud558\\ub358 \\ubaa8\\uc2b5\\uacfc\\ub294 \\ud655 \\ub2ec\\ub77c\\uc84c\\ub2e4\\ub294 \\ud3c9\\uac00\\uac00 \\ub098\\uc628\\ub2e4. \\uc815\\uce58\\uad8c \\uc77c\\uac01\\uc5d0\\uc120 \\ud55c\\ub3d9\\ud6c8 \\ubc95\\ubb34\\ubd80 \\uc7a5\\uad00\\uc758 \\uc874\\uc7ac\\uac10 \\ubd80\\uac01\\uacfc \\uc2dc\\uc704\\uc5d0 \\uc810\\ucc28 \\ud53c\\ub85c\\uac10\\uc744 \\ubcf4\\uc774\\ub294 \\ubcf4\\uc218\\u00b7\\uc911\\ub3c4\\uce35 \\uc5ec\\ub860, \\ucd5c\\uadfc \\uc724\\uc11d\\uc5f4 \\ub300\\ud1b5\\ub839\\uc758 \\ud654\\ubb3c\\uc5f0\\ub300 \\ud30c\\uc5c5 \\uc6d0\\uce59\\uc801 \\ub300\\uc751\\uc5d0 \\ub300\\ud55c \\ubcf4\\uc218\\u00b7\\uc911\\ub3c4\\uce35 \\uc9c0\\uc9c0\\uc728 \\uc0c1\\uc2b9 \\ub4f1\\uacfc \\ubb34\\uad00\\uce58 \\uc54a\\uc744 \\uac83\\uc774\\ub77c\\ub294 \\ubd84\\uc11d\\uc774 \\ub4a4\\ub530\\ub978\\ub2e4.\\n\\n\\uc11c\\uc6b8\\uad50\\ud1b5\\uacf5\\uc0ac\\ub294 3\\uc77c \\uacf5\\uc0ac\\uc640 \\uc804\\uc7a5\\uc5f0\\uc5d0 \\ub300\\ud55c \\ubc95\\uc6d0 \\uac15\\uc81c\\uc870\\uc815\\uc548\\uc5d0 \\uc774\\uc758\\uc2e0\\uccad\\uc11c\\ub97c \\uc81c\\ucd9c\\ud588\\ub2e4. \\uacf5\\uc0ac\\ub294 \\u201c\\ubc95\\uc6d0\\uc740 5\\ubd84 \\ucd08\\uacfc \\uc2dc\\uc704\\uc5d0 \\ub300\\ud55c \\uae08\\uc561 \\uc9c0\\uae09\\ub9cc \\uaddc\\uc815\\ud588\\uc744 \\ubfd0 \\uc774\\uc678 \\ud589\\uc704\\uc5d0 \\ub300\\ud574\\uc11c\\ub294 \\uc5b8\\uae09\\ud558\\uc9c0 \\uc54a\\uc558\\ub2e4\\u201d\\uba70 \\u201c\\uc870\\uc815\\uc548\\uc744 \\uc218\\uc6a9\\ud560 \\uacbd\\uc6b0 \\uc774\\uc6a9\\uac1d\\uc744 \\ubd88\\ud3b8\\ud558\\uac8c \\ub9cc\\ub4dc\\ub294 \\uc2dc\\uc704\\ub97c \\uacc4\\uc18d \\uc774\\uc5b4\\uac08 \\uc6b0\\ub824\\uac00 \\ud06c\\ub2e4\\u201d\\uace0 \\uc774\\uc758\\uc2e0\\uccad \\uc0ac\\uc720\\ub97c \\ubc1d\\ud614\\ub2e4. \\uc11c\\uc6b8\\uc911\\uc559\\uc9c0\\ubc95\\uc740 \\uc9c0\\ub09c\\ub2ec 19\\uc77c \\uacf5\\uc0ac\\uac00 \\uc804\\uc7a5\\uc5f0\\uc744 \\uc0c1\\ub300\\ub85c \\ub0b8 \\uc190\\ud574\\ubc30\\uc0c1 \\uccad\\uad6c \\uc18c\\uc1a1\\uc5d0\\uc11c \\u2018\\ucd9c\\uadfc\\uae38 \\uc2dc\\uc704\\ub85c \\uc5f4\\ucc28 \\uc6b4\\ud589\\uc774 5\\ubd84 \\uc9c0\\uc5f0\\ub420 \\ub54c\\ub9c8\\ub2e4 \\uc804\\uc7a5\\uc5f0\\uc774 \\uacf5\\uc0ac\\uc5d0 500\\ub9cc\\uc6d0\\uc744 \\uc9c0\\uae09\\ud558\\ub77c\\u2019\\ub294 \\uc870\\uc815\\uc548\\uc744 \\uc81c\\uc2dc\\ud588\\ub2e4.\\n\",\n          \"\\n\\uc11c\\uc6b8 1~8\\ud638\\uc120 \\uc9c0\\ud558\\ucca0, \\uc624\\ub298 \\uc624\\uc804 9\\uc2dc\\ubd80\\ud130 \\u2018\\uacbd\\uace0 \\ud30c\\uc5c5\\u2019\\n10\\uc77c \\uc624\\ud6c4 6\\uc2dc\\uae4c\\uc9c0 \\uc774\\ud2c0\\uac04 \\ud30c\\uc5c5\\n\\uc218\\uc815 2023-11-08 22:20\\n\\n\\uc11c\\uc6b8\\uc9c0\\ud558\\ucca0 1~8\\ud638\\uc120\\uc744 \\uc6b4\\uc601\\ud558\\ub294 \\uc11c\\uc6b8\\uad50\\ud1b5\\uacf5\\uc0ac(\\uacf5\\uc0ac) \\ub178\\ub3d9\\uc870\\ud569\\uc774 9\\uc77c \\uc544\\uce68 9\\uc2dc\\ubd80\\ud130 10\\uc77c \\uc624\\ud6c4 6\\uc2dc\\uae4c\\uc9c0 \\uc774\\ud2c0 \\ub3d9\\uc548 \\uacbd\\uace0 \\ud30c\\uc5c5\\uc5d0 \\ub3cc\\uc785\\ud55c\\ub2e4. \\ud68c\\uc0ac\\uac00 \\uc81c\\uc2dc\\ud55c \\uc778\\ub825\\uac10\\ucd95\\u00b7\\uc678\\uc8fc\\ud654 \\ubb38\\uc81c\\ub97c \\ub450\\uace0 \\ub178\\uc0ac\\uac00 8\\uc77c \\ubc24\\uae4c\\uc9c0 \\ubc8c\\uc778 \\ub9c9\\ud310 \\uad50\\uc12d\\uc5d0\\uc11c\\ub3c4 \\ud0c0\\ud611\\uc810\\uc744 \\ucc3e\\uc9c0 \\ubabb\\ud55c \\uacb0\\uacfc\\ub2e4. \\uacf5\\uc0ac\\ub294 \\ub178\\uc870\\uac00 \\ud30c\\uc5c5\\uc5d0 \\ub3cc\\uc785\\ud574\\ub3c4 \\ud544\\uc218 \\uc720\\uc9c0\\uc5c5\\ubb34 \\uc778\\ub825\\uacfc \\ub300\\uccb4 \\uc778\\ub825 \\ub4f1\\uc744 \\ud65c\\uc6a9\\ud574 80% \\uc774\\uc0c1\\uc758 \\uc6b4\\ud589\\ub960\\uc744 \\uc720\\uc9c0\\ud560 \\ubc29\\uce68\\uc774\\ub2e4.\\n\\n\\uacf5\\uc0ac\\ub294 8\\uc77c \\ubc24 \\u201c\\ub178\\uc0ac \\uac04 \\ud611\\uc0c1\\uc774 \\ucd5c\\uc885 \\uacb0\\ub82c\\ub410\\ub2e4\\u201d\\uba70 \\u201c\\uc591\\ub300\\ub178\\ucd1d \\uc18c\\uc18d \\uc11c\\uc6b8\\uad50\\ud1b5\\uacf5\\uc0ac \\ub178\\uc870\\ub4e4\\ub85c \\uad6c\\uc131\\ub41c \\uc5f0\\ud569\\uad50\\uc12d\\ub2e8\\uc740 9\\uc77c \\uc624\\uc804 9\\uc2dc\\ubd80\\ud130 10\\uc77c \\uc800\\ub141 6\\uc2dc\\uae4c\\uc9c0 (\\uc11c\\uc6b8\\uc2dc\\uc640 \\uc0ac\\ucabd\\uc758 \\uc785\\uc7a5 \\ubcc0\\ud654\\ub97c \\ucd09\\uad6c\\ud558\\ub294 \\uc758\\ubbf8) \\uacbd\\uace0 \\ud30c\\uc5c5\\uc5d0 \\ub3cc\\uc785\\ud55c\\ub2e4\\u201d\\uace0 \\ubc1d\\ud614\\ub2e4. \\uc774\\ub0a0 \\uc624\\ud6c4 3\\uc2dc\\ubd80\\ud130 \\uad50\\uc12d\\ub2e8\\uacfc \\uacf5\\uc0ac\\ub294 \\ub9c9\\ud310 \\uad50\\uc12d\\uc744 \\uc2dc\\uc791\\ud588\\uc73c\\ub098 \\ud0c0\\ud611\\uc810\\uc744 \\ucc3e\\uc9c0 \\ubabb\\ud588\\ub2e4.\\n\\n\\ud575\\uc2ec \\uc7c1\\uc810\\uc740 \\u2018\\uc778\\ub825 \\uac10\\ucd95\\u2019\\uc774\\uc5c8\\ub2e4. \\uacf5\\uc0ac\\ub294 \\ucd5c\\uadfc 2026\\ub144\\uae4c\\uc9c0 2212\\uba85\\uc758 \\uc778\\ub825\\uc744 \\uc904\\uc774\\uaca0\\ub2e4\\ub294 \\uacc4\\ud68d\\uc744 \\ub178\\uc870\\uc5d0 \\uc81c\\uc2dc\\ud588\\ub2e4. \\uc774\\ub294 \\ud604\\uc7ac \\uacf5\\uc0ac \\uc804\\uccb4 \\uc815\\uc6d0\\uc758 \\uc57d 13.5% \\uc218\\uc900\\uc774\\ub2e4. \\uacf5\\uc0ac\\ub294 \\uc5f0 1\\uc870\\uc6d0 \\uc548\\ud30e\\uc758 \\ub300\\uaddc\\ubaa8 \\uc801\\uc790\\ub97c \\ub0b4\\uace0 \\uc788\\uc5b4 \\uc778\\ub825 \\uac10\\ucd95\\uc774 \\ubd88\\uac00\\ud53c\\ud558\\ub2e4\\ub294 \\uc785\\uc7a5\\uc774\\ub2e4. \\ubc18\\uba74 \\uc5f0\\ud569\\uad50\\uc12d\\ub2e8\\uc740 \\ubb34\\ub9ac\\ud55c \\uc778\\ub825 \\uac10\\ucd95\\uc774 \\uc2dc\\ubbfc\\uc758 \\uc548\\uc804 \\ubb38\\uc81c\\uc640 \\uc9c1\\uacb0\\ub420 \\uc218 \\uc788\\ub2e4\\uba70 \\uac10\\ucd95\\uc548 \\ucca0\\ud68c\\ub97c \\uc694\\uad6c\\ud588\\ub2e4\\n\\n\\ub178\\uc0ac\\uac00 \\ub9fa\\uc740 \\ud544\\uc218 \\uc720\\uc9c0\\uc5c5\\ubb34 \\uc2e4\\ubb34 \\ud611\\uc815\\uc5d0 \\ub530\\ub77c \\ud30c\\uc5c5 \\uae30\\uac04 1~4\\ud638\\uc120 65.7%, 5~8\\ud638\\uc120 79.8%\\uc758 \\uc6b4\\ud589\\ub960\\uc740 \\uc720\\uc9c0\\ub3fc\\uc57c \\ud55c\\ub2e4. \\uc11c\\uc6b8\\uad50\\ud1b5\\uacf5\\uc0ac\\ucabd\\uc740 \\u201c9\\uc77c\\ubd80\\ud130 \\uacbd\\uace0\\ud30c\\uc5c5\\uc5d0 \\ub3cc\\uc785\\ud558\\ub354\\ub77c\\ub3c4 \\ud30c\\uc5c5 \\ub300\\ube44 \\uc815\\uc0c1\\uc6b4\\ud589 \\ub300\\ucc45\\ubcf8\\ubd80\\ub97c \\uc6b4\\uc601\\ud574 \\uc5f4\\ucc28 \\uc815\\uc0c1 \\uc6b4\\ud589\\uacfc \\uc2dc\\uc124\\ubb3c \\uc548\\uc804 \\ud655\\ubcf4 \\ub4f1 \\ub300\\ucc45\\uc744 \\ub9c8\\ub828\\ud574 \\uc2dc\\ubbfc\\uc758 \\ubd88\\ud3b8\\uc744 \\ucd5c\\uc18c\\ud654\\ud560 \\uacc4\\ud68d\\u201d\\uc774\\ub77c\\uba70 \\u201c\\u201c(\\ud30c\\uc5c5 \\ub3cc\\uc785 \\uc2dc) \\ud544\\uc218\\uc720\\uc9c0\\uc5c5\\ubb34 \\uc778\\ub825\\uacfc \\ub300\\uccb4 \\uc778\\ub825 \\ub4f1\\uc744 \\ud655\\ubcf4\\ud574 \\uc624\\uc804 7\\uc2dc\\u223c9\\uc2dc \\ucd9c\\uadfc\\uae38\\uc5d0\\ub294 100%, \\ub098\\uba38\\uc9c0 \\uc2dc\\uac04\\uc5d0\\ub294 80% \\uc815\\ub3c4 \\uc218\\uc900\\uc758 \\uc6b4\\ud589\\ub960\\ub85c \\uc2dc\\ubbfc \\ubd88\\ud3b8\\uc744 \\ucd5c\\uc18c\\ud654\\ud560 \\uac83\\u201d\\uc774\\ub77c\\uace0 \\ub9d0\\ud588\\ub2e4.\\n\\n\\n\"\n        ],\n        \"semantic_type\": \"\",\n        \"description\": \"\"\n      }\n    },\n    {\n      \"column\": \"output\",\n      \"properties\": {\n        \"dtype\": \"string\",\n        \"num_unique_values\": 5,\n        \"samples\": [\n          \"**\\uc81c\\ubaa9: \\\"\\uc9c0\\ud558\\ucca0 \\ud30c\\uc5c5 \\uc18c\\uc2dd, \\uc624\\ub298 \\ub2f9\\uc2e0\\uc758 \\ud1f4\\uadfc\\uae38\\uc740 \\uc548\\uc804\\ud55c\\uac00\\uc694?\\\"**\\n\\n**\\uc2dc\\uc791\\ud558\\ub294 \\ub9d0**  \\n\\uc548\\ub155\\ud558\\uc138\\uc694, \\uc5ec\\ub7ec\\ubd84\\uc758 \\ucd9c\\ud1f4\\uadfc \\uba54\\uc2e0\\uc800 \\uc9c0\\ud558\\ucca0 \\uc628\\ub2e4\\uc758 '\\uc624.\\uc9c0.\\ud1b5 [\\uc624\\ub298\\uc758 \\uc9c0\\ud558\\ucca0 \\uc18c\\uc2dd\\ud1b5]' \\uc778\\uc0ac \\ub4dc\\ub9bd\\ub2c8\\ub2e4!\\n\\n**\\ud30c\\uc5c5 \\uc77c\\uc2dc**  \\n2023\\ub144 11\\uc6d4 9\\uc77c\\ubd80\\ud130 2\\uc77c\\uac04\\n\\n**\\ud30c\\uc5c5 \\ub178\\uc120**  \\n\\uc11c\\uc6b8 \\uc9c0\\ud558\\ucca0 1~8\\ud638\\uc120\\n\\n**\\ud30c\\uc5c5 \\uc774\\uc720**  \\n\\uc11c\\uc6b8\\uad50\\ud1b5\\uacf5\\uc0ac\\uc758 \\uc778\\ub825 \\uac10\\ucd95 \\uacc4\\ud68d\\uc5d0 \\ub300\\ud55c \\ub178\\uc870\\uc758 \\ubc18\\ub300\\n\\n**\\ubb38\\uc758 \\uc0ac\\ud56d \\ub9c1\\ud06c**  \\n[\\uc11c\\uc6b8\\uad50\\ud1b5\\uacf5\\uc0ac \\uace0\\uac1d\\uc13c\\ud130](https://www.seoulmetro.co.kr/kr/contactUs.do)\\n\\n**\\ubcf8\\ubb38**  \\n\\uc624\\ub298 \\uc11c\\uc6b8 \\uc9c0\\ud558\\ucca0 \\uc774\\uc6a9\\uc790 \\uc5ec\\ub7ec\\ubd84, \\ub178\\uc870\\uc758 \\uacbd\\uace0 \\ud30c\\uc5c5\\uc73c\\ub85c \\uc778\\ud574 \\uc0c1\\ub2f9\\ud55c \\ubd88\\ud3b8\\uc744 \\uacaa\\uace0 \\uacc4\\uc2dc\\uc8e0? \\uc11c\\uc6b8\\uad50\\ud1b5\\uacf5\\uc0ac \\ub178\\uc870\\uac00 \\uc2dc\\uc791\\ud55c \\uc774\\ud2c0\\uac04\\uc758 \\uacbd\\uace0 \\ud30c\\uc5c5\\uc740 \\ub9ce\\uc740 \\uc2dc\\ubbfc\\ub4e4\\uc758 \\uc77c\\uc0c1\\uc5d0 \\ud070 \\uc601\\ud5a5\\uc744 \\ubbf8\\uce58\\uace0 \\uc788\\uc2b5\\ub2c8\\ub2e4. \\ud2b9\\ud788 \\uc624\\ub298\\ucc98\\ub7fc \\ud30c\\uc5c5 \\uccab\\ub0a0\\uc740 \\ud1f4\\uadfc \\uc2dc\\uac04\\ub300\\uc758 \\ud63c\\uc7a1\\uc774 \\uc608\\uc0c1\\ubcf4\\ub2e4 \\uc2ec\\uac01\\ud588\\uc2b5\\ub2c8\\ub2e4.\\n\\n\\ub178\\uc870 \\uce21\\uc740 \\uc11c\\uc6b8\\uad50\\ud1b5\\uacf5\\uc0ac\\uc758 \\uc778\\ub825 \\uac10\\ucd95 \\uacc4\\ud68d\\uc5d0 \\ubc18\\ub300\\ud558\\uba70, \\uc774\\ub7ec\\ud55c \\uac10\\ucd95\\uc774 \\uc2dc\\ubbfc\\uacfc \\ub178\\ub3d9\\uc790\\uc758 \\uc548\\uc804\\uc744 \\uc704\\ud611\\ud560 \\uc218 \\uc788\\ub2e4\\uace0 \\uc8fc\\uc7a5\\ud558\\uace0 \\uc788\\uc2b5\\ub2c8\\ub2e4. \\uacf5\\uc0ac \\uce21\\uc740 \\uc5f0\\uac04 1\\uc870\\uc6d0\\uc5d0 \\ub2ec\\ud558\\ub294 \\uc801\\uc790\\ub97c \\uc904\\uc774\\uae30 \\uc704\\ud574 \\uc778\\ub825 \\uac10\\ucd95\\uc774 \\ud544\\uc694\\ud558\\ub2e4\\ub294 \\uc785\\uc7a5\\uc785\\ub2c8\\ub2e4. \\uc774\\ub7ec\\ud55c \\uc0c1\\ud669 \\uc18d\\uc5d0\\uc11c\\ub3c4 \\ub9ce\\uc740 \\uc2dc\\ubbfc\\ub4e4\\uc740 \\ud30c\\uc5c5\\uc758 \\ubc30\\uacbd\\uc774\\ub098 \\uc815\\ud655\\ud55c \\uc774\\uc720\\uc5d0 \\ub300\\ud574 \\uc798 \\ubaa8\\ub974\\uace0 \\uc788\\ub294 \\uac83\\uc73c\\ub85c \\ub098\\ud0c0\\ub0ac\\uc2b5\\ub2c8\\ub2e4.\\n\\n\\uc624\\ub298\\uc758 \\ud63c\\ub780\\uc744 \\uc9c1\\uc811 \\uacbd\\ud5d8\\ud55c \\uc2dc\\ubbfc\\ub4e4\\uc740 \\ub2e4\\uc591\\ud55c \\ubc18\\uc751\\uc744 \\ubcf4\\uc600\\uc2b5\\ub2c8\\ub2e4. \\uc77c\\ubd80\\ub294 \\ub178\\uc870\\uc758 \\ud30c\\uc5c5\\uc744 \\uc9c0\\uc9c0\\ud558\\uba74\\uc11c\\ub3c4, \\uc77c\\uc0c1\\uc5d0 \\ubd88\\ud3b8\\uc744 \\uacaa\\ub294 \\uac83\\uc5d0 \\ub300\\ud574 \\uc6b0\\ub824\\ub97c \\ud45c\\ud588\\uc2b5\\ub2c8\\ub2e4. \\ub2e4\\ub978 \\ud55c\\ud3b8\\uc73c\\ub85c\\ub294 \\uc870\\uc9c1\\uc758 \\ube44\\ub300\\ud654\\uc5d0 \\ub530\\ub978 \\uc801\\uc808\\ud55c \\uc870\\uce58\\ub77c\\uace0 \\ubcf4\\ub294 \\uc2dc\\uac01\\ub3c4 \\uc788\\uc5c8\\uc2b5\\ub2c8\\ub2e4.\\n\\n\\uc9c0\\ud558\\ucca0\\uc744 \\uc774\\uc6a9\\ud558\\ub294 \\ub9ce\\uc740 \\uc2dc\\ubbfc\\ub4e4\\uc774 \\ubd88\\ud3b8\\uc744 \\ud638\\uc18c\\ud558\\uba70, \\ub300\\uccb4 \\uad50\\ud1b5\\uc218\\ub2e8\\uc744 \\uc774\\uc6a9\\ud558\\ub294 \\ubaa8\\uc2b5\\ub3c4 \\ubcf4\\uc600\\uc2b5\\ub2c8\\ub2e4. \\ubc84\\uc2a4 \\uc815\\ub958\\uc7a5\\uc5d0\\ub294 \\ud3c9\\uc18c\\ubcf4\\ub2e4 \\ub9ce\\uc740 \\uc0ac\\ub78c\\ub4e4\\uc774 \\ubab0\\ub824 \\uae34 \\ub300\\uae30 \\uc2dc\\uac04\\uc744 \\uac10\\uc218\\ud574\\uc57c \\ud588\\uc2b5\\ub2c8\\ub2e4.\\n\\n**\\ub9c8\\ubb34\\ub9ac \\ub9d0**  \\n\\uc11c\\uc6b8 \\uc9c0\\ud558\\ucca0 \\ud30c\\uc5c5\\uc73c\\ub85c \\uc544\\uce68\\ub9c8\\ub2e4 \\ucd9c\\uadfc\\ud558\\uae30 \\ud798\\ub4dc\\uc2dc\\uc8e0? \\uc624\\uc9c0\\ud1b5\\uc774 \\uc2e4\\uc2dc\\uac04\\uc73c\\ub85c \\ub2e4\\uc591\\ud55c \\uc9c0\\ud558\\ucca0 \\uc815\\ubcf4\\ub97c \\uc5c5\\ub370\\uc774\\ud2b8 \\ud560 \\uc608\\uc815\\uc774\\ub2c8, \\uc790\\uc8fc \\ubc29\\ubb38\\ud574 \\uc8fc\\uc138\\uc694. '\\uc9c0\\ud558\\ucca0 \\uc628\\ub2e4'\\ub294 \\ub2e8 \\ud55c \\ubc88\\uc758 \\ud130\\uce58\\ub85c \\uc790\\uc2e0\\uc758 \\uc704\\uce58\\uc5d0\\uc11c \\uac00\\uc7a5 \\uac00\\uae4c\\uc6b4 \\uc9c0\\ud558\\ucca0 \\uc5ed\\uc758 \\uc2e4\\uc2dc\\uac04 \\uc815\\ubcf4\\ub97c \\uc81c\\uacf5\\ud569\\ub2c8\\ub2e4. \\uc774\\ubc88 \\ud30c\\uc5c5\\uc744 \\ud1b5\\ud574 \\uc11c\\ub85c\\uc758 \\uc785\\uc7a5\\uc744 \\uc774\\ud574\\ud558\\uace0 \\ub354 \\ub098\\uc740 \\ud574\\uacb0\\ucc45\\uc744 \\ucc3e\\uc744 \\uc218 \\uc788\\uae38 \\ubc14\\ub78d\\ub2c8\\ub2e4. \\ud568\\uaed8 \\uc774\\uaca8\\ub0b4\\uc694, \\uc11c\\uc6b8!\\n\\n\\ud83d\\udd3d [\\uc9c0\\ud558\\ucca0 \\uc628\\ub2e4 \\uc18c\\uac1c \\ubcf4\\ub7ec\\uac00\\uae30](https://blog.naver.com/subway__onda/223258646349)\",\n          \"**\\uc7a5\\uc560\\uc778 \\uc774\\ub3d9\\uad8c \\uc694\\uad6c, \\uc11c\\uc6b8 4\\ud638\\uc120 \\uc2dc\\uc704\\uc758 \\uc911\\uc2ec\\uc5d0 \\uc11c\\ub2e4**\\n\\n\\uc548\\ub155\\ud558\\uc138\\uc694, \\uc5ec\\ub7ec\\ubd84\\uc758 \\ucd9c\\ud1f4\\uadfc \\uba54\\uc2e0\\uc800 \\uc9c0\\ud558\\ucca0 \\uc628\\ub2e4\\uc758 '\\uc624.\\uc9c0.\\ud1b5 [\\uc624\\ub298\\uc758 \\uc9c0\\ud558\\ucca0 \\uc18c\\uc2dd\\ud1b5]' \\uc778\\uc0ac \\ub4dc\\ub9bd\\ub2c8\\ub2e4!\\n\\n**\\ud30c\\uc5c5 \\uc77c\\uc2dc:** 2023\\ub144 1\\uc6d4 3\\uc77c\\n**\\ud30c\\uc5c5 \\ub178\\uc120:** \\uc11c\\uc6b8 \\uc9c0\\ud558\\ucca0 4\\ud638\\uc120\\n**\\ud30c\\uc5c5 \\uc774\\uc720:** \\uc7a5\\uc560\\uc778 \\uc774\\ub3d9\\uad8c \\uc608\\uc0b0 \\ud655\\ubcf4 \\uc694\\uad6c\\n**\\ubb38\\uc758 \\uc0ac\\ud56d \\ub9c1\\ud06c:** [\\uc11c\\uc6b8\\uad50\\ud1b5\\uacf5\\uc0ac \\uace0\\uac1d\\uc13c\\ud130](https://www.seoulmetro.co.kr/kr/contact.do)\\n\\n\\uc7a5\\uc560\\uc778\\uc758 \\uc774\\ub3d9\\uad8c \\ubcf4\\uc7a5\\uc744 \\uc704\\ud55c \\uc804\\uad6d\\uc7a5\\uc560\\uc778\\ucc28\\ubcc4\\ucca0\\ud3d0\\uc5f0\\ub300(\\uc804\\uc7a5\\uc5f0)\\uc758 \\uc2dc\\uc704\\uac00 \\uc9c0\\uc18d\\ub418\\uba74\\uc11c \\uc11c\\uc6b8 \\uc9c0\\ud558\\ucca0 4\\ud638\\uc120\\uc774 \\ub9ce\\uc740 \\uc2dc\\ubbfc\\ub4e4\\uc758 \\uc8fc\\ubaa9\\uc744 \\ubc1b\\uace0 \\uc788\\uc2b5\\ub2c8\\ub2e4. \\uc804\\uc7a5\\uc5f0\\uc740 \\uc774\\ub3d9\\uad8c \\uc608\\uc0b0 \\ud655\\ubcf4\\ub97c \\ubaa9\\ud45c\\ub85c, \\uc62c\\ud574 \\ud3c9\\uc77c 260\\uc77c \\ub3d9\\uc548 \\uc2dc\\uc704\\ub97c \\uacc4\\ud68d\\ud558\\uace0 \\uc788\\uc2b5\\ub2c8\\ub2e4. \\uc774\\ub294 \\ub9ce\\uc740 \\uc2dc\\ubbfc\\ub4e4\\uc758 \\uc77c\\uc0c1\\uc5d0 \\uc601\\ud5a5\\uc744 \\ubbf8\\uce60 \\uc218 \\uc788\\ub294 \\ud070 \\uc774\\uc288\\ub85c, \\ud2b9\\ud788 \\ucd9c\\uadfc\\uae38\\uc5d0 \\uc774\\uc6a9\\ud558\\ub294 \\uc2dc\\ubbfc\\ub4e4\\uc5d0\\uac8c\\ub294 \\ub354\\ud560 \\ub098\\uc704 \\uc5c6\\uc774 \\uc911\\uc694\\ud55c \\uc18c\\uc2dd\\uc785\\ub2c8\\ub2e4.\\n\\n\\uc2dc\\uc704\\ub294 \\uc131\\uc2e0\\uc5ec\\ub300\\uc785\\uad6c\\uc5ed\\uc5d0\\uc11c \\uc2dc\\uc791\\ud558\\uc5ec \\ub3d9\\ub300\\ubb38\\uc5ed\\uc0ac\\ubb38\\ud654\\uacf5\\uc6d0\\uc5ed\\uacfc \\uc0bc\\uac01\\uc9c0\\uc5ed\\uc73c\\ub85c \\uc774\\uc5b4\\uc84c\\uc2b5\\ub2c8\\ub2e4. \\uc804\\uc7a5\\uc5f0 \\ud68c\\uc6d0\\ub4e4\\uacfc \\uacbd\\ucc30, \\uc11c\\uc6b8\\uad50\\ud1b5\\uacf5\\uc0ac \\uc9c1\\uc6d0\\ub4e4 \\uac04\\uc758 \\ub300\\uce58\\ub294 \\uacf5\\uacf5\\uc758 \\uc7a5\\uc18c\\uc5d0\\uc11c \\ubc8c\\uc5b4\\uc9c4 \\ucda9\\ub3cc\\ub85c, \\uc77c\\ubd80 \\ubd80\\uc0c1\\uc790\\ub3c4 \\ubc1c\\uc0dd\\ud588\\uc2b5\\ub2c8\\ub2e4. \\uc774\\ub7ec\\ud55c \\uc0c1\\ud669\\uc740 \\ub178\\uc120 \\uc774\\uc6a9\\uac1d\\ub4e4\\uc5d0\\uac8c \\ubd88\\ud3b8\\uc744 \\ucd08\\ub798\\ud558\\uace0 \\uc788\\uc73c\\uba70, \\ub9ce\\uc740 \\uc2dc\\ubbfc\\ub4e4\\uc774 \\uc774\\uc5d0 \\ub300\\ud55c \\uba85\\ud655\\ud55c \\uc815\\ubcf4\\uc640 \\uacf5\\uc9c0\\ub97c \\uc6d0\\ud558\\uace0 \\uc788\\uc2b5\\ub2c8\\ub2e4.\\n\\n\\uc624\\uc138\\ud6c8 \\uc11c\\uc6b8\\uc2dc\\uc7a5\\uacfc \\uc11c\\uc6b8\\uad50\\ud1b5\\uacf5\\uc0ac\\ub294 \\uc774\\uc5d0 \\ub300\\ud55c \\uac15\\ub825\\ud55c \\ub300\\uc751\\uc744 \\uc608\\uace0\\ud588\\uc2b5\\ub2c8\\ub2e4. \\ubc95\\uc801 \\uc870\\uce58\\uc640 \\ubbfc\\u00b7\\ud615\\uc0ac\\uc801 \\ub300\\uc751\\uc744 \\ud3ec\\ud568\\ud55c \\ubb34\\uad00\\uc6a9 \\uc815\\ucc45\\uc744 \\ud3bc\\uce60 \\uac83\\uc774\\ub77c\\ub294 \\uc785\\uc7a5\\uc785\\ub2c8\\ub2e4. \\ubc18\\uba74, \\uc804\\uc7a5\\uc5f0\\uc740 \\uc774\\ub3d9\\uad8c \\ubcf4\\uc7a5\\uc774\\ub77c\\ub294 \\uc911\\uc694\\ud55c \\uc0ac\\ud68c\\uc801 \\uc774\\uc288\\ub97c \\ud574\\uacb0\\ud558\\uae30 \\uc704\\ud574 \\uacc4\\uc18d\\ud574\\uc11c \\ubaa9\\uc18c\\ub9ac\\ub97c \\ub0bc \\uacc4\\ud68d\\uc785\\ub2c8\\ub2e4.\\n\\n\\uc774\\ubc88 \\uc0ac\\ud0dc\\uac00 \\uc7a5\\uc560\\uc778\\uc758 \\uad8c\\ub9ac\\uc640 \\uc77c\\ubc18 \\uc2dc\\ubbfc\\uc758 \\ubd88\\ud3b8 \\uc0ac\\uc774\\uc5d0\\uc11c \\uc5b4\\ub5bb\\uac8c \\uc870\\ud654\\ub97c \\uc774\\ub8f0 \\uc218 \\uc788\\uc744\\uc9c0\\ub294 \\uc9c0\\ucf1c\\ubcfc \\ud544\\uc694\\uac00 \\uc788\\uc2b5\\ub2c8\\ub2e4. \\uac01\\uc790\\uc758 \\uc785\\uc7a5\\uc5d0\\uc11c \\uc0c1\\ub300\\ubc29\\uc758 \\uc5b4\\ub824\\uc6c0\\uc744 \\uc774\\ud574\\ud558\\uace0 \\uacf5\\uac10\\ud558\\ub294 \\uac83\\uc774 \\uc911\\uc694\\ud558\\uba70, \\uc774\\ub97c \\ud1b5\\ud574 \\ub354 \\ub098\\uc740 \\ud574\\uacb0\\ucc45\\uc744 \\ucc3e\\uc544\\uac00\\uc57c \\ud569\\ub2c8\\ub2e4.\\n\\n\\uc624\\uc9c0\\ud1b5\\uc774 \\uc2e4\\uc2dc\\uac04\\uc73c\\ub85c \\ub2e4\\uc591\\ud55c \\uc9c0\\ud558\\ucca0 \\uc815\\ubcf4\\ub97c \\uc5c5\\ub370\\uc774\\ud2b8 \\ud560 \\uc608\\uc815\\uc774\\ub2c8, \\uc790\\uc8fc \\ubc29\\ubb38\\ud574 \\uc8fc\\uc138\\uc694. '\\uc9c0\\ud558\\ucca0 \\uc628\\ub2e4'\\ub294 \\ub2e8 \\ud55c \\ubc88\\uc758 \\ud130\\uce58\\ub85c \\uc790\\uc2e0\\uc758 \\uc704\\uce58\\uc5d0\\uc11c \\uac00\\uc7a5 \\uac00\\uae4c\\uc6b4 \\uc9c0\\ud558\\ucca0 \\uc5ed\\uc758 \\uc2e4\\uc2dc\\uac04 \\uc815\\ubcf4\\ub97c \\uc81c\\uacf5\\ud569\\ub2c8\\ub2e4.\\n\\n\\ud83d\\udd3d \\uc9c0\\ud558\\ucca0 \\uc628\\ub2e4 \\uc18c\\uac1c \\ubcf4\\ub7ec\\uac00\\uae30\\nhttps://blog.naver.com/subway__onda/223258646349\\n\\n\\uc774\\ub807\\uac8c \\uc544\\uce68\\ub9c8\\ub2e4 \\uc9c0\\ud558\\ucca0 \\ud30c\\uc5c5\\uc73c\\ub85c \\ucd9c\\uadfc\\ud558\\uae30 \\ud798\\ub4dc\\uc2dc\\uc8e0? \\uc6b0\\ub9ac \\ubaa8\\ub450\\uac00 \\uc870\\uae08\\ub9cc \\ub354 \\uc774\\ud574\\ud558\\uace0 \\ubc30\\ub824\\ud55c\\ub2e4\\uba74 \\ub354 \\ub098\\uc740 \\ucd9c\\uadfc\\uae38\\uc774 \\ub420 \\uac70\\uc608\\uc694! \\ud798\\ub4e0 \\uc544\\uce68, \\uc624\\uc9c0\\ud1b5\\uacfc \\ud568\\uaed8 \\uc870\\uae08 \\ub354 \\ud3b8\\uc548\\ud558\\uace0 \\uc990\\uac70\\uc6b4 \\ucd9c\\uadfc\\uae38\\uc744 \\ub9cc\\ub4e4\\uc5b4 \\ubcf4\\uc544\\uc694!\",\n          \"**\\uc11c\\uc6b8 \\uc9c0\\ud558\\ucca0 \\ud30c\\uc5c5 \\uc18c\\uc2dd: \\uc6b4\\ud589 \\ucc28\\uc9c8 \\uc608\\uace0! 1~8\\ud638\\uc120 \\uc6b4\\ud589\\ub960\\uc5d0 \\ube68\\uac04\\ubd88\\uc774 \\ucf1c\\uc84c\\uc5b4\\uc694!**\\n\\n\\uc548\\ub155\\ud558\\uc138\\uc694, \\uc5ec\\ub7ec\\ubd84\\uc758 \\ucd9c\\ud1f4\\uadfc \\uba54\\uc2e0\\uc800 \\uc9c0\\ud558\\ucca0 \\uc628\\ub2e4\\uc758 '\\uc624.\\uc9c0.\\ud1b5 [\\uc624\\ub298\\uc758 \\uc9c0\\ud558\\ucca0 \\uc18c\\uc2dd\\ud1b5]' \\uc778\\uc0ac \\ub4dc\\ub9bd\\ub2c8\\ub2e4!\\n\\n**\\ud30c\\uc5c5 \\uc77c\\uc2dc:** 2023\\ub144 11\\uc6d4 9\\uc77c \\uc624\\uc804 9\\uc2dc\\ubd80\\ud130 11\\uc6d4 10\\uc77c \\uc624\\ud6c4 6\\uc2dc\\uae4c\\uc9c0  \\n**\\ud30c\\uc5c5 \\ub178\\uc120:** \\uc11c\\uc6b8\\uc9c0\\ud558\\ucca0 1~8\\ud638\\uc120  \\n**\\ud30c\\uc5c5 \\uc774\\uc720:** \\uc778\\ub825 \\uac10\\ucd95 \\ubc0f \\uc678\\uc8fc\\ud654 \\ubb38\\uc81c\\ub85c \\uc778\\ud55c \\ub178\\uc0ac \\uac04 \\ud611\\uc0c1 \\uacb0\\ub82c  \\n**\\ubb38\\uc758 \\uc0ac\\ud56d \\ub9c1\\ud06c:** [\\uc11c\\uc6b8\\uad50\\ud1b5\\uacf5\\uc0ac \\uace0\\uac1d\\uc13c\\ud130](https://www.seoulmetro.co.kr/kr/customer.do)\\n\\n\\uc11c\\uc6b8\\uc9c0\\ud558\\ucca0 1~8\\ud638\\uc120\\uc744 \\uc6b4\\uc601\\ud558\\ub294 \\uc11c\\uc6b8\\uad50\\ud1b5\\uacf5\\uc0ac \\ub178\\ub3d9\\uc870\\ud569\\uc774 \\uc624\\ub298 \\uc544\\uce68 9\\uc2dc\\ubd80\\ud130 \\ub0b4\\uc77c \\uc624\\ud6c4 6\\uc2dc\\uae4c\\uc9c0 \\uc774\\ud2c0 \\ub3d9\\uc548\\uc758 \\uacbd\\uace0 \\ud30c\\uc5c5\\uc5d0 \\ub4e4\\uc5b4\\uac11\\ub2c8\\ub2e4. \\uc774\\ubc88 \\ud30c\\uc5c5\\uc740 \\ub178\\uc0ac \\uac04\\uc758 \\ub9c8\\uc9c0\\ub9c9 \\uad50\\uc12d\\uc5d0\\uc11c \\ud569\\uc758\\uc810\\uc744 \\ucc3e\\uc9c0 \\ubabb\\ud55c \\uacb0\\uacfc\\ub85c, \\uc11c\\uc6b8 \\uc2dc\\ub0b4 \\uc8fc\\uc694 \\uc9c0\\ud558\\ucca0 \\ub178\\uc120\\uc758 \\uc6b4\\ud589\\uc5d0 \\ud070 \\uc601\\ud5a5\\uc744 \\ubbf8\\uce60 \\uc608\\uc815\\uc785\\ub2c8\\ub2e4.\\n\\n\\ud575\\uc2ec \\uc7c1\\uc810\\uc740 \\uacf5\\uc0ac \\uce21\\uc774 \\uc81c\\uc548\\ud55c \\uc778\\ub825 \\uac10\\ucd95\\uc548\\uc785\\ub2c8\\ub2e4. \\uc11c\\uc6b8\\uad50\\ud1b5\\uacf5\\uc0ac\\ub294 \\ud604\\uc7ac \\uc5f0 1\\uc870\\uc6d0\\uc5d0 \\uc721\\ubc15\\ud558\\ub294 \\ub300\\uaddc\\ubaa8 \\uc801\\uc790\\ub97c \\uba54\\uc6b0\\uae30 \\uc704\\ud574 \\uc624\\ub294 2026\\ub144\\uae4c\\uc9c0 \\ucd1d 2212\\uba85, \\uc989 \\uc804\\uccb4 \\uc9c1\\uc6d0\\uc758 \\uc57d 13.5%\\ub97c \\uac10\\ucd95\\ud558\\uaca0\\ub2e4\\ub294 \\uacc4\\ud68d\\uc744 \\ubc1c\\ud45c\\ud588\\uc2b5\\ub2c8\\ub2e4. \\uc774\\uc5d0 \\ub300\\ud574 \\ub178\\uc870\\ub294 \\uc2dc\\ubbfc\\uc758 \\uc548\\uc804\\uc744 \\ud574\\uce60 \\uc218 \\uc788\\ub294 \\ubb34\\ub9ac\\ud55c \\uc778\\ub825 \\uac10\\ucd95\\uc5d0 \\ubc18\\ub300\\ud558\\uba70 \\uac15\\ud558\\uac8c \\ub9de\\uc11c\\uace0 \\uc788\\uc2b5\\ub2c8\\ub2e4.\\n\\n\\uacf5\\uc0ac\\ub294 \\ud30c\\uc5c5 \\uae30\\uac04 \\ub3d9\\uc548 \\ud544\\uc218 \\uc720\\uc9c0\\uc5c5\\ubb34 \\uc778\\ub825\\uacfc \\ub300\\uccb4 \\uc778\\ub825\\uc744 \\ub3d9\\uc6d0, \\uc624\\uc804 \\ucd9c\\uadfc \\uc2dc\\uac04\\ub300\\uc5d0\\ub294 100% \\uac00\\uae4c\\uc774 \\uc6b4\\ud589\\ub960\\uc744 \\uc720\\uc9c0\\ud558\\uace0, \\uadf8 \\uc678 \\uc2dc\\uac04\\uc5d0\\ub294 \\uc57d 80% \\uc218\\uc900\\uc744 \\uc720\\uc9c0\\ud560 \\uacc4\\ud68d\\uc774\\ub77c\\uace0 \\ubc1d\\ud614\\uc2b5\\ub2c8\\ub2e4. \\ud558\\uc9c0\\ub9cc, \\uc2e4\\uc81c \\uc6b4\\ud589\\ub960\\uc740 \\ud30c\\uc5c5 \\ucc38\\uc5ec\\uc728\\uacfc \\uc0c1\\ud669\\uc5d0 \\ub530\\ub77c \\ub2ec\\ub77c\\uc9c8 \\uc218 \\uc788\\uc73c\\ub2c8, \\ucd9c\\ud1f4\\uadfc\\uae38\\uc5d0\\ub294 \\ubbf8\\ub9ac \\ub300\\ube44\\ucc45\\uc744 \\ub9c8\\ub828\\ud558\\ub294 \\ud3b8\\uc774 \\uc88b\\uaca0\\uc2b5\\ub2c8\\ub2e4.\\n\\n\\uc6b0\\ub9ac \\ubaa8\\ub450 \\uc544\\uce68\\ub9c8\\ub2e4 \\ucd9c\\uadfc\\ud558\\uae30 \\ud798\\ub4e4\\uc9c0\\ub9cc, \\uc774\\ubc88 \\uc9c0\\ud558\\ucca0 \\ud30c\\uc5c5\\uc73c\\ub85c \\uc778\\ud574 \\ud55c\\uce35 \\ub354 \\ubcf5\\uc7a1\\ud574\\uc9c8 \\uc218 \\uc788\\ub294 \\uc0c1\\ud669, \\uacf5\\uac10\\ud558\\uace0 \\uacc4\\uc2dc\\uc8e0? \\uc774\\ub7f4 \\ub54c\\uc77c\\uc218\\ub85d \\ubbf8\\ub9ac\\ubbf8\\ub9ac \\uc815\\ubcf4\\ub97c \\ud655\\uc778\\ud558\\uace0, \\uac00\\ub2a5\\ud55c \\ub300\\uc548 \\uad50\\ud1b5\\uc218\\ub2e8\\uc744 \\ubbf8\\ub9ac \\uc54c\\uc544\\ubcf4\\ub294 \\uc13c\\uc2a4\\ub97c \\ubc1c\\ud718\\ud574\\uc57c \\ud569\\ub2c8\\ub2e4.\\n\\n\\uc624\\uc9c0\\ud1b5\\uc774 \\uc2e4\\uc2dc\\uac04\\uc73c\\ub85c \\ub2e4\\uc591\\ud55c \\uc9c0\\ud558\\ucca0 \\uc815\\ubcf4\\ub97c \\uc5c5\\ub370\\uc774\\ud2b8 \\ud560 \\uc608\\uc815\\uc774\\ub2c8, \\uc790\\uc8fc \\ubc29\\ubb38\\ud574 \\uc8fc\\uc138\\uc694. '\\uc9c0\\ud558\\ucca0 \\uc628\\ub2e4'\\ub294 \\ub2e8 \\ud55c \\ubc88\\uc758 \\ud130\\uce58\\ub85c \\uc790\\uc2e0\\uc758 \\uc704\\uce58\\uc5d0\\uc11c \\uac00\\uc7a5 \\uac00\\uae4c\\uc6b4 \\uc9c0\\ud558\\ucca0 \\uc5ed\\uc758 \\uc2e4\\uc2dc\\uac04 \\uc815\\ubcf4\\ub97c \\uc81c\\uacf5\\ud569\\ub2c8\\ub2e4.\\n\\n\\ud83d\\udd3d \\uc9c0\\ud558\\ucca0 \\uc628\\ub2e4 \\uc18c\\uac1c \\ubcf4\\ub7ec\\uac00\\uae30  \\n[\\uc5ec\\uae30\\ub97c \\ud074\\ub9ad\\ud558\\uc138\\uc694!](https://blog.naver.com/subway__onda/223258646349)\"\n        ],\n        \"semantic_type\": \"\",\n        \"description\": \"\"\n      }\n    },\n    {\n      \"column\": \"Consistency\",\n      \"properties\": {\n        \"dtype\": \"category\",\n        \"num_unique_values\": 2,\n        \"samples\": [\n          \"5\",\n          \"{score: 5}\"\n        ],\n        \"semantic_type\": \"\",\n        \"description\": \"\"\n      }\n    },\n    {\n      \"column\": \"Coherence\",\n      \"properties\": {\n        \"dtype\": \"string\",\n        \"num_unique_values\": 4,\n        \"samples\": [\n          \"Coherence: 4\\n\\nThe blog content presents a well-structured summary of the Seoul subway strike. It clearly outlines the strike's timing, affected lines, reasons behind the strike, and the potential impact on the subway's operation. The transitions between topics are smooth, and the information is logically arranged from the introduction of the strike details to the implications and advice for commuters. However, there could be a slight improvement in linking the sections more cohesively to enhance the overall coherence slightly.\",\n          \"Coherence Score: 4\\n\\nThe blog content is well-structured, providing clear information about the ongoing protests related to the disability movement's demands for better transit rights on Seoul's Subway Line 4. It effectively outlines the reasons for the protests, the responses from city officials and transit authorities, and the impact on commuters. The transitions between paragraphs are smooth, and the content builds up coherently from introducing the issue to discussing broader community impact and responses. However, there could be a slight improvement in linking the action plans and responses more directly to the outlined problems to enhance coherence further.\"\n        ],\n        \"semantic_type\": \"\",\n        \"description\": \"\"\n      }\n    },\n    {\n      \"column\": \"Friendliness\",\n      \"properties\": {\n        \"dtype\": \"number\",\n        \"std\": 0,\n        \"min\": 3,\n        \"max\": 4,\n        \"num_unique_values\": 2,\n        \"samples\": [\n          4,\n          3\n        ],\n        \"semantic_type\": \"\",\n        \"description\": \"\"\n      }\n    },\n    {\n      \"column\": \"Fluency\",\n      \"properties\": {\n        \"dtype\": \"number\",\n        \"std\": 0,\n        \"min\": 5,\n        \"max\": 5,\n        \"num_unique_values\": 1,\n        \"samples\": [\n          5\n        ],\n        \"semantic_type\": \"\",\n        \"description\": \"\"\n      }\n    },\n    {\n      \"column\": \"Humanlikeness\",\n      \"properties\": {\n        \"dtype\": \"number\",\n        \"std\": 0,\n        \"min\": 4,\n        \"max\": 4,\n        \"num_unique_values\": 1,\n        \"samples\": [\n          4\n        ],\n        \"semantic_type\": \"\",\n        \"description\": \"\"\n      }\n    },\n    {\n      \"column\": \"Readability\",\n      \"properties\": {\n        \"dtype\": \"string\",\n        \"num_unique_values\": 5,\n        \"samples\": [\n          \"**Evaluation Template (Score Only):**\\n\\n4\"\n        ],\n        \"semantic_type\": \"\",\n        \"description\": \"\"\n      }\n    }\n  ]\n}"
            }
          },
          "metadata": {},
          "execution_count": 37
        }
      ]
    },
    {
      "cell_type": "code",
      "source": [
        "delay_data.head(1)"
      ],
      "metadata": {
        "colab": {
          "base_uri": "https://localhost:8080/",
          "height": 98
        },
        "id": "C0SoDQe_Dnq4",
        "outputId": "bf0643b7-cd35-4861-88ca-ab1d2c028888"
      },
      "execution_count": 38,
      "outputs": [
        {
          "output_type": "execute_result",
          "data": {
            "text/plain": [
              "                                                text  \\\n",
              "0  \\n\\n\"월요일부터 지각\" 지하철 1호선 지연 운행에 시민 불편…\"노조 준법투쟁\"\\...   \n",
              "\n",
              "                                              output  Consistency  \\\n",
              "0  **출근길 지각 불가피: 지하철 1호선 연착 사태로 시민 분통!**\\n안녕하세요, ...            5   \n",
              "\n",
              "                                           Coherence  Friendliness  Fluency  \\\n",
              "0  Coherence: 4\\n\\nThe blog content maintains a g...             3        5   \n",
              "\n",
              "   Humanlikeness Readability  \n",
              "0              4           3  "
            ],
            "text/html": [
              "\n",
              "  <div id=\"df-d98663a6-e2d0-411d-9b61-a07069c57f41\" class=\"colab-df-container\">\n",
              "    <div>\n",
              "<style scoped>\n",
              "    .dataframe tbody tr th:only-of-type {\n",
              "        vertical-align: middle;\n",
              "    }\n",
              "\n",
              "    .dataframe tbody tr th {\n",
              "        vertical-align: top;\n",
              "    }\n",
              "\n",
              "    .dataframe thead th {\n",
              "        text-align: right;\n",
              "    }\n",
              "</style>\n",
              "<table border=\"1\" class=\"dataframe\">\n",
              "  <thead>\n",
              "    <tr style=\"text-align: right;\">\n",
              "      <th></th>\n",
              "      <th>text</th>\n",
              "      <th>output</th>\n",
              "      <th>Consistency</th>\n",
              "      <th>Coherence</th>\n",
              "      <th>Friendliness</th>\n",
              "      <th>Fluency</th>\n",
              "      <th>Humanlikeness</th>\n",
              "      <th>Readability</th>\n",
              "    </tr>\n",
              "  </thead>\n",
              "  <tbody>\n",
              "    <tr>\n",
              "      <th>0</th>\n",
              "      <td>\\n\\n\"월요일부터 지각\" 지하철 1호선 지연 운행에 시민 불편…\"노조 준법투쟁\"\\...</td>\n",
              "      <td>**출근길 지각 불가피: 지하철 1호선 연착 사태로 시민 분통!**\\n안녕하세요, ...</td>\n",
              "      <td>5</td>\n",
              "      <td>Coherence: 4\\n\\nThe blog content maintains a g...</td>\n",
              "      <td>3</td>\n",
              "      <td>5</td>\n",
              "      <td>4</td>\n",
              "      <td>3</td>\n",
              "    </tr>\n",
              "  </tbody>\n",
              "</table>\n",
              "</div>\n",
              "    <div class=\"colab-df-buttons\">\n",
              "\n",
              "  <div class=\"colab-df-container\">\n",
              "    <button class=\"colab-df-convert\" onclick=\"convertToInteractive('df-d98663a6-e2d0-411d-9b61-a07069c57f41')\"\n",
              "            title=\"Convert this dataframe to an interactive table.\"\n",
              "            style=\"display:none;\">\n",
              "\n",
              "  <svg xmlns=\"http://www.w3.org/2000/svg\" height=\"24px\" viewBox=\"0 -960 960 960\">\n",
              "    <path d=\"M120-120v-720h720v720H120Zm60-500h600v-160H180v160Zm220 220h160v-160H400v160Zm0 220h160v-160H400v160ZM180-400h160v-160H180v160Zm440 0h160v-160H620v160ZM180-180h160v-160H180v160Zm440 0h160v-160H620v160Z\"/>\n",
              "  </svg>\n",
              "    </button>\n",
              "\n",
              "  <style>\n",
              "    .colab-df-container {\n",
              "      display:flex;\n",
              "      gap: 12px;\n",
              "    }\n",
              "\n",
              "    .colab-df-convert {\n",
              "      background-color: #E8F0FE;\n",
              "      border: none;\n",
              "      border-radius: 50%;\n",
              "      cursor: pointer;\n",
              "      display: none;\n",
              "      fill: #1967D2;\n",
              "      height: 32px;\n",
              "      padding: 0 0 0 0;\n",
              "      width: 32px;\n",
              "    }\n",
              "\n",
              "    .colab-df-convert:hover {\n",
              "      background-color: #E2EBFA;\n",
              "      box-shadow: 0px 1px 2px rgba(60, 64, 67, 0.3), 0px 1px 3px 1px rgba(60, 64, 67, 0.15);\n",
              "      fill: #174EA6;\n",
              "    }\n",
              "\n",
              "    .colab-df-buttons div {\n",
              "      margin-bottom: 4px;\n",
              "    }\n",
              "\n",
              "    [theme=dark] .colab-df-convert {\n",
              "      background-color: #3B4455;\n",
              "      fill: #D2E3FC;\n",
              "    }\n",
              "\n",
              "    [theme=dark] .colab-df-convert:hover {\n",
              "      background-color: #434B5C;\n",
              "      box-shadow: 0px 1px 3px 1px rgba(0, 0, 0, 0.15);\n",
              "      filter: drop-shadow(0px 1px 2px rgba(0, 0, 0, 0.3));\n",
              "      fill: #FFFFFF;\n",
              "    }\n",
              "  </style>\n",
              "\n",
              "    <script>\n",
              "      const buttonEl =\n",
              "        document.querySelector('#df-d98663a6-e2d0-411d-9b61-a07069c57f41 button.colab-df-convert');\n",
              "      buttonEl.style.display =\n",
              "        google.colab.kernel.accessAllowed ? 'block' : 'none';\n",
              "\n",
              "      async function convertToInteractive(key) {\n",
              "        const element = document.querySelector('#df-d98663a6-e2d0-411d-9b61-a07069c57f41');\n",
              "        const dataTable =\n",
              "          await google.colab.kernel.invokeFunction('convertToInteractive',\n",
              "                                                    [key], {});\n",
              "        if (!dataTable) return;\n",
              "\n",
              "        const docLinkHtml = 'Like what you see? Visit the ' +\n",
              "          '<a target=\"_blank\" href=https://colab.research.google.com/notebooks/data_table.ipynb>data table notebook</a>'\n",
              "          + ' to learn more about interactive tables.';\n",
              "        element.innerHTML = '';\n",
              "        dataTable['output_type'] = 'display_data';\n",
              "        await google.colab.output.renderOutput(dataTable, element);\n",
              "        const docLink = document.createElement('div');\n",
              "        docLink.innerHTML = docLinkHtml;\n",
              "        element.appendChild(docLink);\n",
              "      }\n",
              "    </script>\n",
              "  </div>\n",
              "\n",
              "\n",
              "    </div>\n",
              "  </div>\n"
            ],
            "application/vnd.google.colaboratory.intrinsic+json": {
              "type": "dataframe",
              "variable_name": "delay_data",
              "summary": "{\n  \"name\": \"delay_data\",\n  \"rows\": 5,\n  \"fields\": [\n    {\n      \"column\": \"text\",\n      \"properties\": {\n        \"dtype\": \"string\",\n        \"num_unique_values\": 5,\n        \"samples\": [\n          \"\\n\\ud3ed\\uc5fc \\uc18d \\uc9c0\\ud558\\ucca0 1\\ud638\\uc120 \\uc9c0\\uc5f0\\u2026 \\uc2dc\\ubbfc\\ub4e4 \\u2018\\uc9dc\\uc99d\\u2019\\n\\n\\uae30\\uc790\\uba85 \\uac15\\ud604\\uc218   \\uc785\\ub825 2023.08.01 19:01  \\uc218\\uc815 2023.08.02 10:21\\n\\n\\uc804\\uad6d \\ub300\\ubd80\\ubd84 \\uc9c0\\uc5ed\\uc5d0 \\ud3ed\\uc5fc\\uacbd\\ubcf4\\uac00 \\ub0b4\\ub824\\uc9c4 1\\uc77c \\uc9c0\\ud558\\ucca0 1\\ud638\\uc120\\uc774 \\uc5f0\\ucc29\\ub3fc \\uc774\\uc6a9\\uac1d\\ub4e4\\uc774 \\ubd88\\ud3b8\\uc744 \\ud638\\uc18c\\ud588\\ub2e4.\\n\\n\\ucf54\\ub808\\uc77c(\\ud55c\\uad6d\\ucca0\\ub3c4\\uacf5\\uc0ac)\\uc5d0 \\ub530\\ub974\\uba74 \\uc774\\ub0a0 \\uc624\\ud6c4 3\\uc2dc\\uaed8\\ubd80\\ud130 \\uc9c0\\ud558\\ucca0 1\\ud638\\uc120\\uc774 10\\ubd84\\uac00\\ub7c9 \\uc9c0\\uc5f0\\ub418\\uace0 \\uc788\\ub2e4.\\n\\n1\\ud638\\uc120\\uc744 \\uc774\\uc6a9\\ud558\\ub824\\ub358 \\uc2dc\\ubbfc\\ub4e4\\uc740 SNS(\\uc0ac\\ud68c\\uad00\\uacc4\\ub9dd\\uc11c\\ube44\\uc2a4)\\ub97c \\ud1b5\\ud574 \\\"\\ub0a0\\uc528\\uac00 \\ub354\\uc6cc\\uc11c \\uae30\\ub2e4\\ub9ac\\uae30 \\ud798\\ub4e0\\ub370 \\uc9c0\\ud558\\ucca0\\uc740 \\uc794\\ub729 \\ubc00\\ub824\\uc788\\ub2e4\\\", \\\"1\\ud638\\uc120\\uc740 \\uac00\\ub729\\uc774\\ub098 \\uc5ed\\ub3c4 \\uc57c\\uc678\\uc5d0 \\uc788\\uc5b4\\uc11c \\ub354\\uc6b4\\ub370 \\uae30\\ub2e4\\ub824\\uc57c \\ud55c\\ub2e4\\\" \\ub4f1 \\ubc18\\uc751\\uc744 \\ubcf4\\uc600\\ub2e4.\\n\\n\\uc774\\uc640 \\uad00\\ub828 \\ucf54\\ub808\\uc77c \\uad00\\uacc4\\uc790\\ub294 \\\"KTX(\\uace0\\uc18d\\ucca0\\ub3c4)\\uac00 \\ud3ed\\uc5fc \\uc601\\ud5a5\\uc73c\\ub85c \\uc9c0\\uc5f0\\ub41c \\uac83\\ucc98\\ub7fc, \\uadf8 \\uc601\\ud5a5\\uc774 1\\ud638\\uc120\\uc5d0\\ub3c4 \\ub611\\uac19\\uc774 \\uc801\\uc6a9\\ub418\\uae34 \\ud55c\\ub2e4\\\"\\uba70 \\\"3\\uc2dc \\uc5f4\\ucc28\\uac00 \\uc9c0\\uc5f0\\ub3fc \\ub4b7 \\uc5f4\\ucc28\\ub4e4\\ub3c4 \\ub2a6\\uc5b4\\uc9c0\\uace0 \\uc788\\ub294 \\uc0c1\\ud669\\\"\\uc774\\ub77c\\uace0 \\uc124\\uba85\\ud588\\ub2e4.\\n\\n\\uac15\\ud604\\uc218\\uae30\\uc790\\n\\n\\ucd9c\\ucc98 : \\uc911\\ubd80\\uc77c\\ubcf4 - \\uacbd\\uae30\\u00b7\\uc778\\ucc9c\\uc758 \\ub4e0\\ub4e0\\ud55c \\uce5c\\uad6c(https://www.joongboo.com)\\n\",\n          \"\\n\\uc548\\uc0b0\\uc5ed 70\\ub300\\u7537 \\uc4f0\\ub7ec\\uc9c4 \\ucc44 \\ubc1c\\uacac\\u21924\\ud638\\uc120 \\ud55c\\ub54c \\uc911\\ub2e8... \\uac04\\ud3b8\\uc9c0\\uc5f0\\uc99d\\uba85\\uc11c \\ubc1c\\uae09 \\ubc29\\ubc95\\u00b7\\uae30\\uc900\\uc740?\\n\\n\\uae30\\uc790\\uba85 \\uc8fc\\uc9c0\\uc601 \\uae30\\uc790   \\uc785\\ub825 2023.02.10 09:32\\n\\n[\\ud540\\ud3ec\\uc778\\ud2b8\\ub274\\uc2a4 \\uc8fc\\uc9c0\\uc601 \\uae30\\uc790] \\uc624\\ub298(10\\uc77c) \\uc548\\uc0b0\\uc5ed \\uc120\\ub85c\\uc5d0\\uc11c \\ubc1c\\uc0dd\\ud55c \\uc0ac\\uc0c1\\uc0ac\\uace0\\ub85c \\ucd9c\\uadfc \\uc2dc\\uac04\\ub300 4\\ud638\\uc120 \\uc5f4\\ucc28 \\uc6b4\\ud589\\uc5d0 \\ucc28\\uc9c8\\uc774 \\ubc1c\\uc0dd\\ud588\\ub2e4.\\n\\n\\uc774\\ub0a0 \\uc624\\uc804 6\\uc2dc 58\\ubd84\\ucbe4 \\uacbd\\uae30 \\uc548\\uc0b0\\uc2dc \\ub2e8\\uc6d0\\uad6c \\uc6d0\\uace1\\ub3d9 \\uc9c0\\ud558\\ucca0 4\\ud638\\uc120 \\uc548\\uc0b0\\uc5ed \\uc120\\ub85c\\uc5d0\\uc11c 70\\ub300 \\ub0a8\\uc131 A\\uc528\\uac00 \\uc4f0\\ub7ec\\uc9c4 \\ucc44 \\ubc1c\\uacac\\ub410\\ub2e4. \\n\\nA\\uc528\\ub294 4\\ud638\\uc120 \\uc11c\\uc6b8\\ubc29\\ud5a5 \\uc804\\ub3d9\\ucc28 \\ud558\\ubd80\\uc5d0\\uc11c \\uc2ec\\uc815\\uc9c0 \\uc0c1\\ud0dc\\ub85c \\ubc1c\\uacac\\ub410\\ub2e4. A\\uc528\\ub294 \\uc18c\\ubc29\\ub2f9\\uad6d\\uc5d0 \\uc758\\ud574 \\uc778\\uadfc \\ubcd1\\uc6d0\\uc73c\\ub85c \\uc62e\\uaca8\\uc84c\\ub2e4. \\n\\n\\uc774\\ub0a0 \\ud604\\uc7a5\\uac10\\uc2dd \\ub4f1 \\uc0ac\\uace0 \\uc218\\uc2b5\\uc744 \\uc704\\ud574 4\\ud638\\uc120 \\uc591\\ubc29\\ud5a5 \\uc5f4\\ucc28 \\uc6b4\\ud589\\uc774 \\uc7a0\\uc2dc \\uc911\\ub2e8\\ub410\\ub2e4. \\uc774\\ud6c4 \\uc774\\ub0a0 \\uc624\\uc804 8\\uc2dc 37\\ubd84\\uaed8 \\uc548\\uc0b0~\\uc624\\uc774\\ub3c4\\uc5ed \\uac04 \\uc0c1\\u00b7\\ud558\\uc120 \\uc804\\uad6c\\uac04 \\uc5f4\\ucc28\\uc6b4\\ud589\\uc774 \\uc7ac\\uac1c\\ub410\\ub2e4.\\n\\n\\uadf8\\ub7f0 \\uac00\\uc6b4\\ub370  \\uac11\\uc791\\uc2a4\\ub7ec\\uc6b4 \\uc9c0\\ud558\\ucca0 \\uc9c0\\uc5f0 \\uc6b4\\ud589\\uc73c\\ub85c \\ucd9c\\uadfc\\uae38 \\uc2dc\\ubbfc\\ub4e4\\uc774 \\ubd88\\ud3b8\\uc744 \\uacaa\\uc73c\\uba74\\uc11c \\uc9c0\\ud558\\ucca0 \\uc9c0\\uc5f0 \\uc99d\\uba85\\uc11c \\ubc1c\\uae09 \\ubc29\\ubc95\\uc5d0 \\uad00\\uc2ec\\uc774 \\ubaa8\\uc544\\uc9c4\\ub2e4. \\n\\n\\uc9c0\\ud558\\ucca0 \\uc9c0\\uc5f0 \\uc99d\\uba85\\uc11c\\ub294 \\uc9c0\\ud558\\ucca0 \\uc5f0\\ucc29\\uc73c\\ub85c \\ud68c\\uc0ac, \\ud559\\uad50\\uc5d0 \\ub2a6\\uc5c8\\uc744 \\uacbd\\uc6b0 \\uc9c0\\uac01 \\uc0ac\\uc720\\ub97c \\ub4b7\\ubc1b\\uce68 \\ud560 \\uc218 \\uc788\\ub294 \\uc99d\\uba85\\uc11c\\ub2e4. \\uc9c0\\uc5f0\\ub41c \\uc5f4\\ucc28 \\uae30\\uc900 \\ud0d1\\uc2b9 3\\uc77c \\uc774\\ub0b4\\uc5d0 \\ubc1c\\uae09 \\ubc1b\\uc744 \\uc218 \\uc788\\ub2e4.\\n\\n\\uc11c\\uc6b8\\uad50\\ud1b5\\uacf5\\uc0ac\\uc758 \\uc5ec\\uac1d\\uc6b4\\uc1a1\\uc57d\\uad00\\uc5d0 \\ub530\\ub974\\uba74 \\uc9c0\\ud558\\ucca0 \\uc9c0\\uc5f0 \\uae30\\uc900\\uc740 5\\ubd84\\uc73c\\ub85c 5\\ubd84 \\uc774\\uc0c1 \\uc9c0\\uc5f0\\uc774 \\ubc1c\\uc0dd\\ud588\\uc744 \\ub54c \\uc99d\\uba85\\uc11c \\ubc1c\\uae09\\uc774 \\uac00\\ub2a5\\ud558\\ub2e4. \\n\\nKTX, \\ubb34\\uad81\\ud654\\ud638 \\ub4f1\\uc740 \\uc9c0\\ud558\\ucca0\\uacfc \\uc9c0\\uc5f0 \\uae30\\uc900\\uc774 \\ub2e4\\ub974\\ub2e4. \\ud574\\ub2f9 \\uc5f4\\ucc28\\ub97c \\uc6b4\\uc601\\ud558\\ub294 \\uacf3\\uc740 \\ud55c\\uad6d\\ucca0\\ub3d9\\uace0\\uc0ac(\\ucf54\\ub808\\uc77c)\\ub85c \\uc774\\uacf3 \\uc57d\\uad00\\uc5d0\\uc11c\\ub294 20\\ubd84 \\uc774\\uc0c1 \\uc9c0\\uc5f0\\uc774 \\ubc1c\\uc0dd\\ud574\\uc57c '\\uc5f4\\ucc28 \\uc9c0\\uc5f0'\\uc73c\\ub85c \\ubd84\\ub958\\ud55c\\ub2e4. \\n\\n\\ub2e4\\ub9cc \\uc9c0\\uc5f0 \\uc0ac\\uc720\\uac00 \\ub0b4\\ubd80 \\uc6d0\\uc778\\uc774\\uc5b4\\uc57c \\ud558\\uba70 \\ucc9c\\uc7ac\\uc9c0\\ubcc0, \\ud14c\\ub7ec \\ub4f1\\uc740 \\uc9c0\\uc5f0 \\uae30\\uc900\\uc774 \\uc544\\ub2c8\\ub2e4.\\n\\n\\uc5f4\\ucc28 \\uc9c0\\uc5f0 \\uc2dc\\uac04\\uc740 \\uc11c\\uc6b8\\uad50\\ud1b5\\uacf5\\uc0ac, \\ucf54\\ub808\\uc77c \\ud648\\ud398\\uc774\\uc9c0\\uc758 \\uac04\\ud3b8\\uc9c0\\uc5f0\\uc99d\\uba85\\uc11c \\ubc1c\\uae09 \\uc11c\\ube44\\uc2a4\\uc5d0\\uc11c \\ud655\\uc778\\ud560 \\uc218 \\uc788\\ub2e4. \\n\",\n          \"\\n\\ucd9c\\uadfc\\uae38 \\uc11c\\uc6b8 \\uc9c0\\ud558\\ucca0 7\\ud638\\uc120 \\uc5f4\\ucc28 \\ucd9c\\uc785\\ubb38 \\uace0\\uc7a5\\u2026\\uccad\\ub2f4\\uc5ed\\u00b7\\uc0b0\\uace1\\uc5ed\\uc11c \\uc7a0\\uc2dc \\uc6b4\\ud589 \\uc911\\ub2e8 [\\uc81c\\ubcf4]\\n\\uc785\\ub825 2023.12.29 (10:53)\\n\\uc218\\uc815 2023.12.29 (11:20)\\n\\n\\uc624\\ub298(29\\uc77c) \\uc544\\uce68, \\uc11c\\uc6b8 \\uc9c0\\ud558\\ucca0 7\\ud638\\uc120 \\uc5f4\\ucc28\\uac00 \\ucd9c\\uc785\\ubb38 \\uace0\\uc7a5\\uc73c\\ub85c \\uc778\\ud574 \\uc7a0\\uc2dc \\uc6b4\\ud589\\uc774 \\uc911\\ub2e8\\ub410\\uc2b5\\ub2c8\\ub2e4.\\n\\n\\uc624\\ub298 \\uc624\\uc804 7\\uc2dc 50\\ubd84\\ucbe4 \\uc11c\\uc6b8 \\uc9c0\\ud558\\ucca0 7\\ud638\\uc120 \\uccad\\ub2f4\\uc5ed \\uc2b9\\uac15\\uc7a5\\uc5d0\\uc11c \\uc628\\uc218\\ud589 \\uc5f4\\ucc28\\uc758 \\ucd9c\\uc785\\ubb38\\uc774 \\ub2eb\\ud788\\uc9c0 \\uc54a\\uc544 \\uc6b4\\ud589\\uc774 \\uc7a0\\uc2dc \\uc911\\ub2e8\\ub410\\uc2b5\\ub2c8\\ub2e4.\\n\\n\\ub610 \\uc624\\uc804 7\\uc2dc 57\\ubd84\\ucbe4 7\\ud638\\uc120 \\uc0b0\\uace1\\uc5ed\\uc758 \\ub3c4\\ubd09\\uc0b0\\ud589 \\uc5f4\\ucc28\\uc5d0\\uc11c\\ub3c4 \\uac19\\uc740 \\ubb38\\uc81c\\uac00 \\ubc1c\\uc0dd\\ud588\\uc2b5\\ub2c8\\ub2e4.\\n\\n\\uc5f4\\ucc28\\uc5d0 \\ud0c0\\uace0 \\uc788\\ub358 \\uc2b9\\uac1d\\ub4e4\\uc740 \\uace0\\uc7a5 \\ub09c \\uc5f4\\ucc28\\uc5d0\\uc11c \\ub0b4\\ub9b0 \\ub4a4 2~3\\ubd84 \\ub4a4\\uc5d0 \\ub3c4\\ucc29\\ud55c \\ub2e4\\uc74c \\uc5f4\\ucc28\\uc5d0 \\ud0d1\\uc2b9\\ud574 \\uc774\\ub3d9\\ud588\\uc2b5\\ub2c8\\ub2e4.\\n\\n\\uc774 \\uc0ac\\uace0\\ub85c \\ub2e4\\uce5c \\uc2b9\\uac1d\\uc740 \\uc5c6\\uc5c8\\uc9c0\\ub9cc, \\ucd9c\\uadfc \\uc2dc\\uac04\\ub300\\uc5d0 \\uc5f4\\ucc28 \\uc6b4\\ud589\\uc5d0 \\ucc28\\uc9c8\\uc774 \\ube5a\\uc5b4\\uc9c0\\uba74\\uc11c \\ucd9c\\uadfc\\uae38 \\uc2dc\\ubbfc\\ub4e4\\uc774 \\ud070 \\ubd88\\ud3b8\\uc744 \\uacaa\\uc5c8\\uc2b5\\ub2c8\\ub2e4.\\n\\n\\uc11c\\uc6b8\\uad50\\ud1b5\\uacf5\\uc0ac\\ub294 \\\"7\\ud638\\uc120 \\uc5f4\\ucc28\\ub294 \\ud604\\uc7ac\\ub294 \\ubaa8\\ub450 \\uc815\\uc0c1 \\uc6b4\\ud589\\ub418\\uace0 \\uc788\\uc73c\\uba70 \\uc815\\ud655\\ud55c \\uace0\\uc7a5 \\uc6d0\\uc778\\uc744 \\uc870\\uc0ac\\ud560 \\uacc4\\ud68d\\\"\\uc774\\ub77c\\uace0 \\ubc1d\\ud614\\uc2b5\\ub2c8\\ub2e4.\\n\"\n        ],\n        \"semantic_type\": \"\",\n        \"description\": \"\"\n      }\n    },\n    {\n      \"column\": \"output\",\n      \"properties\": {\n        \"dtype\": \"string\",\n        \"num_unique_values\": 5,\n        \"samples\": [\n          \"**\\uc5ec\\ub984 \\ud3ed\\uc5fc\\uc5d0 \\uc9c0\\uce5c \\ub2f9\\uc2e0, \\uc9c0\\ud558\\ucca0 1\\ud638\\uc120\\ub3c4 \\uc9c0\\ucce4\\ub2e4?! \\uc2dc\\ubbfc\\ub4e4\\uc758 \\ubb34\\ub354\\uc704 \\uc18d \\ub300\\uae30 \\uc2dc\\uac04 \\uc99d\\uac00\\ub85c \\ubd88\\ub9cc \\ud3ed\\ubc1c**\\n\\n\\uc548\\ub155\\ud558\\uc138\\uc694, \\uc5ec\\ub7ec\\ubd84\\uc758 \\ucd9c\\ud1f4\\uadfc \\uba54\\uc2e0\\uc800 \\uc9c0\\ud558\\ucca0 \\uc628\\ub2e4\\uc758 '\\uc624.\\uc9c0.\\ud1b5 [\\uc624\\ub298\\uc758 \\uc9c0\\ud558\\ucca0 \\uc18c\\uc2dd\\ud1b5]' \\uc778\\uc0ac \\ub4dc\\ub9bd\\ub2c8\\ub2e4!\\n\\n**\\uc9c0\\uc5f0/\\uc0ac\\uace0 \\uc77c\\uc2dc:** 2023\\ub144 8\\uc6d4 1\\uc77c \\uc624\\ud6c4 3\\uc2dc\\uacbd\\n\\n**\\uc9c0\\uc5f0/\\uc0ac\\uace0 \\ub178\\uc120:** \\uc9c0\\ud558\\ucca0 1\\ud638\\uc120\\n\\n**\\uc9c0\\uc5f0/\\uc0ac\\uace0 \\uc774\\uc720:** \\uc804\\uad6d \\ub300\\ubd80\\ubd84 \\uc9c0\\uc5ed\\uc5d0 \\ubc1c\\uc0dd\\ud55c \\ud3ed\\uc5fc\\uc73c\\ub85c \\uc778\\ud574 KTX\\uc640 \\uc5f0\\uacc4\\ub418\\ub294 \\uc9c0\\ud558\\ucca0 \\uc6b4\\ud589\\uc5d0 \\uc601\\ud5a5\\uc744 \\ubbf8\\uccd0, 1\\ud638\\uc120\\uc758 \\uc6b4\\ud589\\uc774 \\uc9c0\\uc5f0\\ub418\\uace0 \\uc788\\uc2b5\\ub2c8\\ub2e4. \\uc774\\ub85c \\uc778\\ud574 \\ud6c4\\uc18d \\uc5f4\\ucc28\\ub4e4\\ub3c4 \\uc9c0\\uc5f0\\ub418\\ub294 \\uc5f0\\uc1c4 \\ubc18\\uc751\\uc774 \\ubc1c\\uc0dd\\ud588\\uc2b5\\ub2c8\\ub2e4.\\n\\n**\\ubb38\\uc758 \\uc0ac\\ud56d \\ub9c1\\ud06c:** [\\ucf54\\ub808\\uc77c \\uace0\\uac1d\\uc13c\\ud130](https://www.korail.com)\\n\\n\\ub300\\ub2e4\\uc218\\uc758 \\uc2dc\\ubbfc\\ub4e4\\uc774 SNS\\uc640 \\ub2e4\\uc591\\ud55c \\ud50c\\ub7ab\\ud3fc\\uc744 \\ud1b5\\ud574 \\ubd88\\ub9cc\\uc744 \\ud45c\\ucd9c\\ud558\\uace0 \\uc788\\uc2b5\\ub2c8\\ub2e4. \\\"\\ub354\\uc6b4 \\ub0a0\\uc528\\uc5d0 \\ubc00\\ub824 \\uc788\\ub294 \\uc9c0\\ud558\\ucca0\\uc744 \\uae30\\ub2e4\\ub9ac\\ub294 \\uac83\\uc740 \\uace0\\ubb38 \\uac19\\ub2e4\\\"\\uace0 \\ud1a0\\ub85c\\ud558\\ub294 \\uc774\\uc6a9\\uac1d\\ub4e4\\uc758 \\ubaa9\\uc18c\\ub9ac\\uac00 \\ub192\\uc544\\uc9c0\\uace0 \\uc788\\uc2b5\\ub2c8\\ub2e4. \\ud2b9\\ud788 1\\ud638\\uc120\\uc758 \\uc77c\\ubd80 \\uc5ed\\ub4e4\\uc774 \\uc57c\\uc678\\uc5d0 \\uc704\\uce58\\ud574 \\uc788\\uc5b4 \\uadf8 \\ubd88\\ud3b8\\ud568\\uc740 \\ubc30\\uac00\\ub418\\uace0 \\uc788\\uc2b5\\ub2c8\\ub2e4.\\n\\n\\ucf54\\ub808\\uc77c \\uad00\\uacc4\\uc790\\ub294 \\\"\\ud3ed\\uc5fc\\uc73c\\ub85c \\uc778\\ud55c \\uae30\\uc220\\uc801 \\ubb38\\uc81c\\uc640 \\uc548\\uc804\\uc744 \\uc704\\ud55c \\uc870\\uce58\\ub85c \\uc778\\ud574 \\ubd88\\uac00\\ud53c\\ud558\\uac8c \\uc9c0\\uc5f0\\uc774 \\ubc1c\\uc0dd\\ud588\\ub2e4\\\"\\uba70 \\\"\\uc774\\uc6a9\\uac1d\\ub4e4\\uc758 \\uc548\\uc804\\uc744 \\uc704\\ud574 \\ucd5c\\uc120\\uc744 \\ub2e4\\ud558\\uace0 \\uc788\\uc73c\\ub2c8 \\uc591\\ud574 \\ubd80\\ud0c1\\ub4dc\\ub9b0\\ub2e4\\\"\\uace0 \\uc804\\ud588\\uc2b5\\ub2c8\\ub2e4. \\ub610\\ud55c, \\uc2e4\\uc2dc\\uac04 \\uc5c5\\ub370\\uc774\\ud2b8\\uc640 \\ub2e4\\uac00\\uc624\\ub294 \\uc6b4\\ud589 \\uc815\\ubcf4\\uc5d0 \\ub300\\ud574 \\uacc4\\uc18d\\ud574\\uc11c \\uacf5\\uc9c0\\ud560 \\uc608\\uc815\\uc774\\ub77c\\uace0 \\ub367\\ubd99\\uc600\\uc2b5\\ub2c8\\ub2e4.\\n\\n\\uc9c0\\ud558\\ucca0 \\uc774\\uc6a9 \\uc2dc \\ubd88\\ud3b8\\ud568\\uc744 \\ucd5c\\uc18c\\ud654\\ud558\\uae30 \\uc704\\ud574 \\ucd9c\\ubc1c \\uc804 \\uc2e4\\uc2dc\\uac04 \\uc6b4\\ud589 \\uc815\\ubcf4\\ub97c \\ud655\\uc778\\ud558\\uace0, \\uac00\\ub2a5\\ud558\\ub2e4\\uba74 \\ub300\\uccb4 \\uad50\\ud1b5\\uc218\\ub2e8\\uc744 \\uc774\\uc6a9\\ud558\\ub294 \\uac83\\ub3c4 \\uc88b\\uc740 \\ubc29\\ubc95\\uc77c \\uc218 \\uc788\\uc2b5\\ub2c8\\ub2e4.\\n\\n\\uc624\\uc9c0\\ud1b5\\uc774 \\uc2e4\\uc2dc\\uac04\\uc73c\\ub85c \\ub2e4\\uc591\\ud55c \\uc9c0\\ud558\\ucca0 \\uc815\\ubcf4\\ub97c \\uc5c5\\ub370\\uc774\\ud2b8 \\ud560 \\uc608\\uc815\\uc774\\ub2c8, \\uc790\\uc8fc \\ubc29\\ubb38\\ud574 \\uc8fc\\uc138\\uc694. '\\uc9c0\\ud558\\ucca0 \\uc628\\ub2e4'\\ub294 \\ub2e8 \\ud55c \\ubc88\\uc758 \\ud130\\uce58\\ub85c \\uc790\\uc2e0\\uc758 \\uc704\\uce58\\uc5d0\\uc11c \\uac00\\uc7a5 \\uac00\\uae4c\\uc6b4 \\uc9c0\\ud558\\ucca0 \\uc5ed\\uc758 \\uc2e4\\uc2dc\\uac04 \\uc815\\ubcf4\\ub97c \\uc81c\\uacf5\\ud569\\ub2c8\\ub2e4.\\n\\n\\ud83d\\udd3d \\uc9c0\\ud558\\ucca0 \\uc628\\ub2e4 \\uc18c\\uac1c \\ubcf4\\ub7ec\\uac00\\uae30\\n[\\uc9c0\\ud558\\ucca0 \\uc628\\ub2e4 \\ube14\\ub85c\\uadf8 \\ubc14\\ub85c\\uac00\\uae30](https://blog.naver.com/subway__onda/223258646349)\\n\\n\\uc5ec\\ub984\\uc5d0\\ub294 \\uc9c0\\ud558\\ucca0\\ub3c4 \\ud798\\ub4e4\\uc5b4\\uc694, \\uc6b0\\ub9ac \\ubaa8\\ub450 \\uc870\\uae08\\ub9cc \\ub354 \\uc778\\ub0b4\\uc2ec\\uc744 \\uac00\\uc9c0\\uace0 \\uc5ec\\uc720\\ub97c \\uac16\\uc790\\uad6c\\uc694! \\uc0c1\\ud669\\uc774 \\ub098\\uc544\\uc9c8 \\ub54c\\uae4c\\uc9c0 \\ud568\\uaed8 \\ud798\\ub0b4\\ubd10\\uc694! \\ud83d\\ude0a\",\n          \"### \\uc81c\\ubaa9: \\\"\\ucd9c\\uadfc\\uae38 \\ub300\\ud63c\\ub780! \\uc548\\uc0b0\\uc5ed \\uc0ac\\uc0c1\\uc0ac\\uace0\\ub85c \\uc778\\ud55c 4\\ud638\\uc120 \\uc6b4\\ud589 \\uc911\\ub2e8, \\uc9c0\\uc5f0 \\uc99d\\uba85\\uc11c\\ub294 \\uc5b4\\ub5bb\\uac8c \\ubc1c\\uae09\\ubc1b\\ub098\\uc694?\\\"\\n\\n\\uc548\\ub155\\ud558\\uc138\\uc694, \\uc5ec\\ub7ec\\ubd84\\uc758 \\ucd9c\\ud1f4\\uadfc \\uba54\\uc2e0\\uc800 \\uc9c0\\ud558\\ucca0 \\uc628\\ub2e4\\uc758 '\\uc624.\\uc9c0.\\ud1b5 [\\uc624\\ub298\\uc758 \\uc9c0\\ud558\\ucca0 \\uc18c\\uc2dd\\ud1b5]' \\uc778\\uc0ac \\ub4dc\\ub9bd\\ub2c8\\ub2e4!\\n\\n#### \\uc0ac\\uace0 \\ubc1c\\uc0dd \\uc77c\\uc2dc: 2023\\ub144 2\\uc6d4 10\\uc77c \\uc624\\uc804 6\\uc2dc 58\\ubd84\\n#### \\uc0ac\\uace0 \\ub178\\uc120: \\uc9c0\\ud558\\ucca0 4\\ud638\\uc120 \\uc548\\uc0b0~\\uc624\\uc774\\ub3c4\\uc5ed \\uac04\\n#### \\uc0ac\\uace0 \\uc6d0\\uc778: \\uc120\\ub85c\\uc5d0\\uc11c 70\\ub300 \\ub0a8\\uc131 \\uc2ec\\uc815\\uc9c0 \\uc0c1\\ud0dc \\ubc1c\\uacac\\n#### \\ubb38\\uc758 \\uc0ac\\ud56d \\ub9c1\\ud06c: [\\uc11c\\uc6b8\\uad50\\ud1b5\\uacf5\\uc0ac \\uac04\\ud3b8 \\uc9c0\\uc5f0\\uc99d\\uba85\\uc11c \\ubc1c\\uae09](https://www.seoulmetro.co.kr/kr/delayCertificate.do)\\n\\n\\uc624\\ub298 \\uc544\\uce68, \\uacbd\\uae30 \\uc548\\uc0b0\\uc2dc \\ub2e8\\uc6d0\\uad6c \\uc6d0\\uace1\\ub3d9 \\uc9c0\\ud558\\ucca0 4\\ud638\\uc120 \\uc548\\uc0b0\\uc5ed\\uc5d0\\uc11c \\uc548\\ud0c0\\uae4c\\uc6b4 \\uc0ac\\uc0c1\\uc0ac\\uace0\\uac00 \\ubc1c\\uc0dd\\ud588\\uc2b5\\ub2c8\\ub2e4. 70\\ub300 \\ub0a8\\uc131 A\\uc528\\uac00 \\uc2ec\\uc815\\uc9c0 \\uc0c1\\ud0dc\\ub85c \\ubc1c\\uacac\\ub418\\uc5b4 \\uc18c\\ubc29\\ub2f9\\uad6d\\uc5d0 \\uc758\\ud574 \\uae34\\uae09\\ud788 \\ubcd1\\uc6d0\\uc73c\\ub85c \\uc774\\uc1a1\\ub418\\uc5c8\\uc2b5\\ub2c8\\ub2e4. \\uc774 \\uc0ac\\uace0\\ub85c \\uc778\\ud574 4\\ud638\\uc120\\uc740 \\uc591\\ubc29\\ud5a5 \\uc5f4\\ucc28 \\uc6b4\\ud589\\uc774 \\uc7a0\\uc2dc \\uc911\\ub2e8\\ub418\\uc5c8\\uc73c\\uba70, \\uc774\\ub85c \\uc778\\ud574 \\uc218\\ub9ce\\uc740 \\ucd9c\\uadfc\\uae38 \\uc2dc\\ubbfc\\ub4e4\\uc774 \\ud070 \\ubd88\\ud3b8\\uc744 \\uacaa\\uc5c8\\uc2b5\\ub2c8\\ub2e4.\\n\\n\\uc0ac\\uace0 \\uc9c1\\ud6c4, 4\\ud638\\uc120\\uc740 \\uc57d 1\\uc2dc\\uac04 40\\ubd84 \\ub3d9\\uc548 \\uc6b4\\ud589 \\uc911\\ub2e8 \\uc0c1\\ud0dc\\uc600\\uc73c\\uba70, \\uc624\\uc804 8\\uc2dc 37\\ubd84\\uacbd \\uc6b4\\ud589\\uc774 \\uc7ac\\uac1c\\ub418\\uc5c8\\uc2b5\\ub2c8\\ub2e4. \\uadf8\\ub7ec\\ub098 \\ub9ce\\uc740 \\uc2dc\\ubbfc\\ub4e4\\uc774 \\uc774\\ubbf8 \\ucd9c\\uadfc\\uae38 \\uc9c0\\uc5f0\\uc758 \\ud53c\\ud574\\ub97c \\uc785\\uc5c8\\uc8e0. \\uc774\\ub7f0 \\uc0c1\\ud669\\uc5d0\\uc11c \\uc9c0\\ud558\\ucca0 \\uc9c0\\uc5f0 \\uc99d\\uba85\\uc11c \\ubc1c\\uae09\\uc774 \\ud070 \\ub3c4\\uc6c0\\uc774 \\ub429\\ub2c8\\ub2e4.\\n\\n\\uc9c0\\ud558\\ucca0 \\uc9c0\\uc5f0 \\uc99d\\uba85\\uc11c\\ub294 \\uc11c\\uc6b8\\uad50\\ud1b5\\uacf5\\uc0ac \\ud648\\ud398\\uc774\\uc9c0\\uc5d0\\uc11c \\uac04\\ud3b8\\ud558\\uac8c \\ubc1c\\uae09\\ubc1b\\uc744 \\uc218 \\uc788\\uc2b5\\ub2c8\\ub2e4. \\uc9c0\\ud558\\ucca0\\uc774 5\\ubd84 \\uc774\\uc0c1 \\uc9c0\\uc5f0\\ub420 \\uacbd\\uc6b0 \\ubc1c\\uae09 \\uac00\\ub2a5\\ud558\\uba70, \\uc5f4\\ucc28 \\uc9c0\\uc5f0 \\uc2dc\\uac04\\uacfc \\uc0ac\\uc720\\ub97c \\uba85\\uc2dc\\ud558\\uc5ec \\ud68c\\uc0ac\\ub098 \\ud559\\uad50\\uc5d0 \\uc81c\\ucd9c\\ud560 \\uc218 \\uc788\\uc2b5\\ub2c8\\ub2e4. \\uc774\\ub294 \\uc9c0\\uc5f0\\ub41c \\uc5f4\\ucc28 \\uae30\\uc900\\uc73c\\ub85c \\ud0d1\\uc2b9 3\\uc77c \\uc774\\ub0b4\\uc5d0 \\uc2e0\\uccad\\ud574\\uc57c \\ud558\\uba70, \\uc9c0\\uc5f0 \\uc0ac\\uc720\\uac00 \\ub0b4\\ubd80 \\uc6d0\\uc778\\uc77c \\ub54c\\ub9cc \\uc778\\uc815\\ub429\\ub2c8\\ub2e4.\\n\\n\\uc624\\ub298 \\uac19\\uc740 \\uc0ac\\uace0 \\uc0c1\\ud669\\uc5d0\\uc11c\\ub294 \\ucca0\\ub3c4\\uc6b4\\uc601\\uae30\\uad00\\uc758 \\ub0b4\\ubd80 \\uc0ac\\uc720\\ub85c \\ud310\\ub2e8\\ub418\\uc5b4 \\uc9c0\\uc5f0\\uc99d\\uba85\\uc11c \\ubc1c\\uae09\\uc774 \\uac00\\ub2a5\\ud569\\ub2c8\\ub2e4. \\ud558\\uc9c0\\ub9cc \\ucc9c\\uc7ac\\uc9c0\\ubcc0\\uc774\\ub098 \\uc678\\ubd80 \\ud14c\\ub7ec \\ub4f1\\uc740 \\uc9c0\\uc5f0 \\uc0ac\\uc720\\uc5d0\\uc11c \\uc81c\\uc678\\ub429\\ub2c8\\ub2e4.\\n\\n\\uc624\\uc9c0\\ud1b5\\uc774 \\uc2e4\\uc2dc\\uac04\\uc73c\\ub85c \\ub2e4\\uc591\\ud55c \\uc9c0\\ud558\\ucca0 \\uc815\\ubcf4\\ub97c \\uc5c5\\ub370\\uc774\\ud2b8 \\ud560 \\uc608\\uc815\\uc774\\ub2c8, \\uc790\\uc8fc \\ubc29\\ubb38\\ud574 \\uc8fc\\uc138\\uc694. '\\uc9c0\\ud558\\ucca0 \\uc628\\ub2e4'\\ub294 \\ub2e8 \\ud55c \\ubc88\\uc758 \\ud130\\uce58\\ub85c \\uc790\\uc2e0\\uc758 \\uc704\\uce58\\uc5d0\\uc11c \\uac00\\uc7a5 \\uac00\\uae4c\\uc6b4 \\uc9c0\\ud558\\ucca0 \\uc5ed\\uc758 \\uc2e4\\uc2dc\\uac04 \\uc815\\ubcf4\\ub97c \\uc81c\\uacf5\\ud569\\ub2c8\\ub2e4.\\n\\n\\ud83d\\udd3d \\uc9c0\\ud558\\ucca0 \\uc628\\ub2e4 \\uc18c\\uac1c \\ubcf4\\ub7ec\\uac00\\uae30\\n[\\uc9c0\\ud558\\ucca0 \\uc628\\ub2e4 \\ube14\\ub85c\\uadf8](https://blog.naver.com/subway__onda/223258646349)\\n\\n\\uc9c0\\ud558\\ucca0 \\ud30c\\uc5c5\\uc73c\\ub85c \\uc544\\uce68\\ub9c8\\ub2e4 \\ucd9c\\uadfc\\ud558\\uae30 \\ud798\\ub4dc\\ub124\\uc694, \\ud558\\uc9c0\\ub9cc '\\uc9c0\\ud558\\ucca0 \\uc628\\ub2e4'\\ub85c \\uc870\\uae08\\uc774\\ub098\\ub9c8 \\ub354 \\uc218\\uc6d4\\ud558\\uac8c \\ub300\\ucc98\\ud574 \\ubcf4\\uc138\\uc694!\",\n          \"**\\uc11c\\uc6b8 7\\ud638\\uc120 \\uc544\\uce68 \\ucd9c\\uadfc\\uae38 \\ub300\\ub780! \\uc5f4\\ucc28 \\ubb38 \\uace0\\uc7a5\\uc73c\\ub85c \\uc6b4\\ud589 \\uc911\\ub2e8 \\uc0ac\\ud0dc \\ubc1c\\uc0dd**\\n\\n\\uc548\\ub155\\ud558\\uc138\\uc694, \\uc5ec\\ub7ec\\ubd84\\uc758 \\ucd9c\\ud1f4\\uadfc \\uba54\\uc2e0\\uc800 \\uc9c0\\ud558\\ucca0 \\uc628\\ub2e4\\uc758 '\\uc624.\\uc9c0.\\ud1b5 [\\uc624\\ub298\\uc758 \\uc9c0\\ud558\\ucca0 \\uc18c\\uc2dd\\ud1b5]' \\uc778\\uc0ac \\ub4dc\\ub9bd\\ub2c8\\ub2e4!\\n\\n**\\uc9c0\\uc5f0/\\uc0ac\\uace0 \\uc77c\\uc2dc:** 2023\\ub144 12\\uc6d4 29\\uc77c \\uc624\\uc804 7\\uc2dc 50\\ubd84  \\n**\\uc9c0\\uc5f0/\\uc0ac\\uace0 \\ub178\\uc120:** \\uc11c\\uc6b8 \\uc9c0\\ud558\\ucca0 7\\ud638\\uc120  \\n**\\uc9c0\\uc5f0/\\uc0ac\\uace0 \\uc774\\uc720:** \\ucd9c\\uc785\\ubb38 \\uace0\\uc7a5  \\n**\\ubb38\\uc758 \\uc0ac\\ud56d \\ub9c1\\ud06c:** [\\uc11c\\uc6b8\\uad50\\ud1b5\\uacf5\\uc0ac \\uace0\\uac1d\\uc13c\\ud130](https://www.seoulmetro.co.kr/kr/contact.do)\\n\\n\\uc624\\ub298 \\uc544\\uce68 \\uc11c\\uc6b8\\uc758 \\ucd9c\\uadfc\\uae38\\uc774 \\uc608\\uc0c1\\uce58 \\ubabb\\ud55c \\uc0ac\\uac74\\uc73c\\ub85c \\uc778\\ud574 \\ud63c\\ub780\\uc744 \\uacaa\\uc5c8\\uc2b5\\ub2c8\\ub2e4. 7\\ud638\\uc120 \\uccad\\ub2f4\\uc5ed\\uacfc \\uc0b0\\uace1\\uc5ed\\uc5d0\\uc11c \\uac01\\uac01 \\uc5f4\\ucc28\\uc758 \\ucd9c\\uc785\\ubb38\\uc774 \\uc81c\\ub300\\ub85c \\ub2eb\\ud788\\uc9c0 \\uc54a\\ub294 \\ubb38\\uc81c\\uac00 \\ubc1c\\uc0dd\\ud558\\uc5ec, \\uc218\\ub9ce\\uc740 \\uc2dc\\ubbfc\\ub4e4\\uc774 \\ucd9c\\uadfc\\uae38\\uc5d0 \\ud070 \\ubd88\\ud3b8\\uc744 \\uacaa\\uc5c8\\uc2b5\\ub2c8\\ub2e4. \\uccab \\ubc88\\uc9f8 \\uc0ac\\uace0\\ub294 \\uccad\\ub2f4\\uc5ed\\uc5d0\\uc11c \\uc628\\uc218\\ud589 \\uc5f4\\ucc28\\uc5d0\\uc11c \\ubc1c\\uc0dd\\ud588\\uace0, \\uc774\\uc5b4\\uc11c \\uc0b0\\uace1\\uc5ed\\uc758 \\ub3c4\\ubd09\\uc0b0\\ud589 \\uc5f4\\ucc28\\uc5d0\\uc11c\\ub3c4 \\ub3d9\\uc77c\\ud55c \\ubb38\\uc81c\\uac00 \\ubc1c\\uc0dd\\ud588\\uc2b5\\ub2c8\\ub2e4. \\uc774\\ub85c \\uc778\\ud574 \\ud574\\ub2f9 \\uc5ed\\uc5d0\\uc11c \\uc5f4\\ucc28 \\uc6b4\\ud589\\uc774 \\uc7a0\\uc2dc \\uc911\\ub2e8\\ub418\\uc5c8\\uace0, \\uc2b9\\uac1d\\ub4e4\\uc740 \\ub2e4\\uc74c \\uc5f4\\ucc28\\ub97c \\uae30\\ub2e4\\ub9ac\\uba70 \\ubd88\\ud3b8\\uc744 \\uac10\\uc218\\ud574\\uc57c \\ud588\\uc2b5\\ub2c8\\ub2e4.\\n\\n\\ub2e4\\ud589\\ud788\\ub3c4 \\uc778\\uba85 \\ud53c\\ud574\\ub294 \\ubc1c\\uc0dd\\ud558\\uc9c0 \\uc54a\\uc558\\uc73c\\ub098, \\ucd9c\\uadfc \\uc2dc\\uac04\\ub300\\uc758 \\uc5f4\\ucc28 \\uc9c0\\uc5f0\\uc73c\\ub85c \\uc778\\ud574 \\ub9ce\\uc740 \\uc9c1\\uc7a5\\uc778\\uacfc \\ud559\\uc0dd\\ub4e4\\uc774 \\uc608\\uc815\\ub41c \\uc2dc\\uac04\\ubcf4\\ub2e4 \\ub2a6\\uac8c \\ub3c4\\ucc29\\ud558\\ub294 \\ub4f1\\uc758 \\ubb38\\uc81c\\uac00 \\ubc1c\\uc0dd\\ud588\\uc2b5\\ub2c8\\ub2e4. \\uc11c\\uc6b8\\uad50\\ud1b5\\uacf5\\uc0ac\\ub294 \\ud604\\uc7ac \\ubaa8\\ub4e0 \\uc5f4\\ucc28\\uac00 \\uc815\\uc0c1\\uc801\\uc73c\\ub85c \\uc6b4\\ud589\\ub418\\uace0 \\uc788\\uc73c\\uba70, \\uace0\\uc7a5 \\uc6d0\\uc778\\uc744 \\uc870\\uc0ac \\uc911\\uc5d0 \\uc788\\ub2e4\\uace0 \\ubc1d\\ud614\\uc2b5\\ub2c8\\ub2e4.\\n\\n**\\uac04\\ub2e8\\ud55c \\uc694\\uc57d\\uae00:**\\n29\\uc77c \\uc544\\uce68, \\uc11c\\uc6b8 \\uc9c0\\ud558\\ucca0 7\\ud638\\uc120\\uc758 \\ub450 \\uc5ed\\uc5d0\\uc11c \\uc5f4\\ucc28 \\ucd9c\\uc785\\ubb38 \\uace0\\uc7a5\\uc73c\\ub85c \\uc778\\ud574 \\uc6b4\\ud589\\uc774 \\uc911\\ub2e8\\ub418\\uc5c8\\uc2b5\\ub2c8\\ub2e4. \\uc774\\ub85c \\uc778\\ud574 \\uc218\\ub9ce\\uc740 \\ucd9c\\uadfc\\uae38 \\uc2dc\\ubbfc\\ub4e4\\uc774 \\ubd88\\ud3b8\\uc744 \\uacaa\\uc5c8\\uc73c\\uba70, \\uc11c\\uc6b8\\uad50\\ud1b5\\uacf5\\uc0ac\\ub294 \\ubb38\\uc81c\\ub97c \\ud574\\uacb0\\ud558\\uace0 \\uc815\\uc0c1 \\uc6b4\\ud589\\uc744 \\uc7ac\\uac1c\\ud588\\uc2b5\\ub2c8\\ub2e4.\\n\\n**\\ub9c8\\ubb34\\ub9ac \\ub9d0:**\\n\\uc9c0\\ud558\\ucca0 \\ud30c\\uc5c5\\uc774\\ub098 \\uae30\\ud0c0 \\ubb38\\uc81c\\ub85c \\uc544\\uce68\\ub9c8\\ub2e4 \\ucd9c\\uadfc\\ud558\\uae30 \\ud798\\ub4dc\\uc2dc\\uc8e0? \\uac71\\uc815 \\ub9c8\\uc138\\uc694! \\uc624\\uc9c0\\ud1b5\\uc774 \\uc2e4\\uc2dc\\uac04\\uc73c\\ub85c \\ub2e4\\uc591\\ud55c \\uc9c0\\ud558\\ucca0 \\uc815\\ubcf4\\ub97c \\uc5c5\\ub370\\uc774\\ud2b8 \\ud560 \\uc608\\uc815\\uc774\\ub2c8, \\uc790\\uc8fc \\ubc29\\ubb38\\ud574 \\uc8fc\\uc138\\uc694. '\\uc9c0\\ud558\\ucca0 \\uc628\\ub2e4'\\ub294 \\ub2e8 \\ud55c \\ubc88\\uc758 \\ud130\\uce58\\ub85c \\uc790\\uc2e0\\uc758 \\uc704\\uce58\\uc5d0\\uc11c \\uac00\\uc7a5 \\uac00\\uae4c\\uc6b4 \\uc9c0\\ud558\\ucca0 \\uc5ed\\uc758 \\uc2e4\\uc2dc\\uac04 \\uc815\\ubcf4\\ub97c \\uc81c\\uacf5\\ud569\\ub2c8\\ub2e4. \\uc624\\ub298\\ub3c4 \\ud798\\ucc28\\uac8c \\ud558\\ub8e8\\ub97c \\uc2dc\\uc791\\ud558\\uc2dc\\uae38 \\ubc14\\ub78d\\ub2c8\\ub2e4!\\n\\n\\ud83d\\udd3d \\uc9c0\\ud558\\ucca0 \\uc628\\ub2e4 \\uc18c\\uac1c \\ubcf4\\ub7ec\\uac00\\uae30  \\n[\\uc9c0\\ud558\\ucca0 \\uc628\\ub2e4 \\ube14\\ub85c\\uadf8](https://blog.naver.com/subway__onda/223258646349)\"\n        ],\n        \"semantic_type\": \"\",\n        \"description\": \"\"\n      }\n    },\n    {\n      \"column\": \"Consistency\",\n      \"properties\": {\n        \"dtype\": \"number\",\n        \"std\": 0,\n        \"min\": 5,\n        \"max\": 5,\n        \"num_unique_values\": 1,\n        \"samples\": [\n          5\n        ],\n        \"semantic_type\": \"\",\n        \"description\": \"\"\n      }\n    },\n    {\n      \"column\": \"Coherence\",\n      \"properties\": {\n        \"dtype\": \"string\",\n        \"num_unique_values\": 5,\n        \"samples\": [\n          \"4\"\n        ],\n        \"semantic_type\": \"\",\n        \"description\": \"\"\n      }\n    },\n    {\n      \"column\": \"Friendliness\",\n      \"properties\": {\n        \"dtype\": \"number\",\n        \"std\": 0,\n        \"min\": 3,\n        \"max\": 4,\n        \"num_unique_values\": 2,\n        \"samples\": [\n          4\n        ],\n        \"semantic_type\": \"\",\n        \"description\": \"\"\n      }\n    },\n    {\n      \"column\": \"Fluency\",\n      \"properties\": {\n        \"dtype\": \"number\",\n        \"std\": 0,\n        \"min\": 5,\n        \"max\": 5,\n        \"num_unique_values\": 1,\n        \"samples\": [\n          5\n        ],\n        \"semantic_type\": \"\",\n        \"description\": \"\"\n      }\n    },\n    {\n      \"column\": \"Humanlikeness\",\n      \"properties\": {\n        \"dtype\": \"number\",\n        \"std\": 0,\n        \"min\": 4,\n        \"max\": 4,\n        \"num_unique_values\": 1,\n        \"samples\": [\n          4\n        ],\n        \"semantic_type\": \"\",\n        \"description\": \"\"\n      }\n    },\n    {\n      \"column\": \"Readability\",\n      \"properties\": {\n        \"dtype\": \"string\",\n        \"num_unique_values\": 5,\n        \"samples\": [\n          \"**Evaluation Template (Score Only):**\\n\\n4\"\n        ],\n        \"semantic_type\": \"\",\n        \"description\": \"\"\n      }\n    }\n  ]\n}"
            }
          },
          "metadata": {},
          "execution_count": 38
        }
      ]
    },
    {
      "cell_type": "code",
      "source": [
        "time_data.head(1)"
      ],
      "metadata": {
        "colab": {
          "base_uri": "https://localhost:8080/",
          "height": 98
        },
        "id": "3aiWDTqhDpDz",
        "outputId": "d9095cd8-a52f-4e75-eb63-813d1b585406"
      },
      "execution_count": 40,
      "outputs": [
        {
          "output_type": "execute_result",
          "data": {
            "text/plain": [
              "                                                text  \\\n",
              "0  \\n제목\\t1호선 열차운영계획 추가 조정 알림(경인급행열차)\\n작성일\\t2024-0...   \n",
              "\n",
              "                                              output Consistency  \\\n",
              "0  **경인급행, 새로운 시간표로 더 빠르게! 1호선 열차운행계획 추가 조정 소식**\\...           5   \n",
              "\n",
              "      Coherence  Friendliness  Fluency  Humanlikeness  \\\n",
              "0  Coherence: 4             4        5              4   \n",
              "\n",
              "                                         Readability  \n",
              "0  **Evaluation:**\\n\\n1. **Sentence length:** The...  "
            ],
            "text/html": [
              "\n",
              "  <div id=\"df-68678e82-b7ae-434c-a150-f6961a97c5da\" class=\"colab-df-container\">\n",
              "    <div>\n",
              "<style scoped>\n",
              "    .dataframe tbody tr th:only-of-type {\n",
              "        vertical-align: middle;\n",
              "    }\n",
              "\n",
              "    .dataframe tbody tr th {\n",
              "        vertical-align: top;\n",
              "    }\n",
              "\n",
              "    .dataframe thead th {\n",
              "        text-align: right;\n",
              "    }\n",
              "</style>\n",
              "<table border=\"1\" class=\"dataframe\">\n",
              "  <thead>\n",
              "    <tr style=\"text-align: right;\">\n",
              "      <th></th>\n",
              "      <th>text</th>\n",
              "      <th>output</th>\n",
              "      <th>Consistency</th>\n",
              "      <th>Coherence</th>\n",
              "      <th>Friendliness</th>\n",
              "      <th>Fluency</th>\n",
              "      <th>Humanlikeness</th>\n",
              "      <th>Readability</th>\n",
              "    </tr>\n",
              "  </thead>\n",
              "  <tbody>\n",
              "    <tr>\n",
              "      <th>0</th>\n",
              "      <td>\\n제목\\t1호선 열차운영계획 추가 조정 알림(경인급행열차)\\n작성일\\t2024-0...</td>\n",
              "      <td>**경인급행, 새로운 시간표로 더 빠르게! 1호선 열차운행계획 추가 조정 소식**\\...</td>\n",
              "      <td>5</td>\n",
              "      <td>Coherence: 4</td>\n",
              "      <td>4</td>\n",
              "      <td>5</td>\n",
              "      <td>4</td>\n",
              "      <td>**Evaluation:**\\n\\n1. **Sentence length:** The...</td>\n",
              "    </tr>\n",
              "  </tbody>\n",
              "</table>\n",
              "</div>\n",
              "    <div class=\"colab-df-buttons\">\n",
              "\n",
              "  <div class=\"colab-df-container\">\n",
              "    <button class=\"colab-df-convert\" onclick=\"convertToInteractive('df-68678e82-b7ae-434c-a150-f6961a97c5da')\"\n",
              "            title=\"Convert this dataframe to an interactive table.\"\n",
              "            style=\"display:none;\">\n",
              "\n",
              "  <svg xmlns=\"http://www.w3.org/2000/svg\" height=\"24px\" viewBox=\"0 -960 960 960\">\n",
              "    <path d=\"M120-120v-720h720v720H120Zm60-500h600v-160H180v160Zm220 220h160v-160H400v160Zm0 220h160v-160H400v160ZM180-400h160v-160H180v160Zm440 0h160v-160H620v160ZM180-180h160v-160H180v160Zm440 0h160v-160H620v160Z\"/>\n",
              "  </svg>\n",
              "    </button>\n",
              "\n",
              "  <style>\n",
              "    .colab-df-container {\n",
              "      display:flex;\n",
              "      gap: 12px;\n",
              "    }\n",
              "\n",
              "    .colab-df-convert {\n",
              "      background-color: #E8F0FE;\n",
              "      border: none;\n",
              "      border-radius: 50%;\n",
              "      cursor: pointer;\n",
              "      display: none;\n",
              "      fill: #1967D2;\n",
              "      height: 32px;\n",
              "      padding: 0 0 0 0;\n",
              "      width: 32px;\n",
              "    }\n",
              "\n",
              "    .colab-df-convert:hover {\n",
              "      background-color: #E2EBFA;\n",
              "      box-shadow: 0px 1px 2px rgba(60, 64, 67, 0.3), 0px 1px 3px 1px rgba(60, 64, 67, 0.15);\n",
              "      fill: #174EA6;\n",
              "    }\n",
              "\n",
              "    .colab-df-buttons div {\n",
              "      margin-bottom: 4px;\n",
              "    }\n",
              "\n",
              "    [theme=dark] .colab-df-convert {\n",
              "      background-color: #3B4455;\n",
              "      fill: #D2E3FC;\n",
              "    }\n",
              "\n",
              "    [theme=dark] .colab-df-convert:hover {\n",
              "      background-color: #434B5C;\n",
              "      box-shadow: 0px 1px 3px 1px rgba(0, 0, 0, 0.15);\n",
              "      filter: drop-shadow(0px 1px 2px rgba(0, 0, 0, 0.3));\n",
              "      fill: #FFFFFF;\n",
              "    }\n",
              "  </style>\n",
              "\n",
              "    <script>\n",
              "      const buttonEl =\n",
              "        document.querySelector('#df-68678e82-b7ae-434c-a150-f6961a97c5da button.colab-df-convert');\n",
              "      buttonEl.style.display =\n",
              "        google.colab.kernel.accessAllowed ? 'block' : 'none';\n",
              "\n",
              "      async function convertToInteractive(key) {\n",
              "        const element = document.querySelector('#df-68678e82-b7ae-434c-a150-f6961a97c5da');\n",
              "        const dataTable =\n",
              "          await google.colab.kernel.invokeFunction('convertToInteractive',\n",
              "                                                    [key], {});\n",
              "        if (!dataTable) return;\n",
              "\n",
              "        const docLinkHtml = 'Like what you see? Visit the ' +\n",
              "          '<a target=\"_blank\" href=https://colab.research.google.com/notebooks/data_table.ipynb>data table notebook</a>'\n",
              "          + ' to learn more about interactive tables.';\n",
              "        element.innerHTML = '';\n",
              "        dataTable['output_type'] = 'display_data';\n",
              "        await google.colab.output.renderOutput(dataTable, element);\n",
              "        const docLink = document.createElement('div');\n",
              "        docLink.innerHTML = docLinkHtml;\n",
              "        element.appendChild(docLink);\n",
              "      }\n",
              "    </script>\n",
              "  </div>\n",
              "\n",
              "\n",
              "    </div>\n",
              "  </div>\n"
            ],
            "application/vnd.google.colaboratory.intrinsic+json": {
              "type": "dataframe",
              "variable_name": "time_data",
              "summary": "{\n  \"name\": \"time_data\",\n  \"rows\": 5,\n  \"fields\": [\n    {\n      \"column\": \"text\",\n      \"properties\": {\n        \"dtype\": \"string\",\n        \"num_unique_values\": 5,\n        \"samples\": [\n          \"\\n\\uc81c\\ubaa9\\t\\uc2e0\\ubd84\\ub2f9\\uc120 \\uc5f4\\ucc28\\uc6b4\\ud589\\uc2dc\\uac01\\ud45c \\ubcc0\\uacbd \\uc2dc\\ud589\\n\\ub4f1\\ub85d\\uc77c\\t2023-06-21\\t\\n\\ucca8\\ubd80\\ud30c\\uc77c\\t\\ud30c\\uc77c\\ucca8\\ubd80 20230701 \\ud3c9\\uc77c \\uc5ed\\ubcc4 \\uc5f4\\ucc28\\uc2dc\\uac01\\ud45c.pdf\\n\\u25a0 \\ubcc0\\uacbd\\ub300\\uc0c1 : \\uc2e0\\uc0ac\\uc5ed ~ \\uad11\\uad50\\uc5ed\\n\\n\\n\\n\\u25a0 \\ubcc0\\uacbd\\uc0ac\\uc720 : \\uc2e0\\ubd84\\ub2f9\\uc120 \\uc5f4\\ucc28\\uc6b4\\ud589\\uacc4\\ud68d \\ubcc0\\uacbd\\n\\n\\n\\n\\u25a0 \\uc2dc\\ud589\\uc77c\\uc790 : 2023.7.1(\\ud1a0) \\uc601\\uc5c5\\uac1c\\uc2dc\\ubd80\\ud130 \\uc801\\uc6a9\\n\\n\\n\\n\\u203b \\ud1a0\\uc694\\uc77c \\ubc0f \\ud734\\uc77c \\uc5f4\\ucc28\\uc6b4\\ud589\\uc2dc\\uac01\\ud45c \\ubcc0\\uacbd \\uc5c6\\uc74c\\n\\n\\n\\n\\u25a0 \\uc5ed\\uc0ac\\ubcc4 \\uc5f4\\ucc28\\uc2dc\\uac01\\ud45c\\ub294 \\ucca8\\ubd80\\ud30c\\uc77c\\uc744 \\ub2e4\\uc6b4\\ub85c\\ub4dc \\ubc1b\\uc73c\\uc2dc\\uae30 \\ubc14\\ub78d\\ub2c8\\ub2e4.\\n\",\n          \"\\n\\n7\\ud638\\uc120 \\uc5f4\\ucc28\\uc6b4\\ud589 \\uc2dc\\uac01\\ud45c \\ubcc0\\uacbd \\uc548\\ub0b4\\n\\n\\n\\uc791\\uc131\\uc77c\\t2024\\ub144 4\\uc6d4 30\\uc77c(\\ud654) 17:44:45\\n \\n\\n7\\ud638\\uc120 \\uc5f4\\ucc28\\uc6b4\\ud589 \\uc2dc\\uac01\\ud45c \\ubcc0\\uacbd \\uc548\\ub0b4\\n\\n \\n\\n \\n\\n7\\ud638\\uc120 \\uc5f4\\ucc28\\uc6b4\\ud589 \\uc2dc\\uac01\\ud45c \\ubcc0\\uacbd \\uc0ac\\ud56d\\uc744 \\uc544\\ub798\\uc640 \\uac19\\uc774 \\uc54c\\ub824\\ub4dc\\ub9ac\\uc624\\ub2c8 \\uc5f4\\ucc28 \\uc774\\uc6a9\\uc5d0 \\ucc38\\uace0\\ud558\\uc2dc\\uae30 \\ubc14\\ub78d\\ub2c8\\ub2e4.\\n\\n \\n\\n \\n\\n         \\u2666 \\uc2dc\\ud589\\uc77c\\uc790 : 2024. 5. 1.(\\uc218) \\ubd80\\ud130\\n\\n         \\u2666 \\ub300\\uc0c1\\ud638\\uc120 : 7\\ud638\\uc120\\n\\n         \\u2666 \\ub0b4       \\uc6a9 : \\uc11c\\uc6b8\\uad6c\\uac04 \\ud1f4\\uadfc\\uc2dc\\uac04\\ub300 2\\ud68c \\uc99d\\ud68c \\uad00\\ub828 \\uc5f4\\ucc28\\uc6b4\\ud589 \\uc2dc\\uac01\\ud45c \\uc77c\\ubd80 \\ubcc0\\uacbd\\n\\n          \\u203b \\ubcc0\\uacbd\\ub41c \\uc5f4\\ucc28\\uc2dc\\uac01\\ud45c\\ub294 \\ucca8\\ubd80\\ud30c\\uc77c\\uc744 \\ucc38\\uc870\\ud558\\uc2dc\\uae30 \\ubc14\\ub78d\\ub2c8\\ub2e4.\\n\",\n          \"\\n\\uacf5\\ud56d\\ucca0\\ub3c4 \\uc5f4\\ucc28\\uc2dc\\uac01 \\ubcc0\\uacbd \\uc54c\\ub9bc(5/1~)\\n\\n\\ub4f1\\ub85d\\uc77c 2023-04-20 16:01:13.0\\n\\ucd9c\\uadfc\\uc2dc\\uac04\\ub300 \\ud63c\\uc7a1\\ub3c4 \\uc644\\ud654\\ub97c \\uc704\\ud574 \\uc5f4\\ucc28\\uc2dc\\uac01\\uc774 \\ubcc0\\uacbd\\ub428\\uc744 \\uc54c\\ub824\\ub4dc\\ub9ac\\uc624\\ub2c8 \\uc5f4\\ucc28\\uc774\\uc6a9\\uc5d0 \\ucc38\\uace0\\ud558\\uc2dc\\uae30 \\ubc14\\ub78d\\ub2c8\\ub2e4.\\n \\n\\uac00. \\ubcc0   \\uacbd   \\uc77c : 2023. 5. 1.(\\uc6d4)\\n\\ub098. \\ubcc0\\uacbd \\ub0b4\\uc6a9 : \\ud3c9\\uc77c \\uc77c\\ubc18\\uc5f4\\ucc28, \\uc9c1\\ud1b5\\uc5f4\\ucc28 \\uc5f4\\ucc28\\uc6b4\\ud589\\uc2dc\\uac01 \\uc804\\uba74 \\uac1c\\uc815(\\uc8fc\\ub9d0, \\uacf5\\ud734\\uc77c\\uc740 \\uae30\\uc874\\uacfc \\ub3d9\\uc77c)\\n\\ub2e4. \\uc2dc   \\uac01   \\ud45c : \\ucca8\\ubd80\\ud30c\\uc77c \\ucc38\\uace0\\n\\n\\n\"\n        ],\n        \"semantic_type\": \"\",\n        \"description\": \"\"\n      }\n    },\n    {\n      \"column\": \"output\",\n      \"properties\": {\n        \"dtype\": \"string\",\n        \"num_unique_values\": 5,\n        \"samples\": [\n          \"**[\\uc0c8\\ub85c\\uc6b4 \\uc544\\uce68! \\uc2e0\\ubd84\\ub2f9\\uc120 \\uc5f4\\ucc28\\uc6b4\\ud589 \\ubcc0\\uacbd\\uc18c\\uc2dd!]**\\n\\n\\uc548\\ub155\\ud558\\uc138\\uc694, \\uc5ec\\ub7ec\\ubd84\\uc758 \\ucd9c\\ud1f4\\uadfc \\uba54\\uc2e0\\uc800 \\uc9c0\\ud558\\ucca0 \\uc628\\ub2e4\\uc758 '\\uc624.\\uc9c0.\\ud1b5 [\\uc624\\ub298\\uc758 \\uc9c0\\ud558\\ucca0 \\uc18c\\uc2dd\\ud1b5]' \\uc778\\uc0ac \\ub4dc\\ub9bd\\ub2c8\\ub2e4!\\n\\n\\uc9c0\\ud558\\ucca0 \\ud30c\\uc5c5\\uc73c\\ub85c \\uc544\\uce68\\ub9c8\\ub2e4 \\ucd9c\\uadfc\\ud558\\uae30 \\ud798\\ub4dc\\uc168\\uc8e0? \\uac71\\uc815 \\ub9c8\\uc138\\uc694! \\uc2e0\\ubd84\\ub2f9\\uc120\\uc5d0\\uc11c \\uc0c8\\ub85c\\uc6b4 \\ubcc0\\ud654\\uac00 \\uc2dc\\uc791\\ub429\\ub2c8\\ub2e4. \\uc5ec\\ub7ec\\ubd84\\uc758 \\uc544\\uce68\\uc744 \\uc0c8\\ub86d\\uac8c \\ud560 \\uc18c\\uc2dd\\uc744 \\uc804\\ud574\\ub4dc\\ub9bd\\ub2c8\\ub2e4!\\n\\n**\\ubcc0\\uacbd \\ub178\\uc120:** \\uc2e0\\uc0ac\\uc5ed\\uc5d0\\uc11c \\uad11\\uad50\\uc5ed\\uae4c\\uc9c0\\n**\\ubcc0\\uacbd \\uc77c\\uc2dc:** 2023\\ub144 7\\uc6d4 1\\uc77c(\\ud1a0) \\uc601\\uc5c5\\uac1c\\uc2dc\\ubd80\\ud130 \\uc801\\uc6a9\\n**\\uccab\\ucc28/\\ub9c9\\ucc28 \\uc2dc\\uac04:** \\ubcc0\\uacbd\\ub41c \\uc2dc\\uac04\\uc740 \\ucca8\\ubd80\\ud30c\\uc77c\\uc5d0\\uc11c \\ud655\\uc778\\ud558\\uc138\\uc694!\\n\\n\\u203b \\uc8fc\\uc758: \\ud1a0\\uc694\\uc77c \\ubc0f \\ud734\\uc77c \\uc5f4\\ucc28\\uc6b4\\ud589\\uc2dc\\uac01\\uc740 \\ubcc0\\uacbd\\ub418\\uc9c0 \\uc54a\\uc2b5\\ub2c8\\ub2e4.\\n\\n\\uc5ed\\uc0ac\\ubcc4 \\uc5f4\\ucc28\\uc2dc\\uac01\\ud45c\\ub294 \\ucca8\\ubd80\\ub41c [20230701 \\ud3c9\\uc77c \\uc5ed\\ubcc4 \\uc5f4\\ucc28\\uc2dc\\uac01\\ud45c.pdf] \\ud30c\\uc77c\\uc744 \\ub2e4\\uc6b4\\ub85c\\ub4dc \\ubc1b\\uc73c\\uc2dc\\uae30 \\ubc14\\ub78d\\ub2c8\\ub2e4.\\n\\n\\uc624\\uc9c0\\ud1b5\\uc774 \\uc2e4\\uc2dc\\uac04\\uc73c\\ub85c \\ub2e4\\uc591\\ud55c \\uc9c0\\ud558\\ucca0 \\uc815\\ubcf4\\ub97c \\uc5c5\\ub370\\uc774\\ud2b8 \\ud560 \\uc608\\uc815\\uc774\\ub2c8, \\uc790\\uc8fc \\ubc29\\ubb38\\ud574 \\uc8fc\\uc138\\uc694. \\n'\\uc9c0\\ud558\\ucca0 \\uc628\\ub2e4'\\ub294 \\ub2e8 \\ud55c \\ubc88\\uc758 \\ud130\\uce58\\ub85c \\uc790\\uc2e0\\uc758 \\uc704\\uce58\\uc5d0\\uc11c \\uac00\\uc7a5 \\uac00\\uae4c\\uc6b4 \\uc9c0\\ud558\\ucca0 \\uc5ed\\uc758 \\uc2e4\\uc2dc\\uac04 \\uc815\\ubcf4\\ub97c \\uc81c\\uacf5\\ud569\\ub2c8\\ub2e4.\\n\\n\\ud83d\\udd3d \\uc9c0\\ud558\\ucca0 \\uc628\\ub2e4 \\uc18c\\uac1c \\ubcf4\\ub7ec\\uac00\\uae30\\n[https://blog.naver.com/subway__onda/223258646349](https://blog.naver.com/subway__onda/223258646349)\",\n          \"**7\\ud638\\uc120, \\ud1f4\\uadfc\\uae38\\uc774 \\ub2ec\\ub77c\\uc9c4\\ub2e4! \\uc99d\\ud68c \\uc5f4\\ucc28\\ub85c \\ub354 \\ube60\\ub974\\uac8c \\uc9d1\\uc5d0 \\uac00\\uc694!**\\n\\n\\uc548\\ub155\\ud558\\uc138\\uc694, \\uc5ec\\ub7ec\\ubd84\\uc758 \\ucd9c\\ud1f4\\uadfc \\uba54\\uc2e0\\uc800 \\uc9c0\\ud558\\ucca0 \\uc628\\ub2e4\\uc758 '\\uc624.\\uc9c0.\\ud1b5 [\\uc624\\ub298\\uc758 \\uc9c0\\ud558\\ucca0 \\uc18c\\uc2dd\\ud1b5]' \\uc778\\uc0ac \\ub4dc\\ub9bd\\ub2c8\\ub2e4! \\uc9c0\\ud558\\ucca0 \\ud30c\\uc5c5\\uc73c\\ub85c \\uc544\\uce68\\ub9c8\\ub2e4 \\ucd9c\\uadfc\\ud558\\uae30 \\uc815\\ub9d0 \\ud798\\ub4e4\\uc5c8\\uc8e0? \\uac71\\uc815 \\ub9c8\\uc138\\uc694! \\uc774\\uc81c \\ud1f4\\uadfc\\uae38\\uc774 \\ud55c\\uacb0 \\ub098\\uc544\\uc9c8 \\uc18c\\uc2dd\\uc744 \\uac00\\uc9c0\\uace0 \\uc654\\uc5b4\\uc694!\\n\\n\\u2666 \\ubcc0\\uacbd \\ub178\\uc120: \\uc11c\\uc6b8 7\\ud638\\uc120  \\n\\u2666 \\ubcc0\\uacbd \\uc77c\\uc2dc: 2024\\ub144 5\\uc6d4 1\\uc77c(\\uc218)\\ubd80\\ud130  \\n\\u203b \\ubcc0\\uacbd\\ub41c \\uc5f4\\ucc28\\uc2dc\\uac01\\ud45c\\ub294 \\ucca8\\ubd80\\ud30c\\uc77c\\uc744 \\ucc38\\uc870\\ud558\\uc138\\uc694.\\n\\n\\uc544\\uc9c1\\ub3c4 \\ubd90\\ube44\\ub294 \\ud1f4\\uadfc\\uae38 \\uc9c0\\ud558\\ucca0\\uc5d0 \\uc9c0\\uccd0 \\uacc4\\uc2e0\\uac00\\uc694? \\uc774\\uc81c 7\\ud638\\uc120\\uc5d0\\uc11c\\ub294 \\ud1f4\\uadfc \\uc2dc\\uac04\\ub300\\uc5d0 \\uc5f4\\ucc28\\uac00 2\\ud68c \\ub354 \\uc6b4\\ud589\\ub429\\ub2c8\\ub2e4! \\uc774 \\ub9d0\\uc740 \\ubc14\\ub85c, \\ub354 \\ube60\\ub978 \\uc9d1\\uc73c\\ub85c\\uc758 \\uadc0\\ud658\\uc744 \\uc758\\ubbf8\\ud558\\uc8e0. \\ub354 \\uc774\\uc0c1 \\uc9c0\\uce5c \\ud558\\ub8e8 \\ub05d\\uc5d0 \\ub354 \\uc9c0\\uce58\\ub294 \\uadc0\\uac13\\uae38\\uc744 \\uacaa\\uc9c0 \\uc54a\\uc544\\ub3c4 \\ub418\\ub2c8 \\uc5bc\\ub9c8\\ub098 \\ub2e4\\ud589\\uc778\\uc9c0 \\ubaa8\\ub974\\uaca0\\ub124\\uc694!\\n\\n\\uc624\\uc9c0\\ud1b5\\uc774 \\uc2e4\\uc2dc\\uac04\\uc73c\\ub85c \\ub2e4\\uc591\\ud55c \\uc9c0\\ud558\\ucca0 \\uc815\\ubcf4\\ub97c \\uc5c5\\ub370\\uc774\\ud2b8 \\ud560 \\uc608\\uc815\\uc774\\ub2c8, \\uc790\\uc8fc \\ubc29\\ubb38\\ud574 \\uc8fc\\uc138\\uc694. '\\uc9c0\\ud558\\ucca0 \\uc628\\ub2e4'\\ub294 \\ub2e8 \\ud55c \\ubc88\\uc758 \\ud130\\uce58\\ub85c \\uc790\\uc2e0\\uc758 \\uc704\\uce58\\uc5d0\\uc11c \\uac00\\uc7a5 \\uac00\\uae4c\\uc6b4 \\uc9c0\\ud558\\ucca0 \\uc5ed\\uc758 \\uc2e4\\uc2dc\\uac04 \\uc815\\ubcf4\\ub97c \\uc81c\\uacf5\\ud569\\ub2c8\\ub2e4.\\n\\n\\ud83d\\udd3d \\uc9c0\\ud558\\ucca0 \\uc628\\ub2e4 \\uc18c\\uac1c \\ubcf4\\ub7ec\\uac00\\uae30\\nhttps://blog.naver.com/subway__onda/223258646349\",\n          \"**\\uc0c8\\ubcbd \\ucd9c\\uadfc\\uae38 \\uc2a4\\ud2b8\\ub808\\uc2a4, \\uc774\\uc81c \\uadf8\\ub9cc! \\uacf5\\ud56d\\ucca0\\ub3c4 \\uc2dc\\uac04\\ud45c \\ub300\\ubcc0\\uc2e0\\ud83d\\ude84**\\n\\n\\uc548\\ub155\\ud558\\uc138\\uc694, \\uc5ec\\ub7ec\\ubd84\\uc758 \\ucd9c\\ud1f4\\uadfc \\uba54\\uc2e0\\uc800 \\uc9c0\\ud558\\ucca0 \\uc628\\ub2e4\\uc758 '\\uc624.\\uc9c0.\\ud1b5 [\\uc624\\ub298\\uc758 \\uc9c0\\ud558\\ucca0 \\uc18c\\uc2dd\\ud1b5]' \\uc778\\uc0ac \\ub4dc\\ub9bd\\ub2c8\\ub2e4!\\n\\n\\uc544\\uce68 \\ucd9c\\uadfc\\uae38, \\uc9c0\\ud558\\ucca0 \\ud30c\\uc5c5\\uc73c\\ub85c \\uc778\\ud574 \\ub9e4\\uc77c\\uac19\\uc774 \\ucd9c\\uadfc\\ud558\\uae30\\uac00 \\ubc85\\ucc28\\uac8c \\ub290\\uaef4\\uc9c0\\uc2dc\\ub098\\uc694? \\uac71\\uc815 \\ub9c8\\uc138\\uc694! \\uacf5\\ud56d\\ucca0\\ub3c4\\uac00 \\ucd9c\\uadfc\\uc2dc\\uac04\\ub300 \\ud63c\\uc7a1\\ub3c4\\ub97c \\uc644\\ud654\\ud558\\uae30 \\uc704\\ud574 \\uc5f4\\ucc28\\uc2dc\\uac01\\uc744 \\uc0c8\\ub86d\\uac8c \\ubcc0\\uacbd\\ud588\\uc2b5\\ub2c8\\ub2e4. \\uc774\\uc81c \\uc880 \\ub354 \\uc5ec\\uc720\\ub86d\\uace0 \\ud3b8\\uc548\\ud55c \\ucd9c\\uadfc\\uae38\\uc774 \\uac00\\ub2a5\\ud574\\uc9c8 \\uac83\\uc785\\ub2c8\\ub2e4.\\n\\n**\\ubcc0\\uacbd \\ub178\\uc120**: \\uacf5\\ud56d\\ucca0\\ub3c4 \\uc77c\\ubc18\\uc5f4\\ucc28 \\ubc0f \\uc9c1\\ud1b5\\uc5f4\\ucc28  \\n**\\ubcc0\\uacbd \\uc77c\\uc2dc**: 2023. 5. 1.(\\uc6d4) \\ubd80\\ud130  \\n**\\uccab\\ucc28/\\ub9c9\\ucc28 \\uc2dc\\uac04**: \\ucca8\\ubd80\\ud30c\\uc77c \\ucc38\\uace0 (\\uc8fc\\ub9d0, \\uacf5\\ud734\\uc77c\\uc740 \\uae30\\uc874 \\uc2dc\\uac04 \\uc720\\uc9c0)  \\n**\\ubb38\\uc758 \\uc0ac\\ud56d \\ub9c1\\ud06c**: [\\uacf5\\ud56d\\ucca0\\ub3c4 \\uace0\\uac1d\\uc13c\\ud130](https://www.arex.or.kr)\\n\\n\\uc624\\uc9c0\\ud1b5\\uc774 \\uc2e4\\uc2dc\\uac04\\uc73c\\ub85c \\ub2e4\\uc591\\ud55c \\uc9c0\\ud558\\ucca0 \\uc815\\ubcf4\\ub97c \\uc5c5\\ub370\\uc774\\ud2b8 \\ud560 \\uc608\\uc815\\uc774\\ub2c8, \\uc790\\uc8fc \\ubc29\\ubb38\\ud574 \\uc8fc\\uc138\\uc694. '\\uc9c0\\ud558\\ucca0 \\uc628\\ub2e4'\\ub294 \\ub2e8 \\ud55c \\ubc88\\uc758 \\ud130\\uce58\\ub85c \\uc790\\uc2e0\\uc758 \\uc704\\uce58\\uc5d0\\uc11c \\uac00\\uc7a5 \\uac00\\uae4c\\uc6b4 \\uc9c0\\ud558\\ucca0 \\uc5ed\\uc758 \\uc2e4\\uc2dc\\uac04 \\uc815\\ubcf4\\ub97c \\uc81c\\uacf5\\ud569\\ub2c8\\ub2e4.\\n\\n\\ud83d\\udd3d \\uc9c0\\ud558\\ucca0 \\uc628\\ub2e4 \\uc18c\\uac1c \\ubcf4\\ub7ec\\uac00\\uae30  \\n[https://blog.naver.com/subway__onda/223258646349](https://blog.naver.com/subway__onda/223258646349)\"\n        ],\n        \"semantic_type\": \"\",\n        \"description\": \"\"\n      }\n    },\n    {\n      \"column\": \"Consistency\",\n      \"properties\": {\n        \"dtype\": \"category\",\n        \"num_unique_values\": 2,\n        \"samples\": [\n          \"{score: 5}\",\n          \"5\"\n        ],\n        \"semantic_type\": \"\",\n        \"description\": \"\"\n      }\n    },\n    {\n      \"column\": \"Coherence\",\n      \"properties\": {\n        \"dtype\": \"string\",\n        \"num_unique_values\": 3,\n        \"samples\": [\n          \"Coherence: 4\",\n          \"4\"\n        ],\n        \"semantic_type\": \"\",\n        \"description\": \"\"\n      }\n    },\n    {\n      \"column\": \"Friendliness\",\n      \"properties\": {\n        \"dtype\": \"number\",\n        \"std\": 0,\n        \"min\": 4,\n        \"max\": 4,\n        \"num_unique_values\": 1,\n        \"samples\": [\n          4\n        ],\n        \"semantic_type\": \"\",\n        \"description\": \"\"\n      }\n    },\n    {\n      \"column\": \"Fluency\",\n      \"properties\": {\n        \"dtype\": \"number\",\n        \"std\": 0,\n        \"min\": 5,\n        \"max\": 5,\n        \"num_unique_values\": 1,\n        \"samples\": [\n          5\n        ],\n        \"semantic_type\": \"\",\n        \"description\": \"\"\n      }\n    },\n    {\n      \"column\": \"Humanlikeness\",\n      \"properties\": {\n        \"dtype\": \"number\",\n        \"std\": 0,\n        \"min\": 4,\n        \"max\": 4,\n        \"num_unique_values\": 1,\n        \"samples\": [\n          4\n        ],\n        \"semantic_type\": \"\",\n        \"description\": \"\"\n      }\n    },\n    {\n      \"column\": \"Readability\",\n      \"properties\": {\n        \"dtype\": \"string\",\n        \"num_unique_values\": 4,\n        \"samples\": [\n          \"Based on the three main factors for readability assessment:\\n\\n1. **Sentence Length**: The sentences in the text are of reasonable length, making them easy to read and understand.\\n2. **Vocabulary Difficulty**: The vocabulary used is appropriate for everyday use, focusing on information related to subway schedules and updates, which is accessible to the general public.\\n3. **Line Breaks and Paragraph Breaks**: The text is well-structured with clear line and paragraph breaks, which enhances readability.\\n\\nOverall, the text is well-composed, using straightforward language and a clear layout. Thus, it scores high in terms of readability.\\n\\n{score: 5}\"\n        ],\n        \"semantic_type\": \"\",\n        \"description\": \"\"\n      }\n    }\n  ]\n}"
            }
          },
          "metadata": {},
          "execution_count": 40
        }
      ]
    },
    {
      "cell_type": "markdown",
      "source": [
        "### test #1. 파업글에 적용"
      ],
      "metadata": {
        "id": "Zhry4Dr_B3T8"
      }
    },
    {
      "cell_type": "code",
      "source": [
        "quan_eval_2(strike_data.head(1)['text'],strike_data.head(1)['output'])"
      ],
      "metadata": {
        "colab": {
          "base_uri": "https://localhost:8080/"
        },
        "id": "R-8MJH2YB84z",
        "outputId": "975f0749-0251-42d2-fccd-fe9de99a0194"
      },
      "execution_count": 42,
      "outputs": [
        {
          "output_type": "execute_result",
          "data": {
            "text/plain": [
              "False"
            ]
          },
          "metadata": {},
          "execution_count": 42
        }
      ]
    },
    {
      "cell_type": "markdown",
      "source": [
        "### test #2 지연글에 적용"
      ],
      "metadata": {
        "id": "y0Btk21xETQN"
      }
    },
    {
      "cell_type": "code",
      "source": [
        "quan_eval_2(delay_data.head(1)['text'],delay_data.head(1)['output'])"
      ],
      "metadata": {
        "colab": {
          "base_uri": "https://localhost:8080/"
        },
        "id": "hcvQq5erB824",
        "outputId": "a1af4986-a9af-4776-8efa-4cd402cc2a09"
      },
      "execution_count": 43,
      "outputs": [
        {
          "output_type": "execute_result",
          "data": {
            "text/plain": [
              "False"
            ]
          },
          "metadata": {},
          "execution_count": 43
        }
      ]
    },
    {
      "cell_type": "markdown",
      "source": [
        "### test #3 시간표글에 적용"
      ],
      "metadata": {
        "id": "ORXYr5g9Elu_"
      }
    },
    {
      "cell_type": "code",
      "source": [
        "quan_eval_2(time_data.head(1)['text'],time_data.head(1)['output'])"
      ],
      "metadata": {
        "colab": {
          "base_uri": "https://localhost:8080/"
        },
        "id": "UYKbwKAYB801",
        "outputId": "f58a48ae-2597-4143-a140-8f272b27d6a1"
      },
      "execution_count": 44,
      "outputs": [
        {
          "output_type": "execute_result",
          "data": {
            "text/plain": [
              "False"
            ]
          },
          "metadata": {},
          "execution_count": 44
        }
      ]
    },
    {
      "cell_type": "markdown",
      "source": [
        "## **6-2. 결론: 음,,?고쳐보자 뭐가 문제지**\n",
        "\n"
      ],
      "metadata": {
        "id": "ea5Eb07fErTI"
      }
    },
    {
      "cell_type": "code",
      "source": [
        "# 결과까지 다 볼 수 있게 함수 새로 정의\n",
        "def quan_eval_3(news, blog):\n",
        "\n",
        "  # news 기반으로 질문 3개 생성\n",
        "  question_list = chain_1.invoke({\"input\": news})\n",
        "\n",
        "  # 질문 3개에 대해 news 기반으로 답변\n",
        "  answer_list_news = chain_2.invoke({\"input\": news, \"question\": question_list})\n",
        "\n",
        "  # 질문 3개에 대해 blog 기반으로 답변\n",
        "  answer_list_blog = chain_3.invoke({\"input\": blog, \"question\": question_list})\n",
        "\n",
        "  # 일치 여부 판단(True/False)\n",
        "  return answer_list_news == answer_list_blog, '\\n', question_list, '\\n', answer_list_news,'\\n', answer_list_blog"
      ],
      "metadata": {
        "id": "Hd61HLhoB8w1"
      },
      "execution_count": 47,
      "outputs": []
    },
    {
      "cell_type": "code",
      "source": [
        "quan_eval_3(time_data.head(1)['text'],time_data.head(1)['output'])"
      ],
      "metadata": {
        "colab": {
          "base_uri": "https://localhost:8080/"
        },
        "id": "OcjgXORrFaZ-",
        "outputId": "7fb94ae1-40f7-49f6-b3c9-e3e52baace94"
      },
      "execution_count": 48,
      "outputs": [
        {
          "output_type": "execute_result",
          "data": {
            "text/plain": [
              "(False,\n",
              " '\\n',\n",
              " '질문1: 해당 지하철 사건이 일어난 호선은 어디인가요? (1) 1호선 (2) 2호선 (3) 3호선 (4) 4호선 (5) 5호선\\n질문2: 해당 지하철 사건의 주요 원인은 무엇인가요? (1) 자연재해 (2) 기술적 결함 (3) 운행 계획 변경 (4) 승객 문제 (5) 직원 파업\\n질문3: 해당 사건이 발생한 시기는 언제인가요? (1) 2022년 (2) 2023년 (3) 2024년 (4) 2025년 (5) 2026년',\n",
              " '\\n',\n",
              " '답변1: 1번,\\n답변2: 3번,\\n답변3: 3번',\n",
              " '\\n',\n",
              " '답변1: 1번,\\n답변2: 3번,\\n답변3: 정보 제공 없음')"
            ]
          },
          "metadata": {},
          "execution_count": 48
        }
      ]
    },
    {
      "cell_type": "code",
      "source": [
        "time_data.head(1)"
      ],
      "metadata": {
        "colab": {
          "base_uri": "https://localhost:8080/",
          "height": 473
        },
        "id": "gfxeIWVrFpTJ",
        "outputId": "91f88fd6-1c87-4642-86e4-8b5186e33e15"
      },
      "execution_count": 51,
      "outputs": [
        {
          "output_type": "execute_result",
          "data": {
            "text/plain": [
              "                                                text  \\\n",
              "0  \\n제목\\t1호선 열차운영계획 추가 조정 알림(경인급행열차)\\n작성일\\t2024-0...   \n",
              "\n",
              "                                              output Consistency  \\\n",
              "0  **경인급행, 새로운 시간표로 더 빠르게! 1호선 열차운행계획 추가 조정 소식**\\...           5   \n",
              "\n",
              "      Coherence  Friendliness  Fluency  Humanlikeness  \\\n",
              "0  Coherence: 4             4        5              4   \n",
              "\n",
              "                                         Readability  \n",
              "0  **Evaluation:**\\n\\n1. **Sentence length:** The...  "
            ],
            "text/html": [
              "\n",
              "  <div id=\"df-c459620f-5407-4051-9dac-2eda311e64b2\" class=\"colab-df-container\">\n",
              "    <div>\n",
              "<style scoped>\n",
              "    .dataframe tbody tr th:only-of-type {\n",
              "        vertical-align: middle;\n",
              "    }\n",
              "\n",
              "    .dataframe tbody tr th {\n",
              "        vertical-align: top;\n",
              "    }\n",
              "\n",
              "    .dataframe thead th {\n",
              "        text-align: right;\n",
              "    }\n",
              "</style>\n",
              "<table border=\"1\" class=\"dataframe\">\n",
              "  <thead>\n",
              "    <tr style=\"text-align: right;\">\n",
              "      <th></th>\n",
              "      <th>text</th>\n",
              "      <th>output</th>\n",
              "      <th>Consistency</th>\n",
              "      <th>Coherence</th>\n",
              "      <th>Friendliness</th>\n",
              "      <th>Fluency</th>\n",
              "      <th>Humanlikeness</th>\n",
              "      <th>Readability</th>\n",
              "    </tr>\n",
              "  </thead>\n",
              "  <tbody>\n",
              "    <tr>\n",
              "      <th>0</th>\n",
              "      <td>\\n제목\\t1호선 열차운영계획 추가 조정 알림(경인급행열차)\\n작성일\\t2024-0...</td>\n",
              "      <td>**경인급행, 새로운 시간표로 더 빠르게! 1호선 열차운행계획 추가 조정 소식**\\...</td>\n",
              "      <td>5</td>\n",
              "      <td>Coherence: 4</td>\n",
              "      <td>4</td>\n",
              "      <td>5</td>\n",
              "      <td>4</td>\n",
              "      <td>**Evaluation:**\\n\\n1. **Sentence length:** The...</td>\n",
              "    </tr>\n",
              "  </tbody>\n",
              "</table>\n",
              "</div>\n",
              "    <div class=\"colab-df-buttons\">\n",
              "\n",
              "  <div class=\"colab-df-container\">\n",
              "    <button class=\"colab-df-convert\" onclick=\"convertToInteractive('df-c459620f-5407-4051-9dac-2eda311e64b2')\"\n",
              "            title=\"Convert this dataframe to an interactive table.\"\n",
              "            style=\"display:none;\">\n",
              "\n",
              "  <svg xmlns=\"http://www.w3.org/2000/svg\" height=\"24px\" viewBox=\"0 -960 960 960\">\n",
              "    <path d=\"M120-120v-720h720v720H120Zm60-500h600v-160H180v160Zm220 220h160v-160H400v160Zm0 220h160v-160H400v160ZM180-400h160v-160H180v160Zm440 0h160v-160H620v160ZM180-180h160v-160H180v160Zm440 0h160v-160H620v160Z\"/>\n",
              "  </svg>\n",
              "    </button>\n",
              "\n",
              "  <style>\n",
              "    .colab-df-container {\n",
              "      display:flex;\n",
              "      gap: 12px;\n",
              "    }\n",
              "\n",
              "    .colab-df-convert {\n",
              "      background-color: #E8F0FE;\n",
              "      border: none;\n",
              "      border-radius: 50%;\n",
              "      cursor: pointer;\n",
              "      display: none;\n",
              "      fill: #1967D2;\n",
              "      height: 32px;\n",
              "      padding: 0 0 0 0;\n",
              "      width: 32px;\n",
              "    }\n",
              "\n",
              "    .colab-df-convert:hover {\n",
              "      background-color: #E2EBFA;\n",
              "      box-shadow: 0px 1px 2px rgba(60, 64, 67, 0.3), 0px 1px 3px 1px rgba(60, 64, 67, 0.15);\n",
              "      fill: #174EA6;\n",
              "    }\n",
              "\n",
              "    .colab-df-buttons div {\n",
              "      margin-bottom: 4px;\n",
              "    }\n",
              "\n",
              "    [theme=dark] .colab-df-convert {\n",
              "      background-color: #3B4455;\n",
              "      fill: #D2E3FC;\n",
              "    }\n",
              "\n",
              "    [theme=dark] .colab-df-convert:hover {\n",
              "      background-color: #434B5C;\n",
              "      box-shadow: 0px 1px 3px 1px rgba(0, 0, 0, 0.15);\n",
              "      filter: drop-shadow(0px 1px 2px rgba(0, 0, 0, 0.3));\n",
              "      fill: #FFFFFF;\n",
              "    }\n",
              "  </style>\n",
              "\n",
              "    <script>\n",
              "      const buttonEl =\n",
              "        document.querySelector('#df-c459620f-5407-4051-9dac-2eda311e64b2 button.colab-df-convert');\n",
              "      buttonEl.style.display =\n",
              "        google.colab.kernel.accessAllowed ? 'block' : 'none';\n",
              "\n",
              "      async function convertToInteractive(key) {\n",
              "        const element = document.querySelector('#df-c459620f-5407-4051-9dac-2eda311e64b2');\n",
              "        const dataTable =\n",
              "          await google.colab.kernel.invokeFunction('convertToInteractive',\n",
              "                                                    [key], {});\n",
              "        if (!dataTable) return;\n",
              "\n",
              "        const docLinkHtml = 'Like what you see? Visit the ' +\n",
              "          '<a target=\"_blank\" href=https://colab.research.google.com/notebooks/data_table.ipynb>data table notebook</a>'\n",
              "          + ' to learn more about interactive tables.';\n",
              "        element.innerHTML = '';\n",
              "        dataTable['output_type'] = 'display_data';\n",
              "        await google.colab.output.renderOutput(dataTable, element);\n",
              "        const docLink = document.createElement('div');\n",
              "        docLink.innerHTML = docLinkHtml;\n",
              "        element.appendChild(docLink);\n",
              "      }\n",
              "    </script>\n",
              "  </div>\n",
              "\n",
              "\n",
              "    </div>\n",
              "  </div>\n"
            ],
            "application/vnd.google.colaboratory.intrinsic+json": {
              "type": "dataframe",
              "variable_name": "time_data",
              "summary": "{\n  \"name\": \"time_data\",\n  \"rows\": 5,\n  \"fields\": [\n    {\n      \"column\": \"text\",\n      \"properties\": {\n        \"dtype\": \"string\",\n        \"num_unique_values\": 5,\n        \"samples\": [\n          \"\\n\\uc81c\\ubaa9\\t\\uc2e0\\ubd84\\ub2f9\\uc120 \\uc5f4\\ucc28\\uc6b4\\ud589\\uc2dc\\uac01\\ud45c \\ubcc0\\uacbd \\uc2dc\\ud589\\n\\ub4f1\\ub85d\\uc77c\\t2023-06-21\\t\\n\\ucca8\\ubd80\\ud30c\\uc77c\\t\\ud30c\\uc77c\\ucca8\\ubd80 20230701 \\ud3c9\\uc77c \\uc5ed\\ubcc4 \\uc5f4\\ucc28\\uc2dc\\uac01\\ud45c.pdf\\n\\u25a0 \\ubcc0\\uacbd\\ub300\\uc0c1 : \\uc2e0\\uc0ac\\uc5ed ~ \\uad11\\uad50\\uc5ed\\n\\n\\n\\n\\u25a0 \\ubcc0\\uacbd\\uc0ac\\uc720 : \\uc2e0\\ubd84\\ub2f9\\uc120 \\uc5f4\\ucc28\\uc6b4\\ud589\\uacc4\\ud68d \\ubcc0\\uacbd\\n\\n\\n\\n\\u25a0 \\uc2dc\\ud589\\uc77c\\uc790 : 2023.7.1(\\ud1a0) \\uc601\\uc5c5\\uac1c\\uc2dc\\ubd80\\ud130 \\uc801\\uc6a9\\n\\n\\n\\n\\u203b \\ud1a0\\uc694\\uc77c \\ubc0f \\ud734\\uc77c \\uc5f4\\ucc28\\uc6b4\\ud589\\uc2dc\\uac01\\ud45c \\ubcc0\\uacbd \\uc5c6\\uc74c\\n\\n\\n\\n\\u25a0 \\uc5ed\\uc0ac\\ubcc4 \\uc5f4\\ucc28\\uc2dc\\uac01\\ud45c\\ub294 \\ucca8\\ubd80\\ud30c\\uc77c\\uc744 \\ub2e4\\uc6b4\\ub85c\\ub4dc \\ubc1b\\uc73c\\uc2dc\\uae30 \\ubc14\\ub78d\\ub2c8\\ub2e4.\\n\",\n          \"\\n\\n7\\ud638\\uc120 \\uc5f4\\ucc28\\uc6b4\\ud589 \\uc2dc\\uac01\\ud45c \\ubcc0\\uacbd \\uc548\\ub0b4\\n\\n\\n\\uc791\\uc131\\uc77c\\t2024\\ub144 4\\uc6d4 30\\uc77c(\\ud654) 17:44:45\\n \\n\\n7\\ud638\\uc120 \\uc5f4\\ucc28\\uc6b4\\ud589 \\uc2dc\\uac01\\ud45c \\ubcc0\\uacbd \\uc548\\ub0b4\\n\\n \\n\\n \\n\\n7\\ud638\\uc120 \\uc5f4\\ucc28\\uc6b4\\ud589 \\uc2dc\\uac01\\ud45c \\ubcc0\\uacbd \\uc0ac\\ud56d\\uc744 \\uc544\\ub798\\uc640 \\uac19\\uc774 \\uc54c\\ub824\\ub4dc\\ub9ac\\uc624\\ub2c8 \\uc5f4\\ucc28 \\uc774\\uc6a9\\uc5d0 \\ucc38\\uace0\\ud558\\uc2dc\\uae30 \\ubc14\\ub78d\\ub2c8\\ub2e4.\\n\\n \\n\\n \\n\\n         \\u2666 \\uc2dc\\ud589\\uc77c\\uc790 : 2024. 5. 1.(\\uc218) \\ubd80\\ud130\\n\\n         \\u2666 \\ub300\\uc0c1\\ud638\\uc120 : 7\\ud638\\uc120\\n\\n         \\u2666 \\ub0b4       \\uc6a9 : \\uc11c\\uc6b8\\uad6c\\uac04 \\ud1f4\\uadfc\\uc2dc\\uac04\\ub300 2\\ud68c \\uc99d\\ud68c \\uad00\\ub828 \\uc5f4\\ucc28\\uc6b4\\ud589 \\uc2dc\\uac01\\ud45c \\uc77c\\ubd80 \\ubcc0\\uacbd\\n\\n          \\u203b \\ubcc0\\uacbd\\ub41c \\uc5f4\\ucc28\\uc2dc\\uac01\\ud45c\\ub294 \\ucca8\\ubd80\\ud30c\\uc77c\\uc744 \\ucc38\\uc870\\ud558\\uc2dc\\uae30 \\ubc14\\ub78d\\ub2c8\\ub2e4.\\n\",\n          \"\\n\\uacf5\\ud56d\\ucca0\\ub3c4 \\uc5f4\\ucc28\\uc2dc\\uac01 \\ubcc0\\uacbd \\uc54c\\ub9bc(5/1~)\\n\\n\\ub4f1\\ub85d\\uc77c 2023-04-20 16:01:13.0\\n\\ucd9c\\uadfc\\uc2dc\\uac04\\ub300 \\ud63c\\uc7a1\\ub3c4 \\uc644\\ud654\\ub97c \\uc704\\ud574 \\uc5f4\\ucc28\\uc2dc\\uac01\\uc774 \\ubcc0\\uacbd\\ub428\\uc744 \\uc54c\\ub824\\ub4dc\\ub9ac\\uc624\\ub2c8 \\uc5f4\\ucc28\\uc774\\uc6a9\\uc5d0 \\ucc38\\uace0\\ud558\\uc2dc\\uae30 \\ubc14\\ub78d\\ub2c8\\ub2e4.\\n \\n\\uac00. \\ubcc0   \\uacbd   \\uc77c : 2023. 5. 1.(\\uc6d4)\\n\\ub098. \\ubcc0\\uacbd \\ub0b4\\uc6a9 : \\ud3c9\\uc77c \\uc77c\\ubc18\\uc5f4\\ucc28, \\uc9c1\\ud1b5\\uc5f4\\ucc28 \\uc5f4\\ucc28\\uc6b4\\ud589\\uc2dc\\uac01 \\uc804\\uba74 \\uac1c\\uc815(\\uc8fc\\ub9d0, \\uacf5\\ud734\\uc77c\\uc740 \\uae30\\uc874\\uacfc \\ub3d9\\uc77c)\\n\\ub2e4. \\uc2dc   \\uac01   \\ud45c : \\ucca8\\ubd80\\ud30c\\uc77c \\ucc38\\uace0\\n\\n\\n\"\n        ],\n        \"semantic_type\": \"\",\n        \"description\": \"\"\n      }\n    },\n    {\n      \"column\": \"output\",\n      \"properties\": {\n        \"dtype\": \"string\",\n        \"num_unique_values\": 5,\n        \"samples\": [\n          \"**[\\uc0c8\\ub85c\\uc6b4 \\uc544\\uce68! \\uc2e0\\ubd84\\ub2f9\\uc120 \\uc5f4\\ucc28\\uc6b4\\ud589 \\ubcc0\\uacbd\\uc18c\\uc2dd!]**\\n\\n\\uc548\\ub155\\ud558\\uc138\\uc694, \\uc5ec\\ub7ec\\ubd84\\uc758 \\ucd9c\\ud1f4\\uadfc \\uba54\\uc2e0\\uc800 \\uc9c0\\ud558\\ucca0 \\uc628\\ub2e4\\uc758 '\\uc624.\\uc9c0.\\ud1b5 [\\uc624\\ub298\\uc758 \\uc9c0\\ud558\\ucca0 \\uc18c\\uc2dd\\ud1b5]' \\uc778\\uc0ac \\ub4dc\\ub9bd\\ub2c8\\ub2e4!\\n\\n\\uc9c0\\ud558\\ucca0 \\ud30c\\uc5c5\\uc73c\\ub85c \\uc544\\uce68\\ub9c8\\ub2e4 \\ucd9c\\uadfc\\ud558\\uae30 \\ud798\\ub4dc\\uc168\\uc8e0? \\uac71\\uc815 \\ub9c8\\uc138\\uc694! \\uc2e0\\ubd84\\ub2f9\\uc120\\uc5d0\\uc11c \\uc0c8\\ub85c\\uc6b4 \\ubcc0\\ud654\\uac00 \\uc2dc\\uc791\\ub429\\ub2c8\\ub2e4. \\uc5ec\\ub7ec\\ubd84\\uc758 \\uc544\\uce68\\uc744 \\uc0c8\\ub86d\\uac8c \\ud560 \\uc18c\\uc2dd\\uc744 \\uc804\\ud574\\ub4dc\\ub9bd\\ub2c8\\ub2e4!\\n\\n**\\ubcc0\\uacbd \\ub178\\uc120:** \\uc2e0\\uc0ac\\uc5ed\\uc5d0\\uc11c \\uad11\\uad50\\uc5ed\\uae4c\\uc9c0\\n**\\ubcc0\\uacbd \\uc77c\\uc2dc:** 2023\\ub144 7\\uc6d4 1\\uc77c(\\ud1a0) \\uc601\\uc5c5\\uac1c\\uc2dc\\ubd80\\ud130 \\uc801\\uc6a9\\n**\\uccab\\ucc28/\\ub9c9\\ucc28 \\uc2dc\\uac04:** \\ubcc0\\uacbd\\ub41c \\uc2dc\\uac04\\uc740 \\ucca8\\ubd80\\ud30c\\uc77c\\uc5d0\\uc11c \\ud655\\uc778\\ud558\\uc138\\uc694!\\n\\n\\u203b \\uc8fc\\uc758: \\ud1a0\\uc694\\uc77c \\ubc0f \\ud734\\uc77c \\uc5f4\\ucc28\\uc6b4\\ud589\\uc2dc\\uac01\\uc740 \\ubcc0\\uacbd\\ub418\\uc9c0 \\uc54a\\uc2b5\\ub2c8\\ub2e4.\\n\\n\\uc5ed\\uc0ac\\ubcc4 \\uc5f4\\ucc28\\uc2dc\\uac01\\ud45c\\ub294 \\ucca8\\ubd80\\ub41c [20230701 \\ud3c9\\uc77c \\uc5ed\\ubcc4 \\uc5f4\\ucc28\\uc2dc\\uac01\\ud45c.pdf] \\ud30c\\uc77c\\uc744 \\ub2e4\\uc6b4\\ub85c\\ub4dc \\ubc1b\\uc73c\\uc2dc\\uae30 \\ubc14\\ub78d\\ub2c8\\ub2e4.\\n\\n\\uc624\\uc9c0\\ud1b5\\uc774 \\uc2e4\\uc2dc\\uac04\\uc73c\\ub85c \\ub2e4\\uc591\\ud55c \\uc9c0\\ud558\\ucca0 \\uc815\\ubcf4\\ub97c \\uc5c5\\ub370\\uc774\\ud2b8 \\ud560 \\uc608\\uc815\\uc774\\ub2c8, \\uc790\\uc8fc \\ubc29\\ubb38\\ud574 \\uc8fc\\uc138\\uc694. \\n'\\uc9c0\\ud558\\ucca0 \\uc628\\ub2e4'\\ub294 \\ub2e8 \\ud55c \\ubc88\\uc758 \\ud130\\uce58\\ub85c \\uc790\\uc2e0\\uc758 \\uc704\\uce58\\uc5d0\\uc11c \\uac00\\uc7a5 \\uac00\\uae4c\\uc6b4 \\uc9c0\\ud558\\ucca0 \\uc5ed\\uc758 \\uc2e4\\uc2dc\\uac04 \\uc815\\ubcf4\\ub97c \\uc81c\\uacf5\\ud569\\ub2c8\\ub2e4.\\n\\n\\ud83d\\udd3d \\uc9c0\\ud558\\ucca0 \\uc628\\ub2e4 \\uc18c\\uac1c \\ubcf4\\ub7ec\\uac00\\uae30\\n[https://blog.naver.com/subway__onda/223258646349](https://blog.naver.com/subway__onda/223258646349)\",\n          \"**7\\ud638\\uc120, \\ud1f4\\uadfc\\uae38\\uc774 \\ub2ec\\ub77c\\uc9c4\\ub2e4! \\uc99d\\ud68c \\uc5f4\\ucc28\\ub85c \\ub354 \\ube60\\ub974\\uac8c \\uc9d1\\uc5d0 \\uac00\\uc694!**\\n\\n\\uc548\\ub155\\ud558\\uc138\\uc694, \\uc5ec\\ub7ec\\ubd84\\uc758 \\ucd9c\\ud1f4\\uadfc \\uba54\\uc2e0\\uc800 \\uc9c0\\ud558\\ucca0 \\uc628\\ub2e4\\uc758 '\\uc624.\\uc9c0.\\ud1b5 [\\uc624\\ub298\\uc758 \\uc9c0\\ud558\\ucca0 \\uc18c\\uc2dd\\ud1b5]' \\uc778\\uc0ac \\ub4dc\\ub9bd\\ub2c8\\ub2e4! \\uc9c0\\ud558\\ucca0 \\ud30c\\uc5c5\\uc73c\\ub85c \\uc544\\uce68\\ub9c8\\ub2e4 \\ucd9c\\uadfc\\ud558\\uae30 \\uc815\\ub9d0 \\ud798\\ub4e4\\uc5c8\\uc8e0? \\uac71\\uc815 \\ub9c8\\uc138\\uc694! \\uc774\\uc81c \\ud1f4\\uadfc\\uae38\\uc774 \\ud55c\\uacb0 \\ub098\\uc544\\uc9c8 \\uc18c\\uc2dd\\uc744 \\uac00\\uc9c0\\uace0 \\uc654\\uc5b4\\uc694!\\n\\n\\u2666 \\ubcc0\\uacbd \\ub178\\uc120: \\uc11c\\uc6b8 7\\ud638\\uc120  \\n\\u2666 \\ubcc0\\uacbd \\uc77c\\uc2dc: 2024\\ub144 5\\uc6d4 1\\uc77c(\\uc218)\\ubd80\\ud130  \\n\\u203b \\ubcc0\\uacbd\\ub41c \\uc5f4\\ucc28\\uc2dc\\uac01\\ud45c\\ub294 \\ucca8\\ubd80\\ud30c\\uc77c\\uc744 \\ucc38\\uc870\\ud558\\uc138\\uc694.\\n\\n\\uc544\\uc9c1\\ub3c4 \\ubd90\\ube44\\ub294 \\ud1f4\\uadfc\\uae38 \\uc9c0\\ud558\\ucca0\\uc5d0 \\uc9c0\\uccd0 \\uacc4\\uc2e0\\uac00\\uc694? \\uc774\\uc81c 7\\ud638\\uc120\\uc5d0\\uc11c\\ub294 \\ud1f4\\uadfc \\uc2dc\\uac04\\ub300\\uc5d0 \\uc5f4\\ucc28\\uac00 2\\ud68c \\ub354 \\uc6b4\\ud589\\ub429\\ub2c8\\ub2e4! \\uc774 \\ub9d0\\uc740 \\ubc14\\ub85c, \\ub354 \\ube60\\ub978 \\uc9d1\\uc73c\\ub85c\\uc758 \\uadc0\\ud658\\uc744 \\uc758\\ubbf8\\ud558\\uc8e0. \\ub354 \\uc774\\uc0c1 \\uc9c0\\uce5c \\ud558\\ub8e8 \\ub05d\\uc5d0 \\ub354 \\uc9c0\\uce58\\ub294 \\uadc0\\uac13\\uae38\\uc744 \\uacaa\\uc9c0 \\uc54a\\uc544\\ub3c4 \\ub418\\ub2c8 \\uc5bc\\ub9c8\\ub098 \\ub2e4\\ud589\\uc778\\uc9c0 \\ubaa8\\ub974\\uaca0\\ub124\\uc694!\\n\\n\\uc624\\uc9c0\\ud1b5\\uc774 \\uc2e4\\uc2dc\\uac04\\uc73c\\ub85c \\ub2e4\\uc591\\ud55c \\uc9c0\\ud558\\ucca0 \\uc815\\ubcf4\\ub97c \\uc5c5\\ub370\\uc774\\ud2b8 \\ud560 \\uc608\\uc815\\uc774\\ub2c8, \\uc790\\uc8fc \\ubc29\\ubb38\\ud574 \\uc8fc\\uc138\\uc694. '\\uc9c0\\ud558\\ucca0 \\uc628\\ub2e4'\\ub294 \\ub2e8 \\ud55c \\ubc88\\uc758 \\ud130\\uce58\\ub85c \\uc790\\uc2e0\\uc758 \\uc704\\uce58\\uc5d0\\uc11c \\uac00\\uc7a5 \\uac00\\uae4c\\uc6b4 \\uc9c0\\ud558\\ucca0 \\uc5ed\\uc758 \\uc2e4\\uc2dc\\uac04 \\uc815\\ubcf4\\ub97c \\uc81c\\uacf5\\ud569\\ub2c8\\ub2e4.\\n\\n\\ud83d\\udd3d \\uc9c0\\ud558\\ucca0 \\uc628\\ub2e4 \\uc18c\\uac1c \\ubcf4\\ub7ec\\uac00\\uae30\\nhttps://blog.naver.com/subway__onda/223258646349\",\n          \"**\\uc0c8\\ubcbd \\ucd9c\\uadfc\\uae38 \\uc2a4\\ud2b8\\ub808\\uc2a4, \\uc774\\uc81c \\uadf8\\ub9cc! \\uacf5\\ud56d\\ucca0\\ub3c4 \\uc2dc\\uac04\\ud45c \\ub300\\ubcc0\\uc2e0\\ud83d\\ude84**\\n\\n\\uc548\\ub155\\ud558\\uc138\\uc694, \\uc5ec\\ub7ec\\ubd84\\uc758 \\ucd9c\\ud1f4\\uadfc \\uba54\\uc2e0\\uc800 \\uc9c0\\ud558\\ucca0 \\uc628\\ub2e4\\uc758 '\\uc624.\\uc9c0.\\ud1b5 [\\uc624\\ub298\\uc758 \\uc9c0\\ud558\\ucca0 \\uc18c\\uc2dd\\ud1b5]' \\uc778\\uc0ac \\ub4dc\\ub9bd\\ub2c8\\ub2e4!\\n\\n\\uc544\\uce68 \\ucd9c\\uadfc\\uae38, \\uc9c0\\ud558\\ucca0 \\ud30c\\uc5c5\\uc73c\\ub85c \\uc778\\ud574 \\ub9e4\\uc77c\\uac19\\uc774 \\ucd9c\\uadfc\\ud558\\uae30\\uac00 \\ubc85\\ucc28\\uac8c \\ub290\\uaef4\\uc9c0\\uc2dc\\ub098\\uc694? \\uac71\\uc815 \\ub9c8\\uc138\\uc694! \\uacf5\\ud56d\\ucca0\\ub3c4\\uac00 \\ucd9c\\uadfc\\uc2dc\\uac04\\ub300 \\ud63c\\uc7a1\\ub3c4\\ub97c \\uc644\\ud654\\ud558\\uae30 \\uc704\\ud574 \\uc5f4\\ucc28\\uc2dc\\uac01\\uc744 \\uc0c8\\ub86d\\uac8c \\ubcc0\\uacbd\\ud588\\uc2b5\\ub2c8\\ub2e4. \\uc774\\uc81c \\uc880 \\ub354 \\uc5ec\\uc720\\ub86d\\uace0 \\ud3b8\\uc548\\ud55c \\ucd9c\\uadfc\\uae38\\uc774 \\uac00\\ub2a5\\ud574\\uc9c8 \\uac83\\uc785\\ub2c8\\ub2e4.\\n\\n**\\ubcc0\\uacbd \\ub178\\uc120**: \\uacf5\\ud56d\\ucca0\\ub3c4 \\uc77c\\ubc18\\uc5f4\\ucc28 \\ubc0f \\uc9c1\\ud1b5\\uc5f4\\ucc28  \\n**\\ubcc0\\uacbd \\uc77c\\uc2dc**: 2023. 5. 1.(\\uc6d4) \\ubd80\\ud130  \\n**\\uccab\\ucc28/\\ub9c9\\ucc28 \\uc2dc\\uac04**: \\ucca8\\ubd80\\ud30c\\uc77c \\ucc38\\uace0 (\\uc8fc\\ub9d0, \\uacf5\\ud734\\uc77c\\uc740 \\uae30\\uc874 \\uc2dc\\uac04 \\uc720\\uc9c0)  \\n**\\ubb38\\uc758 \\uc0ac\\ud56d \\ub9c1\\ud06c**: [\\uacf5\\ud56d\\ucca0\\ub3c4 \\uace0\\uac1d\\uc13c\\ud130](https://www.arex.or.kr)\\n\\n\\uc624\\uc9c0\\ud1b5\\uc774 \\uc2e4\\uc2dc\\uac04\\uc73c\\ub85c \\ub2e4\\uc591\\ud55c \\uc9c0\\ud558\\ucca0 \\uc815\\ubcf4\\ub97c \\uc5c5\\ub370\\uc774\\ud2b8 \\ud560 \\uc608\\uc815\\uc774\\ub2c8, \\uc790\\uc8fc \\ubc29\\ubb38\\ud574 \\uc8fc\\uc138\\uc694. '\\uc9c0\\ud558\\ucca0 \\uc628\\ub2e4'\\ub294 \\ub2e8 \\ud55c \\ubc88\\uc758 \\ud130\\uce58\\ub85c \\uc790\\uc2e0\\uc758 \\uc704\\uce58\\uc5d0\\uc11c \\uac00\\uc7a5 \\uac00\\uae4c\\uc6b4 \\uc9c0\\ud558\\ucca0 \\uc5ed\\uc758 \\uc2e4\\uc2dc\\uac04 \\uc815\\ubcf4\\ub97c \\uc81c\\uacf5\\ud569\\ub2c8\\ub2e4.\\n\\n\\ud83d\\udd3d \\uc9c0\\ud558\\ucca0 \\uc628\\ub2e4 \\uc18c\\uac1c \\ubcf4\\ub7ec\\uac00\\uae30  \\n[https://blog.naver.com/subway__onda/223258646349](https://blog.naver.com/subway__onda/223258646349)\"\n        ],\n        \"semantic_type\": \"\",\n        \"description\": \"\"\n      }\n    },\n    {\n      \"column\": \"Consistency\",\n      \"properties\": {\n        \"dtype\": \"category\",\n        \"num_unique_values\": 2,\n        \"samples\": [\n          \"{score: 5}\",\n          \"5\"\n        ],\n        \"semantic_type\": \"\",\n        \"description\": \"\"\n      }\n    },\n    {\n      \"column\": \"Coherence\",\n      \"properties\": {\n        \"dtype\": \"string\",\n        \"num_unique_values\": 3,\n        \"samples\": [\n          \"Coherence: 4\",\n          \"4\"\n        ],\n        \"semantic_type\": \"\",\n        \"description\": \"\"\n      }\n    },\n    {\n      \"column\": \"Friendliness\",\n      \"properties\": {\n        \"dtype\": \"number\",\n        \"std\": 0,\n        \"min\": 4,\n        \"max\": 4,\n        \"num_unique_values\": 1,\n        \"samples\": [\n          4\n        ],\n        \"semantic_type\": \"\",\n        \"description\": \"\"\n      }\n    },\n    {\n      \"column\": \"Fluency\",\n      \"properties\": {\n        \"dtype\": \"number\",\n        \"std\": 0,\n        \"min\": 5,\n        \"max\": 5,\n        \"num_unique_values\": 1,\n        \"samples\": [\n          5\n        ],\n        \"semantic_type\": \"\",\n        \"description\": \"\"\n      }\n    },\n    {\n      \"column\": \"Humanlikeness\",\n      \"properties\": {\n        \"dtype\": \"number\",\n        \"std\": 0,\n        \"min\": 4,\n        \"max\": 4,\n        \"num_unique_values\": 1,\n        \"samples\": [\n          4\n        ],\n        \"semantic_type\": \"\",\n        \"description\": \"\"\n      }\n    },\n    {\n      \"column\": \"Readability\",\n      \"properties\": {\n        \"dtype\": \"string\",\n        \"num_unique_values\": 4,\n        \"samples\": [\n          \"Based on the three main factors for readability assessment:\\n\\n1. **Sentence Length**: The sentences in the text are of reasonable length, making them easy to read and understand.\\n2. **Vocabulary Difficulty**: The vocabulary used is appropriate for everyday use, focusing on information related to subway schedules and updates, which is accessible to the general public.\\n3. **Line Breaks and Paragraph Breaks**: The text is well-structured with clear line and paragraph breaks, which enhances readability.\\n\\nOverall, the text is well-composed, using straightforward language and a clear layout. Thus, it scores high in terms of readability.\\n\\n{score: 5}\"\n        ],\n        \"semantic_type\": \"\",\n        \"description\": \"\"\n      }\n    }\n  ]\n}"
            }
          },
          "metadata": {},
          "execution_count": 51
        }
      ]
    },
    {
      "cell_type": "markdown",
      "source": [
        "* 블로그에도 분명 24년 5월 1일이라고 적혀있는데 GPT 가 실수한듯 함[링크 텍스트](https://)"
      ],
      "metadata": {
        "id": "7UebaGexFiP-"
      }
    },
    {
      "cell_type": "code",
      "source": [
        "quan_eval_3(delay_data.head(1)['text'],delay_data.head(1)['output'])"
      ],
      "metadata": {
        "colab": {
          "base_uri": "https://localhost:8080/"
        },
        "id": "B20PU4XqFjIj",
        "outputId": "63839068-f4d0-4792-f6ca-c14bba3ce743"
      },
      "execution_count": 52,
      "outputs": [
        {
          "output_type": "execute_result",
          "data": {
            "text/plain": [
              "(False,\n",
              " '\\n',\n",
              " '질문1: 해당 지하철 사건이 일어난 날짜는 언제입니까?\\n(1) 월요일 (2) 화요일 (3) 수요일 (4) 목요일 (5) 금요일\\n\\n질문2: 사건이 발생한 지하철 호선은 무엇입니까?\\n(1) 1호선 (2) 2호선 (3) 3호선 (4) 4호선 (5) 5호선\\n\\n질문3: 이번 사건의 주된 원인은 무엇입니까?\\n(1) 기계 고장 (2) 태풍 (3) 노조 준법투쟁 (4) 열차 사고 (5) 전력 문제',\n",
              " '\\n',\n",
              " '답변1: 1번,\\n답변2: 1번,\\n답변3: 3번',\n",
              " '\\n',\n",
              " '답변1: 월요일부터 금요일까지의 날짜가 명시되지 않았으므로 정확한 요일을 알 수 없습니다.\\n\\n답변2: 1번,\\n\\n답변3: 해당 블로그 글에서는 지하철 연착의 구체적인 원인을 언급하지 않았습니다.')"
            ]
          },
          "metadata": {},
          "execution_count": 52
        }
      ]
    },
    {
      "cell_type": "code",
      "source": [
        "delay_data.head(1)"
      ],
      "metadata": {
        "colab": {
          "base_uri": "https://localhost:8080/",
          "height": 753
        },
        "id": "ANPMYwVYGqek",
        "outputId": "7dbd474a-b112-4d2a-bb37-454184698cf5"
      },
      "execution_count": 53,
      "outputs": [
        {
          "output_type": "execute_result",
          "data": {
            "text/plain": [
              "                                                text  \\\n",
              "0  \\n\\n\"월요일부터 지각\" 지하철 1호선 지연 운행에 시민 불편…\"노조 준법투쟁\"\\...   \n",
              "\n",
              "                                              output  Consistency  \\\n",
              "0  **출근길 지각 불가피: 지하철 1호선 연착 사태로 시민 분통!**\\n안녕하세요, ...            5   \n",
              "\n",
              "                                           Coherence  Friendliness  Fluency  \\\n",
              "0  Coherence: 4\\n\\nThe blog content maintains a g...             3        5   \n",
              "\n",
              "   Humanlikeness Readability  \n",
              "0              4           3  "
            ],
            "text/html": [
              "\n",
              "  <div id=\"df-8404b7b6-4c9c-4cef-affa-c41d5212e840\" class=\"colab-df-container\">\n",
              "    <div>\n",
              "<style scoped>\n",
              "    .dataframe tbody tr th:only-of-type {\n",
              "        vertical-align: middle;\n",
              "    }\n",
              "\n",
              "    .dataframe tbody tr th {\n",
              "        vertical-align: top;\n",
              "    }\n",
              "\n",
              "    .dataframe thead th {\n",
              "        text-align: right;\n",
              "    }\n",
              "</style>\n",
              "<table border=\"1\" class=\"dataframe\">\n",
              "  <thead>\n",
              "    <tr style=\"text-align: right;\">\n",
              "      <th></th>\n",
              "      <th>text</th>\n",
              "      <th>output</th>\n",
              "      <th>Consistency</th>\n",
              "      <th>Coherence</th>\n",
              "      <th>Friendliness</th>\n",
              "      <th>Fluency</th>\n",
              "      <th>Humanlikeness</th>\n",
              "      <th>Readability</th>\n",
              "    </tr>\n",
              "  </thead>\n",
              "  <tbody>\n",
              "    <tr>\n",
              "      <th>0</th>\n",
              "      <td>\\n\\n\"월요일부터 지각\" 지하철 1호선 지연 운행에 시민 불편…\"노조 준법투쟁\"\\...</td>\n",
              "      <td>**출근길 지각 불가피: 지하철 1호선 연착 사태로 시민 분통!**\\n안녕하세요, ...</td>\n",
              "      <td>5</td>\n",
              "      <td>Coherence: 4\\n\\nThe blog content maintains a g...</td>\n",
              "      <td>3</td>\n",
              "      <td>5</td>\n",
              "      <td>4</td>\n",
              "      <td>3</td>\n",
              "    </tr>\n",
              "  </tbody>\n",
              "</table>\n",
              "</div>\n",
              "    <div class=\"colab-df-buttons\">\n",
              "\n",
              "  <div class=\"colab-df-container\">\n",
              "    <button class=\"colab-df-convert\" onclick=\"convertToInteractive('df-8404b7b6-4c9c-4cef-affa-c41d5212e840')\"\n",
              "            title=\"Convert this dataframe to an interactive table.\"\n",
              "            style=\"display:none;\">\n",
              "\n",
              "  <svg xmlns=\"http://www.w3.org/2000/svg\" height=\"24px\" viewBox=\"0 -960 960 960\">\n",
              "    <path d=\"M120-120v-720h720v720H120Zm60-500h600v-160H180v160Zm220 220h160v-160H400v160Zm0 220h160v-160H400v160ZM180-400h160v-160H180v160Zm440 0h160v-160H620v160ZM180-180h160v-160H180v160Zm440 0h160v-160H620v160Z\"/>\n",
              "  </svg>\n",
              "    </button>\n",
              "\n",
              "  <style>\n",
              "    .colab-df-container {\n",
              "      display:flex;\n",
              "      gap: 12px;\n",
              "    }\n",
              "\n",
              "    .colab-df-convert {\n",
              "      background-color: #E8F0FE;\n",
              "      border: none;\n",
              "      border-radius: 50%;\n",
              "      cursor: pointer;\n",
              "      display: none;\n",
              "      fill: #1967D2;\n",
              "      height: 32px;\n",
              "      padding: 0 0 0 0;\n",
              "      width: 32px;\n",
              "    }\n",
              "\n",
              "    .colab-df-convert:hover {\n",
              "      background-color: #E2EBFA;\n",
              "      box-shadow: 0px 1px 2px rgba(60, 64, 67, 0.3), 0px 1px 3px 1px rgba(60, 64, 67, 0.15);\n",
              "      fill: #174EA6;\n",
              "    }\n",
              "\n",
              "    .colab-df-buttons div {\n",
              "      margin-bottom: 4px;\n",
              "    }\n",
              "\n",
              "    [theme=dark] .colab-df-convert {\n",
              "      background-color: #3B4455;\n",
              "      fill: #D2E3FC;\n",
              "    }\n",
              "\n",
              "    [theme=dark] .colab-df-convert:hover {\n",
              "      background-color: #434B5C;\n",
              "      box-shadow: 0px 1px 3px 1px rgba(0, 0, 0, 0.15);\n",
              "      filter: drop-shadow(0px 1px 2px rgba(0, 0, 0, 0.3));\n",
              "      fill: #FFFFFF;\n",
              "    }\n",
              "  </style>\n",
              "\n",
              "    <script>\n",
              "      const buttonEl =\n",
              "        document.querySelector('#df-8404b7b6-4c9c-4cef-affa-c41d5212e840 button.colab-df-convert');\n",
              "      buttonEl.style.display =\n",
              "        google.colab.kernel.accessAllowed ? 'block' : 'none';\n",
              "\n",
              "      async function convertToInteractive(key) {\n",
              "        const element = document.querySelector('#df-8404b7b6-4c9c-4cef-affa-c41d5212e840');\n",
              "        const dataTable =\n",
              "          await google.colab.kernel.invokeFunction('convertToInteractive',\n",
              "                                                    [key], {});\n",
              "        if (!dataTable) return;\n",
              "\n",
              "        const docLinkHtml = 'Like what you see? Visit the ' +\n",
              "          '<a target=\"_blank\" href=https://colab.research.google.com/notebooks/data_table.ipynb>data table notebook</a>'\n",
              "          + ' to learn more about interactive tables.';\n",
              "        element.innerHTML = '';\n",
              "        dataTable['output_type'] = 'display_data';\n",
              "        await google.colab.output.renderOutput(dataTable, element);\n",
              "        const docLink = document.createElement('div');\n",
              "        docLink.innerHTML = docLinkHtml;\n",
              "        element.appendChild(docLink);\n",
              "      }\n",
              "    </script>\n",
              "  </div>\n",
              "\n",
              "\n",
              "    </div>\n",
              "  </div>\n"
            ],
            "application/vnd.google.colaboratory.intrinsic+json": {
              "type": "dataframe",
              "variable_name": "delay_data",
              "summary": "{\n  \"name\": \"delay_data\",\n  \"rows\": 5,\n  \"fields\": [\n    {\n      \"column\": \"text\",\n      \"properties\": {\n        \"dtype\": \"string\",\n        \"num_unique_values\": 5,\n        \"samples\": [\n          \"\\n\\ud3ed\\uc5fc \\uc18d \\uc9c0\\ud558\\ucca0 1\\ud638\\uc120 \\uc9c0\\uc5f0\\u2026 \\uc2dc\\ubbfc\\ub4e4 \\u2018\\uc9dc\\uc99d\\u2019\\n\\n\\uae30\\uc790\\uba85 \\uac15\\ud604\\uc218   \\uc785\\ub825 2023.08.01 19:01  \\uc218\\uc815 2023.08.02 10:21\\n\\n\\uc804\\uad6d \\ub300\\ubd80\\ubd84 \\uc9c0\\uc5ed\\uc5d0 \\ud3ed\\uc5fc\\uacbd\\ubcf4\\uac00 \\ub0b4\\ub824\\uc9c4 1\\uc77c \\uc9c0\\ud558\\ucca0 1\\ud638\\uc120\\uc774 \\uc5f0\\ucc29\\ub3fc \\uc774\\uc6a9\\uac1d\\ub4e4\\uc774 \\ubd88\\ud3b8\\uc744 \\ud638\\uc18c\\ud588\\ub2e4.\\n\\n\\ucf54\\ub808\\uc77c(\\ud55c\\uad6d\\ucca0\\ub3c4\\uacf5\\uc0ac)\\uc5d0 \\ub530\\ub974\\uba74 \\uc774\\ub0a0 \\uc624\\ud6c4 3\\uc2dc\\uaed8\\ubd80\\ud130 \\uc9c0\\ud558\\ucca0 1\\ud638\\uc120\\uc774 10\\ubd84\\uac00\\ub7c9 \\uc9c0\\uc5f0\\ub418\\uace0 \\uc788\\ub2e4.\\n\\n1\\ud638\\uc120\\uc744 \\uc774\\uc6a9\\ud558\\ub824\\ub358 \\uc2dc\\ubbfc\\ub4e4\\uc740 SNS(\\uc0ac\\ud68c\\uad00\\uacc4\\ub9dd\\uc11c\\ube44\\uc2a4)\\ub97c \\ud1b5\\ud574 \\\"\\ub0a0\\uc528\\uac00 \\ub354\\uc6cc\\uc11c \\uae30\\ub2e4\\ub9ac\\uae30 \\ud798\\ub4e0\\ub370 \\uc9c0\\ud558\\ucca0\\uc740 \\uc794\\ub729 \\ubc00\\ub824\\uc788\\ub2e4\\\", \\\"1\\ud638\\uc120\\uc740 \\uac00\\ub729\\uc774\\ub098 \\uc5ed\\ub3c4 \\uc57c\\uc678\\uc5d0 \\uc788\\uc5b4\\uc11c \\ub354\\uc6b4\\ub370 \\uae30\\ub2e4\\ub824\\uc57c \\ud55c\\ub2e4\\\" \\ub4f1 \\ubc18\\uc751\\uc744 \\ubcf4\\uc600\\ub2e4.\\n\\n\\uc774\\uc640 \\uad00\\ub828 \\ucf54\\ub808\\uc77c \\uad00\\uacc4\\uc790\\ub294 \\\"KTX(\\uace0\\uc18d\\ucca0\\ub3c4)\\uac00 \\ud3ed\\uc5fc \\uc601\\ud5a5\\uc73c\\ub85c \\uc9c0\\uc5f0\\ub41c \\uac83\\ucc98\\ub7fc, \\uadf8 \\uc601\\ud5a5\\uc774 1\\ud638\\uc120\\uc5d0\\ub3c4 \\ub611\\uac19\\uc774 \\uc801\\uc6a9\\ub418\\uae34 \\ud55c\\ub2e4\\\"\\uba70 \\\"3\\uc2dc \\uc5f4\\ucc28\\uac00 \\uc9c0\\uc5f0\\ub3fc \\ub4b7 \\uc5f4\\ucc28\\ub4e4\\ub3c4 \\ub2a6\\uc5b4\\uc9c0\\uace0 \\uc788\\ub294 \\uc0c1\\ud669\\\"\\uc774\\ub77c\\uace0 \\uc124\\uba85\\ud588\\ub2e4.\\n\\n\\uac15\\ud604\\uc218\\uae30\\uc790\\n\\n\\ucd9c\\ucc98 : \\uc911\\ubd80\\uc77c\\ubcf4 - \\uacbd\\uae30\\u00b7\\uc778\\ucc9c\\uc758 \\ub4e0\\ub4e0\\ud55c \\uce5c\\uad6c(https://www.joongboo.com)\\n\",\n          \"\\n\\uc548\\uc0b0\\uc5ed 70\\ub300\\u7537 \\uc4f0\\ub7ec\\uc9c4 \\ucc44 \\ubc1c\\uacac\\u21924\\ud638\\uc120 \\ud55c\\ub54c \\uc911\\ub2e8... \\uac04\\ud3b8\\uc9c0\\uc5f0\\uc99d\\uba85\\uc11c \\ubc1c\\uae09 \\ubc29\\ubc95\\u00b7\\uae30\\uc900\\uc740?\\n\\n\\uae30\\uc790\\uba85 \\uc8fc\\uc9c0\\uc601 \\uae30\\uc790   \\uc785\\ub825 2023.02.10 09:32\\n\\n[\\ud540\\ud3ec\\uc778\\ud2b8\\ub274\\uc2a4 \\uc8fc\\uc9c0\\uc601 \\uae30\\uc790] \\uc624\\ub298(10\\uc77c) \\uc548\\uc0b0\\uc5ed \\uc120\\ub85c\\uc5d0\\uc11c \\ubc1c\\uc0dd\\ud55c \\uc0ac\\uc0c1\\uc0ac\\uace0\\ub85c \\ucd9c\\uadfc \\uc2dc\\uac04\\ub300 4\\ud638\\uc120 \\uc5f4\\ucc28 \\uc6b4\\ud589\\uc5d0 \\ucc28\\uc9c8\\uc774 \\ubc1c\\uc0dd\\ud588\\ub2e4.\\n\\n\\uc774\\ub0a0 \\uc624\\uc804 6\\uc2dc 58\\ubd84\\ucbe4 \\uacbd\\uae30 \\uc548\\uc0b0\\uc2dc \\ub2e8\\uc6d0\\uad6c \\uc6d0\\uace1\\ub3d9 \\uc9c0\\ud558\\ucca0 4\\ud638\\uc120 \\uc548\\uc0b0\\uc5ed \\uc120\\ub85c\\uc5d0\\uc11c 70\\ub300 \\ub0a8\\uc131 A\\uc528\\uac00 \\uc4f0\\ub7ec\\uc9c4 \\ucc44 \\ubc1c\\uacac\\ub410\\ub2e4. \\n\\nA\\uc528\\ub294 4\\ud638\\uc120 \\uc11c\\uc6b8\\ubc29\\ud5a5 \\uc804\\ub3d9\\ucc28 \\ud558\\ubd80\\uc5d0\\uc11c \\uc2ec\\uc815\\uc9c0 \\uc0c1\\ud0dc\\ub85c \\ubc1c\\uacac\\ub410\\ub2e4. A\\uc528\\ub294 \\uc18c\\ubc29\\ub2f9\\uad6d\\uc5d0 \\uc758\\ud574 \\uc778\\uadfc \\ubcd1\\uc6d0\\uc73c\\ub85c \\uc62e\\uaca8\\uc84c\\ub2e4. \\n\\n\\uc774\\ub0a0 \\ud604\\uc7a5\\uac10\\uc2dd \\ub4f1 \\uc0ac\\uace0 \\uc218\\uc2b5\\uc744 \\uc704\\ud574 4\\ud638\\uc120 \\uc591\\ubc29\\ud5a5 \\uc5f4\\ucc28 \\uc6b4\\ud589\\uc774 \\uc7a0\\uc2dc \\uc911\\ub2e8\\ub410\\ub2e4. \\uc774\\ud6c4 \\uc774\\ub0a0 \\uc624\\uc804 8\\uc2dc 37\\ubd84\\uaed8 \\uc548\\uc0b0~\\uc624\\uc774\\ub3c4\\uc5ed \\uac04 \\uc0c1\\u00b7\\ud558\\uc120 \\uc804\\uad6c\\uac04 \\uc5f4\\ucc28\\uc6b4\\ud589\\uc774 \\uc7ac\\uac1c\\ub410\\ub2e4.\\n\\n\\uadf8\\ub7f0 \\uac00\\uc6b4\\ub370  \\uac11\\uc791\\uc2a4\\ub7ec\\uc6b4 \\uc9c0\\ud558\\ucca0 \\uc9c0\\uc5f0 \\uc6b4\\ud589\\uc73c\\ub85c \\ucd9c\\uadfc\\uae38 \\uc2dc\\ubbfc\\ub4e4\\uc774 \\ubd88\\ud3b8\\uc744 \\uacaa\\uc73c\\uba74\\uc11c \\uc9c0\\ud558\\ucca0 \\uc9c0\\uc5f0 \\uc99d\\uba85\\uc11c \\ubc1c\\uae09 \\ubc29\\ubc95\\uc5d0 \\uad00\\uc2ec\\uc774 \\ubaa8\\uc544\\uc9c4\\ub2e4. \\n\\n\\uc9c0\\ud558\\ucca0 \\uc9c0\\uc5f0 \\uc99d\\uba85\\uc11c\\ub294 \\uc9c0\\ud558\\ucca0 \\uc5f0\\ucc29\\uc73c\\ub85c \\ud68c\\uc0ac, \\ud559\\uad50\\uc5d0 \\ub2a6\\uc5c8\\uc744 \\uacbd\\uc6b0 \\uc9c0\\uac01 \\uc0ac\\uc720\\ub97c \\ub4b7\\ubc1b\\uce68 \\ud560 \\uc218 \\uc788\\ub294 \\uc99d\\uba85\\uc11c\\ub2e4. \\uc9c0\\uc5f0\\ub41c \\uc5f4\\ucc28 \\uae30\\uc900 \\ud0d1\\uc2b9 3\\uc77c \\uc774\\ub0b4\\uc5d0 \\ubc1c\\uae09 \\ubc1b\\uc744 \\uc218 \\uc788\\ub2e4.\\n\\n\\uc11c\\uc6b8\\uad50\\ud1b5\\uacf5\\uc0ac\\uc758 \\uc5ec\\uac1d\\uc6b4\\uc1a1\\uc57d\\uad00\\uc5d0 \\ub530\\ub974\\uba74 \\uc9c0\\ud558\\ucca0 \\uc9c0\\uc5f0 \\uae30\\uc900\\uc740 5\\ubd84\\uc73c\\ub85c 5\\ubd84 \\uc774\\uc0c1 \\uc9c0\\uc5f0\\uc774 \\ubc1c\\uc0dd\\ud588\\uc744 \\ub54c \\uc99d\\uba85\\uc11c \\ubc1c\\uae09\\uc774 \\uac00\\ub2a5\\ud558\\ub2e4. \\n\\nKTX, \\ubb34\\uad81\\ud654\\ud638 \\ub4f1\\uc740 \\uc9c0\\ud558\\ucca0\\uacfc \\uc9c0\\uc5f0 \\uae30\\uc900\\uc774 \\ub2e4\\ub974\\ub2e4. \\ud574\\ub2f9 \\uc5f4\\ucc28\\ub97c \\uc6b4\\uc601\\ud558\\ub294 \\uacf3\\uc740 \\ud55c\\uad6d\\ucca0\\ub3d9\\uace0\\uc0ac(\\ucf54\\ub808\\uc77c)\\ub85c \\uc774\\uacf3 \\uc57d\\uad00\\uc5d0\\uc11c\\ub294 20\\ubd84 \\uc774\\uc0c1 \\uc9c0\\uc5f0\\uc774 \\ubc1c\\uc0dd\\ud574\\uc57c '\\uc5f4\\ucc28 \\uc9c0\\uc5f0'\\uc73c\\ub85c \\ubd84\\ub958\\ud55c\\ub2e4. \\n\\n\\ub2e4\\ub9cc \\uc9c0\\uc5f0 \\uc0ac\\uc720\\uac00 \\ub0b4\\ubd80 \\uc6d0\\uc778\\uc774\\uc5b4\\uc57c \\ud558\\uba70 \\ucc9c\\uc7ac\\uc9c0\\ubcc0, \\ud14c\\ub7ec \\ub4f1\\uc740 \\uc9c0\\uc5f0 \\uae30\\uc900\\uc774 \\uc544\\ub2c8\\ub2e4.\\n\\n\\uc5f4\\ucc28 \\uc9c0\\uc5f0 \\uc2dc\\uac04\\uc740 \\uc11c\\uc6b8\\uad50\\ud1b5\\uacf5\\uc0ac, \\ucf54\\ub808\\uc77c \\ud648\\ud398\\uc774\\uc9c0\\uc758 \\uac04\\ud3b8\\uc9c0\\uc5f0\\uc99d\\uba85\\uc11c \\ubc1c\\uae09 \\uc11c\\ube44\\uc2a4\\uc5d0\\uc11c \\ud655\\uc778\\ud560 \\uc218 \\uc788\\ub2e4. \\n\",\n          \"\\n\\ucd9c\\uadfc\\uae38 \\uc11c\\uc6b8 \\uc9c0\\ud558\\ucca0 7\\ud638\\uc120 \\uc5f4\\ucc28 \\ucd9c\\uc785\\ubb38 \\uace0\\uc7a5\\u2026\\uccad\\ub2f4\\uc5ed\\u00b7\\uc0b0\\uace1\\uc5ed\\uc11c \\uc7a0\\uc2dc \\uc6b4\\ud589 \\uc911\\ub2e8 [\\uc81c\\ubcf4]\\n\\uc785\\ub825 2023.12.29 (10:53)\\n\\uc218\\uc815 2023.12.29 (11:20)\\n\\n\\uc624\\ub298(29\\uc77c) \\uc544\\uce68, \\uc11c\\uc6b8 \\uc9c0\\ud558\\ucca0 7\\ud638\\uc120 \\uc5f4\\ucc28\\uac00 \\ucd9c\\uc785\\ubb38 \\uace0\\uc7a5\\uc73c\\ub85c \\uc778\\ud574 \\uc7a0\\uc2dc \\uc6b4\\ud589\\uc774 \\uc911\\ub2e8\\ub410\\uc2b5\\ub2c8\\ub2e4.\\n\\n\\uc624\\ub298 \\uc624\\uc804 7\\uc2dc 50\\ubd84\\ucbe4 \\uc11c\\uc6b8 \\uc9c0\\ud558\\ucca0 7\\ud638\\uc120 \\uccad\\ub2f4\\uc5ed \\uc2b9\\uac15\\uc7a5\\uc5d0\\uc11c \\uc628\\uc218\\ud589 \\uc5f4\\ucc28\\uc758 \\ucd9c\\uc785\\ubb38\\uc774 \\ub2eb\\ud788\\uc9c0 \\uc54a\\uc544 \\uc6b4\\ud589\\uc774 \\uc7a0\\uc2dc \\uc911\\ub2e8\\ub410\\uc2b5\\ub2c8\\ub2e4.\\n\\n\\ub610 \\uc624\\uc804 7\\uc2dc 57\\ubd84\\ucbe4 7\\ud638\\uc120 \\uc0b0\\uace1\\uc5ed\\uc758 \\ub3c4\\ubd09\\uc0b0\\ud589 \\uc5f4\\ucc28\\uc5d0\\uc11c\\ub3c4 \\uac19\\uc740 \\ubb38\\uc81c\\uac00 \\ubc1c\\uc0dd\\ud588\\uc2b5\\ub2c8\\ub2e4.\\n\\n\\uc5f4\\ucc28\\uc5d0 \\ud0c0\\uace0 \\uc788\\ub358 \\uc2b9\\uac1d\\ub4e4\\uc740 \\uace0\\uc7a5 \\ub09c \\uc5f4\\ucc28\\uc5d0\\uc11c \\ub0b4\\ub9b0 \\ub4a4 2~3\\ubd84 \\ub4a4\\uc5d0 \\ub3c4\\ucc29\\ud55c \\ub2e4\\uc74c \\uc5f4\\ucc28\\uc5d0 \\ud0d1\\uc2b9\\ud574 \\uc774\\ub3d9\\ud588\\uc2b5\\ub2c8\\ub2e4.\\n\\n\\uc774 \\uc0ac\\uace0\\ub85c \\ub2e4\\uce5c \\uc2b9\\uac1d\\uc740 \\uc5c6\\uc5c8\\uc9c0\\ub9cc, \\ucd9c\\uadfc \\uc2dc\\uac04\\ub300\\uc5d0 \\uc5f4\\ucc28 \\uc6b4\\ud589\\uc5d0 \\ucc28\\uc9c8\\uc774 \\ube5a\\uc5b4\\uc9c0\\uba74\\uc11c \\ucd9c\\uadfc\\uae38 \\uc2dc\\ubbfc\\ub4e4\\uc774 \\ud070 \\ubd88\\ud3b8\\uc744 \\uacaa\\uc5c8\\uc2b5\\ub2c8\\ub2e4.\\n\\n\\uc11c\\uc6b8\\uad50\\ud1b5\\uacf5\\uc0ac\\ub294 \\\"7\\ud638\\uc120 \\uc5f4\\ucc28\\ub294 \\ud604\\uc7ac\\ub294 \\ubaa8\\ub450 \\uc815\\uc0c1 \\uc6b4\\ud589\\ub418\\uace0 \\uc788\\uc73c\\uba70 \\uc815\\ud655\\ud55c \\uace0\\uc7a5 \\uc6d0\\uc778\\uc744 \\uc870\\uc0ac\\ud560 \\uacc4\\ud68d\\\"\\uc774\\ub77c\\uace0 \\ubc1d\\ud614\\uc2b5\\ub2c8\\ub2e4.\\n\"\n        ],\n        \"semantic_type\": \"\",\n        \"description\": \"\"\n      }\n    },\n    {\n      \"column\": \"output\",\n      \"properties\": {\n        \"dtype\": \"string\",\n        \"num_unique_values\": 5,\n        \"samples\": [\n          \"**\\uc5ec\\ub984 \\ud3ed\\uc5fc\\uc5d0 \\uc9c0\\uce5c \\ub2f9\\uc2e0, \\uc9c0\\ud558\\ucca0 1\\ud638\\uc120\\ub3c4 \\uc9c0\\ucce4\\ub2e4?! \\uc2dc\\ubbfc\\ub4e4\\uc758 \\ubb34\\ub354\\uc704 \\uc18d \\ub300\\uae30 \\uc2dc\\uac04 \\uc99d\\uac00\\ub85c \\ubd88\\ub9cc \\ud3ed\\ubc1c**\\n\\n\\uc548\\ub155\\ud558\\uc138\\uc694, \\uc5ec\\ub7ec\\ubd84\\uc758 \\ucd9c\\ud1f4\\uadfc \\uba54\\uc2e0\\uc800 \\uc9c0\\ud558\\ucca0 \\uc628\\ub2e4\\uc758 '\\uc624.\\uc9c0.\\ud1b5 [\\uc624\\ub298\\uc758 \\uc9c0\\ud558\\ucca0 \\uc18c\\uc2dd\\ud1b5]' \\uc778\\uc0ac \\ub4dc\\ub9bd\\ub2c8\\ub2e4!\\n\\n**\\uc9c0\\uc5f0/\\uc0ac\\uace0 \\uc77c\\uc2dc:** 2023\\ub144 8\\uc6d4 1\\uc77c \\uc624\\ud6c4 3\\uc2dc\\uacbd\\n\\n**\\uc9c0\\uc5f0/\\uc0ac\\uace0 \\ub178\\uc120:** \\uc9c0\\ud558\\ucca0 1\\ud638\\uc120\\n\\n**\\uc9c0\\uc5f0/\\uc0ac\\uace0 \\uc774\\uc720:** \\uc804\\uad6d \\ub300\\ubd80\\ubd84 \\uc9c0\\uc5ed\\uc5d0 \\ubc1c\\uc0dd\\ud55c \\ud3ed\\uc5fc\\uc73c\\ub85c \\uc778\\ud574 KTX\\uc640 \\uc5f0\\uacc4\\ub418\\ub294 \\uc9c0\\ud558\\ucca0 \\uc6b4\\ud589\\uc5d0 \\uc601\\ud5a5\\uc744 \\ubbf8\\uccd0, 1\\ud638\\uc120\\uc758 \\uc6b4\\ud589\\uc774 \\uc9c0\\uc5f0\\ub418\\uace0 \\uc788\\uc2b5\\ub2c8\\ub2e4. \\uc774\\ub85c \\uc778\\ud574 \\ud6c4\\uc18d \\uc5f4\\ucc28\\ub4e4\\ub3c4 \\uc9c0\\uc5f0\\ub418\\ub294 \\uc5f0\\uc1c4 \\ubc18\\uc751\\uc774 \\ubc1c\\uc0dd\\ud588\\uc2b5\\ub2c8\\ub2e4.\\n\\n**\\ubb38\\uc758 \\uc0ac\\ud56d \\ub9c1\\ud06c:** [\\ucf54\\ub808\\uc77c \\uace0\\uac1d\\uc13c\\ud130](https://www.korail.com)\\n\\n\\ub300\\ub2e4\\uc218\\uc758 \\uc2dc\\ubbfc\\ub4e4\\uc774 SNS\\uc640 \\ub2e4\\uc591\\ud55c \\ud50c\\ub7ab\\ud3fc\\uc744 \\ud1b5\\ud574 \\ubd88\\ub9cc\\uc744 \\ud45c\\ucd9c\\ud558\\uace0 \\uc788\\uc2b5\\ub2c8\\ub2e4. \\\"\\ub354\\uc6b4 \\ub0a0\\uc528\\uc5d0 \\ubc00\\ub824 \\uc788\\ub294 \\uc9c0\\ud558\\ucca0\\uc744 \\uae30\\ub2e4\\ub9ac\\ub294 \\uac83\\uc740 \\uace0\\ubb38 \\uac19\\ub2e4\\\"\\uace0 \\ud1a0\\ub85c\\ud558\\ub294 \\uc774\\uc6a9\\uac1d\\ub4e4\\uc758 \\ubaa9\\uc18c\\ub9ac\\uac00 \\ub192\\uc544\\uc9c0\\uace0 \\uc788\\uc2b5\\ub2c8\\ub2e4. \\ud2b9\\ud788 1\\ud638\\uc120\\uc758 \\uc77c\\ubd80 \\uc5ed\\ub4e4\\uc774 \\uc57c\\uc678\\uc5d0 \\uc704\\uce58\\ud574 \\uc788\\uc5b4 \\uadf8 \\ubd88\\ud3b8\\ud568\\uc740 \\ubc30\\uac00\\ub418\\uace0 \\uc788\\uc2b5\\ub2c8\\ub2e4.\\n\\n\\ucf54\\ub808\\uc77c \\uad00\\uacc4\\uc790\\ub294 \\\"\\ud3ed\\uc5fc\\uc73c\\ub85c \\uc778\\ud55c \\uae30\\uc220\\uc801 \\ubb38\\uc81c\\uc640 \\uc548\\uc804\\uc744 \\uc704\\ud55c \\uc870\\uce58\\ub85c \\uc778\\ud574 \\ubd88\\uac00\\ud53c\\ud558\\uac8c \\uc9c0\\uc5f0\\uc774 \\ubc1c\\uc0dd\\ud588\\ub2e4\\\"\\uba70 \\\"\\uc774\\uc6a9\\uac1d\\ub4e4\\uc758 \\uc548\\uc804\\uc744 \\uc704\\ud574 \\ucd5c\\uc120\\uc744 \\ub2e4\\ud558\\uace0 \\uc788\\uc73c\\ub2c8 \\uc591\\ud574 \\ubd80\\ud0c1\\ub4dc\\ub9b0\\ub2e4\\\"\\uace0 \\uc804\\ud588\\uc2b5\\ub2c8\\ub2e4. \\ub610\\ud55c, \\uc2e4\\uc2dc\\uac04 \\uc5c5\\ub370\\uc774\\ud2b8\\uc640 \\ub2e4\\uac00\\uc624\\ub294 \\uc6b4\\ud589 \\uc815\\ubcf4\\uc5d0 \\ub300\\ud574 \\uacc4\\uc18d\\ud574\\uc11c \\uacf5\\uc9c0\\ud560 \\uc608\\uc815\\uc774\\ub77c\\uace0 \\ub367\\ubd99\\uc600\\uc2b5\\ub2c8\\ub2e4.\\n\\n\\uc9c0\\ud558\\ucca0 \\uc774\\uc6a9 \\uc2dc \\ubd88\\ud3b8\\ud568\\uc744 \\ucd5c\\uc18c\\ud654\\ud558\\uae30 \\uc704\\ud574 \\ucd9c\\ubc1c \\uc804 \\uc2e4\\uc2dc\\uac04 \\uc6b4\\ud589 \\uc815\\ubcf4\\ub97c \\ud655\\uc778\\ud558\\uace0, \\uac00\\ub2a5\\ud558\\ub2e4\\uba74 \\ub300\\uccb4 \\uad50\\ud1b5\\uc218\\ub2e8\\uc744 \\uc774\\uc6a9\\ud558\\ub294 \\uac83\\ub3c4 \\uc88b\\uc740 \\ubc29\\ubc95\\uc77c \\uc218 \\uc788\\uc2b5\\ub2c8\\ub2e4.\\n\\n\\uc624\\uc9c0\\ud1b5\\uc774 \\uc2e4\\uc2dc\\uac04\\uc73c\\ub85c \\ub2e4\\uc591\\ud55c \\uc9c0\\ud558\\ucca0 \\uc815\\ubcf4\\ub97c \\uc5c5\\ub370\\uc774\\ud2b8 \\ud560 \\uc608\\uc815\\uc774\\ub2c8, \\uc790\\uc8fc \\ubc29\\ubb38\\ud574 \\uc8fc\\uc138\\uc694. '\\uc9c0\\ud558\\ucca0 \\uc628\\ub2e4'\\ub294 \\ub2e8 \\ud55c \\ubc88\\uc758 \\ud130\\uce58\\ub85c \\uc790\\uc2e0\\uc758 \\uc704\\uce58\\uc5d0\\uc11c \\uac00\\uc7a5 \\uac00\\uae4c\\uc6b4 \\uc9c0\\ud558\\ucca0 \\uc5ed\\uc758 \\uc2e4\\uc2dc\\uac04 \\uc815\\ubcf4\\ub97c \\uc81c\\uacf5\\ud569\\ub2c8\\ub2e4.\\n\\n\\ud83d\\udd3d \\uc9c0\\ud558\\ucca0 \\uc628\\ub2e4 \\uc18c\\uac1c \\ubcf4\\ub7ec\\uac00\\uae30\\n[\\uc9c0\\ud558\\ucca0 \\uc628\\ub2e4 \\ube14\\ub85c\\uadf8 \\ubc14\\ub85c\\uac00\\uae30](https://blog.naver.com/subway__onda/223258646349)\\n\\n\\uc5ec\\ub984\\uc5d0\\ub294 \\uc9c0\\ud558\\ucca0\\ub3c4 \\ud798\\ub4e4\\uc5b4\\uc694, \\uc6b0\\ub9ac \\ubaa8\\ub450 \\uc870\\uae08\\ub9cc \\ub354 \\uc778\\ub0b4\\uc2ec\\uc744 \\uac00\\uc9c0\\uace0 \\uc5ec\\uc720\\ub97c \\uac16\\uc790\\uad6c\\uc694! \\uc0c1\\ud669\\uc774 \\ub098\\uc544\\uc9c8 \\ub54c\\uae4c\\uc9c0 \\ud568\\uaed8 \\ud798\\ub0b4\\ubd10\\uc694! \\ud83d\\ude0a\",\n          \"### \\uc81c\\ubaa9: \\\"\\ucd9c\\uadfc\\uae38 \\ub300\\ud63c\\ub780! \\uc548\\uc0b0\\uc5ed \\uc0ac\\uc0c1\\uc0ac\\uace0\\ub85c \\uc778\\ud55c 4\\ud638\\uc120 \\uc6b4\\ud589 \\uc911\\ub2e8, \\uc9c0\\uc5f0 \\uc99d\\uba85\\uc11c\\ub294 \\uc5b4\\ub5bb\\uac8c \\ubc1c\\uae09\\ubc1b\\ub098\\uc694?\\\"\\n\\n\\uc548\\ub155\\ud558\\uc138\\uc694, \\uc5ec\\ub7ec\\ubd84\\uc758 \\ucd9c\\ud1f4\\uadfc \\uba54\\uc2e0\\uc800 \\uc9c0\\ud558\\ucca0 \\uc628\\ub2e4\\uc758 '\\uc624.\\uc9c0.\\ud1b5 [\\uc624\\ub298\\uc758 \\uc9c0\\ud558\\ucca0 \\uc18c\\uc2dd\\ud1b5]' \\uc778\\uc0ac \\ub4dc\\ub9bd\\ub2c8\\ub2e4!\\n\\n#### \\uc0ac\\uace0 \\ubc1c\\uc0dd \\uc77c\\uc2dc: 2023\\ub144 2\\uc6d4 10\\uc77c \\uc624\\uc804 6\\uc2dc 58\\ubd84\\n#### \\uc0ac\\uace0 \\ub178\\uc120: \\uc9c0\\ud558\\ucca0 4\\ud638\\uc120 \\uc548\\uc0b0~\\uc624\\uc774\\ub3c4\\uc5ed \\uac04\\n#### \\uc0ac\\uace0 \\uc6d0\\uc778: \\uc120\\ub85c\\uc5d0\\uc11c 70\\ub300 \\ub0a8\\uc131 \\uc2ec\\uc815\\uc9c0 \\uc0c1\\ud0dc \\ubc1c\\uacac\\n#### \\ubb38\\uc758 \\uc0ac\\ud56d \\ub9c1\\ud06c: [\\uc11c\\uc6b8\\uad50\\ud1b5\\uacf5\\uc0ac \\uac04\\ud3b8 \\uc9c0\\uc5f0\\uc99d\\uba85\\uc11c \\ubc1c\\uae09](https://www.seoulmetro.co.kr/kr/delayCertificate.do)\\n\\n\\uc624\\ub298 \\uc544\\uce68, \\uacbd\\uae30 \\uc548\\uc0b0\\uc2dc \\ub2e8\\uc6d0\\uad6c \\uc6d0\\uace1\\ub3d9 \\uc9c0\\ud558\\ucca0 4\\ud638\\uc120 \\uc548\\uc0b0\\uc5ed\\uc5d0\\uc11c \\uc548\\ud0c0\\uae4c\\uc6b4 \\uc0ac\\uc0c1\\uc0ac\\uace0\\uac00 \\ubc1c\\uc0dd\\ud588\\uc2b5\\ub2c8\\ub2e4. 70\\ub300 \\ub0a8\\uc131 A\\uc528\\uac00 \\uc2ec\\uc815\\uc9c0 \\uc0c1\\ud0dc\\ub85c \\ubc1c\\uacac\\ub418\\uc5b4 \\uc18c\\ubc29\\ub2f9\\uad6d\\uc5d0 \\uc758\\ud574 \\uae34\\uae09\\ud788 \\ubcd1\\uc6d0\\uc73c\\ub85c \\uc774\\uc1a1\\ub418\\uc5c8\\uc2b5\\ub2c8\\ub2e4. \\uc774 \\uc0ac\\uace0\\ub85c \\uc778\\ud574 4\\ud638\\uc120\\uc740 \\uc591\\ubc29\\ud5a5 \\uc5f4\\ucc28 \\uc6b4\\ud589\\uc774 \\uc7a0\\uc2dc \\uc911\\ub2e8\\ub418\\uc5c8\\uc73c\\uba70, \\uc774\\ub85c \\uc778\\ud574 \\uc218\\ub9ce\\uc740 \\ucd9c\\uadfc\\uae38 \\uc2dc\\ubbfc\\ub4e4\\uc774 \\ud070 \\ubd88\\ud3b8\\uc744 \\uacaa\\uc5c8\\uc2b5\\ub2c8\\ub2e4.\\n\\n\\uc0ac\\uace0 \\uc9c1\\ud6c4, 4\\ud638\\uc120\\uc740 \\uc57d 1\\uc2dc\\uac04 40\\ubd84 \\ub3d9\\uc548 \\uc6b4\\ud589 \\uc911\\ub2e8 \\uc0c1\\ud0dc\\uc600\\uc73c\\uba70, \\uc624\\uc804 8\\uc2dc 37\\ubd84\\uacbd \\uc6b4\\ud589\\uc774 \\uc7ac\\uac1c\\ub418\\uc5c8\\uc2b5\\ub2c8\\ub2e4. \\uadf8\\ub7ec\\ub098 \\ub9ce\\uc740 \\uc2dc\\ubbfc\\ub4e4\\uc774 \\uc774\\ubbf8 \\ucd9c\\uadfc\\uae38 \\uc9c0\\uc5f0\\uc758 \\ud53c\\ud574\\ub97c \\uc785\\uc5c8\\uc8e0. \\uc774\\ub7f0 \\uc0c1\\ud669\\uc5d0\\uc11c \\uc9c0\\ud558\\ucca0 \\uc9c0\\uc5f0 \\uc99d\\uba85\\uc11c \\ubc1c\\uae09\\uc774 \\ud070 \\ub3c4\\uc6c0\\uc774 \\ub429\\ub2c8\\ub2e4.\\n\\n\\uc9c0\\ud558\\ucca0 \\uc9c0\\uc5f0 \\uc99d\\uba85\\uc11c\\ub294 \\uc11c\\uc6b8\\uad50\\ud1b5\\uacf5\\uc0ac \\ud648\\ud398\\uc774\\uc9c0\\uc5d0\\uc11c \\uac04\\ud3b8\\ud558\\uac8c \\ubc1c\\uae09\\ubc1b\\uc744 \\uc218 \\uc788\\uc2b5\\ub2c8\\ub2e4. \\uc9c0\\ud558\\ucca0\\uc774 5\\ubd84 \\uc774\\uc0c1 \\uc9c0\\uc5f0\\ub420 \\uacbd\\uc6b0 \\ubc1c\\uae09 \\uac00\\ub2a5\\ud558\\uba70, \\uc5f4\\ucc28 \\uc9c0\\uc5f0 \\uc2dc\\uac04\\uacfc \\uc0ac\\uc720\\ub97c \\uba85\\uc2dc\\ud558\\uc5ec \\ud68c\\uc0ac\\ub098 \\ud559\\uad50\\uc5d0 \\uc81c\\ucd9c\\ud560 \\uc218 \\uc788\\uc2b5\\ub2c8\\ub2e4. \\uc774\\ub294 \\uc9c0\\uc5f0\\ub41c \\uc5f4\\ucc28 \\uae30\\uc900\\uc73c\\ub85c \\ud0d1\\uc2b9 3\\uc77c \\uc774\\ub0b4\\uc5d0 \\uc2e0\\uccad\\ud574\\uc57c \\ud558\\uba70, \\uc9c0\\uc5f0 \\uc0ac\\uc720\\uac00 \\ub0b4\\ubd80 \\uc6d0\\uc778\\uc77c \\ub54c\\ub9cc \\uc778\\uc815\\ub429\\ub2c8\\ub2e4.\\n\\n\\uc624\\ub298 \\uac19\\uc740 \\uc0ac\\uace0 \\uc0c1\\ud669\\uc5d0\\uc11c\\ub294 \\ucca0\\ub3c4\\uc6b4\\uc601\\uae30\\uad00\\uc758 \\ub0b4\\ubd80 \\uc0ac\\uc720\\ub85c \\ud310\\ub2e8\\ub418\\uc5b4 \\uc9c0\\uc5f0\\uc99d\\uba85\\uc11c \\ubc1c\\uae09\\uc774 \\uac00\\ub2a5\\ud569\\ub2c8\\ub2e4. \\ud558\\uc9c0\\ub9cc \\ucc9c\\uc7ac\\uc9c0\\ubcc0\\uc774\\ub098 \\uc678\\ubd80 \\ud14c\\ub7ec \\ub4f1\\uc740 \\uc9c0\\uc5f0 \\uc0ac\\uc720\\uc5d0\\uc11c \\uc81c\\uc678\\ub429\\ub2c8\\ub2e4.\\n\\n\\uc624\\uc9c0\\ud1b5\\uc774 \\uc2e4\\uc2dc\\uac04\\uc73c\\ub85c \\ub2e4\\uc591\\ud55c \\uc9c0\\ud558\\ucca0 \\uc815\\ubcf4\\ub97c \\uc5c5\\ub370\\uc774\\ud2b8 \\ud560 \\uc608\\uc815\\uc774\\ub2c8, \\uc790\\uc8fc \\ubc29\\ubb38\\ud574 \\uc8fc\\uc138\\uc694. '\\uc9c0\\ud558\\ucca0 \\uc628\\ub2e4'\\ub294 \\ub2e8 \\ud55c \\ubc88\\uc758 \\ud130\\uce58\\ub85c \\uc790\\uc2e0\\uc758 \\uc704\\uce58\\uc5d0\\uc11c \\uac00\\uc7a5 \\uac00\\uae4c\\uc6b4 \\uc9c0\\ud558\\ucca0 \\uc5ed\\uc758 \\uc2e4\\uc2dc\\uac04 \\uc815\\ubcf4\\ub97c \\uc81c\\uacf5\\ud569\\ub2c8\\ub2e4.\\n\\n\\ud83d\\udd3d \\uc9c0\\ud558\\ucca0 \\uc628\\ub2e4 \\uc18c\\uac1c \\ubcf4\\ub7ec\\uac00\\uae30\\n[\\uc9c0\\ud558\\ucca0 \\uc628\\ub2e4 \\ube14\\ub85c\\uadf8](https://blog.naver.com/subway__onda/223258646349)\\n\\n\\uc9c0\\ud558\\ucca0 \\ud30c\\uc5c5\\uc73c\\ub85c \\uc544\\uce68\\ub9c8\\ub2e4 \\ucd9c\\uadfc\\ud558\\uae30 \\ud798\\ub4dc\\ub124\\uc694, \\ud558\\uc9c0\\ub9cc '\\uc9c0\\ud558\\ucca0 \\uc628\\ub2e4'\\ub85c \\uc870\\uae08\\uc774\\ub098\\ub9c8 \\ub354 \\uc218\\uc6d4\\ud558\\uac8c \\ub300\\ucc98\\ud574 \\ubcf4\\uc138\\uc694!\",\n          \"**\\uc11c\\uc6b8 7\\ud638\\uc120 \\uc544\\uce68 \\ucd9c\\uadfc\\uae38 \\ub300\\ub780! \\uc5f4\\ucc28 \\ubb38 \\uace0\\uc7a5\\uc73c\\ub85c \\uc6b4\\ud589 \\uc911\\ub2e8 \\uc0ac\\ud0dc \\ubc1c\\uc0dd**\\n\\n\\uc548\\ub155\\ud558\\uc138\\uc694, \\uc5ec\\ub7ec\\ubd84\\uc758 \\ucd9c\\ud1f4\\uadfc \\uba54\\uc2e0\\uc800 \\uc9c0\\ud558\\ucca0 \\uc628\\ub2e4\\uc758 '\\uc624.\\uc9c0.\\ud1b5 [\\uc624\\ub298\\uc758 \\uc9c0\\ud558\\ucca0 \\uc18c\\uc2dd\\ud1b5]' \\uc778\\uc0ac \\ub4dc\\ub9bd\\ub2c8\\ub2e4!\\n\\n**\\uc9c0\\uc5f0/\\uc0ac\\uace0 \\uc77c\\uc2dc:** 2023\\ub144 12\\uc6d4 29\\uc77c \\uc624\\uc804 7\\uc2dc 50\\ubd84  \\n**\\uc9c0\\uc5f0/\\uc0ac\\uace0 \\ub178\\uc120:** \\uc11c\\uc6b8 \\uc9c0\\ud558\\ucca0 7\\ud638\\uc120  \\n**\\uc9c0\\uc5f0/\\uc0ac\\uace0 \\uc774\\uc720:** \\ucd9c\\uc785\\ubb38 \\uace0\\uc7a5  \\n**\\ubb38\\uc758 \\uc0ac\\ud56d \\ub9c1\\ud06c:** [\\uc11c\\uc6b8\\uad50\\ud1b5\\uacf5\\uc0ac \\uace0\\uac1d\\uc13c\\ud130](https://www.seoulmetro.co.kr/kr/contact.do)\\n\\n\\uc624\\ub298 \\uc544\\uce68 \\uc11c\\uc6b8\\uc758 \\ucd9c\\uadfc\\uae38\\uc774 \\uc608\\uc0c1\\uce58 \\ubabb\\ud55c \\uc0ac\\uac74\\uc73c\\ub85c \\uc778\\ud574 \\ud63c\\ub780\\uc744 \\uacaa\\uc5c8\\uc2b5\\ub2c8\\ub2e4. 7\\ud638\\uc120 \\uccad\\ub2f4\\uc5ed\\uacfc \\uc0b0\\uace1\\uc5ed\\uc5d0\\uc11c \\uac01\\uac01 \\uc5f4\\ucc28\\uc758 \\ucd9c\\uc785\\ubb38\\uc774 \\uc81c\\ub300\\ub85c \\ub2eb\\ud788\\uc9c0 \\uc54a\\ub294 \\ubb38\\uc81c\\uac00 \\ubc1c\\uc0dd\\ud558\\uc5ec, \\uc218\\ub9ce\\uc740 \\uc2dc\\ubbfc\\ub4e4\\uc774 \\ucd9c\\uadfc\\uae38\\uc5d0 \\ud070 \\ubd88\\ud3b8\\uc744 \\uacaa\\uc5c8\\uc2b5\\ub2c8\\ub2e4. \\uccab \\ubc88\\uc9f8 \\uc0ac\\uace0\\ub294 \\uccad\\ub2f4\\uc5ed\\uc5d0\\uc11c \\uc628\\uc218\\ud589 \\uc5f4\\ucc28\\uc5d0\\uc11c \\ubc1c\\uc0dd\\ud588\\uace0, \\uc774\\uc5b4\\uc11c \\uc0b0\\uace1\\uc5ed\\uc758 \\ub3c4\\ubd09\\uc0b0\\ud589 \\uc5f4\\ucc28\\uc5d0\\uc11c\\ub3c4 \\ub3d9\\uc77c\\ud55c \\ubb38\\uc81c\\uac00 \\ubc1c\\uc0dd\\ud588\\uc2b5\\ub2c8\\ub2e4. \\uc774\\ub85c \\uc778\\ud574 \\ud574\\ub2f9 \\uc5ed\\uc5d0\\uc11c \\uc5f4\\ucc28 \\uc6b4\\ud589\\uc774 \\uc7a0\\uc2dc \\uc911\\ub2e8\\ub418\\uc5c8\\uace0, \\uc2b9\\uac1d\\ub4e4\\uc740 \\ub2e4\\uc74c \\uc5f4\\ucc28\\ub97c \\uae30\\ub2e4\\ub9ac\\uba70 \\ubd88\\ud3b8\\uc744 \\uac10\\uc218\\ud574\\uc57c \\ud588\\uc2b5\\ub2c8\\ub2e4.\\n\\n\\ub2e4\\ud589\\ud788\\ub3c4 \\uc778\\uba85 \\ud53c\\ud574\\ub294 \\ubc1c\\uc0dd\\ud558\\uc9c0 \\uc54a\\uc558\\uc73c\\ub098, \\ucd9c\\uadfc \\uc2dc\\uac04\\ub300\\uc758 \\uc5f4\\ucc28 \\uc9c0\\uc5f0\\uc73c\\ub85c \\uc778\\ud574 \\ub9ce\\uc740 \\uc9c1\\uc7a5\\uc778\\uacfc \\ud559\\uc0dd\\ub4e4\\uc774 \\uc608\\uc815\\ub41c \\uc2dc\\uac04\\ubcf4\\ub2e4 \\ub2a6\\uac8c \\ub3c4\\ucc29\\ud558\\ub294 \\ub4f1\\uc758 \\ubb38\\uc81c\\uac00 \\ubc1c\\uc0dd\\ud588\\uc2b5\\ub2c8\\ub2e4. \\uc11c\\uc6b8\\uad50\\ud1b5\\uacf5\\uc0ac\\ub294 \\ud604\\uc7ac \\ubaa8\\ub4e0 \\uc5f4\\ucc28\\uac00 \\uc815\\uc0c1\\uc801\\uc73c\\ub85c \\uc6b4\\ud589\\ub418\\uace0 \\uc788\\uc73c\\uba70, \\uace0\\uc7a5 \\uc6d0\\uc778\\uc744 \\uc870\\uc0ac \\uc911\\uc5d0 \\uc788\\ub2e4\\uace0 \\ubc1d\\ud614\\uc2b5\\ub2c8\\ub2e4.\\n\\n**\\uac04\\ub2e8\\ud55c \\uc694\\uc57d\\uae00:**\\n29\\uc77c \\uc544\\uce68, \\uc11c\\uc6b8 \\uc9c0\\ud558\\ucca0 7\\ud638\\uc120\\uc758 \\ub450 \\uc5ed\\uc5d0\\uc11c \\uc5f4\\ucc28 \\ucd9c\\uc785\\ubb38 \\uace0\\uc7a5\\uc73c\\ub85c \\uc778\\ud574 \\uc6b4\\ud589\\uc774 \\uc911\\ub2e8\\ub418\\uc5c8\\uc2b5\\ub2c8\\ub2e4. \\uc774\\ub85c \\uc778\\ud574 \\uc218\\ub9ce\\uc740 \\ucd9c\\uadfc\\uae38 \\uc2dc\\ubbfc\\ub4e4\\uc774 \\ubd88\\ud3b8\\uc744 \\uacaa\\uc5c8\\uc73c\\uba70, \\uc11c\\uc6b8\\uad50\\ud1b5\\uacf5\\uc0ac\\ub294 \\ubb38\\uc81c\\ub97c \\ud574\\uacb0\\ud558\\uace0 \\uc815\\uc0c1 \\uc6b4\\ud589\\uc744 \\uc7ac\\uac1c\\ud588\\uc2b5\\ub2c8\\ub2e4.\\n\\n**\\ub9c8\\ubb34\\ub9ac \\ub9d0:**\\n\\uc9c0\\ud558\\ucca0 \\ud30c\\uc5c5\\uc774\\ub098 \\uae30\\ud0c0 \\ubb38\\uc81c\\ub85c \\uc544\\uce68\\ub9c8\\ub2e4 \\ucd9c\\uadfc\\ud558\\uae30 \\ud798\\ub4dc\\uc2dc\\uc8e0? \\uac71\\uc815 \\ub9c8\\uc138\\uc694! \\uc624\\uc9c0\\ud1b5\\uc774 \\uc2e4\\uc2dc\\uac04\\uc73c\\ub85c \\ub2e4\\uc591\\ud55c \\uc9c0\\ud558\\ucca0 \\uc815\\ubcf4\\ub97c \\uc5c5\\ub370\\uc774\\ud2b8 \\ud560 \\uc608\\uc815\\uc774\\ub2c8, \\uc790\\uc8fc \\ubc29\\ubb38\\ud574 \\uc8fc\\uc138\\uc694. '\\uc9c0\\ud558\\ucca0 \\uc628\\ub2e4'\\ub294 \\ub2e8 \\ud55c \\ubc88\\uc758 \\ud130\\uce58\\ub85c \\uc790\\uc2e0\\uc758 \\uc704\\uce58\\uc5d0\\uc11c \\uac00\\uc7a5 \\uac00\\uae4c\\uc6b4 \\uc9c0\\ud558\\ucca0 \\uc5ed\\uc758 \\uc2e4\\uc2dc\\uac04 \\uc815\\ubcf4\\ub97c \\uc81c\\uacf5\\ud569\\ub2c8\\ub2e4. \\uc624\\ub298\\ub3c4 \\ud798\\ucc28\\uac8c \\ud558\\ub8e8\\ub97c \\uc2dc\\uc791\\ud558\\uc2dc\\uae38 \\ubc14\\ub78d\\ub2c8\\ub2e4!\\n\\n\\ud83d\\udd3d \\uc9c0\\ud558\\ucca0 \\uc628\\ub2e4 \\uc18c\\uac1c \\ubcf4\\ub7ec\\uac00\\uae30  \\n[\\uc9c0\\ud558\\ucca0 \\uc628\\ub2e4 \\ube14\\ub85c\\uadf8](https://blog.naver.com/subway__onda/223258646349)\"\n        ],\n        \"semantic_type\": \"\",\n        \"description\": \"\"\n      }\n    },\n    {\n      \"column\": \"Consistency\",\n      \"properties\": {\n        \"dtype\": \"number\",\n        \"std\": 0,\n        \"min\": 5,\n        \"max\": 5,\n        \"num_unique_values\": 1,\n        \"samples\": [\n          5\n        ],\n        \"semantic_type\": \"\",\n        \"description\": \"\"\n      }\n    },\n    {\n      \"column\": \"Coherence\",\n      \"properties\": {\n        \"dtype\": \"string\",\n        \"num_unique_values\": 5,\n        \"samples\": [\n          \"4\"\n        ],\n        \"semantic_type\": \"\",\n        \"description\": \"\"\n      }\n    },\n    {\n      \"column\": \"Friendliness\",\n      \"properties\": {\n        \"dtype\": \"number\",\n        \"std\": 0,\n        \"min\": 3,\n        \"max\": 4,\n        \"num_unique_values\": 2,\n        \"samples\": [\n          4\n        ],\n        \"semantic_type\": \"\",\n        \"description\": \"\"\n      }\n    },\n    {\n      \"column\": \"Fluency\",\n      \"properties\": {\n        \"dtype\": \"number\",\n        \"std\": 0,\n        \"min\": 5,\n        \"max\": 5,\n        \"num_unique_values\": 1,\n        \"samples\": [\n          5\n        ],\n        \"semantic_type\": \"\",\n        \"description\": \"\"\n      }\n    },\n    {\n      \"column\": \"Humanlikeness\",\n      \"properties\": {\n        \"dtype\": \"number\",\n        \"std\": 0,\n        \"min\": 4,\n        \"max\": 4,\n        \"num_unique_values\": 1,\n        \"samples\": [\n          4\n        ],\n        \"semantic_type\": \"\",\n        \"description\": \"\"\n      }\n    },\n    {\n      \"column\": \"Readability\",\n      \"properties\": {\n        \"dtype\": \"string\",\n        \"num_unique_values\": 5,\n        \"samples\": [\n          \"**Evaluation Template (Score Only):**\\n\\n4\"\n        ],\n        \"semantic_type\": \"\",\n        \"description\": \"\"\n      }\n    }\n  ]\n}"
            }
          },
          "metadata": {},
          "execution_count": 53
        }
      ]
    },
    {
      "cell_type": "code",
      "source": [
        "quan_eval_3(strike_data.head(1)['text'],strike_data.head(1)['output'])"
      ],
      "metadata": {
        "colab": {
          "base_uri": "https://localhost:8080/"
        },
        "id": "kiTKDd4UHM3w",
        "outputId": "9211b103-0a7e-482f-919d-c87275528f76"
      },
      "execution_count": 54,
      "outputs": [
        {
          "output_type": "execute_result",
          "data": {
            "text/plain": [
              "(False,\n",
              " '\\n',\n",
              " '질문1: 이번 서울 지하철 사건은 어떤 원인으로 발생했나요?\\n(1) 기계 고장 (2) 승객 사고 (3) 날씨 영향 (4) 파업 (5) 전력 공급 문제\\n\\n질문2: 해당 지하철 사건이 발생한 시간은 언제인가요?\\n(1) 아침 7시 (2) 점심 12시 (3) 오후 3시 (4) 저녁 6시 (5) 새벽 1시\\n\\n질문3: 해당 지하철 사건이 발생한 서울의 지하철 호선은 어디인가요?\\n(1) 1호선 (2) 2호선 (3) 3호선 (4) 4호선 (5) 5호선',\n",
              " '\\n',\n",
              " '답변1: 4번,\\n답변2: 5번,\\n답변3: 정보가 제공되지 않았습니다.',\n",
              " '\\n',\n",
              " '답변1: 4번,\\n답변2: 정보가 부족하여 정확한 답변을 할 수 없습니다,\\n답변3: 정보가 부족하여 정확한 답변을 할 수 없습니다')"
            ]
          },
          "metadata": {},
          "execution_count": 54
        }
      ]
    },
    {
      "cell_type": "code",
      "source": [
        "strike_data.head(1)"
      ],
      "metadata": {
        "colab": {
          "base_uri": "https://localhost:8080/",
          "height": 919
        },
        "id": "vlN8A7SyHMzS",
        "outputId": "1c59b38c-d683-41f2-a230-0d347cd66844"
      },
      "execution_count": 55,
      "outputs": [
        {
          "output_type": "execute_result",
          "data": {
            "text/plain": [
              "                                                text  \\\n",
              "0  \\n“파업소식에 1시간 일찍 출근”…기차 취소돼 급히 버스 예매도\\n중앙일보\\n입력...   \n",
              "\n",
              "                                              output Consistency Coherence  \\\n",
              "0  **교통 대란 주의보! 전국 철도 파업, 대체 교통수단은?**\\n\\n안녕하세요, 여...  {score: 5}         4   \n",
              "\n",
              "   Friendliness  Fluency  Humanlikeness Readability  \n",
              "0             3        5              4           4  "
            ],
            "text/html": [
              "\n",
              "  <div id=\"df-327dd0fc-3460-4884-a644-743302070bd1\" class=\"colab-df-container\">\n",
              "    <div>\n",
              "<style scoped>\n",
              "    .dataframe tbody tr th:only-of-type {\n",
              "        vertical-align: middle;\n",
              "    }\n",
              "\n",
              "    .dataframe tbody tr th {\n",
              "        vertical-align: top;\n",
              "    }\n",
              "\n",
              "    .dataframe thead th {\n",
              "        text-align: right;\n",
              "    }\n",
              "</style>\n",
              "<table border=\"1\" class=\"dataframe\">\n",
              "  <thead>\n",
              "    <tr style=\"text-align: right;\">\n",
              "      <th></th>\n",
              "      <th>text</th>\n",
              "      <th>output</th>\n",
              "      <th>Consistency</th>\n",
              "      <th>Coherence</th>\n",
              "      <th>Friendliness</th>\n",
              "      <th>Fluency</th>\n",
              "      <th>Humanlikeness</th>\n",
              "      <th>Readability</th>\n",
              "    </tr>\n",
              "  </thead>\n",
              "  <tbody>\n",
              "    <tr>\n",
              "      <th>0</th>\n",
              "      <td>\\n“파업소식에 1시간 일찍 출근”…기차 취소돼 급히 버스 예매도\\n중앙일보\\n입력...</td>\n",
              "      <td>**교통 대란 주의보! 전국 철도 파업, 대체 교통수단은?**\\n\\n안녕하세요, 여...</td>\n",
              "      <td>{score: 5}</td>\n",
              "      <td>4</td>\n",
              "      <td>3</td>\n",
              "      <td>5</td>\n",
              "      <td>4</td>\n",
              "      <td>4</td>\n",
              "    </tr>\n",
              "  </tbody>\n",
              "</table>\n",
              "</div>\n",
              "    <div class=\"colab-df-buttons\">\n",
              "\n",
              "  <div class=\"colab-df-container\">\n",
              "    <button class=\"colab-df-convert\" onclick=\"convertToInteractive('df-327dd0fc-3460-4884-a644-743302070bd1')\"\n",
              "            title=\"Convert this dataframe to an interactive table.\"\n",
              "            style=\"display:none;\">\n",
              "\n",
              "  <svg xmlns=\"http://www.w3.org/2000/svg\" height=\"24px\" viewBox=\"0 -960 960 960\">\n",
              "    <path d=\"M120-120v-720h720v720H120Zm60-500h600v-160H180v160Zm220 220h160v-160H400v160Zm0 220h160v-160H400v160ZM180-400h160v-160H180v160Zm440 0h160v-160H620v160ZM180-180h160v-160H180v160Zm440 0h160v-160H620v160Z\"/>\n",
              "  </svg>\n",
              "    </button>\n",
              "\n",
              "  <style>\n",
              "    .colab-df-container {\n",
              "      display:flex;\n",
              "      gap: 12px;\n",
              "    }\n",
              "\n",
              "    .colab-df-convert {\n",
              "      background-color: #E8F0FE;\n",
              "      border: none;\n",
              "      border-radius: 50%;\n",
              "      cursor: pointer;\n",
              "      display: none;\n",
              "      fill: #1967D2;\n",
              "      height: 32px;\n",
              "      padding: 0 0 0 0;\n",
              "      width: 32px;\n",
              "    }\n",
              "\n",
              "    .colab-df-convert:hover {\n",
              "      background-color: #E2EBFA;\n",
              "      box-shadow: 0px 1px 2px rgba(60, 64, 67, 0.3), 0px 1px 3px 1px rgba(60, 64, 67, 0.15);\n",
              "      fill: #174EA6;\n",
              "    }\n",
              "\n",
              "    .colab-df-buttons div {\n",
              "      margin-bottom: 4px;\n",
              "    }\n",
              "\n",
              "    [theme=dark] .colab-df-convert {\n",
              "      background-color: #3B4455;\n",
              "      fill: #D2E3FC;\n",
              "    }\n",
              "\n",
              "    [theme=dark] .colab-df-convert:hover {\n",
              "      background-color: #434B5C;\n",
              "      box-shadow: 0px 1px 3px 1px rgba(0, 0, 0, 0.15);\n",
              "      filter: drop-shadow(0px 1px 2px rgba(0, 0, 0, 0.3));\n",
              "      fill: #FFFFFF;\n",
              "    }\n",
              "  </style>\n",
              "\n",
              "    <script>\n",
              "      const buttonEl =\n",
              "        document.querySelector('#df-327dd0fc-3460-4884-a644-743302070bd1 button.colab-df-convert');\n",
              "      buttonEl.style.display =\n",
              "        google.colab.kernel.accessAllowed ? 'block' : 'none';\n",
              "\n",
              "      async function convertToInteractive(key) {\n",
              "        const element = document.querySelector('#df-327dd0fc-3460-4884-a644-743302070bd1');\n",
              "        const dataTable =\n",
              "          await google.colab.kernel.invokeFunction('convertToInteractive',\n",
              "                                                    [key], {});\n",
              "        if (!dataTable) return;\n",
              "\n",
              "        const docLinkHtml = 'Like what you see? Visit the ' +\n",
              "          '<a target=\"_blank\" href=https://colab.research.google.com/notebooks/data_table.ipynb>data table notebook</a>'\n",
              "          + ' to learn more about interactive tables.';\n",
              "        element.innerHTML = '';\n",
              "        dataTable['output_type'] = 'display_data';\n",
              "        await google.colab.output.renderOutput(dataTable, element);\n",
              "        const docLink = document.createElement('div');\n",
              "        docLink.innerHTML = docLinkHtml;\n",
              "        element.appendChild(docLink);\n",
              "      }\n",
              "    </script>\n",
              "  </div>\n",
              "\n",
              "\n",
              "    </div>\n",
              "  </div>\n"
            ],
            "application/vnd.google.colaboratory.intrinsic+json": {
              "type": "dataframe",
              "variable_name": "strike_data",
              "summary": "{\n  \"name\": \"strike_data\",\n  \"rows\": 5,\n  \"fields\": [\n    {\n      \"column\": \"text\",\n      \"properties\": {\n        \"dtype\": \"string\",\n        \"num_unique_values\": 5,\n        \"samples\": [\n          \"\\n\\u201c\\uac71\\uc815\\ub3fc\\uc11c \\uc77c\\ucc0d \\ub098\\uc654\\ub2e4\\u201d\\u2026\\uc9c0\\ud558\\ucca0 \\uacbd\\uace0 \\ud30c\\uc5c5 \\uccab\\ub0a0, \\ud1f4\\uadfc\\uae38 \\ud63c\\uc7a1\\ub3c4\\u2191\\n\\uc785\\ub825 : 2023.11.09 19:11\\n\\n\\\"\\uad50\\ud1b5\\uacf5\\uc0ac \\ub178\\uc870 \\ud30c\\uc5c5\\uc73c\\ub85c \\uc778\\ud574 \\uc5f4\\ucc28 \\uc6b4\\ud589 \\uc9c0\\uc5f0\\ub420 \\uc218 \\uc788\\uc2b5\\ub2c8\\ub2e4. \\uc7a5\\uc2dc\\uac04 \\uc9c0\\uc5f0 \\uc2dc \\ub2e4\\ub978 \\uad50\\ud1b5\\uc218\\ub2e8\\uc744 \\uc774\\uc6a9\\ud574 \\uc8fc\\uc2dc\\uae30 \\ubc14\\ub78d\\ub2c8\\ub2e4.\\u201d\\n\\n\\uc11c\\uc6b8 \\uc9c0\\ud558\\ucca0 1~8\\ud638\\uc120\\uc744 \\uc6b4\\uc601\\ud558\\ub294 \\uc11c\\uc6b8\\uad50\\ud1b5\\uacf5\\uc0ac \\ub178\\uc870\\uc758 \\uacbd\\uace0 \\ud30c\\uc5c5\\uc774 \\uc2dc\\uc791\\ub41c 9\\uc77c, \\uc11c\\uc6b8 \\uc804\\uc5ed \\uc9c0\\ud558\\ucca0 \\uc5ed\\uc0ac\\uc5d0\\uc11c \\uc774\\uac19\\uc740 \\uc548\\ub0b4 \\ubc29\\uc1a1\\uc774 \\uc885\\uc77c \\ud758\\ub7ec\\ub098\\uc654\\ub2e4. \\uc9c0\\ud558\\ucca0 \\uac1c\\ucc30\\uad6c\\uc640 \\uc2b9\\uac15\\uc7a5 \\uacf3\\uacf3\\uc5d0\\ub294 \\u201c\\uc548\\uc804\\uc778\\ub825 \\uac10\\ucd95, \\uc2dc\\ubbfc\\u00b7\\ub178\\ub3d9\\uc790 \\uc548\\uc804\\uc740 \\ub204\\uac00 \\uc9c0\\ud0b5\\ub2c8\\uae4c\\u201d \\u201c\\uc2dc\\ubbfc \\ubd80\\ub2f4 \\uc804\\uac00, \\ub178\\ub3d9 \\uc548\\uc804 \\ud30c\\uad34, \\uc989\\uac01 \\uc911\\ub2e8\\ud558\\ub77c\\u201d \\ub4f1\\uc774 \\uc801\\ud78c \\ub178\\uc870 \\ud64d\\ubcf4\\ubb3c\\uc774 \\ubd99\\uc5c8\\ub2e4. \\uc624\\ud6c4 6\\uc2dc\\ucbe4 5\\ud638\\uc120 \\uc11c\\ub300\\ubb38\\uc5ed\\uc5d0\\uc11c \\ub9cc\\ub09c \\uc6d0\\uc0c1\\ud6c8\\uc528(55)\\ub294 \\u201c\\uc9c0\\ud558\\ucca0 \\ud30c\\uc5c5 \\uc18c\\uc2dd\\uc744 \\ub4e3\\uace0 \\ud68c\\uc0ac\\uc5d0\\uc11c \\uc77c\\ucc0d \\ucd9c\\ubc1c\\ud588\\ub2e4\\u201d\\uba74\\uc11c \\u201c\\uac71\\uc815\\ub3fc\\uc11c \\uc804\\ucca0\\uc5ed\\uae4c\\uc9c0 7\\ubd84 \\uac70\\ub9ac\\ub97c \\ub0b4\\ub0b4 \\ub6f0\\uc5c8\\ub2e4\\u201d\\uace0 \\ub9d0\\ud588\\ub2e4.\\n\\n\\uc11c\\uc6b8\\uad50\\ud1b5\\uacf5\\uc0ac\\uc758 \\ubbfc\\uc8fc\\ub178\\ucd1d \\uc18c\\uc18d \\ub178\\ub3d9\\uc870\\ud569\\uc774 \\uc774\\ub0a0\\ubd80\\ud130 \\uc774\\ud2c0\\uac04 \\uacbd\\uace0\\ud30c\\uc5c5\\uc5d0 \\ub3cc\\uc785\\ud558\\uba74\\uc11c \\uccab\\ub0a0 \\ud1f4\\uadfc\\uae38\\uc5d0 \\uc77c\\ubd80 \\ud63c\\uc7a1\\uc774 \\ubc1c\\uc0dd\\ud588\\ub2e4. \\uc624\\uc804 7~9\\uc2dc \\ucd9c\\uadfc \\uc2dc\\uac04\\ub300\\uc5d0\\ub294 \\uc9c0\\ud558\\ucca0\\uc774 \\uc815\\uc0c1 \\uc6b4\\ud589\\ub410\\uc73c\\ub098 \\ud1f4\\uadfc \\uc2dc\\uac04\\uc778 \\uc624\\ud6c4 6\\uc2dc \\uc774\\ud6c4\\uc5d0\\ub294 \\ubc30\\ucc28 \\uac04\\uaca9\\uc774 \\ub2e4\\uc18c \\ub298\\uac70\\ub098 \\ud3c9\\uc18c \\uc218\\uc900\\uc73c\\ub85c \\uc720\\uc9c0\\ub410\\ub2e4. \\uc77c\\ucc0d \\ud1f4\\uadfc\\uae38\\uc5d0 \\ub098\\uc120 \\uc9c1\\uc7a5\\uc778\\ub4e4\\uc774 \\uc624\\ud6c4 5\\uc2dc\\ubd80\\ud130 \\ubab0\\ub9ac\\uba74\\uc11c \\uc5ed\\uc0ac \\ub0b4\\ubd80\\uac00 \\ube44\\uad50\\uc801 \\uc774\\ub978 \\uc2dc\\uac04\\uc5d0 \\ube7d\\ube7d\\uc774 \\ub4e4\\uc5b4\\ucc3c\\ub2e4. \\uc804\\ucca0\\uc744 \\ud53c\\ud574 \\ubc84\\uc2a4\\ub97c \\ud0c0\\ub824\\ub294 \\uc2dc\\ubbfc\\ub4e4\\ub85c \\ubc84\\uc2a4 \\uc815\\ub958\\uc7a5\\uc5d0 \\uae34 \\ub300\\uae30\\uc904\\uc774 \\uc774\\uc5b4\\uc9c0\\uae30\\ub3c4 \\ud588\\ub2e4.\\n\\n\\uc774\\ub0a0 \\uc624\\ud6c4 5\\uc2dc\\ucbe4\\ubd80\\ud130 \\uc9c0\\ud558\\ucca0\\uc5ed\\uc740 \\uc774\\ub978 \\ud1f4\\uadfc\\uae38\\uc5d0 \\ub098\\uc120 \\uc774\\ub4e4\\ub85c \\ubd90\\ubcd0\\ub2e4. \\uc624\\ud6c4 5\\uc2dc30\\ubd84\\ucbe4 5\\ud638\\uc120 \\uc11c\\ub300\\ubb38\\uc5ed\\uc5d0\\uc11c \\ub9cc\\ub09c \\uae40\\ubaa8\\uc528(47)\\ub294 \\u201c\\ub274\\uc2a4\\ub97c \\ubcf4\\uace0 \\uc9c0\\ud558\\ucca0 (\\ub178\\ub3d9\\uc790\\ub4e4\\uc774) \\ud30c\\uc5c5\\ud55c\\ub2e4\\ub294 \\uc0ac\\uc2e4\\uc744 \\uc54c\\uc558\\ub2e4\\u201d\\uba74\\uc11c \\u201c\\uacf5\\ub355\\uae4c\\uc9c0 \\uac00\\uc57c \\ud558\\ub294\\ub370 10\\ubd84\\uc774 \\uc9c0\\ub098\\ub3c4 \\uc9c0\\ud558\\ucca0\\uc774 \\uc548 \\uc654\\ub2e4\\u201d\\uace0 \\ub9d0\\ud588\\ub2e4. \\uae40\\uc528\\ub294 \\u201c\\uc774\\ubbf8 \\uad50\\ud1b5\\uce74\\ub4dc\\ub97c \\ucc0d\\uace0 \\uac1c\\ucc30\\uad6c \\uc548\\uc73c\\ub85c \\ub4e4\\uc5b4\\uc628 \\uc774\\uc0c1 \\uadf8\\ub0e5 \\uae30\\ub2e4\\ub838\\ub2e4 \\uac00\\ub824\\uace0 \\ud55c\\ub2e4\\u201d\\uace0 \\ud588\\ub2e4. 2\\ud638\\uc120 \\uc131\\uc218\\uc5ed\\uc5d0\\uc11c \\ub9cc\\ub09c \\uc2ec\\uc601\\ud6c8\\uc528(26)\\ub3c4 \\u201c\\ud3c9\\uc18c\\uc640 \\ub2e4\\ub978 \\uacbd\\ub85c\\ub85c \\ud1f4\\uadfc\\ud558\\uc9c4 \\uc54a\\ub354\\ub77c\\ub3c4 (\\uc5f4\\ucc28 \\uc9c0\\uc5f0\\uc5d0 \\ub300\\ube44\\ud574) \\uc870\\uae08 \\uc77c\\ucc0d \\uc9d1\\uc73c\\ub85c \\uac00\\ub824 \\ud55c\\ub2e4\\u201d\\uace0 \\ud588\\ub2e4.\\n\\n\\uc804\\ucca0 \\ud63c\\uc7a1\\uc744 \\ud53c\\ud574 \\ubc84\\uc2a4 \\uc815\\ub958\\uc7a5\\uc73c\\ub85c \\ubc1c\\uae38\\uc744 \\ub3cc\\ub9b0 \\uc774\\ub4e4\\ub3c4 \\uc788\\uc5c8\\ub2e4. \\uc624\\ud6c4 6\\uc2dc30\\ubd84\\ucbe4 \\uc11c\\ub300\\ubb38\\uad6c \\uc11c\\uc6b8\\uc5ed\\uc0ac\\ubc15\\ubb3c\\uad00 \\uc778\\uadfc \\ubc84\\uc2a4 \\uc815\\ub958\\uc7a5\\uc5d0\\uc11c \\ub9cc\\ub09c \\uae40\\ubaa8\\uc528(29)\\ub294 \\u201c\\uc774 \\uc2dc\\uac04\\ub300 \\uc6d0\\ub798 \\uc0ac\\ub78c\\uc774 \\ub9ce\\uae34 \\ud55c\\ub370 \\uc624\\ub298\\uc740 \\uc720\\ub3c5 \\ubc84\\uc2a4\\uc5d0 \\uc0ac\\ub78c\\uc774 \\uaf49 \\ucc2c \\ucc44\\ub85c \\uc624\\ub294 \\uac83 \\uac19\\ub2e4\\u201d\\uba74\\uc11c \\u201c\\uc9c0\\ud558\\ucca0 \\ud30c\\uc5c5 \\ub54c\\ubb38\\uc5d0 \\uc0ac\\ub78c\\ub4e4\\uc774 \\uc5ec\\uae30\\ub85c \\ubab0\\ub9b0 \\uac83 \\uac19\\ub2e4\\u201d\\uace0 \\ud588\\ub2e4.\\n\\n\\ucd9c\\u00b7\\ud1f4\\uadfc\\uae38\\uc5d0 \\ub9cc\\ub09c \\uc2dc\\ubbfc\\ub4e4\\uc740 \\ud30c\\uc5c5\\uc5d0 \\ub300\\ud574 \\uc798 \\ubaa8\\ub974\\ub294 \\uacbd\\uc6b0\\uac00 \\ub9ce\\uc558\\ub2e4. \\uc11c\\ub300\\ubb38\\uc5ed\\uc5d0\\uc11c \\uc655\\uc2ed\\ub9ac\\uc5ed\\uae4c\\uc9c0 30\\ubd84 \\uac70\\ub9ac\\ub97c \\ud1f4\\uadfc\\ud55c\\ub2e4\\ub294 \\uc2e0\\uc9c4\\uc6b1\\uc528(38)\\ub294 \\u201c\\ubc84\\uc2a4 \\ud0c8\\uae4c, \\uc7a0\\uc2dc \\uace0\\ubbfc\\uc744 \\ud558\\ub2e4\\uac00 \\uadf8\\ub0e5 \\ubab8\\uc774 \\uc774\\ub044\\ub294 \\ub300\\ub85c \\uc9c0\\ud558\\ucca0\\ub85c \\uc654\\ub2e4\\u201d\\uba74\\uc11c \\u201c\\ud30c\\uc5c5\\uc758 \\uad6c\\uccb4\\uc801\\uc778 \\ubc30\\uacbd\\uc740 \\uc798 \\ubaa8\\ub974\\ub294\\ub370, \\uc5b4\\ub5a4 \\uc774\\uc720\\uc778\\uc9c0 \\uad81\\uae08\\ud558\\uae34 \\ud558\\ub2e4\\u201d\\uace0 \\ud588\\ub2e4.\\n\\n\\ub178\\uc870\\uc758 \\ud30c\\uc5c5 \\ubc30\\uacbd\\uc740 \\uacf5\\uc0ac\\uc758 \\u2018\\uc778\\ub825 \\uac10\\ucd95\\u2019\\uc774\\ub2e4. \\uacf5\\uc0ac\\ub294 2026\\ub144\\uae4c\\uc9c0 2212\\uba85\\uc758 \\uc778\\ub825\\uc744 \\uc904\\uc774\\uaca0\\ub2e4\\ub294 \\uacc4\\ud68d\\uc744 \\ucd5c\\uadfc \\ub178\\uc870\\uc5d0 \\uc81c\\uc2dc\\ud588\\ub2e4. \\uacf5\\uc0ac \\uc804\\uccb4 \\uc815\\uc6d0\\uc758 \\uc57d 13.5% \\uc218\\uc900\\uc774\\ub2e4. \\uacf5\\uc0ac\\ub294 \\uc5f0 1\\uc870\\uc6d0 \\uc548\\ud30e\\uc758 \\ub300\\uaddc\\ubaa8 \\uc801\\uc790\\ub97c \\uc904\\uc774\\uae30 \\uc704\\ud574 \\uc778\\ub825 \\uac10\\ucd95\\uc774 \\ubd88\\uac00\\ud53c\\ud558\\ub2e4\\ub294 \\uc785\\uc7a5\\uc774\\ub2e4. \\ubc18\\uba74 \\ub178\\uc870 \\uce21\\uc740 \\ubb34\\ub9ac\\ud55c \\uc778\\ub825 \\uac10\\ucd95\\uc774 \\uc2dc\\ubbfc\\uc758 \\uc548\\uc804 \\ubb38\\uc81c\\uc640 \\uc9c1\\uacb0\\ub420 \\uc218 \\uc788\\ub2e4\\uba70 \\uac10\\ucd95\\uc548 \\ucca0\\ud68c\\ub97c \\uc694\\uad6c\\ud558\\uace0 \\uc788\\ub2e4.\\n\\n\\uc2dc\\ubbfc\\ub4e4 \\uc0ac\\uc774\\uc5d0\\uc120 \\uc774\\ubc88 \\ud30c\\uc5c5\\uc744 \\ub450\\uace0 \\uc0c1\\ubc18\\ub41c \\ubc18\\uc751\\uc774 \\ub098\\uc654\\ub2e4. \\uc624\\uc804 9\\uc2dc\\ucbe4 \\uad11\\ud654\\ubb38\\uc5ed \\uc2b9\\uac15\\uc7a5\\uc5d0\\uc11c \\uc5f4\\ucc28\\ub97c \\uae30\\ub2e4\\ub9ac\\ub358 \\uc774\\ubaa8\\uc528(60)\\ub294 \\u201c\\ud30c\\uc5c5\\uc744 \\ud558\\ub294 \\uac83\\uc740 \\ub178\\ub3d9\\uc790\\uc758 \\ub2f9\\uc5f0\\ud55c \\uad8c\\ub9ac\\u201d\\ub77c\\uba74\\uc11c \\u201c\\uc2dc\\ubbfc\\ub4e4\\uc5d0\\uac8c \\ubd88\\ud3b8\\uc774 \\uc788\\ub2e4 \\ud558\\ub354\\ub77c\\ub3c4 \\uc77c\\uc0c1\\uc5d0 \\ud06c\\uac8c \\uc9c0\\uc7a5\\uc774 \\uac00\\ub294 \\uac83\\uc740 \\uc544\\ub2c8\\ub2e4\\u201d\\ub77c\\uace0 \\ud588\\ub2e4. \\uadf8\\ub294 \\u201c\\uc778\\ub825 \\uac10\\ucd95 \\ub54c\\ubb38\\uc5d0 \\ud30c\\uc5c5\\ud55c\\ub2e4\\uace0 \\ub4e4\\uc5c8\\ub294\\ub370, \\uc778\\ub825\\uc744 \\uc904\\uc774\\uba74 \\uc0ac\\uace0 \\ub0a0 \\uc704\\ud5d8\\ub3c4 \\ucee4\\uc9c0\\uc9c0 \\uc54a\\uaca0\\ub098\\u201d\\ub77c\\uace0 \\ud588\\ub2e4. \\ubc18\\uba74 5\\ud638\\uc120 \\ub9c8\\ucc9c\\uc5ed\\uc5d0\\uc11c \\uad11\\ud654\\ubb38\\uc5ed\\uc73c\\ub85c \\ucd9c\\u00b7\\ud1f4\\uadfc\\ud55c\\ub2e4\\ub294 \\uc774\\uc6a9\\uc528(69)\\ub294 \\u201c\\uc870\\uc9c1\\uc774 \\ube44\\ub300\\ud574\\uc84c\\uc73c\\uba74 \\uaddc\\ubaa8\\ub97c \\uc904\\uc774\\ub294 \\uac83\\ub3c4 \\ud544\\uc694\\ud558\\ub2e4\\u201d\\uba74\\uc11c \\u201c\\ud30c\\uc5c5\\uc744 \\ud558\\ub354\\ub77c\\ub3c4 \\uacf5\\uac10\\ub300\\uac00 \\ud615\\uc131\\ub3fc\\uc57c \\ud558\\ub294\\ub370, \\uc9c0\\uae08\\uc740 \\ubc18\\ub300\\ub9cc \\ud558\\ub294 \\uc815\\uce58\\uc801 \\ud30c\\uc5c5\\uc73c\\ub85c \\ubcf4\\uc778\\ub2e4\\u201d\\uace0 \\ud588\\ub2e4.\\n\\n\\n\",\n          \"\\n\\uc804\\uc7a5\\uc5f0 \\u201c4\\ud638\\uc120\\uc11c \\ud3c9\\uc77c 1\\ub144 \\ub0b4\\ub0b4 \\uc2dc\\uc704\\u201d \\uc624\\uc138\\ud6c8 \\u201c\\ubb34\\uad00\\uc6a9 \\uac15\\ub825 \\ub300\\uc751\\u201d\\n\\uc911\\uc559\\uc77c\\ubcf4\\n\\uc785\\ub825 2023.01.04 00:02\\n\\n\\uc804\\uad6d\\uc7a5\\uc560\\uc778\\ucc28\\ubcc4\\ucca0\\ud3d0\\uc5f0\\ub300(\\uc804\\uc7a5\\uc5f0)\\uac00 \\uc774\\ub3d9\\uad8c \\uc608\\uc0b0 \\ud655\\ubcf4\\ub97c \\uc694\\uad6c\\ud558\\uba70 3\\uc77c \\uc11c\\uc6b8\\uc9c0\\ud558\\ucca0 4\\ud638\\uc120\\uc5d0\\uc11c \\uc774\\ud2c0\\uc9f8 \\uc2dc\\uc704\\ub97c \\ubc8c\\uc600\\ub2e4.\\n\\n\\uc11c\\uc6b8\\uad50\\ud1b5\\uacf5\\uc0ac\\uc640 \\uacbd\\ucc30\\uc774 \\uc774\\ub4e4\\uc758 \\uc2b9\\ucc28 \\uc2dc\\uc704\\ub97c \\uc800\\uc9c0\\ud558\\uace0 \\ub098\\uc11c\\uba74\\uc11c 6\\uc2dc\\uac04\\uac00\\ub7c9 \\ub300\\uce58\\uc640 \\ucda9\\ub3cc\\uc774 \\uac70\\ub4ed\\ub410\\ub2e4. \\uc804\\uc7a5\\uc5f0\\uc740 \\uc62c\\ud574 \\uc8fc\\ub9d0\\uacfc \\uacf5\\ud734\\uc77c\\uc744 \\uc81c\\uc678\\ud558\\uace0 260\\uc77c \\ub0b4\\ub0b4 \\ucd9c\\uadfc\\uae38 \\uc120\\uc804\\uc804\\uc5d0 \\ub098\\uc11c\\uaca0\\ub2e4\\ub294 \\uc785\\uc7a5\\uc774\\ub2e4.\\n\\n\\uc2dc\\uc704\\ub294 \\uc774\\ub0a0 \\uc624\\uc804 8\\uc2dc\\ucbe4 \\uc131\\uc2e0\\uc5ec\\ub300\\uc785\\uad6c\\uc5ed\\uc5d0\\uc11c \\uc2dc\\uc791\\ub410\\ub2e4. \\uc774\\ud6c4 \\uc804\\uc7a5\\uc5f0 \\ud68c\\uc6d0 20\\uc5ec \\uba85\\uc774 \\uc804\\ub3d9\\ucc28\\ub97c \\ud0c0\\uace0 \\ub3d9\\ub300\\ubb38\\uc5ed\\uc0ac\\ubb38\\ud654\\uacf5\\uc6d0\\uc5ed\\uacfc \\uc0bc\\uac01\\uc9c0\\uc5ed\\uc73c\\ub85c \\uac01\\uac01 \\uc774\\ub3d9\\ud574 \\uc2dc\\uc704\\ub97c \\uc774\\uc5b4\\uac14\\ub2e4. \\ud604\\uc7a5\\uc5d0\\uc120 \\uc804\\ub3d9\\ucc28\\uc5d0 \\ud0c0\\ub824\\ub294 \\uc804\\ub3d9\\ud720\\uccb4\\uc5b4\\uc640 \\uc774\\ub97c \\uac00\\ub85c\\ub9c9\\ub294 \\uacbd\\ucc30\\uc774 \\ucda9\\ub3cc\\ud558\\uace0, \\uc2b9\\uac15\\uc7a5 \\uacf3\\uacf3\\uc5d0\\uc11c \\u201c\\uc7a5\\uc560\\uc778\\ub3c4 \\uc2dc\\ubbfc\\uc774\\ub2e4. \\uc774\\ub3d9\\uad8c\\uc744 \\ubcf4\\uc7a5\\ud558\\ub77c\\u201d\\ub294 \\uad6c\\ud638\\uc640 \\ube44\\uba85\\uc774 \\ub3d9\\uc2dc\\uc5d0 \\ud130\\uc838 \\ub098\\uc654\\ub2e4. \\uacf5\\uc0ac \\uce21\\uc740 \\uc5ed\\ub0b4 \\ubc29\\uc1a1 \\ub4f1\\uc744 \\ud1b5\\ud574 \\u201c\\uc989\\uc2dc \\uc2dc\\uc704\\ub97c \\uc911\\ub2e8\\ud558\\uace0 \\uc5ed\\uc0ac \\ubc16\\uc73c\\ub85c \\ud1f4\\uac70\\ud558\\ub77c\\u201d\\uace0 \\uacbd\\uace0 \\ubc29\\uc1a1\\uc744 \\ud588\\ub2e4.\\n\\ubd80\\uc0c1\\uc790\\ub3c4 \\ubc1c\\uc0dd\\ud588\\ub2e4. \\uc624\\uc804 9\\uc2dc\\ucbe4 \\uad6c\\uae30\\uc815 \\uc0bc\\uac01\\uc9c0\\uc5ed\\uc7a5\\uc774 \\uc5ed\\ub0b4\\uc5d0\\uc11c \\uc804\\ub3d9\\ud720\\uccb4\\uc5b4\\uc640 \\ubd80\\ub52a\\ud788\\uba70 \\uc4f0\\ub7ec\\uc838 \\ubcd1\\uc6d0\\uc73c\\ub85c \\uc62e\\uaca8\\uc84c\\ub2e4. \\uad6c \\uc5ed\\uc7a5\\uc740 \\uc911\\uc559\\uc77c\\ubcf4\\uc5d0 \\u201c\\ud798\\uc774 \\uac15\\ud55c \\uc804\\ub3d9\\ud720\\uccb4\\uc5b4\\uac00 \\ub3cc\\uc9c4\\ud574 \\uc654\\ub2e4\\u201d\\uba70 \\u201c\\ud568\\uaed8 \\ud604\\uc7a5\\uc5d0 \\uc788\\uc5c8\\ub358 \\uc9c0\\ud558\\ucca0 \\ubcf4\\uc548\\uad00 \\ud55c \\uba85\\ub3c4 \\ud720\\uccb4\\uc5b4\\uc5d0 \\uae54\\ub824 \\uc9c4\\ub8cc\\ub97c \\ubc1b\\uc558\\ub2e4\\u201d\\uace0 \\uc804\\ud588\\ub2e4. \\uc624\\uc804 11\\uc2dc20\\ubd84\\ucbe4\\uc5d4 \\ub3d9\\ub300\\ubb38\\uc5ed\\uc0ac\\ubb38\\ud654\\uacf5\\uc6d0\\uc5ed\\uc5d0\\uc11c \\ube44\\uc7a5\\uc560\\uc778 \\ud68c\\uc6d0\\uc774 \\uacbd\\ucc30\\uacfc \\ucda9\\ub3cc\\ud558\\ub294 \\uacfc\\uc815\\uc5d0\\uc11c \\uc190\\uac00\\ub77d\\uc744 \\ub2e4\\ucce4\\ub2e4. \\uc804\\ub0a0\\uc5d0\\ub3c4 \\uc591\\uce21\\uc758 \\ucda9\\ub3cc\\ub85c \\uacbd\\ucc30 3\\uba85, \\uc804\\uc7a5\\uc5f0 \\ud68c\\uc6d0 2\\uba85\\uc774 \\ubd80\\uc0c1\\ud588\\ub2e4.\\n\\n\\uc2dc\\uc704\\ub97c \\uc9c0\\ucf1c\\ubcf8 \\uc2dc\\ubbfc \\uc11c\\uc548\\uc11d(73)\\uc528\\ub294 \\u201c\\ub098\\uac00\\ub824\\uace0 \\ud558\\ub294\\ub370 \\ub108\\ubb34 \\ubcf5\\uc7a1\\ud558\\ub2e4. \\uc774\\ub7f0 \\uc0c1\\ud669\\uc778 \\uc904 \\uc54c\\uc558\\ub2e4\\uba74 \\uc624\\uc9c0 \\uc54a\\uc558\\uc744 \\uac83\\u201d\\uc774\\ub77c\\uba70 \\ubd88\\ud3b8\\uc744 \\ud638\\uc18c\\ud588\\ub2e4. \\ucd5c\\uc120\\ubbf8(30)\\uc528\\ub294 \\u201c\\ud3c9\\uc18c\\uc5d0 \\uc804\\uc7a5\\uc5f0 \\uc2dc\\uc704\\ub97c \\ubc18\\ub300\\ud558\\uc9c4 \\uc54a\\uc558\\uc9c0\\ub9cc \\uc801\\uc5b4\\ub3c4 \\uc5b4\\ub514\\uc11c \\ud558\\ub294\\uc9c0\\ub294 \\uacf5\\uc9c0\\uac00 \\ub410\\uc73c\\uba74 \\uc88b\\uaca0\\ub2e4\\u201d\\uace0 \\ub9d0\\ud588\\ub2e4.\\n\\n\\uc804\\uc7a5\\uc5f0 \\uce21\\uc740 \\ub300\\ud1b5\\ub839\\uc5d0\\uac8c \\ud638\\uc18c\\ud558\\ub824\\uba74 \\uc6a9\\uc0b0 \\uc0bc\\uac01\\uc9c0\\uc5ed\\uc744 \\uc9c0\\ub098\\ub294 4\\ud638\\uc120\\uc744 \\ud0dd\\ud560 \\uc218\\ubc16\\uc5d0 \\uc5c6\\uc5c8\\ub2e4\\uba70 \\u201c\\uc2dc\\ubbfc\\ub4e4\\uc5d0\\uac8c \\ubb34\\uac70\\uc6b4 \\ub9c8\\uc74c\\uc73c\\ub85c \\uc8c4\\uc1a1\\ud568\\uc744 \\ud45c\\ud55c\\ub2e4\\u201d\\uace0 \\ubc1d\\ud614\\ub2e4. \\ubc15\\uacbd\\uc11d \\uc804\\uc7a5\\uc5f0 \\uc0c1\\uc784\\uacf5\\ub3d9\\ub300\\ud45c\\ub294 \\u201c\\uc7a5\\uc560\\uc778\\uc5d0\\uac8c \\uc608\\uc0b0\\uc744 \\ub2e4 \\ucc59\\uaca8\\uc8fc\\uba74 \\ub098\\ub77c\\uac00 \\ub9dd\\ud55c\\ub2e4\\uace0 \\ud588\\ub358 \\uae30\\ud68d\\uc7ac\\uc815\\ubd80\\uac00 \\uc9c4\\uc815\\uc73c\\ub85c \\uc6b0\\ub9ac\\ub97c \\ub9cc\\ub098\\ub824\\uace0 \\ud55c\\ub2e4\\uba74 \\uc120\\uc804\\uc804\\uc744 \\uc720\\ubcf4\\ud558\\uaca0\\ub2e4\\u201d\\uba70 \\u201c\\ucd94\\ud6c4 \\uc2dc\\uc704\\ub294 (\\uc624\\ub298\\ucc98\\ub7fc) \\uc624\\uc804 8\\uc2dc\\uc5d0 \\uacf5\\uc9c0\\ub420 \\uac83\\u201d\\uc774\\ub77c\\uace0 \\ub9d0\\ud588\\ub2e4.\\n\\n\\uc11c\\uc6b8\\uc2dc\\uc640 \\uc11c\\uc6b8\\uad50\\ud1b5\\uacf5\\uc0ac\\ub294 \\uac15\\uacbd \\ub300\\uc751\\uc73c\\ub85c \\ub9de\\uc11c\\uace0 \\uc788\\ub2e4. \\uc624\\uc138\\ud6c8 \\uc11c\\uc6b8\\uc2dc\\uc7a5\\uc740 \\uc804\\uc7a5\\uc5f0\\uc774 \\uc2dc\\uc704 \\uc7ac\\uac1c\\ub97c \\uc120\\uc5b8\\ud55c \\ub2e4\\uc74c \\ub0a0\\uc778 \\uc9c0\\ub09c\\ub2ec 26\\uc77c \\u201c\\uc6a9\\ub0a9\\ud560 \\uc218 \\uc5c6\\ub2e4\\u201d\\uace0 \\uacbd\\uace0\\ud55c \\ub370 \\uc774\\uc5b4 \\uc0c8\\ud574 \\uccab\\ub0a0\\uc5d0\\ub294 \\u201c\\ubbfc\\u00b7\\ud615\\uc0ac\\uc801 \\ub300\\uc751\\uc744 \\ub3d9\\uc6d0\\ud574 \\ubb34\\uad00\\uc6a9\\uc73c\\ub85c \\uac15\\ub825\\ud788 \\ub300\\uc751\\ud560 \\uac83\\u201d\\uc774\\ub77c\\uba70 \\ub300\\uc751 \\uc218\\uc704\\ub97c \\ub354 \\ub04c\\uc5b4\\uc62c\\ub838\\ub2e4. \\u2018\\uc57d\\uc790\\uc640\\uc758 \\ub3d9\\ud589\\u2019\\uc744 \\ub0b4\\uc138\\uc6b0\\uba70 \\u201c\\uc2dc\\uc704 \\uc790\\uc81c\\ub97c \\ubd80\\ud0c1\\ud55c\\ub2e4\\u201d\\ub294 \\uc815\\ub3c4\\ub85c \\uc644\\uace1\\ud558\\ub358 \\ubaa8\\uc2b5\\uacfc\\ub294 \\ud655 \\ub2ec\\ub77c\\uc84c\\ub2e4\\ub294 \\ud3c9\\uac00\\uac00 \\ub098\\uc628\\ub2e4. \\uc815\\uce58\\uad8c \\uc77c\\uac01\\uc5d0\\uc120 \\ud55c\\ub3d9\\ud6c8 \\ubc95\\ubb34\\ubd80 \\uc7a5\\uad00\\uc758 \\uc874\\uc7ac\\uac10 \\ubd80\\uac01\\uacfc \\uc2dc\\uc704\\uc5d0 \\uc810\\ucc28 \\ud53c\\ub85c\\uac10\\uc744 \\ubcf4\\uc774\\ub294 \\ubcf4\\uc218\\u00b7\\uc911\\ub3c4\\uce35 \\uc5ec\\ub860, \\ucd5c\\uadfc \\uc724\\uc11d\\uc5f4 \\ub300\\ud1b5\\ub839\\uc758 \\ud654\\ubb3c\\uc5f0\\ub300 \\ud30c\\uc5c5 \\uc6d0\\uce59\\uc801 \\ub300\\uc751\\uc5d0 \\ub300\\ud55c \\ubcf4\\uc218\\u00b7\\uc911\\ub3c4\\uce35 \\uc9c0\\uc9c0\\uc728 \\uc0c1\\uc2b9 \\ub4f1\\uacfc \\ubb34\\uad00\\uce58 \\uc54a\\uc744 \\uac83\\uc774\\ub77c\\ub294 \\ubd84\\uc11d\\uc774 \\ub4a4\\ub530\\ub978\\ub2e4.\\n\\n\\uc11c\\uc6b8\\uad50\\ud1b5\\uacf5\\uc0ac\\ub294 3\\uc77c \\uacf5\\uc0ac\\uc640 \\uc804\\uc7a5\\uc5f0\\uc5d0 \\ub300\\ud55c \\ubc95\\uc6d0 \\uac15\\uc81c\\uc870\\uc815\\uc548\\uc5d0 \\uc774\\uc758\\uc2e0\\uccad\\uc11c\\ub97c \\uc81c\\ucd9c\\ud588\\ub2e4. \\uacf5\\uc0ac\\ub294 \\u201c\\ubc95\\uc6d0\\uc740 5\\ubd84 \\ucd08\\uacfc \\uc2dc\\uc704\\uc5d0 \\ub300\\ud55c \\uae08\\uc561 \\uc9c0\\uae09\\ub9cc \\uaddc\\uc815\\ud588\\uc744 \\ubfd0 \\uc774\\uc678 \\ud589\\uc704\\uc5d0 \\ub300\\ud574\\uc11c\\ub294 \\uc5b8\\uae09\\ud558\\uc9c0 \\uc54a\\uc558\\ub2e4\\u201d\\uba70 \\u201c\\uc870\\uc815\\uc548\\uc744 \\uc218\\uc6a9\\ud560 \\uacbd\\uc6b0 \\uc774\\uc6a9\\uac1d\\uc744 \\ubd88\\ud3b8\\ud558\\uac8c \\ub9cc\\ub4dc\\ub294 \\uc2dc\\uc704\\ub97c \\uacc4\\uc18d \\uc774\\uc5b4\\uac08 \\uc6b0\\ub824\\uac00 \\ud06c\\ub2e4\\u201d\\uace0 \\uc774\\uc758\\uc2e0\\uccad \\uc0ac\\uc720\\ub97c \\ubc1d\\ud614\\ub2e4. \\uc11c\\uc6b8\\uc911\\uc559\\uc9c0\\ubc95\\uc740 \\uc9c0\\ub09c\\ub2ec 19\\uc77c \\uacf5\\uc0ac\\uac00 \\uc804\\uc7a5\\uc5f0\\uc744 \\uc0c1\\ub300\\ub85c \\ub0b8 \\uc190\\ud574\\ubc30\\uc0c1 \\uccad\\uad6c \\uc18c\\uc1a1\\uc5d0\\uc11c \\u2018\\ucd9c\\uadfc\\uae38 \\uc2dc\\uc704\\ub85c \\uc5f4\\ucc28 \\uc6b4\\ud589\\uc774 5\\ubd84 \\uc9c0\\uc5f0\\ub420 \\ub54c\\ub9c8\\ub2e4 \\uc804\\uc7a5\\uc5f0\\uc774 \\uacf5\\uc0ac\\uc5d0 500\\ub9cc\\uc6d0\\uc744 \\uc9c0\\uae09\\ud558\\ub77c\\u2019\\ub294 \\uc870\\uc815\\uc548\\uc744 \\uc81c\\uc2dc\\ud588\\ub2e4.\\n\",\n          \"\\n\\uc11c\\uc6b8 1~8\\ud638\\uc120 \\uc9c0\\ud558\\ucca0, \\uc624\\ub298 \\uc624\\uc804 9\\uc2dc\\ubd80\\ud130 \\u2018\\uacbd\\uace0 \\ud30c\\uc5c5\\u2019\\n10\\uc77c \\uc624\\ud6c4 6\\uc2dc\\uae4c\\uc9c0 \\uc774\\ud2c0\\uac04 \\ud30c\\uc5c5\\n\\uc218\\uc815 2023-11-08 22:20\\n\\n\\uc11c\\uc6b8\\uc9c0\\ud558\\ucca0 1~8\\ud638\\uc120\\uc744 \\uc6b4\\uc601\\ud558\\ub294 \\uc11c\\uc6b8\\uad50\\ud1b5\\uacf5\\uc0ac(\\uacf5\\uc0ac) \\ub178\\ub3d9\\uc870\\ud569\\uc774 9\\uc77c \\uc544\\uce68 9\\uc2dc\\ubd80\\ud130 10\\uc77c \\uc624\\ud6c4 6\\uc2dc\\uae4c\\uc9c0 \\uc774\\ud2c0 \\ub3d9\\uc548 \\uacbd\\uace0 \\ud30c\\uc5c5\\uc5d0 \\ub3cc\\uc785\\ud55c\\ub2e4. \\ud68c\\uc0ac\\uac00 \\uc81c\\uc2dc\\ud55c \\uc778\\ub825\\uac10\\ucd95\\u00b7\\uc678\\uc8fc\\ud654 \\ubb38\\uc81c\\ub97c \\ub450\\uace0 \\ub178\\uc0ac\\uac00 8\\uc77c \\ubc24\\uae4c\\uc9c0 \\ubc8c\\uc778 \\ub9c9\\ud310 \\uad50\\uc12d\\uc5d0\\uc11c\\ub3c4 \\ud0c0\\ud611\\uc810\\uc744 \\ucc3e\\uc9c0 \\ubabb\\ud55c \\uacb0\\uacfc\\ub2e4. \\uacf5\\uc0ac\\ub294 \\ub178\\uc870\\uac00 \\ud30c\\uc5c5\\uc5d0 \\ub3cc\\uc785\\ud574\\ub3c4 \\ud544\\uc218 \\uc720\\uc9c0\\uc5c5\\ubb34 \\uc778\\ub825\\uacfc \\ub300\\uccb4 \\uc778\\ub825 \\ub4f1\\uc744 \\ud65c\\uc6a9\\ud574 80% \\uc774\\uc0c1\\uc758 \\uc6b4\\ud589\\ub960\\uc744 \\uc720\\uc9c0\\ud560 \\ubc29\\uce68\\uc774\\ub2e4.\\n\\n\\uacf5\\uc0ac\\ub294 8\\uc77c \\ubc24 \\u201c\\ub178\\uc0ac \\uac04 \\ud611\\uc0c1\\uc774 \\ucd5c\\uc885 \\uacb0\\ub82c\\ub410\\ub2e4\\u201d\\uba70 \\u201c\\uc591\\ub300\\ub178\\ucd1d \\uc18c\\uc18d \\uc11c\\uc6b8\\uad50\\ud1b5\\uacf5\\uc0ac \\ub178\\uc870\\ub4e4\\ub85c \\uad6c\\uc131\\ub41c \\uc5f0\\ud569\\uad50\\uc12d\\ub2e8\\uc740 9\\uc77c \\uc624\\uc804 9\\uc2dc\\ubd80\\ud130 10\\uc77c \\uc800\\ub141 6\\uc2dc\\uae4c\\uc9c0 (\\uc11c\\uc6b8\\uc2dc\\uc640 \\uc0ac\\ucabd\\uc758 \\uc785\\uc7a5 \\ubcc0\\ud654\\ub97c \\ucd09\\uad6c\\ud558\\ub294 \\uc758\\ubbf8) \\uacbd\\uace0 \\ud30c\\uc5c5\\uc5d0 \\ub3cc\\uc785\\ud55c\\ub2e4\\u201d\\uace0 \\ubc1d\\ud614\\ub2e4. \\uc774\\ub0a0 \\uc624\\ud6c4 3\\uc2dc\\ubd80\\ud130 \\uad50\\uc12d\\ub2e8\\uacfc \\uacf5\\uc0ac\\ub294 \\ub9c9\\ud310 \\uad50\\uc12d\\uc744 \\uc2dc\\uc791\\ud588\\uc73c\\ub098 \\ud0c0\\ud611\\uc810\\uc744 \\ucc3e\\uc9c0 \\ubabb\\ud588\\ub2e4.\\n\\n\\ud575\\uc2ec \\uc7c1\\uc810\\uc740 \\u2018\\uc778\\ub825 \\uac10\\ucd95\\u2019\\uc774\\uc5c8\\ub2e4. \\uacf5\\uc0ac\\ub294 \\ucd5c\\uadfc 2026\\ub144\\uae4c\\uc9c0 2212\\uba85\\uc758 \\uc778\\ub825\\uc744 \\uc904\\uc774\\uaca0\\ub2e4\\ub294 \\uacc4\\ud68d\\uc744 \\ub178\\uc870\\uc5d0 \\uc81c\\uc2dc\\ud588\\ub2e4. \\uc774\\ub294 \\ud604\\uc7ac \\uacf5\\uc0ac \\uc804\\uccb4 \\uc815\\uc6d0\\uc758 \\uc57d 13.5% \\uc218\\uc900\\uc774\\ub2e4. \\uacf5\\uc0ac\\ub294 \\uc5f0 1\\uc870\\uc6d0 \\uc548\\ud30e\\uc758 \\ub300\\uaddc\\ubaa8 \\uc801\\uc790\\ub97c \\ub0b4\\uace0 \\uc788\\uc5b4 \\uc778\\ub825 \\uac10\\ucd95\\uc774 \\ubd88\\uac00\\ud53c\\ud558\\ub2e4\\ub294 \\uc785\\uc7a5\\uc774\\ub2e4. \\ubc18\\uba74 \\uc5f0\\ud569\\uad50\\uc12d\\ub2e8\\uc740 \\ubb34\\ub9ac\\ud55c \\uc778\\ub825 \\uac10\\ucd95\\uc774 \\uc2dc\\ubbfc\\uc758 \\uc548\\uc804 \\ubb38\\uc81c\\uc640 \\uc9c1\\uacb0\\ub420 \\uc218 \\uc788\\ub2e4\\uba70 \\uac10\\ucd95\\uc548 \\ucca0\\ud68c\\ub97c \\uc694\\uad6c\\ud588\\ub2e4\\n\\n\\ub178\\uc0ac\\uac00 \\ub9fa\\uc740 \\ud544\\uc218 \\uc720\\uc9c0\\uc5c5\\ubb34 \\uc2e4\\ubb34 \\ud611\\uc815\\uc5d0 \\ub530\\ub77c \\ud30c\\uc5c5 \\uae30\\uac04 1~4\\ud638\\uc120 65.7%, 5~8\\ud638\\uc120 79.8%\\uc758 \\uc6b4\\ud589\\ub960\\uc740 \\uc720\\uc9c0\\ub3fc\\uc57c \\ud55c\\ub2e4. \\uc11c\\uc6b8\\uad50\\ud1b5\\uacf5\\uc0ac\\ucabd\\uc740 \\u201c9\\uc77c\\ubd80\\ud130 \\uacbd\\uace0\\ud30c\\uc5c5\\uc5d0 \\ub3cc\\uc785\\ud558\\ub354\\ub77c\\ub3c4 \\ud30c\\uc5c5 \\ub300\\ube44 \\uc815\\uc0c1\\uc6b4\\ud589 \\ub300\\ucc45\\ubcf8\\ubd80\\ub97c \\uc6b4\\uc601\\ud574 \\uc5f4\\ucc28 \\uc815\\uc0c1 \\uc6b4\\ud589\\uacfc \\uc2dc\\uc124\\ubb3c \\uc548\\uc804 \\ud655\\ubcf4 \\ub4f1 \\ub300\\ucc45\\uc744 \\ub9c8\\ub828\\ud574 \\uc2dc\\ubbfc\\uc758 \\ubd88\\ud3b8\\uc744 \\ucd5c\\uc18c\\ud654\\ud560 \\uacc4\\ud68d\\u201d\\uc774\\ub77c\\uba70 \\u201c\\u201c(\\ud30c\\uc5c5 \\ub3cc\\uc785 \\uc2dc) \\ud544\\uc218\\uc720\\uc9c0\\uc5c5\\ubb34 \\uc778\\ub825\\uacfc \\ub300\\uccb4 \\uc778\\ub825 \\ub4f1\\uc744 \\ud655\\ubcf4\\ud574 \\uc624\\uc804 7\\uc2dc\\u223c9\\uc2dc \\ucd9c\\uadfc\\uae38\\uc5d0\\ub294 100%, \\ub098\\uba38\\uc9c0 \\uc2dc\\uac04\\uc5d0\\ub294 80% \\uc815\\ub3c4 \\uc218\\uc900\\uc758 \\uc6b4\\ud589\\ub960\\ub85c \\uc2dc\\ubbfc \\ubd88\\ud3b8\\uc744 \\ucd5c\\uc18c\\ud654\\ud560 \\uac83\\u201d\\uc774\\ub77c\\uace0 \\ub9d0\\ud588\\ub2e4.\\n\\n\\n\"\n        ],\n        \"semantic_type\": \"\",\n        \"description\": \"\"\n      }\n    },\n    {\n      \"column\": \"output\",\n      \"properties\": {\n        \"dtype\": \"string\",\n        \"num_unique_values\": 5,\n        \"samples\": [\n          \"**\\uc81c\\ubaa9: \\\"\\uc9c0\\ud558\\ucca0 \\ud30c\\uc5c5 \\uc18c\\uc2dd, \\uc624\\ub298 \\ub2f9\\uc2e0\\uc758 \\ud1f4\\uadfc\\uae38\\uc740 \\uc548\\uc804\\ud55c\\uac00\\uc694?\\\"**\\n\\n**\\uc2dc\\uc791\\ud558\\ub294 \\ub9d0**  \\n\\uc548\\ub155\\ud558\\uc138\\uc694, \\uc5ec\\ub7ec\\ubd84\\uc758 \\ucd9c\\ud1f4\\uadfc \\uba54\\uc2e0\\uc800 \\uc9c0\\ud558\\ucca0 \\uc628\\ub2e4\\uc758 '\\uc624.\\uc9c0.\\ud1b5 [\\uc624\\ub298\\uc758 \\uc9c0\\ud558\\ucca0 \\uc18c\\uc2dd\\ud1b5]' \\uc778\\uc0ac \\ub4dc\\ub9bd\\ub2c8\\ub2e4!\\n\\n**\\ud30c\\uc5c5 \\uc77c\\uc2dc**  \\n2023\\ub144 11\\uc6d4 9\\uc77c\\ubd80\\ud130 2\\uc77c\\uac04\\n\\n**\\ud30c\\uc5c5 \\ub178\\uc120**  \\n\\uc11c\\uc6b8 \\uc9c0\\ud558\\ucca0 1~8\\ud638\\uc120\\n\\n**\\ud30c\\uc5c5 \\uc774\\uc720**  \\n\\uc11c\\uc6b8\\uad50\\ud1b5\\uacf5\\uc0ac\\uc758 \\uc778\\ub825 \\uac10\\ucd95 \\uacc4\\ud68d\\uc5d0 \\ub300\\ud55c \\ub178\\uc870\\uc758 \\ubc18\\ub300\\n\\n**\\ubb38\\uc758 \\uc0ac\\ud56d \\ub9c1\\ud06c**  \\n[\\uc11c\\uc6b8\\uad50\\ud1b5\\uacf5\\uc0ac \\uace0\\uac1d\\uc13c\\ud130](https://www.seoulmetro.co.kr/kr/contactUs.do)\\n\\n**\\ubcf8\\ubb38**  \\n\\uc624\\ub298 \\uc11c\\uc6b8 \\uc9c0\\ud558\\ucca0 \\uc774\\uc6a9\\uc790 \\uc5ec\\ub7ec\\ubd84, \\ub178\\uc870\\uc758 \\uacbd\\uace0 \\ud30c\\uc5c5\\uc73c\\ub85c \\uc778\\ud574 \\uc0c1\\ub2f9\\ud55c \\ubd88\\ud3b8\\uc744 \\uacaa\\uace0 \\uacc4\\uc2dc\\uc8e0? \\uc11c\\uc6b8\\uad50\\ud1b5\\uacf5\\uc0ac \\ub178\\uc870\\uac00 \\uc2dc\\uc791\\ud55c \\uc774\\ud2c0\\uac04\\uc758 \\uacbd\\uace0 \\ud30c\\uc5c5\\uc740 \\ub9ce\\uc740 \\uc2dc\\ubbfc\\ub4e4\\uc758 \\uc77c\\uc0c1\\uc5d0 \\ud070 \\uc601\\ud5a5\\uc744 \\ubbf8\\uce58\\uace0 \\uc788\\uc2b5\\ub2c8\\ub2e4. \\ud2b9\\ud788 \\uc624\\ub298\\ucc98\\ub7fc \\ud30c\\uc5c5 \\uccab\\ub0a0\\uc740 \\ud1f4\\uadfc \\uc2dc\\uac04\\ub300\\uc758 \\ud63c\\uc7a1\\uc774 \\uc608\\uc0c1\\ubcf4\\ub2e4 \\uc2ec\\uac01\\ud588\\uc2b5\\ub2c8\\ub2e4.\\n\\n\\ub178\\uc870 \\uce21\\uc740 \\uc11c\\uc6b8\\uad50\\ud1b5\\uacf5\\uc0ac\\uc758 \\uc778\\ub825 \\uac10\\ucd95 \\uacc4\\ud68d\\uc5d0 \\ubc18\\ub300\\ud558\\uba70, \\uc774\\ub7ec\\ud55c \\uac10\\ucd95\\uc774 \\uc2dc\\ubbfc\\uacfc \\ub178\\ub3d9\\uc790\\uc758 \\uc548\\uc804\\uc744 \\uc704\\ud611\\ud560 \\uc218 \\uc788\\ub2e4\\uace0 \\uc8fc\\uc7a5\\ud558\\uace0 \\uc788\\uc2b5\\ub2c8\\ub2e4. \\uacf5\\uc0ac \\uce21\\uc740 \\uc5f0\\uac04 1\\uc870\\uc6d0\\uc5d0 \\ub2ec\\ud558\\ub294 \\uc801\\uc790\\ub97c \\uc904\\uc774\\uae30 \\uc704\\ud574 \\uc778\\ub825 \\uac10\\ucd95\\uc774 \\ud544\\uc694\\ud558\\ub2e4\\ub294 \\uc785\\uc7a5\\uc785\\ub2c8\\ub2e4. \\uc774\\ub7ec\\ud55c \\uc0c1\\ud669 \\uc18d\\uc5d0\\uc11c\\ub3c4 \\ub9ce\\uc740 \\uc2dc\\ubbfc\\ub4e4\\uc740 \\ud30c\\uc5c5\\uc758 \\ubc30\\uacbd\\uc774\\ub098 \\uc815\\ud655\\ud55c \\uc774\\uc720\\uc5d0 \\ub300\\ud574 \\uc798 \\ubaa8\\ub974\\uace0 \\uc788\\ub294 \\uac83\\uc73c\\ub85c \\ub098\\ud0c0\\ub0ac\\uc2b5\\ub2c8\\ub2e4.\\n\\n\\uc624\\ub298\\uc758 \\ud63c\\ub780\\uc744 \\uc9c1\\uc811 \\uacbd\\ud5d8\\ud55c \\uc2dc\\ubbfc\\ub4e4\\uc740 \\ub2e4\\uc591\\ud55c \\ubc18\\uc751\\uc744 \\ubcf4\\uc600\\uc2b5\\ub2c8\\ub2e4. \\uc77c\\ubd80\\ub294 \\ub178\\uc870\\uc758 \\ud30c\\uc5c5\\uc744 \\uc9c0\\uc9c0\\ud558\\uba74\\uc11c\\ub3c4, \\uc77c\\uc0c1\\uc5d0 \\ubd88\\ud3b8\\uc744 \\uacaa\\ub294 \\uac83\\uc5d0 \\ub300\\ud574 \\uc6b0\\ub824\\ub97c \\ud45c\\ud588\\uc2b5\\ub2c8\\ub2e4. \\ub2e4\\ub978 \\ud55c\\ud3b8\\uc73c\\ub85c\\ub294 \\uc870\\uc9c1\\uc758 \\ube44\\ub300\\ud654\\uc5d0 \\ub530\\ub978 \\uc801\\uc808\\ud55c \\uc870\\uce58\\ub77c\\uace0 \\ubcf4\\ub294 \\uc2dc\\uac01\\ub3c4 \\uc788\\uc5c8\\uc2b5\\ub2c8\\ub2e4.\\n\\n\\uc9c0\\ud558\\ucca0\\uc744 \\uc774\\uc6a9\\ud558\\ub294 \\ub9ce\\uc740 \\uc2dc\\ubbfc\\ub4e4\\uc774 \\ubd88\\ud3b8\\uc744 \\ud638\\uc18c\\ud558\\uba70, \\ub300\\uccb4 \\uad50\\ud1b5\\uc218\\ub2e8\\uc744 \\uc774\\uc6a9\\ud558\\ub294 \\ubaa8\\uc2b5\\ub3c4 \\ubcf4\\uc600\\uc2b5\\ub2c8\\ub2e4. \\ubc84\\uc2a4 \\uc815\\ub958\\uc7a5\\uc5d0\\ub294 \\ud3c9\\uc18c\\ubcf4\\ub2e4 \\ub9ce\\uc740 \\uc0ac\\ub78c\\ub4e4\\uc774 \\ubab0\\ub824 \\uae34 \\ub300\\uae30 \\uc2dc\\uac04\\uc744 \\uac10\\uc218\\ud574\\uc57c \\ud588\\uc2b5\\ub2c8\\ub2e4.\\n\\n**\\ub9c8\\ubb34\\ub9ac \\ub9d0**  \\n\\uc11c\\uc6b8 \\uc9c0\\ud558\\ucca0 \\ud30c\\uc5c5\\uc73c\\ub85c \\uc544\\uce68\\ub9c8\\ub2e4 \\ucd9c\\uadfc\\ud558\\uae30 \\ud798\\ub4dc\\uc2dc\\uc8e0? \\uc624\\uc9c0\\ud1b5\\uc774 \\uc2e4\\uc2dc\\uac04\\uc73c\\ub85c \\ub2e4\\uc591\\ud55c \\uc9c0\\ud558\\ucca0 \\uc815\\ubcf4\\ub97c \\uc5c5\\ub370\\uc774\\ud2b8 \\ud560 \\uc608\\uc815\\uc774\\ub2c8, \\uc790\\uc8fc \\ubc29\\ubb38\\ud574 \\uc8fc\\uc138\\uc694. '\\uc9c0\\ud558\\ucca0 \\uc628\\ub2e4'\\ub294 \\ub2e8 \\ud55c \\ubc88\\uc758 \\ud130\\uce58\\ub85c \\uc790\\uc2e0\\uc758 \\uc704\\uce58\\uc5d0\\uc11c \\uac00\\uc7a5 \\uac00\\uae4c\\uc6b4 \\uc9c0\\ud558\\ucca0 \\uc5ed\\uc758 \\uc2e4\\uc2dc\\uac04 \\uc815\\ubcf4\\ub97c \\uc81c\\uacf5\\ud569\\ub2c8\\ub2e4. \\uc774\\ubc88 \\ud30c\\uc5c5\\uc744 \\ud1b5\\ud574 \\uc11c\\ub85c\\uc758 \\uc785\\uc7a5\\uc744 \\uc774\\ud574\\ud558\\uace0 \\ub354 \\ub098\\uc740 \\ud574\\uacb0\\ucc45\\uc744 \\ucc3e\\uc744 \\uc218 \\uc788\\uae38 \\ubc14\\ub78d\\ub2c8\\ub2e4. \\ud568\\uaed8 \\uc774\\uaca8\\ub0b4\\uc694, \\uc11c\\uc6b8!\\n\\n\\ud83d\\udd3d [\\uc9c0\\ud558\\ucca0 \\uc628\\ub2e4 \\uc18c\\uac1c \\ubcf4\\ub7ec\\uac00\\uae30](https://blog.naver.com/subway__onda/223258646349)\",\n          \"**\\uc7a5\\uc560\\uc778 \\uc774\\ub3d9\\uad8c \\uc694\\uad6c, \\uc11c\\uc6b8 4\\ud638\\uc120 \\uc2dc\\uc704\\uc758 \\uc911\\uc2ec\\uc5d0 \\uc11c\\ub2e4**\\n\\n\\uc548\\ub155\\ud558\\uc138\\uc694, \\uc5ec\\ub7ec\\ubd84\\uc758 \\ucd9c\\ud1f4\\uadfc \\uba54\\uc2e0\\uc800 \\uc9c0\\ud558\\ucca0 \\uc628\\ub2e4\\uc758 '\\uc624.\\uc9c0.\\ud1b5 [\\uc624\\ub298\\uc758 \\uc9c0\\ud558\\ucca0 \\uc18c\\uc2dd\\ud1b5]' \\uc778\\uc0ac \\ub4dc\\ub9bd\\ub2c8\\ub2e4!\\n\\n**\\ud30c\\uc5c5 \\uc77c\\uc2dc:** 2023\\ub144 1\\uc6d4 3\\uc77c\\n**\\ud30c\\uc5c5 \\ub178\\uc120:** \\uc11c\\uc6b8 \\uc9c0\\ud558\\ucca0 4\\ud638\\uc120\\n**\\ud30c\\uc5c5 \\uc774\\uc720:** \\uc7a5\\uc560\\uc778 \\uc774\\ub3d9\\uad8c \\uc608\\uc0b0 \\ud655\\ubcf4 \\uc694\\uad6c\\n**\\ubb38\\uc758 \\uc0ac\\ud56d \\ub9c1\\ud06c:** [\\uc11c\\uc6b8\\uad50\\ud1b5\\uacf5\\uc0ac \\uace0\\uac1d\\uc13c\\ud130](https://www.seoulmetro.co.kr/kr/contact.do)\\n\\n\\uc7a5\\uc560\\uc778\\uc758 \\uc774\\ub3d9\\uad8c \\ubcf4\\uc7a5\\uc744 \\uc704\\ud55c \\uc804\\uad6d\\uc7a5\\uc560\\uc778\\ucc28\\ubcc4\\ucca0\\ud3d0\\uc5f0\\ub300(\\uc804\\uc7a5\\uc5f0)\\uc758 \\uc2dc\\uc704\\uac00 \\uc9c0\\uc18d\\ub418\\uba74\\uc11c \\uc11c\\uc6b8 \\uc9c0\\ud558\\ucca0 4\\ud638\\uc120\\uc774 \\ub9ce\\uc740 \\uc2dc\\ubbfc\\ub4e4\\uc758 \\uc8fc\\ubaa9\\uc744 \\ubc1b\\uace0 \\uc788\\uc2b5\\ub2c8\\ub2e4. \\uc804\\uc7a5\\uc5f0\\uc740 \\uc774\\ub3d9\\uad8c \\uc608\\uc0b0 \\ud655\\ubcf4\\ub97c \\ubaa9\\ud45c\\ub85c, \\uc62c\\ud574 \\ud3c9\\uc77c 260\\uc77c \\ub3d9\\uc548 \\uc2dc\\uc704\\ub97c \\uacc4\\ud68d\\ud558\\uace0 \\uc788\\uc2b5\\ub2c8\\ub2e4. \\uc774\\ub294 \\ub9ce\\uc740 \\uc2dc\\ubbfc\\ub4e4\\uc758 \\uc77c\\uc0c1\\uc5d0 \\uc601\\ud5a5\\uc744 \\ubbf8\\uce60 \\uc218 \\uc788\\ub294 \\ud070 \\uc774\\uc288\\ub85c, \\ud2b9\\ud788 \\ucd9c\\uadfc\\uae38\\uc5d0 \\uc774\\uc6a9\\ud558\\ub294 \\uc2dc\\ubbfc\\ub4e4\\uc5d0\\uac8c\\ub294 \\ub354\\ud560 \\ub098\\uc704 \\uc5c6\\uc774 \\uc911\\uc694\\ud55c \\uc18c\\uc2dd\\uc785\\ub2c8\\ub2e4.\\n\\n\\uc2dc\\uc704\\ub294 \\uc131\\uc2e0\\uc5ec\\ub300\\uc785\\uad6c\\uc5ed\\uc5d0\\uc11c \\uc2dc\\uc791\\ud558\\uc5ec \\ub3d9\\ub300\\ubb38\\uc5ed\\uc0ac\\ubb38\\ud654\\uacf5\\uc6d0\\uc5ed\\uacfc \\uc0bc\\uac01\\uc9c0\\uc5ed\\uc73c\\ub85c \\uc774\\uc5b4\\uc84c\\uc2b5\\ub2c8\\ub2e4. \\uc804\\uc7a5\\uc5f0 \\ud68c\\uc6d0\\ub4e4\\uacfc \\uacbd\\ucc30, \\uc11c\\uc6b8\\uad50\\ud1b5\\uacf5\\uc0ac \\uc9c1\\uc6d0\\ub4e4 \\uac04\\uc758 \\ub300\\uce58\\ub294 \\uacf5\\uacf5\\uc758 \\uc7a5\\uc18c\\uc5d0\\uc11c \\ubc8c\\uc5b4\\uc9c4 \\ucda9\\ub3cc\\ub85c, \\uc77c\\ubd80 \\ubd80\\uc0c1\\uc790\\ub3c4 \\ubc1c\\uc0dd\\ud588\\uc2b5\\ub2c8\\ub2e4. \\uc774\\ub7ec\\ud55c \\uc0c1\\ud669\\uc740 \\ub178\\uc120 \\uc774\\uc6a9\\uac1d\\ub4e4\\uc5d0\\uac8c \\ubd88\\ud3b8\\uc744 \\ucd08\\ub798\\ud558\\uace0 \\uc788\\uc73c\\uba70, \\ub9ce\\uc740 \\uc2dc\\ubbfc\\ub4e4\\uc774 \\uc774\\uc5d0 \\ub300\\ud55c \\uba85\\ud655\\ud55c \\uc815\\ubcf4\\uc640 \\uacf5\\uc9c0\\ub97c \\uc6d0\\ud558\\uace0 \\uc788\\uc2b5\\ub2c8\\ub2e4.\\n\\n\\uc624\\uc138\\ud6c8 \\uc11c\\uc6b8\\uc2dc\\uc7a5\\uacfc \\uc11c\\uc6b8\\uad50\\ud1b5\\uacf5\\uc0ac\\ub294 \\uc774\\uc5d0 \\ub300\\ud55c \\uac15\\ub825\\ud55c \\ub300\\uc751\\uc744 \\uc608\\uace0\\ud588\\uc2b5\\ub2c8\\ub2e4. \\ubc95\\uc801 \\uc870\\uce58\\uc640 \\ubbfc\\u00b7\\ud615\\uc0ac\\uc801 \\ub300\\uc751\\uc744 \\ud3ec\\ud568\\ud55c \\ubb34\\uad00\\uc6a9 \\uc815\\ucc45\\uc744 \\ud3bc\\uce60 \\uac83\\uc774\\ub77c\\ub294 \\uc785\\uc7a5\\uc785\\ub2c8\\ub2e4. \\ubc18\\uba74, \\uc804\\uc7a5\\uc5f0\\uc740 \\uc774\\ub3d9\\uad8c \\ubcf4\\uc7a5\\uc774\\ub77c\\ub294 \\uc911\\uc694\\ud55c \\uc0ac\\ud68c\\uc801 \\uc774\\uc288\\ub97c \\ud574\\uacb0\\ud558\\uae30 \\uc704\\ud574 \\uacc4\\uc18d\\ud574\\uc11c \\ubaa9\\uc18c\\ub9ac\\ub97c \\ub0bc \\uacc4\\ud68d\\uc785\\ub2c8\\ub2e4.\\n\\n\\uc774\\ubc88 \\uc0ac\\ud0dc\\uac00 \\uc7a5\\uc560\\uc778\\uc758 \\uad8c\\ub9ac\\uc640 \\uc77c\\ubc18 \\uc2dc\\ubbfc\\uc758 \\ubd88\\ud3b8 \\uc0ac\\uc774\\uc5d0\\uc11c \\uc5b4\\ub5bb\\uac8c \\uc870\\ud654\\ub97c \\uc774\\ub8f0 \\uc218 \\uc788\\uc744\\uc9c0\\ub294 \\uc9c0\\ucf1c\\ubcfc \\ud544\\uc694\\uac00 \\uc788\\uc2b5\\ub2c8\\ub2e4. \\uac01\\uc790\\uc758 \\uc785\\uc7a5\\uc5d0\\uc11c \\uc0c1\\ub300\\ubc29\\uc758 \\uc5b4\\ub824\\uc6c0\\uc744 \\uc774\\ud574\\ud558\\uace0 \\uacf5\\uac10\\ud558\\ub294 \\uac83\\uc774 \\uc911\\uc694\\ud558\\uba70, \\uc774\\ub97c \\ud1b5\\ud574 \\ub354 \\ub098\\uc740 \\ud574\\uacb0\\ucc45\\uc744 \\ucc3e\\uc544\\uac00\\uc57c \\ud569\\ub2c8\\ub2e4.\\n\\n\\uc624\\uc9c0\\ud1b5\\uc774 \\uc2e4\\uc2dc\\uac04\\uc73c\\ub85c \\ub2e4\\uc591\\ud55c \\uc9c0\\ud558\\ucca0 \\uc815\\ubcf4\\ub97c \\uc5c5\\ub370\\uc774\\ud2b8 \\ud560 \\uc608\\uc815\\uc774\\ub2c8, \\uc790\\uc8fc \\ubc29\\ubb38\\ud574 \\uc8fc\\uc138\\uc694. '\\uc9c0\\ud558\\ucca0 \\uc628\\ub2e4'\\ub294 \\ub2e8 \\ud55c \\ubc88\\uc758 \\ud130\\uce58\\ub85c \\uc790\\uc2e0\\uc758 \\uc704\\uce58\\uc5d0\\uc11c \\uac00\\uc7a5 \\uac00\\uae4c\\uc6b4 \\uc9c0\\ud558\\ucca0 \\uc5ed\\uc758 \\uc2e4\\uc2dc\\uac04 \\uc815\\ubcf4\\ub97c \\uc81c\\uacf5\\ud569\\ub2c8\\ub2e4.\\n\\n\\ud83d\\udd3d \\uc9c0\\ud558\\ucca0 \\uc628\\ub2e4 \\uc18c\\uac1c \\ubcf4\\ub7ec\\uac00\\uae30\\nhttps://blog.naver.com/subway__onda/223258646349\\n\\n\\uc774\\ub807\\uac8c \\uc544\\uce68\\ub9c8\\ub2e4 \\uc9c0\\ud558\\ucca0 \\ud30c\\uc5c5\\uc73c\\ub85c \\ucd9c\\uadfc\\ud558\\uae30 \\ud798\\ub4dc\\uc2dc\\uc8e0? \\uc6b0\\ub9ac \\ubaa8\\ub450\\uac00 \\uc870\\uae08\\ub9cc \\ub354 \\uc774\\ud574\\ud558\\uace0 \\ubc30\\ub824\\ud55c\\ub2e4\\uba74 \\ub354 \\ub098\\uc740 \\ucd9c\\uadfc\\uae38\\uc774 \\ub420 \\uac70\\uc608\\uc694! \\ud798\\ub4e0 \\uc544\\uce68, \\uc624\\uc9c0\\ud1b5\\uacfc \\ud568\\uaed8 \\uc870\\uae08 \\ub354 \\ud3b8\\uc548\\ud558\\uace0 \\uc990\\uac70\\uc6b4 \\ucd9c\\uadfc\\uae38\\uc744 \\ub9cc\\ub4e4\\uc5b4 \\ubcf4\\uc544\\uc694!\",\n          \"**\\uc11c\\uc6b8 \\uc9c0\\ud558\\ucca0 \\ud30c\\uc5c5 \\uc18c\\uc2dd: \\uc6b4\\ud589 \\ucc28\\uc9c8 \\uc608\\uace0! 1~8\\ud638\\uc120 \\uc6b4\\ud589\\ub960\\uc5d0 \\ube68\\uac04\\ubd88\\uc774 \\ucf1c\\uc84c\\uc5b4\\uc694!**\\n\\n\\uc548\\ub155\\ud558\\uc138\\uc694, \\uc5ec\\ub7ec\\ubd84\\uc758 \\ucd9c\\ud1f4\\uadfc \\uba54\\uc2e0\\uc800 \\uc9c0\\ud558\\ucca0 \\uc628\\ub2e4\\uc758 '\\uc624.\\uc9c0.\\ud1b5 [\\uc624\\ub298\\uc758 \\uc9c0\\ud558\\ucca0 \\uc18c\\uc2dd\\ud1b5]' \\uc778\\uc0ac \\ub4dc\\ub9bd\\ub2c8\\ub2e4!\\n\\n**\\ud30c\\uc5c5 \\uc77c\\uc2dc:** 2023\\ub144 11\\uc6d4 9\\uc77c \\uc624\\uc804 9\\uc2dc\\ubd80\\ud130 11\\uc6d4 10\\uc77c \\uc624\\ud6c4 6\\uc2dc\\uae4c\\uc9c0  \\n**\\ud30c\\uc5c5 \\ub178\\uc120:** \\uc11c\\uc6b8\\uc9c0\\ud558\\ucca0 1~8\\ud638\\uc120  \\n**\\ud30c\\uc5c5 \\uc774\\uc720:** \\uc778\\ub825 \\uac10\\ucd95 \\ubc0f \\uc678\\uc8fc\\ud654 \\ubb38\\uc81c\\ub85c \\uc778\\ud55c \\ub178\\uc0ac \\uac04 \\ud611\\uc0c1 \\uacb0\\ub82c  \\n**\\ubb38\\uc758 \\uc0ac\\ud56d \\ub9c1\\ud06c:** [\\uc11c\\uc6b8\\uad50\\ud1b5\\uacf5\\uc0ac \\uace0\\uac1d\\uc13c\\ud130](https://www.seoulmetro.co.kr/kr/customer.do)\\n\\n\\uc11c\\uc6b8\\uc9c0\\ud558\\ucca0 1~8\\ud638\\uc120\\uc744 \\uc6b4\\uc601\\ud558\\ub294 \\uc11c\\uc6b8\\uad50\\ud1b5\\uacf5\\uc0ac \\ub178\\ub3d9\\uc870\\ud569\\uc774 \\uc624\\ub298 \\uc544\\uce68 9\\uc2dc\\ubd80\\ud130 \\ub0b4\\uc77c \\uc624\\ud6c4 6\\uc2dc\\uae4c\\uc9c0 \\uc774\\ud2c0 \\ub3d9\\uc548\\uc758 \\uacbd\\uace0 \\ud30c\\uc5c5\\uc5d0 \\ub4e4\\uc5b4\\uac11\\ub2c8\\ub2e4. \\uc774\\ubc88 \\ud30c\\uc5c5\\uc740 \\ub178\\uc0ac \\uac04\\uc758 \\ub9c8\\uc9c0\\ub9c9 \\uad50\\uc12d\\uc5d0\\uc11c \\ud569\\uc758\\uc810\\uc744 \\ucc3e\\uc9c0 \\ubabb\\ud55c \\uacb0\\uacfc\\ub85c, \\uc11c\\uc6b8 \\uc2dc\\ub0b4 \\uc8fc\\uc694 \\uc9c0\\ud558\\ucca0 \\ub178\\uc120\\uc758 \\uc6b4\\ud589\\uc5d0 \\ud070 \\uc601\\ud5a5\\uc744 \\ubbf8\\uce60 \\uc608\\uc815\\uc785\\ub2c8\\ub2e4.\\n\\n\\ud575\\uc2ec \\uc7c1\\uc810\\uc740 \\uacf5\\uc0ac \\uce21\\uc774 \\uc81c\\uc548\\ud55c \\uc778\\ub825 \\uac10\\ucd95\\uc548\\uc785\\ub2c8\\ub2e4. \\uc11c\\uc6b8\\uad50\\ud1b5\\uacf5\\uc0ac\\ub294 \\ud604\\uc7ac \\uc5f0 1\\uc870\\uc6d0\\uc5d0 \\uc721\\ubc15\\ud558\\ub294 \\ub300\\uaddc\\ubaa8 \\uc801\\uc790\\ub97c \\uba54\\uc6b0\\uae30 \\uc704\\ud574 \\uc624\\ub294 2026\\ub144\\uae4c\\uc9c0 \\ucd1d 2212\\uba85, \\uc989 \\uc804\\uccb4 \\uc9c1\\uc6d0\\uc758 \\uc57d 13.5%\\ub97c \\uac10\\ucd95\\ud558\\uaca0\\ub2e4\\ub294 \\uacc4\\ud68d\\uc744 \\ubc1c\\ud45c\\ud588\\uc2b5\\ub2c8\\ub2e4. \\uc774\\uc5d0 \\ub300\\ud574 \\ub178\\uc870\\ub294 \\uc2dc\\ubbfc\\uc758 \\uc548\\uc804\\uc744 \\ud574\\uce60 \\uc218 \\uc788\\ub294 \\ubb34\\ub9ac\\ud55c \\uc778\\ub825 \\uac10\\ucd95\\uc5d0 \\ubc18\\ub300\\ud558\\uba70 \\uac15\\ud558\\uac8c \\ub9de\\uc11c\\uace0 \\uc788\\uc2b5\\ub2c8\\ub2e4.\\n\\n\\uacf5\\uc0ac\\ub294 \\ud30c\\uc5c5 \\uae30\\uac04 \\ub3d9\\uc548 \\ud544\\uc218 \\uc720\\uc9c0\\uc5c5\\ubb34 \\uc778\\ub825\\uacfc \\ub300\\uccb4 \\uc778\\ub825\\uc744 \\ub3d9\\uc6d0, \\uc624\\uc804 \\ucd9c\\uadfc \\uc2dc\\uac04\\ub300\\uc5d0\\ub294 100% \\uac00\\uae4c\\uc774 \\uc6b4\\ud589\\ub960\\uc744 \\uc720\\uc9c0\\ud558\\uace0, \\uadf8 \\uc678 \\uc2dc\\uac04\\uc5d0\\ub294 \\uc57d 80% \\uc218\\uc900\\uc744 \\uc720\\uc9c0\\ud560 \\uacc4\\ud68d\\uc774\\ub77c\\uace0 \\ubc1d\\ud614\\uc2b5\\ub2c8\\ub2e4. \\ud558\\uc9c0\\ub9cc, \\uc2e4\\uc81c \\uc6b4\\ud589\\ub960\\uc740 \\ud30c\\uc5c5 \\ucc38\\uc5ec\\uc728\\uacfc \\uc0c1\\ud669\\uc5d0 \\ub530\\ub77c \\ub2ec\\ub77c\\uc9c8 \\uc218 \\uc788\\uc73c\\ub2c8, \\ucd9c\\ud1f4\\uadfc\\uae38\\uc5d0\\ub294 \\ubbf8\\ub9ac \\ub300\\ube44\\ucc45\\uc744 \\ub9c8\\ub828\\ud558\\ub294 \\ud3b8\\uc774 \\uc88b\\uaca0\\uc2b5\\ub2c8\\ub2e4.\\n\\n\\uc6b0\\ub9ac \\ubaa8\\ub450 \\uc544\\uce68\\ub9c8\\ub2e4 \\ucd9c\\uadfc\\ud558\\uae30 \\ud798\\ub4e4\\uc9c0\\ub9cc, \\uc774\\ubc88 \\uc9c0\\ud558\\ucca0 \\ud30c\\uc5c5\\uc73c\\ub85c \\uc778\\ud574 \\ud55c\\uce35 \\ub354 \\ubcf5\\uc7a1\\ud574\\uc9c8 \\uc218 \\uc788\\ub294 \\uc0c1\\ud669, \\uacf5\\uac10\\ud558\\uace0 \\uacc4\\uc2dc\\uc8e0? \\uc774\\ub7f4 \\ub54c\\uc77c\\uc218\\ub85d \\ubbf8\\ub9ac\\ubbf8\\ub9ac \\uc815\\ubcf4\\ub97c \\ud655\\uc778\\ud558\\uace0, \\uac00\\ub2a5\\ud55c \\ub300\\uc548 \\uad50\\ud1b5\\uc218\\ub2e8\\uc744 \\ubbf8\\ub9ac \\uc54c\\uc544\\ubcf4\\ub294 \\uc13c\\uc2a4\\ub97c \\ubc1c\\ud718\\ud574\\uc57c \\ud569\\ub2c8\\ub2e4.\\n\\n\\uc624\\uc9c0\\ud1b5\\uc774 \\uc2e4\\uc2dc\\uac04\\uc73c\\ub85c \\ub2e4\\uc591\\ud55c \\uc9c0\\ud558\\ucca0 \\uc815\\ubcf4\\ub97c \\uc5c5\\ub370\\uc774\\ud2b8 \\ud560 \\uc608\\uc815\\uc774\\ub2c8, \\uc790\\uc8fc \\ubc29\\ubb38\\ud574 \\uc8fc\\uc138\\uc694. '\\uc9c0\\ud558\\ucca0 \\uc628\\ub2e4'\\ub294 \\ub2e8 \\ud55c \\ubc88\\uc758 \\ud130\\uce58\\ub85c \\uc790\\uc2e0\\uc758 \\uc704\\uce58\\uc5d0\\uc11c \\uac00\\uc7a5 \\uac00\\uae4c\\uc6b4 \\uc9c0\\ud558\\ucca0 \\uc5ed\\uc758 \\uc2e4\\uc2dc\\uac04 \\uc815\\ubcf4\\ub97c \\uc81c\\uacf5\\ud569\\ub2c8\\ub2e4.\\n\\n\\ud83d\\udd3d \\uc9c0\\ud558\\ucca0 \\uc628\\ub2e4 \\uc18c\\uac1c \\ubcf4\\ub7ec\\uac00\\uae30  \\n[\\uc5ec\\uae30\\ub97c \\ud074\\ub9ad\\ud558\\uc138\\uc694!](https://blog.naver.com/subway__onda/223258646349)\"\n        ],\n        \"semantic_type\": \"\",\n        \"description\": \"\"\n      }\n    },\n    {\n      \"column\": \"Consistency\",\n      \"properties\": {\n        \"dtype\": \"category\",\n        \"num_unique_values\": 2,\n        \"samples\": [\n          \"5\",\n          \"{score: 5}\"\n        ],\n        \"semantic_type\": \"\",\n        \"description\": \"\"\n      }\n    },\n    {\n      \"column\": \"Coherence\",\n      \"properties\": {\n        \"dtype\": \"string\",\n        \"num_unique_values\": 4,\n        \"samples\": [\n          \"Coherence: 4\\n\\nThe blog content presents a well-structured summary of the Seoul subway strike. It clearly outlines the strike's timing, affected lines, reasons behind the strike, and the potential impact on the subway's operation. The transitions between topics are smooth, and the information is logically arranged from the introduction of the strike details to the implications and advice for commuters. However, there could be a slight improvement in linking the sections more cohesively to enhance the overall coherence slightly.\",\n          \"Coherence Score: 4\\n\\nThe blog content is well-structured, providing clear information about the ongoing protests related to the disability movement's demands for better transit rights on Seoul's Subway Line 4. It effectively outlines the reasons for the protests, the responses from city officials and transit authorities, and the impact on commuters. The transitions between paragraphs are smooth, and the content builds up coherently from introducing the issue to discussing broader community impact and responses. However, there could be a slight improvement in linking the action plans and responses more directly to the outlined problems to enhance coherence further.\"\n        ],\n        \"semantic_type\": \"\",\n        \"description\": \"\"\n      }\n    },\n    {\n      \"column\": \"Friendliness\",\n      \"properties\": {\n        \"dtype\": \"number\",\n        \"std\": 0,\n        \"min\": 3,\n        \"max\": 4,\n        \"num_unique_values\": 2,\n        \"samples\": [\n          4,\n          3\n        ],\n        \"semantic_type\": \"\",\n        \"description\": \"\"\n      }\n    },\n    {\n      \"column\": \"Fluency\",\n      \"properties\": {\n        \"dtype\": \"number\",\n        \"std\": 0,\n        \"min\": 5,\n        \"max\": 5,\n        \"num_unique_values\": 1,\n        \"samples\": [\n          5\n        ],\n        \"semantic_type\": \"\",\n        \"description\": \"\"\n      }\n    },\n    {\n      \"column\": \"Humanlikeness\",\n      \"properties\": {\n        \"dtype\": \"number\",\n        \"std\": 0,\n        \"min\": 4,\n        \"max\": 4,\n        \"num_unique_values\": 1,\n        \"samples\": [\n          4\n        ],\n        \"semantic_type\": \"\",\n        \"description\": \"\"\n      }\n    },\n    {\n      \"column\": \"Readability\",\n      \"properties\": {\n        \"dtype\": \"string\",\n        \"num_unique_values\": 5,\n        \"samples\": [\n          \"**Evaluation Template (Score Only):**\\n\\n4\"\n        ],\n        \"semantic_type\": \"\",\n        \"description\": \"\"\n      }\n    }\n  ]\n}"
            }
          },
          "metadata": {},
          "execution_count": 55
        }
      ]
    },
    {
      "cell_type": "markdown",
      "source": [
        "### **발견한 문제:**\n",
        "* 틀린 정보가 아니라 '누락된' 정보여도 False 로 출력됨\n",
        "* '모름' 또는 '알 수 없음'이라는 선지를 고정 선지로 취해야함\n",
        "* 날짜정보의 선지가 너무 디테일할 경우(년원일 말고 요일, 시간 등이 나와있을 경우) '그런 정보 없음'이라고 모르쇠로 나오는 경우 많음 -> 역시 False 로 출력됨\n",
        "* **음..아니면 질문이나 선지 수, 채점 방식을 바꿔야하나?**"
      ],
      "metadata": {
        "id": "8IWV3u46Fj-l"
      }
    },
    {
      "cell_type": "markdown",
      "source": [
        "## **6-3. 수정본 단일 셀**\n",
        "1. **선지에 (5) '알 수 없음' 무조건 포함**\n",
        "2. **일자정보 질문의 선지 형식 2018-01-01 형식으로 통일**"
      ],
      "metadata": {
        "id": "m5YmHUGbJbXM"
      }
    },
    {
      "cell_type": "code",
      "source": [
        "# PROMPT1 - 뉴스 기반으로 질문 생성 - chain_1으로 생성\n",
        "prompt_1 = ChatPromptTemplate.from_messages([\n",
        "    (\"system\", \"\"\"너는 뉴스 기사를 읽고, 뉴스의 핵심 내용들에 대해서 오지선다 질문을 던지는 것을 잘 해.\"\"\"), # 페르소나 부여\n",
        "    (\"user\", \"\"\"제시된 서울 지하철 뉴스를 읽고, 뉴스의 주요 내용(사건 일시, 사건 지하철 호선, 사건 발생 원인)을 확인하기 위한 3가지 질문을 만들어줘. 이 때, 질문은 1번부터 5번까지의 선지 중에서 하나를 고르는 5지선다형 문제여야만해.\n",
        "    예시= '해당 지하철 사건이 일어난 발생지는 어디인가요? (1)강남역 (2)성수역 (3)수유역 (4)안국역 (5)알 수 없음). 단, 선지 중 하나는 반드시 '알 수 없음' 이어야 하고, '사건 일시' 질문의 선지는 2018-03-08 형식을 갖춰야해.\n",
        "    뉴스= {input}\n",
        "    \"\"\"),\n",
        "    (\"system\", \"\"\"템플릿:\n",
        "    질문1: {{question_1}},\n",
        "    질문2: {{question_2}},\n",
        "    질문3: {{question_3}}\"\"\")\n",
        "])\n",
        "chain_1 = prompt_1 | llm | output_parser\n",
        "\n",
        "# PROMPT2 입력 - 뉴스 기사에 대해 질문의 답변 도출 - chain_2으로 생성\n",
        "prompt_2 = ChatPromptTemplate.from_messages([\n",
        "    (\"system\", \"\"\"너는 뉴스 기사를 읽고, 읽은 내용을 바탕으로 질문에 대해 정확히 답변해\"\"\"), # 페르소나 부여\n",
        "    (\"user\", \"\"\"제시된 서울 지하철 뉴스와 해당 뉴스에 대한 3가지 질문에 대해 답변해줘.\n",
        "    예시= \"1번, 5번, 4번\",\n",
        "    뉴스= {input}\n",
        "    질문= {question}\n",
        "    \"\"\"),\n",
        "    (\"system\", \"\"\"템플릿:\n",
        "    답변1: {{answer_1}}번,\n",
        "    답변2: {{answer_2}}번,\n",
        "    답변3: {{answer_3}}번\"\"\")\n",
        "])\n",
        "chain_2 = prompt_2 | llm | output_parser\n",
        "\n",
        "# PROMPT3 입력 - 블로그글에 대해 질문의 답변 도출 - chain_3으로 생성\n",
        "prompt_3 = ChatPromptTemplate.from_messages([\n",
        "    (\"system\", \"\"\"너는 블로그 글을 읽고, 읽은 내용을 바탕으로 질문에 대해 정확히 답변해\"\"\"), # 페르소나 부여\n",
        "    (\"user\", \"\"\"제시된 서울 지하철 뉴스와 해당 뉴스에 대한 3가지 질문에 대해 답변해줘.\n",
        "    예시= \"1번, 5번, 4번\",\n",
        "    블로그 글= {input}\n",
        "    질문= {question}\n",
        "    \"\"\"),\n",
        "    (\"system\", \"\"\"템플릿:\n",
        "    답변1: {{answer_1}}번,\n",
        "    답변2: {{answer_2}}번,\n",
        "    답변3: {{answer_3}}번\"\"\")\n",
        "])\n",
        "chain_3 = prompt_3 | llm | output_parser\n",
        "\n",
        "\n",
        "\n",
        "# 함수(제목, 날짜, 본문이 따로 추출된 경우)\n",
        "def quan_eval_1(title, date, article, blog):\n",
        "  # news = 제목 + 날짜 + 본문\n",
        "  news = f\"\"\"<뉴스 제목>: {news_title},\n",
        "  <뉴스 생성일자>: {news_date},\n",
        "  <뉴스 본문>: {news_article}\"\"\"\n",
        "\n",
        "  # news 기반으로 질문 3개 생성\n",
        "  question_list = chain_1.invoke({\"input\": news})\n",
        "\n",
        "  # 질문 3개에 대해 news 기반으로 답변\n",
        "  answer_list_news = chain_2.invoke({\"input\": news, \"question\": question_list})\n",
        "\n",
        "  # 질문 3개에 대해 blog 기반으로 답변\n",
        "  answer_list_blog = chain_3.invoke({\"input\": blog, \"question\": question_list})\n",
        "\n",
        "  # 일치 여부 판단(True/False)\n",
        "  return answer_list_news == answer_list_blog\n",
        "\n",
        "\n",
        "\n",
        "# 함수(제목, 날짜, 본문이 따로 추출된 경우)\n",
        "def quan_eval_2(news, blog):\n",
        "\n",
        "  # news 기반으로 질문 3개 생성\n",
        "  question_list = chain_1.invoke({\"input\": news})\n",
        "\n",
        "  # 질문 3개에 대해 news 기반으로 답변\n",
        "  answer_list_news = chain_2.invoke({\"input\": news, \"question\": question_list})\n",
        "\n",
        "  # 질문 3개에 대해 blog 기반으로 답변\n",
        "  answer_list_blog = chain_3.invoke({\"input\": blog, \"question\": question_list})\n",
        "\n",
        "  # 일치 여부 판단(True/False)\n",
        "  return answer_list_news == answer_list_blog"
      ],
      "metadata": {
        "id": "F0rkXrr3IVxR"
      },
      "execution_count": 56,
      "outputs": []
    },
    {
      "cell_type": "code",
      "source": [
        "# 결과까지 다 볼 수 있게 함수 새로 정의\n",
        "def quan_eval_3(news, blog):\n",
        "\n",
        "  # news 기반으로 질문 3개 생성\n",
        "  question_list = chain_1.invoke({\"input\": news})\n",
        "\n",
        "  # 질문 3개에 대해 news 기반으로 답변\n",
        "  answer_list_news = chain_2.invoke({\"input\": news, \"question\": question_list})\n",
        "\n",
        "  # 질문 3개에 대해 blog 기반으로 답변\n",
        "  answer_list_blog = chain_3.invoke({\"input\": blog, \"question\": question_list})\n",
        "\n",
        "  # 일치 여부 판단(True/False)\n",
        "  return answer_list_news == answer_list_blog, '\\n', question_list, '\\n', answer_list_news,'\\n', answer_list_blog"
      ],
      "metadata": {
        "id": "Elo43dYZJQmV"
      },
      "execution_count": 57,
      "outputs": []
    },
    {
      "cell_type": "markdown",
      "source": [
        "## test #1. 파업글에 적용"
      ],
      "metadata": {
        "id": "wmOdBMAtJkSQ"
      }
    },
    {
      "cell_type": "code",
      "source": [
        "quan_eval_3(strike_data.head(1)['text'],strike_data.head(1)['output'])"
      ],
      "metadata": {
        "colab": {
          "base_uri": "https://localhost:8080/"
        },
        "id": "m1f6_brCJTlz",
        "outputId": "44f692d1-87d8-47ec-ee1c-c31069fecb24"
      },
      "execution_count": 59,
      "outputs": [
        {
          "output_type": "execute_result",
          "data": {
            "text/plain": [
              "(True,\n",
              " '\\n',\n",
              " '질문1: 해당 지하철 사건이 일어난 날짜는 언제인가요?\\n(1) 2023-01-15\\n(2) 2023-02-20\\n(3) 2023-03-30\\n(4) 2023-04-05\\n(5) 알 수 없음\\n\\n질문2: 해당 사건이 발생한 지하철 호선은 무엇인가요?\\n(1) 1호선\\n(2) 2호선\\n(3) 3호선\\n(4) 4호선\\n(5) 알 수 없음\\n\\n질문3: 이 지하철 사건의 발생 원인은 무엇인가요?\\n(1) 기계 고장\\n(2) 인력 부족\\n(3) 파업\\n(4) 날씨 영향\\n(5) 알 수 없음',\n",
              " '\\n',\n",
              " '답변1: 5번,\\n답변2: 5번,\\n답변3: 3번',\n",
              " '\\n',\n",
              " '답변1: 5번,\\n답변2: 5번,\\n답변3: 3번')"
            ]
          },
          "metadata": {},
          "execution_count": 59
        }
      ]
    },
    {
      "cell_type": "code",
      "source": [
        "quan_eval_3(strike_data.tail(1)['text'],strike_data.tail(1)['output'])"
      ],
      "metadata": {
        "colab": {
          "base_uri": "https://localhost:8080/"
        },
        "id": "uaDe1ynqKdhS",
        "outputId": "ee8d0078-dbfd-4c2a-810e-908b24749bad"
      },
      "execution_count": 63,
      "outputs": [
        {
          "output_type": "execute_result",
          "data": {
            "text/plain": [
              "(True,\n",
              " '\\n',\n",
              " '질문1: 전장연이 평일 1년 내내 시위를 계획한 지하철 호선은 어디인가요? \\n(1) 1호선 (2) 2호선 (3) 3호선 (4) 4호선 (5) 알 수 없음\\n\\n질문2: 오세훈 시장의 \"무관용 강력 대응\"이 언급된 사건의 발생 원인은 무엇인가요?\\n(1) 열차 지연 (2) 열차 고장 (3) 시위 (4) 승객 간의 분쟁 (5) 알 수 없음\\n\\n질문3: 전장연의 시위 계획 발표가 언급된 뉴스 기사의 날짜는 언제인가요?\\n(1) 2023-01-15 (2) 2023-02-01 (3) 2023-03-01 (4) 2023-04-01 (5) 알 수 없음',\n",
              " '\\n',\n",
              " '답변1: 4번,\\n답변2: 3번,\\n답변3: 5번',\n",
              " '\\n',\n",
              " '답변1: 4번,\\n답변2: 3번,\\n답변3: 5번')"
            ]
          },
          "metadata": {},
          "execution_count": 63
        }
      ]
    },
    {
      "cell_type": "markdown",
      "source": [
        "### test #2. 지연글에 적용📌(False 2개 발생)"
      ],
      "metadata": {
        "id": "XKBZ0iQSJrSz"
      }
    },
    {
      "cell_type": "code",
      "source": [
        "quan_eval_3(delay_data.head(1)['text'],delay_data.head(1)['output'])"
      ],
      "metadata": {
        "colab": {
          "base_uri": "https://localhost:8080/"
        },
        "id": "5Xt1MEXAJ0gl",
        "outputId": "5fd54ebe-5af9-4448-b533-7e2e4d21b50f"
      },
      "execution_count": 61,
      "outputs": [
        {
          "output_type": "execute_result",
          "data": {
            "text/plain": [
              "(False,\n",
              " '\\n',\n",
              " '질문1: 해당 지하철 지연 사건이 일어난 날짜는 언제인가요?\\n(1) 2022-07-15 (2) 2023-01-02 (3) 2021-12-25 (4) 2023-03-20 (5) 알 수 없음\\n\\n질문2: 이번 지하철 지연 사건이 발생한 호선은 무엇인가요?\\n(1) 2호선 (2) 3호선 (3) 1호선 (4) 4호선 (5) 알 수 없음\\n\\n질문3: 이번 지하철 지연 사건의 주된 원인은 무엇인가요?\\n(1) 기계 고장 (2) 노조 준법투쟁 (3) 자연재해 (4) 전력 문제 (5) 알 수 없음',\n",
              " '\\n',\n",
              " '답변1: 5번,\\n답변2: 3번,\\n답변3: 2번',\n",
              " '\\n',\n",
              " '답변1: 5번,\\n답변2: 3번,\\n답변3: 5번')"
            ]
          },
          "metadata": {},
          "execution_count": 61
        }
      ]
    },
    {
      "cell_type": "code",
      "source": [
        "quan_eval_3(delay_data.tail(1)['text'],delay_data.tail(1)['output'])"
      ],
      "metadata": {
        "colab": {
          "base_uri": "https://localhost:8080/"
        },
        "id": "JOlMF-1tKjvt",
        "outputId": "b41f8766-921f-4ae8-e6d4-37fd14cf91bf"
      },
      "execution_count": 64,
      "outputs": [
        {
          "output_type": "execute_result",
          "data": {
            "text/plain": [
              "(False,\n",
              " '\\n',\n",
              " '질문1: 해당 지하철 사건이 일어난 일시는 언제인가요? (1) 2023-01-15 (2) 2023-02-20 (3) 2023-03-25 (4) 2023-04-10 (5) 알 수 없음\\n질문2: 해당 지하철 사건이 발생한 호선은 어디인가요? (1) 1호선 (2) 2호선 (3) 4호선 (4) 7호선 (5) 알 수 없음\\n질문3: 해당 지하철 사건의 발생 원인은 무엇인가요? (1) 전기 고장 (2) 신호 장애 (3) 열차 고장 (4) 승객 쓰러짐 (5) 알 수 없음',\n",
              " '\\n',\n",
              " '답변1: 5번,\\n답변2: 3번,\\n답변3: 4번',\n",
              " '\\n',\n",
              " '답변1: 5번,\\n답변2: 3번,\\n답변3: 5번')"
            ]
          },
          "metadata": {},
          "execution_count": 64
        }
      ]
    },
    {
      "cell_type": "markdown",
      "source": [
        "### test #3 시간표글에 적용(📌False 1개 발생)"
      ],
      "metadata": {
        "id": "llV5wReUJtCr"
      }
    },
    {
      "cell_type": "code",
      "source": [
        "quan_eval_3(time_data.head(1)['text'],time_data.head(1)['output'])"
      ],
      "metadata": {
        "colab": {
          "base_uri": "https://localhost:8080/"
        },
        "id": "miaYiNN5J2K2",
        "outputId": "3be5be28-f606-424b-b8d7-7d6efe6d5154"
      },
      "execution_count": 62,
      "outputs": [
        {
          "output_type": "execute_result",
          "data": {
            "text/plain": [
              "(True,\n",
              " '\\n',\n",
              " '질문1: 해당 지하철 사건이 일어난 날짜는 언제입니까?\\n(1) 2024-01-15 (2) 2024-01-20 (3) 2024-01-25 (4) 2024-02-01 (5) 알 수 없음\\n\\n질문2: 사건이 발생한 지하철 호선은 무엇입니까?\\n(1) 1호선 (2) 2호선 (3) 3호선 (4) 4호선 (5) 알 수 없음\\n\\n질문3: 사건 발생의 주된 원인은 무엇입니까?\\n(1) 신호 장애 (2) 열차 고장 (3) 승객 사고 (4) 기상 악화 (5) 알 수 없음',\n",
              " '\\n',\n",
              " '답변1: 5번,\\n답변2: 1번,\\n답변3: 5번',\n",
              " '\\n',\n",
              " '답변1: 5번,\\n답변2: 1번,\\n답변3: 5번')"
            ]
          },
          "metadata": {},
          "execution_count": 62
        }
      ]
    },
    {
      "cell_type": "code",
      "source": [
        "quan_eval_3(time_data.tail(1)['text'],time_data.tail(1)['output'])"
      ],
      "metadata": {
        "colab": {
          "base_uri": "https://localhost:8080/"
        },
        "id": "OahU-MP7Kpj7",
        "outputId": "9cbb94c0-3ebd-477d-f80f-b6571d0f4a01"
      },
      "execution_count": 65,
      "outputs": [
        {
          "output_type": "execute_result",
          "data": {
            "text/plain": [
              "(False,\n",
              " '\\n',\n",
              " '질문1: 해당 지하철 사건이 일어난 날짜는 언제인가요? (1) 2024-04-29 (2) 2024-04-30 (3) 2024-05-01 (4) 2024-05-02 (5) 알 수 없음\\n\\n질문2: 사건이 발생한 지하철 호선은 무엇인가요? (1) 2호선 (2) 3호선 (3) 5호선 (4) 7호선 (5) 알 수 없음\\n\\n질문3: 사건 발생 원인은 무엇인가요? (1) 전기 고장 (2) 신호 장애 (3) 운행 시각표 변경 (4) 철로 이상 (5) 알 수 없음',\n",
              " '\\n',\n",
              " '답변1: 2번,\\n답변2: 4번,\\n답변3: 3번',\n",
              " '\\n',\n",
              " '답변1: 5번,\\n답변2: 4번,\\n답변3: 5번')"
            ]
          },
          "metadata": {},
          "execution_count": 65
        }
      ]
    },
    {
      "cell_type": "markdown",
      "source": [
        "## **6-4. 결론2 + 발견한 문제**\n",
        "1. **5번(알 수 없음)을 답으로 고르는 경우 다수**\n",
        "2. **질문 3번: '사건 발생 원인'에서 틀리는 경우 다수**\n"
      ],
      "metadata": {
        "id": "9dkgjNadLK_-"
      }
    },
    {
      "cell_type": "markdown",
      "source": [
        "## **6-5. 수정본2 단일 셀(폐기..)**\n",
        "1. **선지의 개수를 3개로 감소**\n",
        "2. **선지에 (3) '알 수 없음' 무조건 포함은 - 유지**\n",
        "3. **일자정보 질문의 선지 형식 2018-01-01 형식으로 통일 - 유지**\n",
        "4. [기타] (사건 일시, 사건 지하철 호선, 사건 발생 원인) -> (.... 사건 발생 원인 ***등***) 으로 변경\n"
      ],
      "metadata": {
        "id": "bMkEeWb4L3bB"
      }
    },
    {
      "cell_type": "code",
      "source": [
        "# PROMPT1 - 뉴스 기반으로 질문 생성 - chain_1으로 생성\n",
        "prompt_1 = ChatPromptTemplate.from_messages([\n",
        "    (\"system\", \"\"\"너는 뉴스 기사를 읽고, 뉴스의 핵심 내용들에 대해서 3지선다 질문을 던지는 것을 잘 해.\"\"\"), # 페르소나 부여\n",
        "    (\"user\", \"\"\"제시된 서울 지하철 뉴스를 읽고, 뉴스의 주요 내용(사건 일시, 사건 지하철 호선, 사건 발생 원인 등)을 확인하기 위한 3가지 질문을 만들어줘. 이 때, 질문은 1번부터 3번까지의 선지 중에서 하나를 고르는 3지선다형 문제여야만해.\n",
        "    예시= '해당 지하철 사건이 일어난 발생지는 어디인가요? (1)강남역 (2)성수역 (3)알 수 없음). 단, 세개의 선지 중 하나는 반드시 '알 수 없음' 이어야 하고, '사건 일시' 질문의 선지는 2018-03-08 형식을 갖춰야해.\n",
        "    뉴스= {input}\n",
        "    \"\"\"),\n",
        "    (\"system\", \"\"\"템플릿:\n",
        "    질문1: {{question_1}},\n",
        "    질문2: {{question_2}},\n",
        "    질문3: {{question_3}}\"\"\")\n",
        "])\n",
        "chain_1 = prompt_1 | llm | output_parser\n",
        "\n",
        "# PROMPT2 입력 - 뉴스 기사에 대해 질문의 답변 도출 - chain_2으로 생성\n",
        "prompt_2 = ChatPromptTemplate.from_messages([\n",
        "    (\"system\", \"\"\"너는 뉴스 기사를 읽고, 읽은 내용을 바탕으로 질문에 대해 정확히 답변해\"\"\"), # 페르소나 부여\n",
        "    (\"user\", \"\"\"제시된 서울 지하철 뉴스와 해당 뉴스에 대한 3가지 질문에 대해 답변해줘.\n",
        "    예시= \"1번, 1번, 2번\",\n",
        "    뉴스= {input}\n",
        "    질문= {question}\n",
        "    \"\"\"),\n",
        "    (\"system\", \"\"\"템플릿:\n",
        "    답변1: {{answer_1}}번,\n",
        "    답변2: {{answer_2}}번,\n",
        "    답변3: {{answer_3}}번\"\"\")\n",
        "])\n",
        "chain_2 = prompt_2 | llm | output_parser\n",
        "\n",
        "# PROMPT3 입력 - 블로그글에 대해 질문의 답변 도출 - chain_3으로 생성\n",
        "prompt_3 = ChatPromptTemplate.from_messages([\n",
        "    (\"system\", \"\"\"너는 블로그 글을 읽고, 읽은 내용을 바탕으로 질문에 대해 정확히 답변해\"\"\"), # 페르소나 부여\n",
        "    (\"user\", \"\"\"제시된 서울 지하철 뉴스와 해당 뉴스에 대한 3가지 질문에 대해 답변해줘.\n",
        "    예시= \"1번, 3번, 2번\",\n",
        "    블로그 글= {input}\n",
        "    질문= {question}\n",
        "    \"\"\"),\n",
        "    (\"system\", \"\"\"템플릿:\n",
        "    답변1: {{answer_1}}번,\n",
        "    답변2: {{answer_2}}번,\n",
        "    답변3: {{answer_3}}번\"\"\")\n",
        "])\n",
        "chain_3 = prompt_3 | llm | output_parser\n",
        "\n",
        "\n",
        "# 결과까지 다 볼 수 있게 함수 새로 정의\n",
        "def quan_eval_3(news, blog):\n",
        "\n",
        "  # news 기반으로 질문 3개 생성\n",
        "  question_list = chain_1.invoke({\"input\": news})\n",
        "\n",
        "  # 질문 3개에 대해 news 기반으로 답변\n",
        "  answer_list_news = chain_2.invoke({\"input\": news, \"question\": question_list})\n",
        "\n",
        "  # 질문 3개에 대해 blog 기반으로 답변\n",
        "  answer_list_blog = chain_3.invoke({\"input\": blog, \"question\": question_list})\n",
        "\n",
        "  # 일치 여부 판단(True/False)\n",
        "  return answer_list_news == answer_list_blog, '\\n', question_list, '\\n', answer_list_news,'\\n', answer_list_blog\n",
        "\n",
        "\n",
        "\n"
      ],
      "metadata": {
        "id": "rmH0COJjMFKd"
      },
      "execution_count": 75,
      "outputs": []
    },
    {
      "cell_type": "markdown",
      "source": [
        "### test #1. 파업글에 적용"
      ],
      "metadata": {
        "id": "N5Jf-cnPM67b"
      }
    },
    {
      "cell_type": "code",
      "source": [
        "quan_eval_3(strike_data.head(1)['text'],strike_data.head(1)['output'])"
      ],
      "metadata": {
        "colab": {
          "base_uri": "https://localhost:8080/"
        },
        "id": "8ZZGY3RmMqRS",
        "outputId": "254d4f40-2a93-48be-da7d-de14194cf8f6"
      },
      "execution_count": 77,
      "outputs": [
        {
          "output_type": "execute_result",
          "data": {
            "text/plain": [
              "(True,\n",
              " '\\n',\n",
              " '질문1: 해당 지하철 사건이 일어난 날짜는 언제입니까? (1) 2022-05-15 (2) 2023-01-20 (3) 알 수 없음\\n질문2: 이 사건이 발생한 지하철 호선은 어디입니까? (1) 2호선 (2) 9호선 (3) 알 수 없음\\n질문3: 이 지하철 사건의 주요 원인은 무엇입니까? (1) 전기 공급 문제 (2) 파업 (3) 알 수 없음',\n",
              " '\\n',\n",
              " '답변1: 3번,\\n답변2: 3번,\\n답변3: 2번',\n",
              " '\\n',\n",
              " '답변1: 3번,\\n답변2: 3번,\\n답변3: 2번')"
            ]
          },
          "metadata": {},
          "execution_count": 77
        }
      ]
    },
    {
      "cell_type": "code",
      "source": [
        "quan_eval_3(strike_data.head(1)['text'],strike_data.head(1)['output'])"
      ],
      "metadata": {
        "colab": {
          "base_uri": "https://localhost:8080/"
        },
        "id": "vhh_WgJnMp5f",
        "outputId": "c1d4a1ba-3aa8-4240-d748-ff4559ca59c0"
      },
      "execution_count": 78,
      "outputs": [
        {
          "output_type": "execute_result",
          "data": {
            "text/plain": [
              "(True,\n",
              " '\\n',\n",
              " '질문1: 해당 지하철 파업 사건이 일어난 날짜는 언제입니까? (1) 2023-09-25 (2) 2023-10-05 (3) 알 수 없음\\n질문2: 이번 지하철 파업이 발생한 호선은 어디입니까? (1) 2호선 (2) 3호선 (3) 알 수 없음\\n질문3: 이번 지하철 문제의 주된 원인은 무엇인가요? (1) 기술적 결함 (2) 파업 (3) 알 수 없음',\n",
              " '\\n',\n",
              " '답변1: 3번,\\n답변2: 3번,\\n답변3: 2번',\n",
              " '\\n',\n",
              " '답변1: 3번,\\n답변2: 3번,\\n답변3: 2번')"
            ]
          },
          "metadata": {},
          "execution_count": 78
        }
      ]
    },
    {
      "cell_type": "markdown",
      "source": [
        "### test #2. 지연글에 적용"
      ],
      "metadata": {
        "id": "PdW3QLImM7T0"
      }
    },
    {
      "cell_type": "code",
      "source": [
        "quan_eval_3(delay_data.head(1)['text'],delay_data.head(1)['output'])"
      ],
      "metadata": {
        "colab": {
          "base_uri": "https://localhost:8080/"
        },
        "id": "eR9du0MLMt2r",
        "outputId": "47149790-1e98-457f-a844-ca6f6a539172"
      },
      "execution_count": 79,
      "outputs": [
        {
          "output_type": "execute_result",
          "data": {
            "text/plain": [
              "(False,\n",
              " '\\n',\n",
              " '템플릿:\\n    질문1: 해당 지하철 사건이 일어난 요일은 무엇인가요? (1)화요일 (2)월요일 (3)알 수 없음\\n    질문2: 사건이 발생한 지하철 호선은 무엇인가요? (1)2호선 (2)1호선 (3)알 수 없음\\n    질문3: 지하철 지연의 원인은 무엇이었나요? (1)노조 파업 (2)노조 준법투쟁 (3)알 수 없음',\n",
              " '\\n',\n",
              " '답변1: 2번,\\n답변2: 2번,\\n답변3: 2번',\n",
              " '\\n',\n",
              " '답변1: 3번,\\n답변2: 2번,\\n답변3: 3번')"
            ]
          },
          "metadata": {},
          "execution_count": 79
        }
      ]
    },
    {
      "cell_type": "code",
      "source": [
        "quan_eval_3(delay_data.head(1)['text'],delay_data.head(1)['output'])"
      ],
      "metadata": {
        "colab": {
          "base_uri": "https://localhost:8080/"
        },
        "id": "zv2AYxzyMtjm",
        "outputId": "0baea731-2901-43ab-ac46-c0a167ae2051"
      },
      "execution_count": 80,
      "outputs": [
        {
          "output_type": "execute_result",
          "data": {
            "text/plain": [
              "(False,\n",
              " '\\n',\n",
              " '질문1: 지하철 지연 운행이 발생한 요일은 언제인가요? \\n(1) 월요일 (2) 금요일 (3) 알 수 없음\\n\\n질문2: 지연 운행이 발생한 서울 지하철의 호선은 무엇인가요?\\n(1) 1호선 (2) 2호선 (3) 알 수 없음\\n\\n질문3: 이번 지하철 지연 운행의 원인은 무엇인가요?\\n(1) 노조 준법투쟁 (2) 기계적 고장 (3) 알 수 없음',\n",
              " '\\n',\n",
              " '답변1: 1번,\\n답변2: 1번,\\n답변3: 1번',\n",
              " '\\n',\n",
              " '답변1: 3번,\\n답변2: 1번,\\n답변3: 3번')"
            ]
          },
          "metadata": {},
          "execution_count": 80
        }
      ]
    },
    {
      "cell_type": "markdown",
      "source": [
        "### test #3. 시간표글에 적용"
      ],
      "metadata": {
        "id": "yDjJiX2EM7y1"
      }
    },
    {
      "cell_type": "code",
      "source": [
        "quan_eval_3(time_data.tail(1)['text'],time_data.tail(1)['output'])"
      ],
      "metadata": {
        "colab": {
          "base_uri": "https://localhost:8080/"
        },
        "id": "3eAe5GLkMwgb",
        "outputId": "8daa5708-4420-443c-a6b1-39e9aad68cd3"
      },
      "execution_count": 83,
      "outputs": [
        {
          "output_type": "execute_result",
          "data": {
            "text/plain": [
              "(False,\n",
              " '\\n',\n",
              " '질문1: 이 안내문이 작성된 날짜는 언제인가요? (1) 2024-04-29 (2) 2024-04-30 (3) 알 수 없음\\n질문2: 안내문의 내용은 어떤 지하철 호선과 관련이 있나요? (1) 7호선 (2) 9호선 (3) 알 수 없음\\n질문3: 안내문의 주요 내용은 무엇인가요? (1) 열차운행 시각표 변경 (2) 역사 리모델링 공지 (3) 알 수 없음',\n",
              " '\\n',\n",
              " '답변1: 2번,\\n답변2: 1번,\\n답변3: 1번',\n",
              " '\\n',\n",
              " '답변1: 3번,\\n답변2: 1번,\\n답변3: 1번')"
            ]
          },
          "metadata": {},
          "execution_count": 83
        }
      ]
    },
    {
      "cell_type": "code",
      "source": [
        "quan_eval_3(time_data.tail(1)['text'],time_data.tail(1)['output'])"
      ],
      "metadata": {
        "colab": {
          "base_uri": "https://localhost:8080/"
        },
        "id": "qH7w1gzBMwJv",
        "outputId": "abb16e17-83a7-42a7-a8d2-86534b1ebc7d"
      },
      "execution_count": 84,
      "outputs": [
        {
          "output_type": "execute_result",
          "data": {
            "text/plain": [
              "(False,\n",
              " '\\n',\n",
              " '질문1: 해당 지하철 사건의 발생 일시는 언제인가요? (1) 2024-04-30 (2) 2023-12-25 (3) 알 수 없음\\n질문2: 사건이 발생한 지하철 호선은 무엇인가요? (1) 2호선 (2) 7호선 (3) 알 수 없음\\n질문3: 사건의 주요 원인은 무엇인가요? (1) 운행 시각표 변경 (2) 기계 고장 (3) 알 수 없음',\n",
              " '\\n',\n",
              " '답변1: 1번,\\n답변2: 2번,\\n답변3: 1번',\n",
              " '\\n',\n",
              " '답변1: 3번,\\n답변2: 2번,\\n답변3: 3번')"
            ]
          },
          "metadata": {},
          "execution_count": 84
        }
      ]
    },
    {
      "cell_type": "markdown",
      "source": [
        "### **✦ 논의사항**\n",
        "- 100% 정확하게 만드는 것은 사실상 불가능\n",
        "- 차라리 총점에서 감점시키고 임계값 넘으면 통과, 아니면 기각 - 이런식으로 평가하는 건 어떤지?"
      ],
      "metadata": {
        "id": "TjMPvqQHOwZ3"
      }
    }
  ]
}