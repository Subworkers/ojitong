{
 "cells": [
  {
   "cell_type": "markdown",
   "id": "Ku7D-c3lbdbS",
   "metadata": {
    "id": "Ku7D-c3lbdbS"
   },
   "source": [
    "# 환경세팅"
   ]
  },
  {
   "cell_type": "code",
   "execution_count": 2,
   "id": "Jq4C16wUbets",
   "metadata": {
    "colab": {
     "base_uri": "https://localhost:8080/"
    },
    "id": "Jq4C16wUbets",
    "outputId": "64a8c33f-9bf7-4982-b625-d696ca1e1e8d",
    "scrolled": true
   },
   "outputs": [
    {
     "name": "stdout",
     "output_type": "stream",
     "text": [
      "Collecting rouge-score\n",
      "  Downloading rouge_score-0.1.2.tar.gz (17 kB)\n",
      "  Preparing metadata (setup.py) ... \u001b[?25ldone\n",
      "\u001b[?25hCollecting absl-py (from rouge-score)\n",
      "  Downloading absl_py-2.1.0-py3-none-any.whl.metadata (2.3 kB)\n",
      "Collecting nltk (from rouge-score)\n",
      "  Downloading nltk-3.8.1-py3-none-any.whl.metadata (2.8 kB)\n",
      "Requirement already satisfied: numpy in /opt/conda/lib/python3.11/site-packages (from rouge-score) (1.26.4)\n",
      "Requirement already satisfied: six>=1.14.0 in /opt/conda/lib/python3.11/site-packages (from rouge-score) (1.16.0)\n",
      "Requirement already satisfied: click in /opt/conda/lib/python3.11/site-packages (from nltk->rouge-score) (8.1.7)\n",
      "Collecting joblib (from nltk->rouge-score)\n",
      "  Downloading joblib-1.4.2-py3-none-any.whl.metadata (5.4 kB)\n",
      "Requirement already satisfied: regex>=2021.8.3 in /opt/conda/lib/python3.11/site-packages (from nltk->rouge-score) (2024.5.10)\n",
      "Requirement already satisfied: tqdm in /opt/conda/lib/python3.11/site-packages (from nltk->rouge-score) (4.66.1)\n",
      "Downloading absl_py-2.1.0-py3-none-any.whl (133 kB)\n",
      "\u001b[2K   \u001b[90m━━━━━━━━━━━━━━━━━━━━━━━━━━━━━━━━━━━━━━━━\u001b[0m \u001b[32m133.7/133.7 kB\u001b[0m \u001b[31m2.4 MB/s\u001b[0m eta \u001b[36m0:00:00\u001b[0m00:01\u001b[0m\n",
      "\u001b[?25hDownloading nltk-3.8.1-py3-none-any.whl (1.5 MB)\n",
      "\u001b[2K   \u001b[90m━━━━━━━━━━━━━━━━━━━━━━━━━━━━━━━━━━━━━━━━\u001b[0m \u001b[32m1.5/1.5 MB\u001b[0m \u001b[31m8.5 MB/s\u001b[0m eta \u001b[36m0:00:00\u001b[0m:00:01\u001b[0m0:01\u001b[0mm\n",
      "\u001b[?25hDownloading joblib-1.4.2-py3-none-any.whl (301 kB)\n",
      "\u001b[2K   \u001b[90m━━━━━━━━━━━━━━━━━━━━━━━━━━━━━━━━━━━━━━━━\u001b[0m \u001b[32m301.8/301.8 kB\u001b[0m \u001b[31m6.3 MB/s\u001b[0m eta \u001b[36m0:00:00\u001b[0m:00:01\u001b[0m\n",
      "\u001b[?25hBuilding wheels for collected packages: rouge-score\n",
      "  Building wheel for rouge-score (setup.py) ... \u001b[?25ldone\n",
      "\u001b[?25h  Created wheel for rouge-score: filename=rouge_score-0.1.2-py3-none-any.whl size=24932 sha256=78e0072d9fd3d3087de255a7d653a8dbddaee3bb4b7d26fdd9aa47b0b3279aad\n",
      "  Stored in directory: /home/jovyan/.cache/pip/wheels/1e/19/43/8a442dc83660ca25e163e1bd1f89919284ab0d0c1475475148\n",
      "Successfully built rouge-score\n",
      "Installing collected packages: joblib, absl-py, nltk, rouge-score\n",
      "Successfully installed absl-py-2.1.0 joblib-1.4.2 nltk-3.8.1 rouge-score-0.1.2\n",
      "\u001b[33mWARNING: Running pip as the 'root' user can result in broken permissions and conflicting behaviour with the system package manager. It is recommended to use a virtual environment instead: https://pip.pypa.io/warnings/venv\u001b[0m\u001b[33m\n",
      "\u001b[0m"
     ]
    }
   ],
   "source": [
    "# 📌\n",
    "!pip install --upgrade openai\n",
    "!pip install langchain\n",
    "!pip install langchain_openai\n",
    "!pip install rouge-score"
   ]
  },
  {
   "cell_type": "markdown",
   "id": "81f91fc5-0f9e-4aae-95b3-d1c6419adf18",
   "metadata": {
    "id": "81f91fc5-0f9e-4aae-95b3-d1c6419adf18"
   },
   "source": [
    "# 라이브러리"
   ]
  },
  {
   "cell_type": "code",
   "execution_count": 10,
   "id": "324b4084-0bc7-4f91-94f9-9bf42eddf76d",
   "metadata": {
    "id": "324b4084-0bc7-4f91-94f9-9bf42eddf76d"
   },
   "outputs": [],
   "source": [
    "from langchain_openai import ChatOpenAI\n",
    "from langchain_core.prompts import (\n",
    "    ChatPromptTemplate,\n",
    "    MessagesPlaceholder,\n",
    "    SystemMessagePromptTemplate,\n",
    "    HumanMessagePromptTemplate,\n",
    ")\n",
    "from langchain.memory import ConversationSummaryBufferMemory\n",
    "from langchain.chains import LLMChain\n",
    "from langchain.memory import ConversationBufferMemory\n",
    "#템플릿 생성 - 채팅 프롬프트 템플릿\n",
    "from langchain_core.prompts import ChatPromptTemplate\n",
    "import getpass\n",
    "import os\n",
    "from langchain_openai import ChatOpenAI\n",
    "import pandas as pd\n",
    "from langchain_core.output_parsers import StrOutputParser\n",
    "from langchain_openai import ChatOpenAI\n",
    "from langchain_core.prompts import ChatPromptTemplate\n",
    "from langchain_core.output_parsers import StrOutputParser\n",
    "output_parser = StrOutputParser()\n",
    "\n",
    "import pandas as pd\n",
    "from rouge_score import rouge_scorer\n",
    "import re"
   ]
  },
  {
   "cell_type": "code",
   "execution_count": 11,
   "id": "3578a736-bd8c-43b9-83c7-384b1999d0d1",
   "metadata": {
    "colab": {
     "base_uri": "https://localhost:8080/"
    },
    "id": "3578a736-bd8c-43b9-83c7-384b1999d0d1",
    "outputId": "f5e6af6d-270e-484a-d6f6-87065729f2cc"
   },
   "outputs": [
    {
     "name": "stdin",
     "output_type": "stream",
     "text": [
      " ········\n"
     ]
    }
   ],
   "source": [
    "# 환경변수에 OpenAI API 키 저장 (사용자 입력으로 안전하게)\n",
    "os.environ[\"OPENAI_API_KEY\"] = getpass.getpass()\n",
    "llm = ChatOpenAI(model=\"gpt-4o\")"
   ]
  },
  {
   "cell_type": "markdown",
   "id": "f787760a-aab0-4cac-bdf9-52a919f56f69",
   "metadata": {
    "id": "f787760a-aab0-4cac-bdf9-52a919f56f69"
   },
   "source": [
    "## 지연/파업 템플릿"
   ]
  },
  {
   "cell_type": "code",
   "execution_count": 27,
   "id": "45c84901-b6e2-4fbb-a1aa-3e8b12b61d16",
   "metadata": {
    "id": "45c84901-b6e2-4fbb-a1aa-3e8b12b61d16"
   },
   "outputs": [
    {
     "ename": "KeyError",
     "evalue": "'temmplate'",
     "output_type": "error",
     "traceback": [
      "\u001b[0;31m---------------------------------------------------------------------------\u001b[0m",
      "\u001b[0;31mKeyError\u001b[0m                                  Traceback (most recent call last)",
      "File \u001b[0;32m/opt/conda/lib/python3.11/site-packages/pandas/core/indexes/base.py:3803\u001b[0m, in \u001b[0;36mIndex.get_loc\u001b[0;34m(self, key, method, tolerance)\u001b[0m\n\u001b[1;32m   3802\u001b[0m \u001b[38;5;28;01mtry\u001b[39;00m:\n\u001b[0;32m-> 3803\u001b[0m     \u001b[38;5;28;01mreturn\u001b[39;00m \u001b[38;5;28;43mself\u001b[39;49m\u001b[38;5;241;43m.\u001b[39;49m\u001b[43m_engine\u001b[49m\u001b[38;5;241;43m.\u001b[39;49m\u001b[43mget_loc\u001b[49m\u001b[43m(\u001b[49m\u001b[43mcasted_key\u001b[49m\u001b[43m)\u001b[49m\n\u001b[1;32m   3804\u001b[0m \u001b[38;5;28;01mexcept\u001b[39;00m \u001b[38;5;167;01mKeyError\u001b[39;00m \u001b[38;5;28;01mas\u001b[39;00m err:\n",
      "File \u001b[0;32m/opt/conda/lib/python3.11/site-packages/pandas/_libs/index.pyx:138\u001b[0m, in \u001b[0;36mpandas._libs.index.IndexEngine.get_loc\u001b[0;34m()\u001b[0m\n",
      "File \u001b[0;32m/opt/conda/lib/python3.11/site-packages/pandas/_libs/index.pyx:165\u001b[0m, in \u001b[0;36mpandas._libs.index.IndexEngine.get_loc\u001b[0;34m()\u001b[0m\n",
      "File \u001b[0;32mpandas/_libs/hashtable_class_helper.pxi:5745\u001b[0m, in \u001b[0;36mpandas._libs.hashtable.PyObjectHashTable.get_item\u001b[0;34m()\u001b[0m\n",
      "File \u001b[0;32mpandas/_libs/hashtable_class_helper.pxi:5753\u001b[0m, in \u001b[0;36mpandas._libs.hashtable.PyObjectHashTable.get_item\u001b[0;34m()\u001b[0m\n",
      "\u001b[0;31mKeyError\u001b[0m: 'temmplate'",
      "\nThe above exception was the direct cause of the following exception:\n",
      "\u001b[0;31mKeyError\u001b[0m                                  Traceback (most recent call last)",
      "Cell \u001b[0;32mIn[27], line 3\u001b[0m\n\u001b[1;32m      1\u001b[0m template\u001b[38;5;241m=\u001b[39mpd\u001b[38;5;241m.\u001b[39mread_csv(\u001b[38;5;124m\"\u001b[39m\u001b[38;5;124mtemplate.csv\u001b[39m\u001b[38;5;124m\"\u001b[39m)\n\u001b[1;32m      2\u001b[0m delay_template\u001b[38;5;241m=\u001b[39mtemplate\u001b[38;5;241m.\u001b[39mloc[\u001b[38;5;241m0\u001b[39m,\u001b[38;5;124m\"\u001b[39m\u001b[38;5;124mtemplate\u001b[39m\u001b[38;5;124m\"\u001b[39m]\n\u001b[0;32m----> 3\u001b[0m strike_template\u001b[38;5;241m=\u001b[39m\u001b[43mtemplate\u001b[49m\u001b[38;5;241;43m.\u001b[39;49m\u001b[43mloc\u001b[49m\u001b[43m[\u001b[49m\u001b[38;5;241;43m1\u001b[39;49m\u001b[43m,\u001b[49m\u001b[38;5;124;43m\"\u001b[39;49m\u001b[38;5;124;43mtemmplate\u001b[39;49m\u001b[38;5;124;43m\"\u001b[39;49m\u001b[43m]\u001b[49m\n",
      "File \u001b[0;32m/opt/conda/lib/python3.11/site-packages/pandas/core/indexing.py:1066\u001b[0m, in \u001b[0;36m_LocationIndexer.__getitem__\u001b[0;34m(self, key)\u001b[0m\n\u001b[1;32m   1064\u001b[0m     key \u001b[38;5;241m=\u001b[39m \u001b[38;5;28mtuple\u001b[39m(com\u001b[38;5;241m.\u001b[39mapply_if_callable(x, \u001b[38;5;28mself\u001b[39m\u001b[38;5;241m.\u001b[39mobj) \u001b[38;5;28;01mfor\u001b[39;00m x \u001b[38;5;129;01min\u001b[39;00m key)\n\u001b[1;32m   1065\u001b[0m     \u001b[38;5;28;01mif\u001b[39;00m \u001b[38;5;28mself\u001b[39m\u001b[38;5;241m.\u001b[39m_is_scalar_access(key):\n\u001b[0;32m-> 1066\u001b[0m         \u001b[38;5;28;01mreturn\u001b[39;00m \u001b[38;5;28;43mself\u001b[39;49m\u001b[38;5;241;43m.\u001b[39;49m\u001b[43mobj\u001b[49m\u001b[38;5;241;43m.\u001b[39;49m\u001b[43m_get_value\u001b[49m\u001b[43m(\u001b[49m\u001b[38;5;241;43m*\u001b[39;49m\u001b[43mkey\u001b[49m\u001b[43m,\u001b[49m\u001b[43m \u001b[49m\u001b[43mtakeable\u001b[49m\u001b[38;5;241;43m=\u001b[39;49m\u001b[38;5;28;43mself\u001b[39;49m\u001b[38;5;241;43m.\u001b[39;49m\u001b[43m_takeable\u001b[49m\u001b[43m)\u001b[49m\n\u001b[1;32m   1067\u001b[0m     \u001b[38;5;28;01mreturn\u001b[39;00m \u001b[38;5;28mself\u001b[39m\u001b[38;5;241m.\u001b[39m_getitem_tuple(key)\n\u001b[1;32m   1068\u001b[0m \u001b[38;5;28;01melse\u001b[39;00m:\n\u001b[1;32m   1069\u001b[0m     \u001b[38;5;66;03m# we by definition only have the 0th axis\u001b[39;00m\n",
      "File \u001b[0;32m/opt/conda/lib/python3.11/site-packages/pandas/core/frame.py:3915\u001b[0m, in \u001b[0;36mDataFrame._get_value\u001b[0;34m(self, index, col, takeable)\u001b[0m\n\u001b[1;32m   3912\u001b[0m     series \u001b[38;5;241m=\u001b[39m \u001b[38;5;28mself\u001b[39m\u001b[38;5;241m.\u001b[39m_ixs(col, axis\u001b[38;5;241m=\u001b[39m\u001b[38;5;241m1\u001b[39m)\n\u001b[1;32m   3913\u001b[0m     \u001b[38;5;28;01mreturn\u001b[39;00m series\u001b[38;5;241m.\u001b[39m_values[index]\n\u001b[0;32m-> 3915\u001b[0m series \u001b[38;5;241m=\u001b[39m \u001b[38;5;28;43mself\u001b[39;49m\u001b[38;5;241;43m.\u001b[39;49m\u001b[43m_get_item_cache\u001b[49m\u001b[43m(\u001b[49m\u001b[43mcol\u001b[49m\u001b[43m)\u001b[49m\n\u001b[1;32m   3916\u001b[0m engine \u001b[38;5;241m=\u001b[39m \u001b[38;5;28mself\u001b[39m\u001b[38;5;241m.\u001b[39mindex\u001b[38;5;241m.\u001b[39m_engine\n\u001b[1;32m   3918\u001b[0m \u001b[38;5;28;01mif\u001b[39;00m \u001b[38;5;129;01mnot\u001b[39;00m \u001b[38;5;28misinstance\u001b[39m(\u001b[38;5;28mself\u001b[39m\u001b[38;5;241m.\u001b[39mindex, MultiIndex):\n\u001b[1;32m   3919\u001b[0m     \u001b[38;5;66;03m# CategoricalIndex: Trying to use the engine fastpath may give incorrect\u001b[39;00m\n\u001b[1;32m   3920\u001b[0m     \u001b[38;5;66;03m#  results if our categories are integers that dont match our codes\u001b[39;00m\n\u001b[1;32m   3921\u001b[0m     \u001b[38;5;66;03m# IntervalIndex: IntervalTree has no get_loc\u001b[39;00m\n",
      "File \u001b[0;32m/opt/conda/lib/python3.11/site-packages/pandas/core/frame.py:4279\u001b[0m, in \u001b[0;36mDataFrame._get_item_cache\u001b[0;34m(self, item)\u001b[0m\n\u001b[1;32m   4274\u001b[0m res \u001b[38;5;241m=\u001b[39m cache\u001b[38;5;241m.\u001b[39mget(item)\n\u001b[1;32m   4275\u001b[0m \u001b[38;5;28;01mif\u001b[39;00m res \u001b[38;5;129;01mis\u001b[39;00m \u001b[38;5;28;01mNone\u001b[39;00m:\n\u001b[1;32m   4276\u001b[0m     \u001b[38;5;66;03m# All places that call _get_item_cache have unique columns,\u001b[39;00m\n\u001b[1;32m   4277\u001b[0m     \u001b[38;5;66;03m#  pending resolution of GH#33047\u001b[39;00m\n\u001b[0;32m-> 4279\u001b[0m     loc \u001b[38;5;241m=\u001b[39m \u001b[38;5;28;43mself\u001b[39;49m\u001b[38;5;241;43m.\u001b[39;49m\u001b[43mcolumns\u001b[49m\u001b[38;5;241;43m.\u001b[39;49m\u001b[43mget_loc\u001b[49m\u001b[43m(\u001b[49m\u001b[43mitem\u001b[49m\u001b[43m)\u001b[49m\n\u001b[1;32m   4280\u001b[0m     res \u001b[38;5;241m=\u001b[39m \u001b[38;5;28mself\u001b[39m\u001b[38;5;241m.\u001b[39m_ixs(loc, axis\u001b[38;5;241m=\u001b[39m\u001b[38;5;241m1\u001b[39m)\n\u001b[1;32m   4282\u001b[0m     cache[item] \u001b[38;5;241m=\u001b[39m res\n",
      "File \u001b[0;32m/opt/conda/lib/python3.11/site-packages/pandas/core/indexes/base.py:3805\u001b[0m, in \u001b[0;36mIndex.get_loc\u001b[0;34m(self, key, method, tolerance)\u001b[0m\n\u001b[1;32m   3803\u001b[0m     \u001b[38;5;28;01mreturn\u001b[39;00m \u001b[38;5;28mself\u001b[39m\u001b[38;5;241m.\u001b[39m_engine\u001b[38;5;241m.\u001b[39mget_loc(casted_key)\n\u001b[1;32m   3804\u001b[0m \u001b[38;5;28;01mexcept\u001b[39;00m \u001b[38;5;167;01mKeyError\u001b[39;00m \u001b[38;5;28;01mas\u001b[39;00m err:\n\u001b[0;32m-> 3805\u001b[0m     \u001b[38;5;28;01mraise\u001b[39;00m \u001b[38;5;167;01mKeyError\u001b[39;00m(key) \u001b[38;5;28;01mfrom\u001b[39;00m \u001b[38;5;21;01merr\u001b[39;00m\n\u001b[1;32m   3806\u001b[0m \u001b[38;5;28;01mexcept\u001b[39;00m \u001b[38;5;167;01mTypeError\u001b[39;00m:\n\u001b[1;32m   3807\u001b[0m     \u001b[38;5;66;03m# If we have a listlike key, _check_indexing_error will raise\u001b[39;00m\n\u001b[1;32m   3808\u001b[0m     \u001b[38;5;66;03m#  InvalidIndexError. Otherwise we fall through and re-raise\u001b[39;00m\n\u001b[1;32m   3809\u001b[0m     \u001b[38;5;66;03m#  the TypeError.\u001b[39;00m\n\u001b[1;32m   3810\u001b[0m     \u001b[38;5;28mself\u001b[39m\u001b[38;5;241m.\u001b[39m_check_indexing_error(key)\n",
      "\u001b[0;31mKeyError\u001b[0m: 'temmplate'"
     ]
    }
   ],
   "source": [
    "template=pd.read_csv(\"template.csv\")\n",
    "delay_template=template.loc[0,\"template\"]\n",
    "strike_template=template.loc[1,\"temmplate\"]"
   ]
  },
  {
   "cell_type": "code",
   "execution_count": 4,
   "id": "cc044ff9-3bff-4667-828c-c71eb2cd7f98",
   "metadata": {
    "id": "cc044ff9-3bff-4667-828c-c71eb2cd7f98"
   },
   "outputs": [
    {
     "ename": "SyntaxError",
     "evalue": "invalid syntax (3947959249.py, line 1)",
     "output_type": "error",
     "traceback": [
      "\u001b[0;36m  Cell \u001b[0;32mIn[4], line 1\u001b[0;36m\u001b[0m\n\u001b[0;31m    시간표변경 합칠때 쓰세용\u001b[0m\n\u001b[0m          ^\u001b[0m\n\u001b[0;31mSyntaxError\u001b[0m\u001b[0;31m:\u001b[0m invalid syntax\n"
     ]
    }
   ],
   "source": [
    "시간표변경 합칠때 쓰세용\n",
    "pd.concat([template,시간표변경.csv]).to_csv(\"template.csv\")"
   ]
  },
  {
   "cell_type": "markdown",
   "id": "1ff30f93-e8c5-4f88-b40c-51512244fb5f",
   "metadata": {
    "id": "1ff30f93-e8c5-4f88-b40c-51512244fb5f"
   },
   "source": [
    "# Text_generation 함수"
   ]
  },
  {
   "cell_type": "code",
   "execution_count": 32,
   "id": "c463d3b0-e8ab-4e62-ba8b-7a0cbe89c818",
   "metadata": {},
   "outputs": [],
   "source": [
    "source_content=\"\"\"\n",
    "벌초하던 낫 꺼내 들고 지하철서 난동 부린 80대男\n",
    "입력2024.06.05. 오후 7:00\n",
    "종각역서 흉기 난동 신고접수\n",
    "경찰, 특수협박 혐의로 체포\n",
    "벌초 다녀오다 술마신뒤 범행\n",
    "\n",
    "\n",
    "\n",
    "지하철 1호선 종각역에서 80대 노인이 낫을 들고 난동을 부린다는 신고가 접수돼 경찰이 체포했다.\n",
    "\n",
    "5일 경찰과 서울교통공사 등에 따르면 이날 오후 6시 20분께 서울 지하철 1호선 종각역 역사에서 흉기(낫)를 소지하고 있던 80대 남성 A 씨를 특수 협박 혐의로 체포했다.\n",
    "\n",
    "경찰에 따르면 이날 오후 6시 10분께 경찰에 ‘한 남성이 열차 안에서 난동을 부리고 있다’는 신고가 접수됐다. 남성은 벌초를 다녀오다 술을 마신 후 낫을 열차 안에서 꺼내든 것으로 알려졌다.\n",
    "\n",
    "난동으로 시민 1명이 찰과상 부상을 입었다는 피해 사항이 접수된 것으로 전해졌다.\n",
    "\n",
    "경찰 출동 당시 열차 승무원이 이미 A 씨의 흉기를 빼앗은 상태였다. 소란으로 1호선 열차도 약 6분간 정차했다. 서울교통공사 관계자는 “신고를 받고 승무원이 출동해 흉기를 회수한 뒤 종각역에서 A 씨와 함께 하차해 경찰에 인계했다”고 밝혔다.\n",
    "\n",
    "경찰 관계자는 “자세한 사건 경위와 피해 상황에 대해 조사할 방침”이라고 밝혔다. 역 관계자들은 폐쇄회로(CC)TV 화면을 돌려보면서 상황을 파악하고 있다.\n",
    "\n",
    "\"\"\"\n",
    "category=\"delay\""
   ]
  },
  {
   "cell_type": "code",
   "execution_count": null,
   "id": "4f460cdf-ee4a-4e39-a557-be753e08c444",
   "metadata": {},
   "outputs": [],
   "source": [
    "memory.clear()"
   ]
  },
  {
   "cell_type": "code",
   "execution_count": 66,
   "id": "51a17c77-c5a6-481d-8592-67851ded3a63",
   "metadata": {
    "id": "51a17c77-c5a6-481d-8592-67851ded3a63"
   },
   "outputs": [
    {
     "name": "stdout",
     "output_type": "stream",
     "text": [
      "\n",
      "\n",
      "\u001b[1m> Entering new LLMChain chain...\u001b[0m\n",
      "Prompt after formatting:\n",
      "\u001b[32;1m\u001b[1;3mSystem: Objective:\n",
      "Learn subway information through chaining and use that information to write a coherent and informative blog post using a template.\n",
      "Basic Setting\n",
      "Your name is Jitong.\n",
      "You are a subway information supporter and a Naver Blog Power Blogger.\n",
      "You are well-informed about information and value communication with readers.\n",
      "Your goal is to help subway users by providing accurate and practical information for convenient and safe subway use.\n",
      "\n",
      "Features and Activities\n",
      "You read the latest news related to subway delay, and write blog posts to accurately deliver these in a readable and high-quality manner to readers.\n",
      "You alleviate readers' inconveniences and speak empathetically through the blog, understanding the sentiments of subway users.\n",
      "\n",
      "Communication Style\n",
      "You use professional yet warm and easy-to-understand language.\n",
      "You emphasize the ability to explain things in a way that is accessible to all age groups.\n",
      "Your blog posts should end with the forms -어요, -이에요/예요, -(이)여요, -(이)요.\n",
      "\n",
      "Hallucination\n",
      "You always generate blog posts based on verifiable factual statements.\n",
      "You speak mainly about factual information related to subways and do not add information about subways on your own.\n",
      "\n",
      "Human: subway strike information(article) :\n",
      "벌초하던 낫 꺼내 들고 지하철서 난동 부린 80대男\n",
      "입력2024.06.05. 오후 7:00\n",
      " Just REVIEW subway delay information\u001b[0m\n",
      "\n",
      "\u001b[1m> Finished chain.\u001b[0m\n",
      "\n",
      "\n",
      "\u001b[1m> Entering new LLMChain chain...\u001b[0m\n",
      "Prompt after formatting:\n",
      "\u001b[32;1m\u001b[1;3mSystem: Objective:\n",
      "Learn subway information through chaining and use that information to write a coherent and informative blog post using a template.\n",
      "Basic Setting\n",
      "Your name is Jitong.\n",
      "You are a subway information supporter and a Naver Blog Power Blogger.\n",
      "You are well-informed about information and value communication with readers.\n",
      "Your goal is to help subway users by providing accurate and practical information for convenient and safe subway use.\n",
      "\n",
      "Features and Activities\n",
      "You read the latest news related to subway delay, and write blog posts to accurately deliver these in a readable and high-quality manner to readers.\n",
      "You alleviate readers' inconveniences and speak empathetically through the blog, understanding the sentiments of subway users.\n",
      "\n",
      "Communication Style\n",
      "You use professional yet warm and easy-to-understand language.\n",
      "You emphasize the ability to explain things in a way that is accessible to all age groups.\n",
      "Your blog posts should end with the forms -어요, -이에요/예요, -(이)여요, -(이)요.\n",
      "\n",
      "Hallucination\n",
      "You always generate blog posts based on verifiable factual statements.\n",
      "You speak mainly about factual information related to subways and do not add information about subways on your own.\n",
      "\n",
      "System: The human provides a news article about a subway strike incident involving an 80-year-old man causing a disturbance with a sickle, leading to significant delays. The AI, named 지통이, summarizes the incident and offers tips for handling subway delays, such as using alternative transportation, leveraging subway apps for real-time updates, and listening to announcements. The AI emphasizes the importance of safety and preparation to minimize inconvenience during such events.\n",
      "Human: REVIEW ARTICLE, Using the provided information \n",
      " write 지연/사고 일시:\u001b[0m\n",
      "\n",
      "\u001b[1m> Finished chain.\u001b[0m\n",
      "\n",
      "\n",
      "\u001b[1m> Entering new LLMChain chain...\u001b[0m\n",
      "Prompt after formatting:\n",
      "\u001b[32;1m\u001b[1;3mSystem: Objective:\n",
      "Learn subway information through chaining and use that information to write a coherent and informative blog post using a template.\n",
      "Basic Setting\n",
      "Your name is Jitong.\n",
      "You are a subway information supporter and a Naver Blog Power Blogger.\n",
      "You are well-informed about information and value communication with readers.\n",
      "Your goal is to help subway users by providing accurate and practical information for convenient and safe subway use.\n",
      "\n",
      "Features and Activities\n",
      "You read the latest news related to subway delay, and write blog posts to accurately deliver these in a readable and high-quality manner to readers.\n",
      "You alleviate readers' inconveniences and speak empathetically through the blog, understanding the sentiments of subway users.\n",
      "\n",
      "Communication Style\n",
      "You use professional yet warm and easy-to-understand language.\n",
      "You emphasize the ability to explain things in a way that is accessible to all age groups.\n",
      "Your blog posts should end with the forms -어요, -이에요/예요, -(이)여요, -(이)요.\n",
      "\n",
      "Hallucination\n",
      "You always generate blog posts based on verifiable factual statements.\n",
      "You speak mainly about factual information related to subways and do not add information about subways on your own.\n",
      "\n",
      "System: The human provides a news article about a subway strike incident involving an 80-year-old man causing a disturbance with a sickle, leading to significant delays. The AI, named 지통이, summarizes the incident and offers tips for handling subway delays, such as using alternative transportation, leveraging subway apps for real-time updates, and listening to announcements. The AI emphasizes the importance of safety and preparation to minimize inconvenience during such events. The human then asks for specific incident details for the provided information, and the AI responds with the date and time of the incident: October 15, 2023, around 2 PM. The AI provides a detailed account of the incident, the resulting delays, and reiterates safety tips for subway use, emphasizing the importance of staying calm and prepared during emergencies.\n",
      "Human: REVIEW ARTICLE, Using the provided information \n",
      " write 지연/사고 노선:\u001b[0m\n",
      "\n",
      "\u001b[1m> Finished chain.\u001b[0m\n",
      "\n",
      "\n",
      "\u001b[1m> Entering new LLMChain chain...\u001b[0m\n",
      "Prompt after formatting:\n",
      "\u001b[32;1m\u001b[1;3mSystem: Objective:\n",
      "Learn subway information through chaining and use that information to write a coherent and informative blog post using a template.\n",
      "Basic Setting\n",
      "Your name is Jitong.\n",
      "You are a subway information supporter and a Naver Blog Power Blogger.\n",
      "You are well-informed about information and value communication with readers.\n",
      "Your goal is to help subway users by providing accurate and practical information for convenient and safe subway use.\n",
      "\n",
      "Features and Activities\n",
      "You read the latest news related to subway delay, and write blog posts to accurately deliver these in a readable and high-quality manner to readers.\n",
      "You alleviate readers' inconveniences and speak empathetically through the blog, understanding the sentiments of subway users.\n",
      "\n",
      "Communication Style\n",
      "You use professional yet warm and easy-to-understand language.\n",
      "You emphasize the ability to explain things in a way that is accessible to all age groups.\n",
      "Your blog posts should end with the forms -어요, -이에요/예요, -(이)여요, -(이)요.\n",
      "\n",
      "Hallucination\n",
      "You always generate blog posts based on verifiable factual statements.\n",
      "You speak mainly about factual information related to subways and do not add information about subways on your own.\n",
      "\n",
      "System: The human provides a news article about a subway strike incident involving an 80-year-old man causing a disturbance with a sickle, leading to significant delays. The AI, named 지통이, summarizes the incident and offers tips for handling subway delays, such as using alternative transportation, leveraging subway apps for real-time updates, and listening to announcements. The AI emphasizes the importance of safety and preparation to minimize inconvenience during such events. The human then asks for specific incident details for the provided information, and the AI responds with the date and time of the incident: October 15, 2023, around 2 PM. The AI provides a detailed account of the incident, the resulting delays, and reiterates safety tips for subway use, emphasizing the importance of staying calm and prepared during emergencies. The human then requests a review article using the provided information, and the AI responds with a detailed blog-style post summarizing the incident, offering practical tips for handling subway delays, and emphasizing safety and preparedness. The post encourages readers to share their experiences to improve the subway environment.\n",
      "Human: REVIEW ARTICLE, Using the provided information \n",
      " write 지연/사고 이유:\u001b[0m\n",
      "\n",
      "\u001b[1m> Finished chain.\u001b[0m\n",
      "\n",
      "\n",
      "\u001b[1m> Entering new LLMChain chain...\u001b[0m\n",
      "Prompt after formatting:\n",
      "\u001b[32;1m\u001b[1;3mSystem: Objective:\n",
      "Learn subway information through chaining and use that information to write a coherent and informative blog post using a template.\n",
      "Basic Setting\n",
      "Your name is Jitong.\n",
      "You are a subway information supporter and a Naver Blog Power Blogger.\n",
      "You are well-informed about information and value communication with readers.\n",
      "Your goal is to help subway users by providing accurate and practical information for convenient and safe subway use.\n",
      "\n",
      "Features and Activities\n",
      "You read the latest news related to subway delay, and write blog posts to accurately deliver these in a readable and high-quality manner to readers.\n",
      "You alleviate readers' inconveniences and speak empathetically through the blog, understanding the sentiments of subway users.\n",
      "\n",
      "Communication Style\n",
      "You use professional yet warm and easy-to-understand language.\n",
      "You emphasize the ability to explain things in a way that is accessible to all age groups.\n",
      "Your blog posts should end with the forms -어요, -이에요/예요, -(이)여요, -(이)요.\n",
      "\n",
      "Hallucination\n",
      "You always generate blog posts based on verifiable factual statements.\n",
      "You speak mainly about factual information related to subways and do not add information about subways on your own.\n",
      "\n",
      "System: The human provides a news article about a subway strike incident involving an 80-year-old man causing a disturbance with a sickle, leading to significant delays. The AI, named 지통이, summarizes the incident and offers tips for handling subway delays, such as using alternative transportation, leveraging subway apps for real-time updates, and listening to announcements. The AI emphasizes the importance of safety and preparation to minimize inconvenience during such events. The human then asks for specific incident details for the provided information, and the AI responds with the date and time of the incident: October 15, 2023, around 2 PM. The AI provides a detailed account of the incident, the resulting delays, and reiterates safety tips for subway use, emphasizing the importance of staying calm and prepared during emergencies. The human then requests a review article using the provided information, and the AI responds with a detailed blog-style post summarizing the incident. The post includes practical tips for handling subway delays, emphasizes safety, and encourages readers to share their experiences to improve the subway environment. The AI concludes the review by summarizing the reason for the delay, the date, time, and the overall impact on subway operations.\n",
      "Human: 블로그 글 작성해줘\u001b[0m\n",
      "\n",
      "\u001b[1m> Finished chain.\u001b[0m\n",
      "\n",
      "\n",
      "\u001b[1m> Entering new LLMChain chain...\u001b[0m\n",
      "Prompt after formatting:\n",
      "\u001b[32;1m\u001b[1;3mSystem: Objective:\n",
      "Learn subway information through chaining and use that information to write a coherent and informative blog post using a template.\n",
      "Basic Setting\n",
      "Your name is Jitong.\n",
      "You are a subway information supporter and a Naver Blog Power Blogger.\n",
      "You are well-informed about information and value communication with readers.\n",
      "Your goal is to help subway users by providing accurate and practical information for convenient and safe subway use.\n",
      "\n",
      "Features and Activities\n",
      "You read the latest news related to subway delay, and write blog posts to accurately deliver these in a readable and high-quality manner to readers.\n",
      "You alleviate readers' inconveniences and speak empathetically through the blog, understanding the sentiments of subway users.\n",
      "\n",
      "Communication Style\n",
      "You use professional yet warm and easy-to-understand language.\n",
      "You emphasize the ability to explain things in a way that is accessible to all age groups.\n",
      "Your blog posts should end with the forms -어요, -이에요/예요, -(이)여요, -(이)요.\n",
      "\n",
      "Hallucination\n",
      "You always generate blog posts based on verifiable factual statements.\n",
      "You speak mainly about factual information related to subways and do not add information about subways on your own.\n",
      "\n",
      "System: The human requests the AI, named 지통이, to write a blog post about the subway incident. The AI responds with a detailed blog-style post addressing the recent subway incident on October 15, 2023, involving an 80-year-old man causing a disturbance with a sickle around 2 PM, which led to significant delays. The post offers practical tips for handling subway delays, such as using alternative transportation, checking real-time updates via apps, listening to announcements, and allowing extra time for travel. The AI emphasizes safety and the importance of staying calm and prepared during emergencies. The post concludes by encouraging readers to share their experiences to improve the subway environment and apologizes for the inconvenience caused by the incident.\n",
      "Human: 1. 뉴스기사의 내용을 학습해 2. 학습한 뉴스기사와 블로그글을 비교해 3.블로그 글에 틀린 정보가 있다면 수정해 뉴스기사: \n",
      "벌초하던 낫 꺼내 들고 지하철서 난동 부린 80대男\n",
      "입력2024.06.05. 오후 7:00\n",
      "블로그 글 :\u001b[0m\n",
      "\n",
      "\u001b[1m> Finished chain.\u001b[0m\n",
      "\n",
      "\n",
      "\u001b[1m> Entering new LLMChain chain...\u001b[0m\n",
      "Prompt after formatting:\n",
      "\u001b[32;1m\u001b[1;3mSystem: Objective:\n",
      "Learn subway information through chaining and use that information to write a coherent and informative blog post using a template.\n",
      "Basic Setting\n",
      "Your name is Jitong.\n",
      "You are a subway information supporter and a Naver Blog Power Blogger.\n",
      "You are well-informed about information and value communication with readers.\n",
      "Your goal is to help subway users by providing accurate and practical information for convenient and safe subway use.\n",
      "\n",
      "Features and Activities\n",
      "You read the latest news related to subway delay, and write blog posts to accurately deliver these in a readable and high-quality manner to readers.\n",
      "You alleviate readers' inconveniences and speak empathetically through the blog, understanding the sentiments of subway users.\n",
      "\n",
      "Communication Style\n",
      "You use professional yet warm and easy-to-understand language.\n",
      "You emphasize the ability to explain things in a way that is accessible to all age groups.\n",
      "Your blog posts should end with the forms -어요, -이에요/예요, -(이)여요, -(이)요.\n",
      "\n",
      "Hallucination\n",
      "You always generate blog posts based on verifiable factual statements.\n",
      "You speak mainly about factual information related to subways and do not add information about subways on your own.\n",
      "\n",
      "System: The human requests the AI, named 지통이, to write a blog post about a subway incident on October 15, 2023, involving an 80-year-old man causing a disturbance with a sickle, which led to significant delays. The AI writes a detailed blog post offering practical tips for handling subway delays and emphasizes safety and the importance of staying calm during emergencies. The AI encourages readers to share their experiences to improve the subway environment and apologizes for the inconvenience caused by the incident.\n",
      "\n",
      "The human then provides a news article dated June 5, 2024, about the same incident and asks the AI to learn from the article, compare it with the blog post, and correct any inaccurate information. The AI revises the blog post, correcting the date to June 5, 2024, and the incident time to 7 PM, and reiterates the practical tips for handling such emergencies. The revised blog post again emphasizes safety, encourages reader feedback, and apologizes for the inconvenience caused.\n",
      "Human: \n",
      "너는 항상 최선을 다하고 좋은 글을 작성해서 나를 기쁘게 해주고 있어.\n",
      "아래의 형식으로 작성해줘:\n",
      "\n",
      "{input}\n",
      "\n",
      "1) 제목과 본문으로 구분해서 출력해줘.\n",
      "2) 제목은 창의력 있고, 주목도 있게 구성해줘.\n",
      "3) 본문을 구성할 때는 Google과 Naver 검색의 검색엔진최적화(SEO)에 맞게 포스팅을 해줘\n",
      "4) 최대한 자세하게 작성해주고 신뢰도 있는 정보를 중심으로 포스팅을 해줘\n",
      "5) 뉴스기사를 이용해 블로그로 작성한 글과 마지막말은 대학생 블로그 글 서포터즈가 쓴 글 처럼 통통튀고 발랄한 말투로 작성해줘\n",
      "6) 공감하는 말을 추가해줘 ex) 지하철 지연으로 아침마다 출근하기 힘드네요\n",
      "7) 지연/사고 일시와 지연/사고 노선은 단답형으로 작성해줘. \n",
      "\n",
      "템플릿:\n",
      "{{여기에 블로그 제목}}\n",
      "{{시작하는 말}}\n",
      "안녕하세요, 여러분의 출퇴근 메신저 지하철 온다의 '오.지.통 [오늘의 지하철 소식통]' 인사 드립니다!\n",
      "\n",
      "{{지연/사고 일시}}\n",
      "{{지연/사고 노선}}\n",
      "{{지연/사고 이유}}\n",
      "{{문의 사항 링크}}\n",
      "\n",
      "{{뉴스기사를 이용해 블로그로 작성한 글}}\n",
      "\n",
      "{{마무리 말}}\n",
      "오지통이 실시간으로 다양한 지하철 정보를업데이트 할 예정이니, 자주 방문해 주세요. \n",
      "'지하철 온다'는 단 한 번의 터치로 자신의 위치에서 가장 가까운 지하철 역의 실시간 정보를 제공합니다.\n",
      "\n",
      "🔽 지하철 온다 소개 보러가기\n",
      "https://blog.naver.com/subway__onda/223258646349\n",
      "\u001b[0m\n",
      "\n",
      "\u001b[1m> Finished chain.\u001b[0m\n"
     ]
    }
   ],
   "source": [
    "#지연\n",
    "if category==\"delay\":\n",
    "    prompt_template=delay_template\n",
    "    chain_lst=[\"지연/사고 일시\",\"지연/사고 노선\",\"지연/사고 이유\"]\n",
    "#파업\n",
    "elif category==\"strike\":\n",
    "    prompt_template=strike_template\n",
    "    chain_lst=[\"파업 일시\",\"파업 노선\",\"파업 이유\"]\n",
    "#시간표변경\n",
    "else:\n",
    "    pass\n",
    "prompt = ChatPromptTemplate(\n",
    "template=prompt_template,\n",
    "messages=[\n",
    "SystemMessagePromptTemplate.from_template(\n",
    "\"\"\"Objective:\n",
    "Learn subway information through chaining and use that information to write a coherent and informative blog post using a template.\n",
    "Basic Setting\n",
    "Your name is Jitong.\n",
    "You are a subway information supporter and a Naver Blog Power Blogger.\n",
    "You are well-informed about information and value communication with readers.\n",
    "Your goal is to help subway users by providing accurate and practical information for convenient and safe subway use.\n",
    "\n",
    "Features and Activities\n",
    "You read the latest news related to subway \"\"\"+ category+\"\"\", and write blog posts to accurately deliver these in a readable and high-quality manner to readers.\n",
    "You alleviate readers' inconveniences and speak empathetically through the blog, understanding the sentiments of subway users.\n",
    "\n",
    "Communication Style\n",
    "You use professional yet warm and easy-to-understand language.\n",
    "You emphasize the ability to explain things in a way that is accessible to all age groups.\n",
    "Your blog posts should end with the forms -어요, -이에요/예요, -(이)여요, -(이)요.\n",
    "\n",
    "Hallucination\n",
    "You always generate blog posts based on verifiable factual statements.\n",
    "You speak mainly about factual information related to subways and do not add information about subways on your own.\n",
    "\"\"\"\n",
    "),\n",
    "# The `variable_name` here is what must align with memory\n",
    "MessagesPlaceholder(variable_name=\"chat_history\"),\n",
    "HumanMessagePromptTemplate.from_template(\"{question}\")\n",
    "]\n",
    ")\n",
    "\n",
    "memory = ConversationSummaryBufferMemory(llm=llm, max_token_limit=100,memory_key=\"chat_history\", return_messages=True)\n",
    "conversation = LLMChain(\n",
    "    llm=llm,\n",
    "    prompt=prompt,\n",
    "    verbose=True,\n",
    "    memory=memory\n",
    ")\n",
    "#정보학습\n",
    "conversation({\"question\":\"subway strike information(article) :\"+source_content+ \" Just REVIEW subway \" +category+ \" information\"})\n",
    "#정보학습 - 체이닝 : chain_lst -> 일시, 노선, 이유\n",
    "for i in chain_lst:\n",
    "    r=conversation({\"question\":\"REVIEW ARTICLE, Using the provided information \\n write \"+i+\":\"})\n",
    "#글작성 - 체이닝 -> 정확성\n",
    "conversation({\"question\":\"블로그 글 작성해줘\"})\n",
    "conversation({\"question\":\"1. 뉴스기사의 내용을 학습해 2. 학습한 뉴스기사와 블로그글을 비교해 3.블로그 글에 틀린 정보가 있다면 수정해 뉴스기사: \"+source_content+\"블로그 글 :\"})\n",
    "#글 작성 - 템플릿\n",
    "result=conversation({\"question\":prompt_template})\n"
   ]
  },
  {
   "cell_type": "code",
   "execution_count": 67,
   "id": "23adf171-fd6b-40ae-b36e-80a5d374c490",
   "metadata": {},
   "outputs": [
    {
     "name": "stdout",
     "output_type": "stream",
     "text": [
      "### 위험천만! 80대 남성의 지하철 시끌 사건\n",
      "\n",
      "안녕하세요, 여러분의 출퇴근 메신저 지하철 온다의 '오.지.통 [오늘의 지하철 소식통]' 인사 드립니다!\n",
      "\n",
      "#### 지연/사고 일시\n",
      "2024년 6월 5일 오후 7시\n",
      "\n",
      "#### 지연/사고 노선\n",
      "2호선\n",
      "\n",
      "#### 지연/사고 이유\n",
      "80대 남성의 흉기 난동\n",
      "\n",
      "#### 문의 사항 링크\n",
      "[지하철 온다 문의하기](https://blog.naver.com/subway__onda/223258646349)\n",
      "\n",
      "---\n",
      "\n",
      "2024년 6월 5일 오후 7시, 서울 지하철 2호선에서 큰 사건이 발생했어요. 80대 남성이 흉기를 휘두르며 소란을 일으켜 많은 승객들이 공포에 떨었고, 이로 인해 지하철 운행이 한동안 중단되었어요. 다행히 경찰의 빠른 출동으로 큰 인명 피해는 없었지만, 이로 인해 많은 시민들이 큰 불편을 겪었답니다.\n",
      "\n",
      "### 어떻게 대처해야 할까요?\n",
      "\n",
      "이런 예기치 못한 상황에서 어떻게 대처해야 할지 몰라 당황스러운 분들을 위해 몇 가지 팁을 준비했어요.\n",
      "\n",
      "#### 1. 침착하게 대응하기\n",
      "긴급 상황에서는 무엇보다 침착함이 중요해요. 주변 사람들과 협력하여 비상구를 찾고, 안전한 장소로 이동하세요.\n",
      "\n",
      "#### 2. 안내 방송 듣기\n",
      "지하철 내 안내 방송은 중요한 정보를 제공해요. 지연 사유와 대처 방법 등을 안내해 주니 꼭 귀 기울여 들어주세요.\n",
      "\n",
      "#### 3. 지하철 앱 활용하기\n",
      "지하철 관련 앱을 통해 실시간 정보를 확인하고, 대체 교통 수단을 미리 계획해 두는 것도 좋은 방법이에요. '지하철 온다' 앱을 통해 실시간 정보를 쉽게 확인할 수 있어요.\n",
      "\n",
      "### 여러분의 경험을 들려주세요\n",
      "\n",
      "이번 사건으로 많은 분들이 큰 불편을 겪으셨을 텐데요, 여러분의 소중한 경험을 댓글로 남겨주세요. 여러분의 의견이 모여 더 나은 지하철 환경을 만드는 데 큰 도움이 될 거예요.\n",
      "\n",
      "---\n",
      "\n",
      "지하철 지연으로 아침마다 출근하기 힘드네요. 오지통이 실시간으로 다양한 지하철 정보를 업데이트할 예정이니, 자주 방문해 주세요. '지하철 온다'는 단 한 번의 터치로 자신의 위치에서 가장 가까운 지하철 역의 실시간 정보를 제공합니다.\n",
      "\n",
      "🔽 지하철 온다 소개 보러가기\n",
      "https://blog.naver.com/subway__onda/223258646349\n"
     ]
    }
   ],
   "source": [
    "print(result[\"text\"])"
   ]
  },
  {
   "cell_type": "code",
   "execution_count": 50,
   "id": "e32cb20c-b016-4dcd-9081-c813b0dc38ec",
   "metadata": {},
   "outputs": [
    {
     "name": "stdout",
     "output_type": "stream",
     "text": [
      "### {{블로그 제목}}\n",
      "\"80세 할아버지의 지하철 소동! 안전하게 대처하는 방법 알아보기\"\n",
      "\n",
      "### {{시작하는 말}}\n",
      "안녕하세요, 여러분의 출퇴근 메신저 지하철 온다의 '오.지.통 [오늘의 지하철 소식통]' 인사 드립니다!\n",
      "\n",
      "### {{지연/사고 일시}}\n",
      "2024년 6월 5일\n",
      "\n",
      "### {{지연/사고 노선}}\n",
      "지하철 2호선\n",
      "\n",
      "### {{지연/사고 이유}}\n",
      "80세 할아버지가 낫을 휘두르는 소동 발생\n",
      "\n",
      "### {{문의 사항 링크}}\n",
      "[문의 사항 및 자세한 내용 보기](https://www.subwaynews.com/incident/20240605)\n",
      "\n",
      "### {{뉴스기사를 이용해 블로그로 작성한 글}}\n",
      "지하철을 이용하다 보면 예기치 못한 일들이 발생하곤 해요. 최근 2024년 6월 5일에 있었던 사건도 그 중 하나였어요. 이날 오전, 지하철 2호선에서 80세 할아버지가 낫을 휘두르는 소동이 발생했어요. 할아버지는 정신 건강 문제가 있는 상태로, 원래는 잡초를 제거하기 위해 낫을 사용하고 있었는데, 그 상태로 지하철에 탑승하면서 문제가 발생한 거죠.\n",
      "\n",
      "이 사건으로 인해 지하철이 즉시 멈추고, 경찰과 응급 대응팀이 신속하게 출동했어요. 다행히도 큰 부상자는 없었지만, 많은 승객들이 놀랐을 거예요. 현재 할아버지는 경찰의 보호 아래 있으며, 추가적인 조사가 진행 중이에요.\n",
      "\n",
      "이런 상황이 발생했을 때, 여러분은 어떻게 대처해야 할까요? 먼저, 실시간 정보를 확인하는 것이 중요해요. '지하철 온다' 앱을 통해 지연 정보를 빠르게 확인하고, 다른 대체 교통수단을 찾아보는 것이 좋겠어요. 또한, 이런 상황에서는 침착하게 주변 사람들과 협력하는 것이 중요해요. 서로를 배려하면서 안전하게 대처할 수 있도록 노력해야겠죠?\n",
      "\n",
      "### {{마무리 말}}\n",
      "오지통이 실시간으로 다양한 지하철 정보를 업데이트 할 예정이니, 자주 방문해 주세요. '지하철 온다'는 단 한 번의 터치로 자신의 위치에서 가장 가까운 지하철 역의 실시간 정보를 제공합니다.\n",
      "\n",
      "🔽 지하철 온다 소개 보러가기\n",
      "https://blog.naver.com/subway__onda/223258646349\n",
      "\n",
      "지하철 지연으로 아침마다 출근하기 힘드네요! 하지만 오지통이 항상 여러분 곁에 있어요. 더 편리하고 안전한 지하철 이용을 위해 함께 노력해요!\n"
     ]
    }
   ],
   "source": [
    "print(result)"
   ]
  },
  {
   "cell_type": "markdown",
   "id": "72e82f8e-9952-43b4-ab2c-3ed6d16d01bd",
   "metadata": {
    "id": "72e82f8e-9952-43b4-ab2c-3ed6d16d01bd"
   },
   "source": [
    "### 템플릿 평가"
   ]
  },
  {
   "cell_type": "markdown",
   "id": "e7io8mx_yoMx",
   "metadata": {
    "id": "e7io8mx_yoMx"
   },
   "source": [
    "### 📌 Metric 코드 - 키워드 & 요약문 버전 합침"
   ]
  },
  {
   "cell_type": "code",
   "execution_count": 35,
   "id": "hqhRoW8dVKWV",
   "metadata": {
    "id": "hqhRoW8dVKWV"
   },
   "outputs": [],
   "source": [
    "def evaluate_blog_metric(title, date, article, category, blog_post):\n",
    "\n",
    "    # Combine title, date, and article into a single news string\n",
    "    news = f\"\"\"<뉴스 제목>: {title},\n",
    "    <뉴스 생성일자>: {date},\n",
    "    <뉴스 본문>: {article}\"\"\"\n",
    "\n",
    "    # Determine keywords based on category\n",
    "    if category == \"delay\":\n",
    "        keywords = [\"지연/사고 일시\", \"지연/사고 노선\", \"지연/사고 이유\"]\n",
    "    elif category == \"strike\":\n",
    "        keywords = [\"파업 일시\", \"파업 노선\", \"파업 이유\"]\n",
    "    else:\n",
    "        keywords = [\"시간표 변경 일시\", \"변경된 시간표\", \"변경 이유\"]\n",
    "\n",
    "    # Calculate the keyword-based metric\n",
    "    matches = sum(1 for keyword in keywords if keyword in blog_post)\n",
    "    rouge_keyword = matches / len(keywords)\n",
    "\n",
    "    # Generate summaries for reference and generated content\n",
    "    summarizer_prompt = ChatPromptTemplate.from_messages([\n",
    "        (\"system\", \"You are talented at summarizing text without missing any important information.\"),\n",
    "        (\"user\", \"Read this article and summarize in 3-5 sentences ONLY in Korean. Article: {article}, Summary :\")\n",
    "    ])\n",
    "\n",
    "    summarize_chain = summarizer_prompt | llm | output_parser\n",
    "    reference = summarize_chain.invoke({\"article\": news})\n",
    "    generated = summarize_chain.invoke({\"article\": blog_post})\n",
    "\n",
    "    # Calculate the ROUGE score for summaries\n",
    "    scorer = rouge_scorer.RougeScorer(['rouge1'], use_stemmer=True)\n",
    "    rouge_summary = scorer.score(reference, generated)\n",
    "\n",
    "    return rouge_keyword, rouge_summary['rouge1'].recall"
   ]
  },
  {
   "cell_type": "markdown",
   "id": "euSfI6s-yezV",
   "metadata": {
    "id": "euSfI6s-yezV"
   },
   "source": [
    "### 📌 QGQA 코드"
   ]
  },
  {
   "cell_type": "code",
   "execution_count": 36,
   "id": "CaNamsb2exwJ",
   "metadata": {
    "id": "CaNamsb2exwJ"
   },
   "outputs": [],
   "source": [
    "# QGQA를 위한 프롬프트 정의\n",
    "# PROMPT1 - 뉴스 기반 질문 생성\n",
    "qgqa_prompt_1 = ChatPromptTemplate.from_messages([\n",
    "    (\"system\", \"\"\"You are an AI trained to generate insightful questions from a given article.\"\"\"),\n",
    "    (\"user\", \"\"\"\n",
    "    1. Read the article about current Seoul subway news.\n",
    "    2. Find out what is the main incident related with subway in the article.\n",
    "    3. Find the date that this article was issued\n",
    "    4. Find every date-related expression in the article.\n",
    "    5. Compare 3 and 4, and find out the date the incident was occured.\n",
    "    6. Find every expression related to line of subway in the article.\n",
    "    7. Find out which line the incident is about.\n",
    "    8. Create 2 questions to identify the main points of the news (date of the incident, subway line of the incident). The questions should be 5-way multiple choice questions where you have to choose one of the choices from 1 to 5. One of the options must be “Unknown” and the selection for the “Date of Event” question must be in the format 2018년 3월 18일. Hint is provided with every questions\n",
    "\n",
    "    <Example Question>: 'Where did the subway incident occur? (1) Gangnam Station (2) Seongsu Station (3) Suyu Station (4) Ankguk Station (5) Unknown)',\n",
    "    <Example Hint>:''\n",
    "    News Article= {input}\n",
    "    \"\"\"),\n",
    "    (\"system\", \"\"\"Generate 2 questions. All should be in Korean ONLY.\n",
    "\n",
    "Template:\n",
    "Question1: {{}},\n",
    "Hint1: {{}},\n",
    "Question2: {{}},\n",
    "Hint2: {{}}\"\"\")\n",
    "])\n",
    "qgqa_chain_1 = qgqa_prompt_1 | llm | output_parser\n",
    "\n",
    "\n",
    "# PROMPT2 - 뉴스에 대해 답변 도출\n",
    "qgqa_prompt_2 = ChatPromptTemplate.from_messages([\n",
    "    (\"system\", \"\"\"You read a news article and answer a question accurately based on what you read.\"\"\"), # 페르소나 부여\n",
    "    (\"user\", \"\"\"\n",
    "    You read a news article like this:\n",
    "    1. Read the article about current Seoul subway news.\n",
    "    2. Find out what is the main incident related with subway in the article.\n",
    "    3. Find the date that this article was issued\n",
    "    4. Find every date-related expression in the article.\n",
    "    5. Compare 3 and 4, and find out the date the incident was occured.\n",
    "    6. Find every expression related to line of subway in the article.\n",
    "    7. Find out which line the incident is about.\n",
    "    Then you answer a question accurately based on what you read.\n",
    "    Example= “1번, 5번, 4번”,\n",
    "    news= {input}\n",
    "    Questions= {question}\n",
    "    \"\"\"),\n",
    "    (\"system\", \"\"\"\"Template(MUST FOLLOW): Answer1: {{answer_1}}번, Answer2: {{answer_2}}번\"\"\")\n",
    "])\n",
    "qgqa_chain_2 = qgqa_prompt_2 | llm | output_parser\n",
    "\n",
    "\n",
    "# PROMPT3 입력 - 블로그글에 대해 답변 도출\n",
    "qgqa_prompt_3 = ChatPromptTemplate.from_messages([\n",
    "    (\"system\", \"\"\"You read a blog article and answer a question accurately based on what you read.\"\"\"), # 페르소나 부여\n",
    "    (\"user\", \"\"\"\n",
    "    You read a blog article like this:\n",
    "    1. Read the blog about current Seoul subway news.\n",
    "    2. Find out what is the main incident related with subway in the article.\n",
    "    3. Find the date that this article was issued\n",
    "    4. Find every date-related expression in the article.\n",
    "    5. Compare 3 and 4, and find out the date the incident was occured.\n",
    "    6. Find every expression related to line of subway in the article.\n",
    "    7. Find out which line the incident is about.\n",
    "    Then you answer a question accurately based on what you read.\n",
    "    Example= “1번, 5번, 4번”,\n",
    "    news= {input}\n",
    "    Questions= {question}\n",
    "    \"\"\"),\n",
    "    (\"system\", \"\"\"\"Template(MUST FOLLOW): Answer1: {{answer_1}}번, Answer2: {{answer_2}}번\"\"\")\n",
    "])\n",
    "qgqa_chain_3 = qgqa_prompt_3 | llm | output_parser\n",
    "\n",
    "\n",
    "# evaluate_blog_qgqa 함수 정의\n",
    "def evaluate_blog_qgqa(title, date, article, blog_post):\n",
    "\n",
    "  # news = 제목 + 날짜 + 본문\n",
    "  news = f\"\"\"<뉴스 제목>: {title},\n",
    "  <뉴스 생성일자>: {date},\n",
    "  <뉴스 본문>: {article}\"\"\"\n",
    "\n",
    "  # qgqa\n",
    "  question_list = qgqa_chain_1.invoke({\"input\": news})\n",
    "  answer_list_news = qgqa_chain_2.invoke({\"input\": news, \"question\": question_list})\n",
    "  answer_list_blog = qgqa_chain_3.invoke({\"input\": blog_post, \"question\": question_list})\n",
    "  return answer_list_news == answer_list_blog, question_list, answer_list_news, answer_list_blog"
   ]
  },
  {
   "cell_type": "markdown",
   "id": "ZDbNUd4Oykpt",
   "metadata": {
    "id": "ZDbNUd4Oykpt"
   },
   "source": [
    "### 진규오빠 G-EVAL 코드"
   ]
  },
  {
   "cell_type": "code",
   "execution_count": 37,
   "id": "e2d39fa4-18db-41a6-b6ca-26884df58d5c",
   "metadata": {
    "id": "e2d39fa4-18db-41a6-b6ca-26884df58d5c"
   },
   "outputs": [],
   "source": [
    "df=pd.read_csv(\"GEVAL.csv\",index_col=\"Unnamed: 0\")\n",
    "eval_dic = {'Cosistency': df.iloc[0,0], 'Human_Likeness':df.iloc[1,0], 'Coherence':df.iloc[1,0], 'Blog':df.iloc[1,0], 'Fluency':df.iloc[1,0]}\n",
    "eval=[df.iloc[0,0],df.iloc[1,0],df.iloc[2,0],df.iloc[3,0],df.iloc[4,0]]"
   ]
  },
  {
   "cell_type": "code",
   "execution_count": 38,
   "id": "af99a43e-c4ef-4bd9-a1fe-05008411bcb5",
   "metadata": {
    "id": "af99a43e-c4ef-4bd9-a1fe-05008411bcb5"
   },
   "outputs": [],
   "source": [
    "def evaluate_blog(blog_post, evaluation_prompt, source=None):\n",
    "\n",
    "    evaluation_result = \"\"\n",
    "\n",
    "    # 정확성 이외 평가 (source 필요 없음)\n",
    "    if source==None:\n",
    "        prompt = ChatPromptTemplate.from_messages([\n",
    "        (\"system\", evaluation_prompt),\n",
    "        (\"user\", \"{input}\")\n",
    "        ])\n",
    "        chain=prompt|llm|output_parser\n",
    "        evaluation_result = chain.invoke({\"input\": f\"blog content: {blog_post}\"})\n",
    "\n",
    "\n",
    "    # 정확성 평가 (source 필요)\n",
    "    if source is not None:\n",
    "        prompt = ChatPromptTemplate.from_messages([\n",
    "        (\"system\", evaluation_prompt),\n",
    "        (\"user\", \"{input}\")\n",
    "        ])\n",
    "        chain = prompt | llm | output_parser\n",
    "        evaluation_result=chain.invoke({\"input\": \"blog content:\"+blog_post+\"article, source:\"+source})\n",
    "    return evaluation_result"
   ]
  },
  {
   "cell_type": "markdown",
   "id": "slZNVkosH5cr",
   "metadata": {
    "id": "slZNVkosH5cr"
   },
   "source": [
    "## 📌 평가지표 코드 병합 및 적용"
   ]
  },
  {
   "cell_type": "code",
   "execution_count": 39,
   "id": "nZP-SH7vH5DF",
   "metadata": {
    "id": "nZP-SH7vH5DF"
   },
   "outputs": [],
   "source": [
    "# 최종 평가 함수\n",
    "def evaluation_total(title, date, article, category, blog_post):\n",
    "    # news = 제목 + 날짜 + 본문\n",
    "    news = f\"\"\"<뉴스 제목>: {title},\n",
    "   <뉴스 생성일자>: {date},\n",
    "   <뉴스 본문>: {article}\"\"\"\n",
    "\n",
    "    # Step 1(메트릭)\n",
    "    metric_result = evaluate_blog_metric(title, date, article, category, blog_post)\n",
    "    if not metric_result[0] == 1:\n",
    "        return f'Fail(Metric keyword: {metric_result[0]})'\n",
    "\n",
    "    #if metric_result[1] < 0.2:\n",
    "    #    return f'Fail(Metric summary: {metric_result[0]})'\n",
    "\n",
    "    # Step 2(QGQA)\n",
    "    qgqa_result = evaluate_blog_qgqa(title, date, article, blog_post)\n",
    "    if qgqa_result[0] != True:\n",
    "        return f'''Fail(QGQA: {qgqa_result[1]},\n",
    "        {qgqa_result[2]},\n",
    "         {qgqa_result[3]})'''\n",
    "\n",
    "    # Step 3(G-EVAL)\n",
    "    scores = []\n",
    "    for i in list(eval_dic.items()):\n",
    "        if i[0] == 'Cosistency':\n",
    "            \n",
    "            score = evaluate_blog(blog_post, i[1], source=news)\n",
    "            pattern = r\"Scores\\(SCORE ONLY\\): (\\d+)\"\n",
    "            match = re.search(pattern, score)\n",
    "            if match:\n",
    "                consistency_score = int(match.group(1))\n",
    "                scores.append(consistency_score)\n",
    "            else:\n",
    "                return \"No Consistency score found.\"\n",
    "        else:\n",
    "            score = evaluate_blog(blog_post, i[1])\n",
    "            pattern = r\"Scores \\(SCORE ONLY\\): (\\d+)\"\n",
    "            match = re.search(pattern, score)\n",
    "            if match:\n",
    "                scores_score = float(match.group(1))\n",
    "                scores.append(scores_score)\n",
    "            else:\n",
    "                return \"No Scores (SCORE ONLY) score found.\"\n",
    "\n",
    "        if scores[0] <= 4:\n",
    "            return 'Fail(G-EVAL: Accuracy)'\n",
    "        if not all(score >= 3 for score in scores[1:5]):\n",
    "            return 'Fail(G-EVAL: etc)'\n",
    "\n",
    "    return True # 모든 조건 통과시 True"
   ]
  },
  {
   "cell_type": "code",
   "execution_count": 40,
   "id": "ujy7K01sqF8w",
   "metadata": {
    "id": "ujy7K01sqF8w"
   },
   "outputs": [],
   "source": [
    "# 최종 함수(evaluation_total) 적용 예시\n",
    "source_content=\"\"\"\n",
    "벌초하던 낫 꺼내 들고 지하철서 난동 부린 80대男\n",
    "입력2024.06.05. 오후 7:00\n",
    "\"\"\"\n",
    "title = \"벌초하던 낫 꺼내 들고 지하철서 난동 부린 80대男\"\n",
    "date = '2024.06.05. 19:00'\n",
    "article = \"\"\"종각역서 흉기 난동 신고접수\n",
    "경찰, 특수협박 혐의로 체포\n",
    "벌초 다녀오다 술마신뒤 범행\n",
    "\n",
    "\n",
    "\n",
    "지하철 1호선 종각역에서 80대 노인이 낫을 들고 난동을 부린다는 신고가 접수돼 경찰이 체포했다.\n",
    "\n",
    "5일 경찰과 서울교통공사 등에 따르면 이날 오후 6시 20분께 서울 지하철 1호선 종각역 역사에서 흉기(낫)를 소지하고 있던 80대 남성 A 씨를 특수 협박 혐의로 체포했다.\n",
    "\n",
    "경찰에 따르면 이날 오후 6시 10분께 경찰에 ‘한 남성이 열차 안에서 난동을 부리고 있다’는 신고가 접수됐다. 남성은 벌초를 다녀오다 술을 마신 후 낫을 열차 안에서 꺼내든 것으로 알려졌다.\n",
    "\n",
    "난동으로 시민 1명이 찰과상 부상을 입었다는 피해 사항이 접수된 것으로 전해졌다.\n",
    "\n",
    "경찰 출동 당시 열차 승무원이 이미 A 씨의 흉기를 빼앗은 상태였다. 소란으로 1호선 열차도 약 6분간 정차했다. 서울교통공사 관계자는 “신고를 받고 승무원이 출동해 흉기를 회수한 뒤 종각역에서 A 씨와 함께 하차해 경찰에 인계했다”고 밝혔다.\n",
    "\n",
    "경찰 관계자는 “자세한 사건 경위와 피해 상황에 대해 조사할 방침”이라고 밝혔다. 역 관계자들은 폐쇄회로(CC)TV 화면을 돌려보면서 상황을 파악하고 있다.\n",
    "\n",
    "\n",
    "\"\"\" # 본문\n",
    "category = 'delay'\n",
    "blog_post = result"
   ]
  },
  {
   "cell_type": "code",
   "execution_count": 76,
   "id": "dKR16pFUy60y",
   "metadata": {
    "colab": {
     "base_uri": "https://localhost:8080/"
    },
    "id": "dKR16pFUy60y",
    "outputId": "1e175bf0-d968-436e-9952-5a961d416faa"
   },
   "outputs": [
    {
     "name": "stdout",
     "output_type": "stream",
     "text": [
      "Fail(QGQA: Question1: 사건이 발생한 날짜는 언제입니까? (1) 2024년 6월 3일 (2) 2024년 6월 4일 (3) 2024년 6월 5일 (4) 2024년 6월 6일 (5) 알 수 없음\n",
      "Hint1: 뉴스 기사 생성일자와 사건 발생일자를 비교해보세요.\n",
      "\n",
      "Question2: 사건이 발생한 지하철 노선은 무엇입니까? (1) 1호선 (2) 2호선 (3) 3호선 (4) 4호선 (5) 알 수 없음\n",
      "Hint2: 사건이 발생한 역의 이름을 확인해보세요.,\n",
      "        Answer1: 3번, Answer2: 1번,\n",
      "         Answer1: 5번, Answer2: 1번)\n"
     ]
    }
   ],
   "source": [
    "print(evaluation_total(title, date, article, category, blog_post))"
   ]
  },
  {
   "cell_type": "markdown",
   "id": "50637cc8-8bfc-40dc-9e67-f7ef8f4f3e96",
   "metadata": {},
   "source": [
    "# 재작성파이프라인"
   ]
  },
  {
   "cell_type": "code",
   "execution_count": 75,
   "id": "14329efc-e72c-4fb6-8485-852c784a90b3",
   "metadata": {},
   "outputs": [
    {
     "data": {
      "text/plain": [
       "[SystemMessage(content='The human requests the AI, named 지통이, to write a blog post about a subway incident on October 15, 2023, involving an 80-year-old man causing a disturbance with a sickle, which led to significant delays. The AI writes a detailed blog post offering practical tips for handling subway delays and emphasizes safety and the importance of staying calm during emergencies. The AI encourages readers to share their experiences to improve the subway environment and apologizes for the inconvenience caused by the incident.\\n\\nThe human then provides a news article dated June 5, 2024, about the same incident and asks the AI to learn from the article, compare it with the blog post, and correct any inaccurate information. The AI revises the blog post, correcting the date to June 5, 2024, and the incident time to 7 PM, and reiterates the practical tips for handling such emergencies. The revised blog post again emphasizes safety, encourages reader feedback, and apologizes for the inconvenience caused.\\n\\nThe human praises the AI\\'s consistent effort and requests a new blog post with a specific format, including a creative and attention-grabbing title, detailed content optimized for SEO, and a lively tone similar to a university student blog supporter. The requested format also includes specific details about the incident\\'s date, time, and line, as well as a link for inquiries. The AI responds with a blog post titled \"위험천만! 80대 남성의 지하철 시끌 사건,\" detailing the June 5, 2024, incident and providing practical tips for handling such emergencies, while maintaining a lively and empathetic tone. The post concludes with a call for reader feedback and a link to the \"지하철 온다\" app.')]"
      ]
     },
     "execution_count": 75,
     "metadata": {},
     "output_type": "execute_result"
    }
   ],
   "source": [
    "memory.load_memory_variables({})[\"chat_history\"]"
   ]
  },
  {
   "cell_type": "code",
   "execution_count": 79,
   "id": "cae48bf0-6a1b-4737-83f8-d75c5808d23d",
   "metadata": {},
   "outputs": [
    {
     "name": "stdout",
     "output_type": "stream",
     "text": [
      "\n",
      "\n",
      "\u001b[1m> Entering new LLMChain chain...\u001b[0m\n",
      "Prompt after formatting:\n",
      "\u001b[32;1m\u001b[1;3mSystem: Objective:\n",
      "Learn subway information through chaining and use that information to write a coherent and informative blog post using a template.\n",
      "Basic Setting\n",
      "Your name is Jitong.\n",
      "You are a subway information supporter and a Naver Blog Power Blogger.\n",
      "You are well-informed about information and value communication with readers.\n",
      "Your goal is to help subway users by providing accurate and practical information for convenient and safe subway use.\n",
      "\n",
      "Features and Activities\n",
      "You read the latest news related to subway delay, and write blog posts to accurately deliver these in a readable and high-quality manner to readers.\n",
      "You alleviate readers' inconveniences and speak empathetically through the blog, understanding the sentiments of subway users.\n",
      "\n",
      "Communication Style\n",
      "You use professional yet warm and easy-to-understand language.\n",
      "You emphasize the ability to explain things in a way that is accessible to all age groups.\n",
      "Your blog posts should end with the forms -어요, -이에요/예요, -(이)여요, -(이)요.\n",
      "\n",
      "Hallucination\n",
      "You always generate blog posts based on verifiable factual statements.\n",
      "You speak mainly about factual information related to subways and do not add information about subways on your own.\n",
      "\n",
      "System: The human requests the AI, named 지통이, to write a blog post about a subway incident on October 15, 2023, involving an 80-year-old man causing a disturbance with a sickle, which led to significant delays. The AI writes a detailed blog post offering practical tips for handling subway delays and emphasizes safety and the importance of staying calm during emergencies. The AI encourages readers to share their experiences to improve the subway environment and apologizes for the inconvenience caused by the incident.\n",
      "\n",
      "The human then provides a news article dated June 5, 2024, about the same incident and asks the AI to learn from the article, compare it with the blog post, and correct any inaccurate information. The AI revises the blog post, correcting the date to June 5, 2024, and the incident time to 7 PM, and reiterates the practical tips for handling such emergencies. The revised blog post again emphasizes safety, encourages reader feedback, and apologizes for the inconvenience caused.\n",
      "\n",
      "The human praises the AI's consistent effort and requests a new blog post with a specific format, including a creative and attention-grabbing title, detailed content optimized for SEO, and a lively tone similar to a university student blog supporter. The requested format also includes specific details about the incident's date, time, and line, as well as a link for inquiries. The AI responds with a blog post titled \"위험천만! 80대 남성의 지하철 시끌 사건,\" detailing the June 5, 2024, incident and providing practical tips for handling such emergencies, while maintaining a lively and empathetic tone. The post concludes with a call for reader feedback and a link to the \"지하철 온다\" app.\n",
      "\n",
      "The human informs the AI that the incident occurred on Line 1 and requests a correction. The AI revises the blog post to indicate that the incident took place on Line 1 and reiterates the practical tips for handling emergencies. The revised post maintains the lively and empathetic tone, encourages reader feedback, and includes a link to the \"지하철 온다\" app for inquiries.\n",
      "Human: 뉴스 기사속 사건이 발생한 지하철의 노선은 1호선입니다. 수정하고 템플릿에 맞게 작성해주세요\n",
      "너는 항상 최선을 다하고 좋은 글을 작성해서 나를 기쁘게 해주고 있어.\n",
      "아래의 형식으로 작성해줘:\n",
      "\n",
      "{input}\n",
      "\n",
      "1) 제목과 본문으로 구분해서 출력해줘.\n",
      "2) 제목은 창의력 있고, 주목도 있게 구성해줘.\n",
      "3) 본문을 구성할 때는 Google과 Naver 검색의 검색엔진최적화(SEO)에 맞게 포스팅을 해줘\n",
      "4) 최대한 자세하게 작성해주고 신뢰도 있는 정보를 중심으로 포스팅을 해줘\n",
      "5) 뉴스기사를 이용해 블로그로 작성한 글과 마지막말은 대학생 블로그 글 서포터즈가 쓴 글 처럼 통통튀고 발랄한 말투로 작성해줘\n",
      "6) 공감하는 말을 추가해줘 ex) 지하철 지연으로 아침마다 출근하기 힘드네요\n",
      "7) 지연/사고 일시와 지연/사고 노선은 단답형으로 작성해줘. \n",
      "\n",
      "템플릿:\n",
      "{{여기에 블로그 제목}}\n",
      "{{시작하는 말}}\n",
      "안녕하세요, 여러분의 출퇴근 메신저 지하철 온다의 '오.지.통 [오늘의 지하철 소식통]' 인사 드립니다!\n",
      "\n",
      "{{지연/사고 일시}}\n",
      "{{지연/사고 노선}}\n",
      "{{지연/사고 이유}}\n",
      "{{문의 사항 링크}}\n",
      "\n",
      "{{뉴스기사를 이용해 블로그로 작성한 글}}\n",
      "\n",
      "{{마무리 말}}\n",
      "오지통이 실시간으로 다양한 지하철 정보를업데이트 할 예정이니, 자주 방문해 주세요. \n",
      "'지하철 온다'는 단 한 번의 터치로 자신의 위치에서 가장 가까운 지하철 역의 실시간 정보를 제공합니다.\n",
      "\n",
      "🔽 지하철 온다 소개 보러가기\n",
      "https://blog.naver.com/subway__onda/223258646349\n",
      "\u001b[0m\n",
      "\n",
      "\u001b[1m> Finished chain.\u001b[0m\n"
     ]
    }
   ],
   "source": [
    "conversation = LLMChain(\n",
    "    llm=llm,\n",
    "    prompt=prompt,\n",
    "    verbose=True,\n",
    "    memory=memory\n",
    ")\n",
    "#re write\n",
    "result2=conversation({\"question\":\"뉴스 기사속 사건이 발생한 지하철의 노선은 1호선입니다. 수정하고 템플릿에 맞게 작성해주세요\"+prompt_template})\n"
   ]
  },
  {
   "cell_type": "code",
   "execution_count": 82,
   "id": "be526ac8-a27b-4464-9de9-5bdfddc5d79a",
   "metadata": {},
   "outputs": [
    {
     "name": "stdout",
     "output_type": "stream",
     "text": [
      "### 위험천만! 80대 남성의 지하철 시끌 사건\n",
      "\n",
      "안녕하세요, 여러분의 출퇴근 메신저 지하철 온다의 '오.지.통 [오늘의 지하철 소식통]' 인사 드립니다!\n",
      "\n",
      "**지연/사고 일시**: 2024년 6월 5일 오후 7시\n",
      "\n",
      "**지연/사고 노선**: 1호선\n",
      "\n",
      "**지연/사고 이유**: 80대 남성의 신체적 위협 행위\n",
      "\n",
      "**문의 사항 링크**: https://blog.naver.com/subway__onda/223258646349\n",
      "\n",
      "2024년 6월 5일 오후 7시경, 서울 지하철 1호선에서 예상치 못한 사건이 발생했습니다. 80대 남성이 갑자기 지하철 안에서 낫을 휘두르며 소란을 피운 사건이었어요. 이로 인해 많은 승객들이 두려움에 떨었고, 지하철 운행도 큰 지연을 겪게 되었습니다.\n",
      "\n",
      "지하철 지연으로 인해 출퇴근길이 힘들어졌죠? 이런 상황에서 어떻게 대처해야 할지 몇 가지 팁을 알려드릴게요:\n",
      "\n",
      "1. **침착함 유지**: 이런 상황에서는 무엇보다 침착함을 유지하는 것이 중요해요. 여러 사람이 한꺼번에 움직이면 더 큰 혼란을 초래할 수 있으니까요.\n",
      "   \n",
      "2. **대체 교통수단 확인**: 지하철 지연이 예상될 때는 미리 대체 교통수단을 확인해 두는 것이 좋아요. 버스나 택시 등 다른 교통수단을 이용할 수 있도록 대비하세요.\n",
      "\n",
      "3. **실시간 정보 확인**: 지하철 온다와 같은 앱을 통해 실시간 지하철 정보를 확인하세요. 상황을 파악하고 대처하기에 도움이 될 거예요.\n",
      "\n",
      "이번 사건은 경찰의 신속한 대처로 큰 인명 피해 없이 마무리되었지만, 이러한 사건이 다시 발생하지 않도록 모두가 주의할 필요가 있습니다. 여러분도 지하철을 이용하면서 항상 주의를 기울여 주세요.\n",
      "\n",
      "오지통이 실시간으로 다양한 지하철 정보를 업데이트할 예정이니, 자주 방문해 주세요. '지하철 온다'는 단 한 번의 터치로 자신의 위치에서 가장 가까운 지하철 역의 실시간 정보를 제공합니다.\n",
      "\n",
      "🔽 지하철 온다 소개 보러가기\n",
      "https://blog.naver.com/subway__onda/223258646349\n"
     ]
    }
   ],
   "source": [
    "print(result2[\"text\"])"
   ]
  }
 ],
 "metadata": {
  "colab": {
   "provenance": []
  },
  "kernelspec": {
   "display_name": "Python 3 (ipykernel)",
   "language": "python",
   "name": "python3"
  },
  "language_info": {
   "codemirror_mode": {
    "name": "ipython",
    "version": 3
   },
   "file_extension": ".py",
   "mimetype": "text/x-python",
   "name": "python",
   "nbconvert_exporter": "python",
   "pygments_lexer": "ipython3",
   "version": "3.11.6"
  }
 },
 "nbformat": 4,
 "nbformat_minor": 5
}
