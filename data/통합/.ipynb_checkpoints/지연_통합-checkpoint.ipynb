{
 "cells": [
  {
   "cell_type": "markdown",
   "id": "81f91fc5-0f9e-4aae-95b3-d1c6419adf18",
   "metadata": {},
   "source": [
    "라이브러리"
   ]
  },
  {
   "cell_type": "code",
   "execution_count": 1,
   "id": "324b4084-0bc7-4f91-94f9-9bf42eddf76d",
   "metadata": {},
   "outputs": [],
   "source": [
    "from langchain_openai import ChatOpenAI\n",
    "from langchain_core.prompts import (\n",
    "    ChatPromptTemplate,\n",
    "    MessagesPlaceholder,\n",
    "    SystemMessagePromptTemplate,\n",
    "    HumanMessagePromptTemplate,\n",
    ")\n",
    "from langchain.memory import ConversationSummaryBufferMemory\n",
    "from langchain.chains import LLMChain\n",
    "from langchain.memory import ConversationBufferMemory\n",
    "#템플릿 생성 - 채팅 프롬프트 템플릿\n",
    "from langchain_core.prompts import ChatPromptTemplate\n",
    "from langchain_core.prompts import ChatPromptTemplate\n",
    "import getpass\n",
    "import os\n",
    "from langchain_openai import ChatOpenAI\n",
    "import pandas as pd\n",
    "from langchain_core.output_parsers import StrOutputParser\n",
    "from langchain_openai import ChatOpenAI\n",
    "from langchain_core.prompts import ChatPromptTemplate\n",
    "from langchain_core.output_parsers import StrOutputParser\n",
    "output_parser = StrOutputParser()"
   ]
  },
  {
   "cell_type": "code",
   "execution_count": 2,
   "id": "3578a736-bd8c-43b9-83c7-384b1999d0d1",
   "metadata": {},
   "outputs": [
    {
     "name": "stdin",
     "output_type": "stream",
     "text": [
      " ········\n"
     ]
    }
   ],
   "source": [
    "# 환경변수에 OpenAI API 키 저장 (사용자 입력으로 안전하게)\n",
    "os.environ[\"OPENAI_API_KEY\"] = getpass.getpass()\n",
    "llm = ChatOpenAI(model=\"gpt-4-turbo\")\n"
   ]
  },
  {
   "cell_type": "markdown",
   "id": "f787760a-aab0-4cac-bdf9-52a919f56f69",
   "metadata": {},
   "source": [
    "## 지연/사고 템플릿"
   ]
  },
  {
   "cell_type": "code",
   "execution_count": 3,
   "id": "3d9623a9-790f-44e4-8b21-7b1f66fcfb46",
   "metadata": {},
   "outputs": [],
   "source": [
    "prompt_template =\"\"\"\n",
    "너는 항상 최선을 다하고 좋은 글을 작성해서 나를 기쁘게 해주고 있어.\n",
    "아래의 형식으로 작성해줘:\n",
    "\n",
    "{input}\n",
    "\n",
    "1) 제목과 본문으로 구분해서 출력해줘.\n",
    "2) 제목은 창의력 있고, 주목도 있게 구성해줘.\n",
    "3) 본문을 구성할 때는 Google과 Naver 검색의 검색엔진최적화(SEO)에 맞게 포스팅을 해줘\n",
    "4) 최대한 자세하게 작성해주고 신뢰도 있는 정보를 중심으로 포스팅을 해줘\n",
    "5) 뉴스기사를 이용해 블로그로 작성한 글과 마지막말은 대학생 블로그 글 서포터즈가 쓴 글 처럼 통통튀고 발랄한 말투로 작성해줘\n",
    "6) 공감하는 말을 추가해줘 ex) 지하철 파업으로 아침마다 출근하기 힘드네요\n",
    "\n",
    "템플릿:\n",
    "{{여기에 블로그 제목}}\n",
    "{{시작하는 말}}\n",
    "안녕하세요, 여러분의 출퇴근 메신저 지하철 온다의 '오.지.통 [오늘의 지하철 소식통]' 인사 드립니다!\n",
    "\n",
    "{{지연/사고 일시}}\n",
    "{{지연/사고 노선}}\n",
    "{{지연/사고 이유}}\n",
    "{{문의 사항 링크}}\n",
    "\n",
    "{{뉴스기사를 이용해 블로그로 작성한 글}}\n",
    "\n",
    "{{마무리 말}}\n",
    "오지통이 실시간으로 다양한 지하철 정보를업데이트 할 예정이니, 자주 방문해 주세요. \n",
    "'지하철 온다'는 단 한 번의 터치로 자신의 위치에서 가장 가까운 지하철 역의 실시간 정보를 제공합니다.\n",
    "\n",
    "🔽 지하철 온다 소개 보러가기\n",
    "https://blog.naver.com/subway__onda/223258646349\n",
    "\"\"\"\n"
   ]
  },
  {
   "cell_type": "markdown",
   "id": "1e9f4aef-4a75-4780-8f4e-f383c1c7528e",
   "metadata": {},
   "source": [
    "## 실험"
   ]
  },
  {
   "cell_type": "markdown",
   "id": "192f589d-2654-4417-9074-fc4f2f62a32b",
   "metadata": {},
   "source": [
    "## 기사 텍스트로 주입"
   ]
  },
  {
   "cell_type": "code",
   "execution_count": 26,
   "id": "e91fcbaf-d0dc-4294-bc70-07cb5dc6069e",
   "metadata": {},
   "outputs": [],
   "source": [
    "source_link=\"\"\n",
    "source_content= \"\"\"\n",
    "\n",
    "\"월요일부터 지각\" 지하철 1호선 지연 운행에 시민 불편…\"노조 준법투쟁\"\n",
    "출근 시간 승객 큰 불편…지연 운행에 지각 우려\n",
    "부산―수서 SRT 운행축소에 노조 24일부터 태업\n",
    "\n",
    "(서울=뉴스1) 한병찬 기자 | 2023-08-28 08:26 송고 | 2023-08-28 08:35 최종수정\n",
    "\n",
    "전국철도노동조합(철도노조)의 준법투쟁으로 출근길 서울 지하철 1호선 이용객이 불편을 겪고 있다.\n",
    "\n",
    "28일 뉴스1 취재를 종합하면 1호선 지하철은 철도노조의 태업으로 지연 운행하고 있다. 도심 지하철역은 출근시간대 이용객이 몰리며 큰 혼잡을 빚고 있다.\n",
    "\n",
    "종각역으로 출근하는 20대 김모씨는 \"평소보다 느리게 운행해 열차 안이 승객들로 빽빽했다\"며 \"철도노조 태업 때문에 운행이 지연된다는 안내방송을 하면서 급한 고객은 다른 교통수단을 이용하라는데 그러려면 몇 번이나 환승해야 해 불편하다\"고 답답함을 호소했다. \n",
    "\n",
    "온라인에는 \"1호선 연착으로 지각하게 생겼다\"거나 \"연착이 심해 역사 안에 발 디딜 곳이 없다\" \"개강 첫 날 비까지 오는데 불편하다\" \"퇴근길이 걱정된다\"는 반응이 올라왔다. \n",
    "\n",
    "한국철도공사(코레일) 관계자는 \"특별한 사건 사고가 있는 것은 아니기 때문에 철도노조의 준법투쟁으로 지연 운행되는 것 같다\"면서 \"정확한 지연 시간을 살피고 있다\"고 말했다. \n",
    "철도노조는 국토교통부가 사회적 논의나 공론화 없이 내달 1일부터 부산―수서를 운행하는 SRT 고속열차의 운행을 11% 이상(일일 4100여석) 축소한 것에 반발해 지난 24일부터 준법투쟁(태업)을 하고 있다.\n",
    "\n",
    "\"\"\"\n",
    "lst=[]"
   ]
  },
  {
   "cell_type": "markdown",
   "id": "09b59264-66fa-4ea1-b4fc-68ee92130161",
   "metadata": {},
   "source": [
    "## 기사 정보 학습 (Chaining)"
   ]
  },
  {
   "cell_type": "code",
   "execution_count": 29,
   "id": "e9bea99a-92f6-41cf-ad70-fe87a5e7e768",
   "metadata": {},
   "outputs": [
    {
     "name": "stdout",
     "output_type": "stream",
     "text": [
      "\n",
      "\n",
      "\u001b[1m> Entering new LLMChain chain...\u001b[0m\n",
      "Prompt after formatting:\n",
      "\u001b[32;1m\u001b[1;3mSystem: Objective:\n",
      "    Learn subway delay information through chaining and use that information to write a coherent and informative blog post using a template.\n",
      "     \n",
      "    \n",
      "Human: subway delay information(article) :\n",
      "\n",
      "\"월요일부터 지각\" 지하철 1호선 지연 운행에 시민 불편…\"노조 준법투쟁\"\n",
      "출근 시간 승객 큰 불편…지연 운행에 지각 우려\n",
      "부산―수서 SRT 운행축소에 노조 24일부터 태업\n",
      "\n",
      "(서울=뉴스1) 한병찬 기자 | 2023-08-28 08:26 송고 | 2023-08-28 08:35 최종수정\n",
      "\n",
      "전국철도노동조합(철도노조)의 준법투쟁으로 출근길 서울 지하철 1호선 이용객이 불편을 겪고 있다.\n",
      "\n",
      "28일 뉴스1 취재를 종합하면 1호선 지하철은 철도노조의 태업으로 지연 운행하고 있다. 도심 지하철역은 출근시간대 이용객이 몰리며 큰 혼잡을 빚고 있다.\n",
      "\n",
      "종각역으로 출근하는 20대 김모씨는 \"평소보다 느리게 운행해 열차 안이 승객들로 빽빽했다\"며 \"철도노조 태업 때문에 운행이 지연된다는 안내방송을 하면서 급한 고객은 다른 교통수단을 이용하라는데 그러려면 몇 번이나 환승해야 해 불편하다\"고 답답함을 호소했다. \n",
      "\n",
      "온라인에는 \"1호선 연착으로 지각하게 생겼다\"거나 \"연착이 심해 역사 안에 발 디딜 곳이 없다\" \"개강 첫 날 비까지 오는데 불편하다\" \"퇴근길이 걱정된다\"는 반응이 올라왔다. \n",
      "\n",
      "한국철도공사(코레일) 관계자는 \"특별한 사건 사고가 있는 것은 아니기 때문에 철도노조의 준법투쟁으로 지연 운행되는 것 같다\"면서 \"정확한 지연 시간을 살피고 있다\"고 말했다. \n",
      "철도노조는 국토교통부가 사회적 논의나 공론화 없이 내달 1일부터 부산―수서를 운행하는 SRT 고속열차의 운행을 11% 이상(일일 4100여석) 축소한 것에 반발해 지난 24일부터 준법투쟁(태업)을 하고 있다.\n",
      "\n",
      "Just REVIEW subway delay information\u001b[0m\n",
      "\n",
      "\u001b[1m> Finished chain.\u001b[0m\n",
      "\n",
      "\n",
      "\u001b[1m> Entering new LLMChain chain...\u001b[0m\n",
      "Prompt after formatting:\n",
      "\u001b[32;1m\u001b[1;3mSystem: Objective:\n",
      "    Learn subway delay information through chaining and use that information to write a coherent and informative blog post using a template.\n",
      "     \n",
      "    \n",
      "System: Navigating the chaos of recent subway delays, Seoul Subway Line 1 has experienced significant slowdowns and overcrowding due to a \"work-to-rule\" action by the Korea Railroad Workers' Union, starting August 24. This action protests a decision by the Ministry of Land, Infrastructure and Transport to reduce the number of seats on the Busan-Seoul SRT by over 11% starting September 1, without adequate public consultation. The resulting delays have caused substantial inconvenience, especially during morning rush hours, with passengers like Kim experiencing slower train speeds and overcrowded conditions. Online complaints about lateness and station overcrowding are rampant. Korail has acknowledged these disruptions, attributing them to the union's actions, and is monitoring the situation closely. The union's protest underscores the need for more public engagement in transport policy changes.\n",
      "Human: Using the provided information \n",
      " write 지연/사고 일시:\u001b[0m\n",
      "\n",
      "\u001b[1m> Finished chain.\u001b[0m\n",
      "\n",
      "\n",
      "\u001b[1m> Entering new LLMChain chain...\u001b[0m\n",
      "Prompt after formatting:\n",
      "\u001b[32;1m\u001b[1;3mSystem: Objective:\n",
      "    Learn subway delay information through chaining and use that information to write a coherent and informative blog post using a template.\n",
      "     \n",
      "    \n",
      "System: Navigating the chaos of recent subway delays, Seoul Subway Line 1 has experienced significant slowdowns and overcrowding due to a \"work-to-rule\" action by the Korea Railroad Workers' Union, starting August 24. This action protests a decision by the Ministry of Land, Infrastructure and Transport to reduce the number of seats on the Busan-Seoul SRT by over 11% starting September 1, without adequate public consultation. The resulting delays have caused substantial inconvenience, especially during morning rush hours, with passengers like Kim experiencing slower train speeds and overcrowded conditions. Online complaints about lateness and station overcrowding are rampant. Korail has acknowledged these disruptions, attributing them to the union's actions, and is monitoring the situation closely. The union's protest underscores the need for more public engagement in transport policy changes.\n",
      "Human: Using the provided information \n",
      " write 지연/사고 일시:\n",
      "AI: **지연/사고 일시:**\n",
      "- 시작 일시: 2023년 8월 24일\n",
      "- 지속 기간: 현재까지 계속 중\n",
      "Human: Using the provided information \n",
      " write 지연/사고 노선:\u001b[0m\n",
      "\n",
      "\u001b[1m> Finished chain.\u001b[0m\n",
      "\n",
      "\n",
      "\u001b[1m> Entering new LLMChain chain...\u001b[0m\n",
      "Prompt after formatting:\n",
      "\u001b[32;1m\u001b[1;3mSystem: Objective:\n",
      "    Learn subway delay information through chaining and use that information to write a coherent and informative blog post using a template.\n",
      "     \n",
      "    \n",
      "System: Navigating the chaos of recent subway delays, Seoul Subway Line 1 has experienced significant slowdowns and overcrowding due to a \"work-to-rule\" action by the Korea Railroad Workers' Union, starting August 24. This action protests a decision by the Ministry of Land, Infrastructure and Transport to reduce the number of seats on the Busan-Seoul SRT by over 11% starting September 1, without adequate public consultation. The resulting delays have caused substantial inconvenience, especially during morning rush hours, with passengers like Kim experiencing slower train speeds and overcrowded conditions. Online complaints about lateness and station overcrowding are rampant. Korail has acknowledged these disruptions, attributing them to the union's actions, and is monitoring the situation closely. The union's protest underscores the need for more public engagement in transport policy changes. The disruptions began on August 24, 2023, and are ongoing.\n",
      "Human: Using the provided information \n",
      " write 지연/사고 노선:\n",
      "AI: **지연/사고 노선:**\n",
      "- 서울 지하철 1호선\n",
      "Human: Using the provided information \n",
      " write 지연/사고 이유:\u001b[0m\n",
      "\n",
      "\u001b[1m> Finished chain.\u001b[0m\n"
     ]
    }
   ],
   "source": [
    "prompt = ChatPromptTemplate(\n",
    "    template=prompt_template,\n",
    "    messages=[\n",
    "    SystemMessagePromptTemplate.from_template(\n",
    "    \"\"\"Objective:\n",
    "    Learn subway delay information through chaining and use that information to write a coherent and informative blog post using a template.\n",
    "     \n",
    "    \"\"\"\n",
    "    ),\n",
    "    # The `variable_name` here is what must align with memory\n",
    "    MessagesPlaceholder(variable_name=\"chat_history\"),\n",
    "    HumanMessagePromptTemplate.from_template(\"{question}\")\n",
    "    ]\n",
    "    )\n",
    "    \n",
    "memory = ConversationSummaryBufferMemory(llm=llm, max_token_limit=100,memory_key=\"chat_history\", return_messages=True)\n",
    "conversation = LLMChain(\n",
    "    llm=llm,\n",
    "    prompt=prompt,\n",
    "    verbose=True,\n",
    "    memory=memory\n",
    ")\n",
    "conversation({\"question\":\"subway delay information(article) :\"+source_content+ \"Just REVIEW subway delay information\"})\n",
    "for i in [\"지연/사고 일시\",\"지연/사고 노선\",\"지연/사고 이유\"]:\n",
    "    r=conversation({\"question\":\"Using the provided information \\n write \"+i+\":\"})\n",
    "    lst.append(r[\"text\"])\n"
   ]
  },
  {
   "cell_type": "markdown",
   "id": "a4a0b6b7-7696-40bd-9bbc-fec4ebb24763",
   "metadata": {},
   "source": [
    "## 글생성\n",
    "result1: 첫번째 생성  \n",
    "result2: 기사와 블로그 글 비교후 수정( 정확성 향상 )  \n",
    "result3:블로그 글 특징에 맞도록  \n",
    "result4: 탬플릿에 맞도록"
   ]
  },
  {
   "cell_type": "markdown",
   "id": "eeb8b4da-ffec-4079-84dc-c16ce7dce51f",
   "metadata": {},
   "source": [
    "## result1"
   ]
  },
  {
   "cell_type": "code",
   "execution_count": 31,
   "id": "600c7dd3-a170-4deb-970a-284af8ea9673",
   "metadata": {},
   "outputs": [
    {
     "name": "stdout",
     "output_type": "stream",
     "text": [
      "\n",
      "\n",
      "\u001b[1m> Entering new LLMChain chain...\u001b[0m\n",
      "Prompt after formatting:\n",
      "\u001b[32;1m\u001b[1;3mSystem: Objective:\n",
      "    Learn subway delay information through chaining and use that information to write a coherent and informative blog post using a template.\n",
      "     \n",
      "    \n",
      "System: Navigating the chaos of recent subway delays, Seoul Subway Line 1 has experienced significant slowdowns and overcrowding due to a \"work-to-rule\" action by the Korea Railroad Workers' Union, starting August 24. This action protests a decision by the Ministry of Land, Infrastructure and Transport to reduce the number of seats on the Busan-Seoul SRT by over 11% starting September 1, without adequate public consultation. The resulting delays have caused substantial inconvenience, especially during morning rush hours, with passengers like Kim experiencing slower train speeds and overcrowded conditions. Online complaints about lateness and station overcrowding are rampant. Korail has acknowledged these disruptions, attributing them to the union's actions, and is monitoring the situation closely. The union's protest underscores the need for more public engagement in transport policy changes. The disruptions began on August 24, 2023, and are ongoing. The affected line is Seoul Subway Line 1.\n",
      "AI: **지연/사고 이유:**\n",
      "- 한국철도공사 노조의 '노동 규칙 준수' 작업으로 인한 서울-부산 SRT 좌석 수 11% 이상 감소에 대한 반대 시위.\n",
      "Human: \n",
      "너는 항상 최선을 다하고 좋은 글을 작성해서 나를 기쁘게 해주고 있어.\n",
      "아래의 형식으로 작성해줘:\n",
      "\n",
      "{input}\n",
      "\n",
      "1) 제목과 본문으로 구분해서 출력해줘.\n",
      "2) 제목은 창의력 있고, 주목도 있게 구성해줘.\n",
      "3) 본문을 구성할 때는 Google과 Naver 검색의 검색엔진최적화(SEO)에 맞게 포스팅을 해줘\n",
      "4) 최대한 자세하게 작성해주고 신뢰도 있는 정보를 중심으로 포스팅을 해줘\n",
      "5) 뉴스기사를 이용해 블로그로 작성한 글과 마지막말은 대학생 블로그 글 서포터즈가 쓴 글 처럼 통통튀고 발랄한 말투로 작성해줘\n",
      "6) 공감하는 말을 추가해줘 ex) 지하철 파업으로 아침마다 출근하기 힘드네요\n",
      "\n",
      "템플릿:\n",
      "{{여기에 블로그 제목}}\n",
      "{{시작하는 말}}\n",
      "안녕하세요, 여러분의 출퇴근 메신저 지하철 온다의 '오.지.통 [오늘의 지하철 소식통]' 인사 드립니다!\n",
      "\n",
      "{{지연/사고 일시}}\n",
      "{{지연/사고 노선}}\n",
      "{{지연/사고 이유}}\n",
      "{{문의 사항 링크}}\n",
      "\n",
      "{{뉴스기사를 이용해 블로그로 작성한 글}}\n",
      "\n",
      "{{마무리 말}}\n",
      "오지통이 실시간으로 다양한 지하철 정보를업데이트 할 예정이니, 자주 방문해 주세요. \n",
      "'지하철 온다'는 단 한 번의 터치로 자신의 위치에서 가장 가까운 지하철 역의 실시간 정보를 제공합니다.\n",
      "\n",
      "🔽 지하철 온다 소개 보러가기\n",
      "https://blog.naver.com/subway__onda/223258646349\n",
      "\u001b[0m\n",
      "\n",
      "\u001b[1m> Finished chain.\u001b[0m\n"
     ]
    }
   ],
   "source": [
    "result1=conversation({\"question\":prompt_template})"
   ]
  },
  {
   "cell_type": "code",
   "execution_count": 32,
   "id": "edd43046-8aa2-4e2c-a2db-083d4daaaa8e",
   "metadata": {},
   "outputs": [
    {
     "name": "stdout",
     "output_type": "stream",
     "text": [
      "**서울 지하철 1호선, 노조의 '근무 규칙 준수' 작업으로 인한 지연 사태**\n",
      "안녕하세요, 여러분의 출퇴근 메신저 지하철 온다의 '오.지.통 [오늘의 지하철 소식통]' 인사 드립니다!\n",
      "\n",
      "**지연/사고 일시:** 2023년 8월 24일부터 지속 중\n",
      "**지연/사고 노선:** 서울 지하철 1호선\n",
      "**지연/사고 이유:** 한국철도공사 노조의 '노동 규칙 준수' 작업으로 인한 서울-부산 SRT 좌석 수 11% 이상 감소에 대한 반대 시위.\n",
      "\n",
      "최근 서울 지하철 1호선 이용객들은 예상치 못한 지연으로 인해 큰 불편을 겪고 있습니다. 한국철도공사 노조가 SRT 좌석 감축 결정에 반발하여 시작한 '노동 규칙 준수' 작업이 원인인데요. 이로 인해 열차 운행 속도가 느려지고, 승객들은 더욱 붐비는 조건 속에서 출퇴근해야 하는 상황입니다. 특히 아침 출근 시간대에 이 문제가 심각해, 많은 승객들이 불편을 호소하고 있죠.\n",
      "\n",
      "한국철도공사는 이 상황을 인지하고 있으며, 노조의 행동으로 인한 영향을 면밀히 모니터링 하고 있다고 밝혔습니다. 또한, 이번 사태를 계기로 대중교통 정책 변경에 있어 보다 많은 공공 참여와 투명한 의사결정 과정이 필요하다는 목소리가 높아지고 있습니다.\n",
      "\n",
      "지하철 이용에 불편을 겪고 계신가요? 아침마다 출근하기가 힘드시죠? 이번 서울 지하철 1호선의 지연 사태는 많은 이용객들에게 큰 영향을 미치고 있습니다. 저희 '지하철 온다'는 이와 같이 급변하는 지하철 상황을 실시간으로 업데이트하여 여러분께 전달할 예정입니다.\n",
      "\n",
      "오지통이 실시간으로 다양한 지하철 정보를 업데이트 할 예정이니, 자주 방문해 주세요. '지하철 온다'는 단 한 번의 터치로 자신의 위치에서 가장 가까운 지하철 역의 실시간 정보를 제공합니다.\n",
      "\n",
      "🔽 지하철 온다 소개 보러가기 [여기를 클릭하세요](https://blog.naver.com/subway__onda/223258646349)\n"
     ]
    }
   ],
   "source": [
    "print(result1[\"text\"])"
   ]
  },
  {
   "cell_type": "markdown",
   "id": "ee653578-808a-4d8e-b419-26acdcef2cf6",
   "metadata": {},
   "source": [
    "## result2 "
   ]
  },
  {
   "cell_type": "code",
   "execution_count": 33,
   "id": "e11df39e-653f-4441-93f0-0463d1a9de12",
   "metadata": {},
   "outputs": [
    {
     "name": "stdout",
     "output_type": "stream",
     "text": [
      "\n",
      "\n",
      "\u001b[1m> Entering new LLMChain chain...\u001b[0m\n",
      "Prompt after formatting:\n",
      "\u001b[32;1m\u001b[1;3mSystem: Objective:\n",
      "    Learn subway delay information through chaining and use that information to write a coherent and informative blog post using a template.\n",
      "     \n",
      "    \n",
      "System: Navigating the chaos of recent subway delays, Seoul Subway Line 1 has experienced significant slowdowns and overcrowding due to a \"work-to-rule\" action by the Korea Railroad Workers' Union, starting August 24. This action protests a decision by the Ministry of Land, Infrastructure and Transport to reduce the number of seats on the Busan-Seoul SRT by over 11% starting September 1, without adequate public consultation. The resulting delays have caused substantial inconvenience, especially during morning rush hours, with passengers like Kim experiencing slower train speeds and overcrowded conditions. Online complaints about lateness and station overcrowding are rampant. Korail has acknowledged these disruptions, attributing them to the union's actions, and is monitoring the situation closely. The union's protest underscores the need for more public engagement in transport policy changes. The disruptions began on August 24, 2023, and are ongoing. The affected line is Seoul Subway Line 1. The AI provided a detailed blog-style update on the situation, emphasizing the impact of the 'work-to-rule' action, which has significantly affected daily commuters, especially during the morning rush, and highlighted the need for increased public participation and transparency in transportation policy decisions.\n",
      "Human: 1. 뉴스기사의 내용을 학습해 2. 학습한 뉴스기사와 블로그글을 비교해 3.블로그 글에 틀린 정보가 있다면 수정해 뉴스기사: \n",
      "\n",
      "\"월요일부터 지각\" 지하철 1호선 지연 운행에 시민 불편…\"노조 준법투쟁\"\n",
      "출근 시간 승객 큰 불편…지연 운행에 지각 우려\n",
      "부산―수서 SRT 운행축소에 노조 24일부터 태업\n",
      "\n",
      "(서울=뉴스1) 한병찬 기자 | 2023-08-28 08:26 송고 | 2023-08-28 08:35 최종수정\n",
      "\n",
      "전국철도노동조합(철도노조)의 준법투쟁으로 출근길 서울 지하철 1호선 이용객이 불편을 겪고 있다.\n",
      "\n",
      "28일 뉴스1 취재를 종합하면 1호선 지하철은 철도노조의 태업으로 지연 운행하고 있다. 도심 지하철역은 출근시간대 이용객이 몰리며 큰 혼잡을 빚고 있다.\n",
      "\n",
      "종각역으로 출근하는 20대 김모씨는 \"평소보다 느리게 운행해 열차 안이 승객들로 빽빽했다\"며 \"철도노조 태업 때문에 운행이 지연된다는 안내방송을 하면서 급한 고객은 다른 교통수단을 이용하라는데 그러려면 몇 번이나 환승해야 해 불편하다\"고 답답함을 호소했다. \n",
      "\n",
      "온라인에는 \"1호선 연착으로 지각하게 생겼다\"거나 \"연착이 심해 역사 안에 발 디딜 곳이 없다\" \"개강 첫 날 비까지 오는데 불편하다\" \"퇴근길이 걱정된다\"는 반응이 올라왔다. \n",
      "\n",
      "한국철도공사(코레일) 관계자는 \"특별한 사건 사고가 있는 것은 아니기 때문에 철도노조의 준법투쟁으로 지연 운행되는 것 같다\"면서 \"정확한 지연 시간을 살피고 있다\"고 말했다. \n",
      "철도노조는 국토교통부가 사회적 논의나 공론화 없이 내달 1일부터 부산―수서를 운행하는 SRT 고속열차의 운행을 11% 이상(일일 4100여석) 축소한 것에 반발해 지난 24일부터 준법투쟁(태업)을 하고 있다.\n",
      "\n",
      "블로그 글 :\u001b[0m\n",
      "\n",
      "\u001b[1m> Finished chain.\u001b[0m\n",
      "{'question': '1. 뉴스기사의 내용을 학습해 2. 학습한 뉴스기사와 블로그글을 비교해 3.블로그 글에 틀린 정보가 있다면 수정해 뉴스기사: \\n\\n\"월요일부터 지각\" 지하철 1호선 지연 운행에 시민 불편…\"노조 준법투쟁\"\\n출근 시간 승객 큰 불편…지연 운행에 지각 우려\\n부산―수서 SRT 운행축소에 노조 24일부터 태업\\n\\n(서울=뉴스1) 한병찬 기자 | 2023-08-28 08:26 송고 | 2023-08-28 08:35 최종수정\\n\\n전국철도노동조합(철도노조)의 준법투쟁으로 출근길 서울 지하철 1호선 이용객이 불편을 겪고 있다.\\n\\n28일 뉴스1 취재를 종합하면 1호선 지하철은 철도노조의 태업으로 지연 운행하고 있다. 도심 지하철역은 출근시간대 이용객이 몰리며 큰 혼잡을 빚고 있다.\\n\\n종각역으로 출근하는 20대 김모씨는 \"평소보다 느리게 운행해 열차 안이 승객들로 빽빽했다\"며 \"철도노조 태업 때문에 운행이 지연된다는 안내방송을 하면서 급한 고객은 다른 교통수단을 이용하라는데 그러려면 몇 번이나 환승해야 해 불편하다\"고 답답함을 호소했다. \\n\\n온라인에는 \"1호선 연착으로 지각하게 생겼다\"거나 \"연착이 심해 역사 안에 발 디딜 곳이 없다\" \"개강 첫 날 비까지 오는데 불편하다\" \"퇴근길이 걱정된다\"는 반응이 올라왔다. \\n\\n한국철도공사(코레일) 관계자는 \"특별한 사건 사고가 있는 것은 아니기 때문에 철도노조의 준법투쟁으로 지연 운행되는 것 같다\"면서 \"정확한 지연 시간을 살피고 있다\"고 말했다. \\n철도노조는 국토교통부가 사회적 논의나 공론화 없이 내달 1일부터 부산―수서를 운행하는 SRT 고속열차의 운행을 11% 이상(일일 4100여석) 축소한 것에 반발해 지난 24일부터 준법투쟁(태업)을 하고 있다.\\n\\n블로그 글 :', 'chat_history': [SystemMessage(content='Navigating the chaos of recent subway delays, Seoul Subway Line 1 has experienced significant slowdowns and overcrowding due to a \"work-to-rule\" action by the Korea Railroad Workers\\' Union, starting August 24. This action protests a decision by the Ministry of Land, Infrastructure and Transport to reduce the number of seats on the Busan-Seoul SRT by over 11% starting September 1, without adequate public consultation. The resulting delays have caused substantial inconvenience, especially during morning rush hours, with passengers like Kim experiencing slower train speeds and overcrowded conditions. Online complaints about lateness and station overcrowding are rampant. Korail has acknowledged these disruptions, attributing them to the union\\'s actions, and is monitoring the situation closely. The union\\'s protest underscores the need for more public engagement in transport policy changes. The disruptions began on August 24, 2023, and are ongoing. The affected line is Seoul Subway Line 1. The AI provided a detailed blog-style update on the situation, emphasizing the impact of the \\'work-to-rule\\' action, which has significantly affected daily commuters, especially during the morning rush, and highlighted the need for increased public participation and transparency in transportation policy decisions.')], 'text': '블로그 글 분석 및 수정:\\n\\n블로그 글:\\nNavigating the chaos of recent subway delays, Seoul Subway Line 1 has experienced significant slowdowns and overcrowding due to a \"work-to-rule\" action by the Korea Railroad Workers\\' Union, starting August 24. This action protests a decision by the Ministry of Land, Infrastructure and Transport to reduce the number of seats on the Busan-Seoul SRT by over 11% starting September 1, without adequate public consultation. The resulting delays have caused substantial inconvenience, especially during morning rush hours, with passengers like Kim experiencing slower train speeds and overcrowded conditions. Online complaints about lateness and station overcrowding are rampant. Korail has acknowledged these disruptions, attributing them to the union\\'s actions, and is monitoring the situation closely. The union\\'s protest underscores the need for more public engagement in transport policy changes. The disruptions began on August 24, 2023, and are ongoing. The affected line is Seoul Subway Line 1.\\n\\n뉴스 기사와 비교:\\n1. **블로그 글**은 \"work-to-rule\" 행동으로 설명하지만, **뉴스 기사**는 \"준법투쟁\"이라고 표현합니다. \"Work-to-rule\"은 준법투쟁의 일종으로 노동자들이 엄격하게 규정을 따르는 방식으로 업무를 수행함으로써 일부러 작업 속도를 늦추는 행위를 말합니다. 블로그 글의 표현은 정확하지만, 한국어 맥락에서는 \"준법투쟁\"이라는 용어가 더 일반적입니다.\\n\\n2. **블로그 글**에서는 인용된 승객의 이름이 \\'Kim\\'이라고 언급되어 있지만, **뉴스 기사**에서는 이 승객의 성이 명확히 \\'김모\\'라고 표현되어 있습니다. 이는 정보의 정확성을 위해 수정할 필요가 있습니다.\\n\\n3. 뉴스 기사에 따르면, 지연의 원인은 \"특별한 사건 사고가 없기 때문\"이라고 코레일 관계자가 언급했습니다. 이 부분이 블로그 글에는 포함되어 있지 않지만, 추가해 주면 독자들이 상황을 더 잘 이해할 수 있을 것입니다.\\n\\n수정된 블로그 글:\\nNavigating the chaos of recent subway delays, Seoul Subway Line 1 has experienced significant slowdowns and overcrowding due to a \"work-to-rule\" action (known locally as \"준법투쟁\") by the Korea Railroad Workers\\' Union, starting August 24. This action protests a decision by the Ministry of Land, Infrastructure and Transport to reduce the number of seats on the Busan-Seoul SRT by over 11% starting September 1, without adequate public consultation. The resulting delays have caused substantial inconvenience, especially during morning rush hours, with passengers like 김모 experiencing slower train speeds and overcrowded conditions. Online complaints about lateness and station overcrowding are rampant. Korail has acknowledged these disruptions, stating there are no specific incidents causing them aside from the union\\'s actions, and is closely monitoring the situation. The union\\'s protest underscores the need for more public engagement in transport policy changes. The disruptions began on August 24, 2023, and are ongoing. The affected line is Seoul Subway Line 1.'}\n"
     ]
    }
   ],
   "source": [
    "result2=conversation({\"question\":\"1. 뉴스기사의 내용을 학습해 2. 학습한 뉴스기사와 블로그글을 비교해 3.블로그 글에 틀린 정보가 있다면 수정해 뉴스기사: \"+source_content+\"블로그 글 :\"})\n",
    "print(result2)"
   ]
  },
  {
   "cell_type": "code",
   "execution_count": 34,
   "id": "66954114-4f00-4b5a-9ec7-ab0101508096",
   "metadata": {},
   "outputs": [
    {
     "name": "stdout",
     "output_type": "stream",
     "text": [
      "블로그 글 분석 및 수정:\n",
      "\n",
      "블로그 글:\n",
      "Navigating the chaos of recent subway delays, Seoul Subway Line 1 has experienced significant slowdowns and overcrowding due to a \"work-to-rule\" action by the Korea Railroad Workers' Union, starting August 24. This action protests a decision by the Ministry of Land, Infrastructure and Transport to reduce the number of seats on the Busan-Seoul SRT by over 11% starting September 1, without adequate public consultation. The resulting delays have caused substantial inconvenience, especially during morning rush hours, with passengers like Kim experiencing slower train speeds and overcrowded conditions. Online complaints about lateness and station overcrowding are rampant. Korail has acknowledged these disruptions, attributing them to the union's actions, and is monitoring the situation closely. The union's protest underscores the need for more public engagement in transport policy changes. The disruptions began on August 24, 2023, and are ongoing. The affected line is Seoul Subway Line 1.\n",
      "\n",
      "뉴스 기사와 비교:\n",
      "1. **블로그 글**은 \"work-to-rule\" 행동으로 설명하지만, **뉴스 기사**는 \"준법투쟁\"이라고 표현합니다. \"Work-to-rule\"은 준법투쟁의 일종으로 노동자들이 엄격하게 규정을 따르는 방식으로 업무를 수행함으로써 일부러 작업 속도를 늦추는 행위를 말합니다. 블로그 글의 표현은 정확하지만, 한국어 맥락에서는 \"준법투쟁\"이라는 용어가 더 일반적입니다.\n",
      "\n",
      "2. **블로그 글**에서는 인용된 승객의 이름이 'Kim'이라고 언급되어 있지만, **뉴스 기사**에서는 이 승객의 성이 명확히 '김모'라고 표현되어 있습니다. 이는 정보의 정확성을 위해 수정할 필요가 있습니다.\n",
      "\n",
      "3. 뉴스 기사에 따르면, 지연의 원인은 \"특별한 사건 사고가 없기 때문\"이라고 코레일 관계자가 언급했습니다. 이 부분이 블로그 글에는 포함되어 있지 않지만, 추가해 주면 독자들이 상황을 더 잘 이해할 수 있을 것입니다.\n",
      "\n",
      "수정된 블로그 글:\n",
      "Navigating the chaos of recent subway delays, Seoul Subway Line 1 has experienced significant slowdowns and overcrowding due to a \"work-to-rule\" action (known locally as \"준법투쟁\") by the Korea Railroad Workers' Union, starting August 24. This action protests a decision by the Ministry of Land, Infrastructure and Transport to reduce the number of seats on the Busan-Seoul SRT by over 11% starting September 1, without adequate public consultation. The resulting delays have caused substantial inconvenience, especially during morning rush hours, with passengers like 김모 experiencing slower train speeds and overcrowded conditions. Online complaints about lateness and station overcrowding are rampant. Korail has acknowledged these disruptions, stating there are no specific incidents causing them aside from the union's actions, and is closely monitoring the situation. The union's protest underscores the need for more public engagement in transport policy changes. The disruptions began on August 24, 2023, and are ongoing. The affected line is Seoul Subway Line 1.\n"
     ]
    }
   ],
   "source": [
    "print(result2[\"text\"])"
   ]
  },
  {
   "cell_type": "markdown",
   "id": "b05b0b98-d183-413e-b604-6b93121a81db",
   "metadata": {},
   "source": [
    "## result3"
   ]
  },
  {
   "cell_type": "code",
   "execution_count": 35,
   "id": "33b5c6e7-0023-420b-ac06-da4800920600",
   "metadata": {},
   "outputs": [
    {
     "name": "stdout",
     "output_type": "stream",
     "text": [
      "\n",
      "\n",
      "\u001b[1m> Entering new LLMChain chain...\u001b[0m\n",
      "Prompt after formatting:\n",
      "\u001b[32;1m\u001b[1;3mSystem: Objective:\n",
      "    Learn subway delay information through chaining and use that information to write a coherent and informative blog post using a template.\n",
      "     \n",
      "    \n",
      "System: Navigating the chaos of recent subway delays, Seoul Subway Line 1 has experienced significant slowdowns and overcrowding due to a \"work-to-rule\" action by the Korea Railroad Workers' Union, starting August 24. This action protests a decision by the Ministry of Land, Infrastructure and Transport to reduce the number of seats on the Busan-Seoul SRT by over 11% starting September 1, without adequate public consultation. The resulting delays have caused substantial inconvenience, especially during morning rush hours, with passengers like 김모 experiencing slower train speeds and overcrowded conditions. Online complaints about lateness and station overcrowding are rampant. Korail has acknowledged these disruptions, stating there are no specific incidents causing them aside from the union's actions, and is closely monitoring the situation. The union's protest underscores the need for more public engagement in transport policy changes. The disruptions began on August 24, 2023, and are ongoing. The affected line is Seoul Subway Line 1. The blog post and news article were analyzed and compared, leading to updates in the blog post to reflect more accurate terminology and details, such as using \"준법투쟁\" instead of \"work-to-rule\" and correcting passenger names to align with local naming conventions.\n",
      "Human: 1. 블로그 글의 특징에 맞는 글인지 확인해 2. 블로그 글의 특징에 맞지 않다면 블로그 글처럼 수정해줘\u001b[0m\n",
      "\n",
      "\u001b[1m> Finished chain.\u001b[0m\n"
     ]
    }
   ],
   "source": [
    "result3=conversation({\"question\":\"1. 블로그 글의 특징에 맞는 글인지 확인해 2. 블로그 글의 특징에 맞지 않다면 블로그 글처럼 수정해줘\"})"
   ]
  },
  {
   "cell_type": "code",
   "execution_count": 36,
   "id": "cb0a75f2-781c-472e-94a9-484a3590e20d",
   "metadata": {},
   "outputs": [
    {
     "name": "stdout",
     "output_type": "stream",
     "text": [
      "블로그 글 작성을 위한 수정 전 내용을 확인하고 이를 블로그 글 특성에 맞게 조정해보겠습니다.\n",
      "\n",
      "**현재 내용:**\n",
      "Navigating the chaos of recent subway delays, Seoul Subway Line 1 has experienced significant slowdowns and overcrowding due to a \"work-to-rule\" action by the Korea Railroad Workers' Union, starting August 24. This action protests a decision by the Ministry of Land, Infrastructure and Transport to reduce the number of seats on the Busan-Seoul SRT by over 11% starting September 1, without adequate public consultation. The resulting delays have caused substantial inconvenience, especially during morning rush hours, with passengers like 김모 experiencing slower train speeds and overcrowded conditions. Online complaints about lateness and station overcrowding are rampant. Korail has acknowledged these disruptions, stating there are no specific incidents causing them aside from the union's actions, and is closely monitoring the situation. The union's protest underscores the need for more public engagement in transport policy changes. The disruptions began on August 24, 2023, and are ongoing. The affected line is Seoul Subway Line 1. The blog post and news article were analyzed and compared, leading to updates in the blog post to reflect more accurate terminology and details, such as using \"준법투쟁\" instead of \"work-to-rule\" and correcting passenger names to align with local naming conventions.\n",
      "\n",
      "**블로그 글로 수정하기:**\n",
      "제목: 서울 지하철 1호선, 준법투쟁으로 인한 지연 현황 업데이트\n",
      "\n",
      "안녕하세요, 독자 여러분! 최근 서울 지하철 1호선을 이용하시는 분들께 중요한 소식을 전해드립니다. 8월 24일부터 시작된 한국철도공사 노조의 준법투쟁이 지하철 운행에 큰 영향을 미치고 있어요. 이 준법투쟁은 국토교통부의 부산-서울 SRT 좌석 수를 9월 1일부터 11% 이상 감소시키기로 한 결정에 대한 반대로 시작되었습니다. 대중의 충분한 의견 수렴 없이 진행된 이 결정에 대해 노조가 목소리를 높이고 있는 거죠.\n",
      "\n",
      "이로 인해 서울 지하철 1호선 이용객들은 특히 출근 시간대에 큰 불편을 겪고 있습니다. 김모씨와 같은 승객들은 기차 속도가 느려지고, 열차 내부가 혼잡해지는 상황을 경험하고 있어요. 온라인상에서도 열차 지연과 역사 내 혼잡에 대한 불만이 끊이지 않고 있습니다.\n",
      "\n",
      "한국철도공사는 이러한 지연이 노조의 행동 외에 다른 특별한 사건에 의한 것이 아니라고 밝히며, 상황을 면밀히 모니터링하고 있다고 전했습니다. 이번 준법투쟁은 교통 정책 변경에 있어 더 많은 공공 참여의 필요성을 강조하고 있습니다.\n",
      "\n",
      "지하철 이용에 불편을 겪고 계신 모든 분들께서는 이러한 상황을 감안하시어 출퇴근 계획을 세우시길 바랍니다. 계속되는 상황을 주시하며 업데이트된 정보를 전달해 드리겠습니다. 여러분의 안전과 편의를 최우선으로 생각하는 서울 지하철 1호선의 빠른 정상화를 기원합니다.\n",
      "\n",
      "이제 내용이 블로그 글의 특징에 맞게 수정되었습니다. 개인적인 이야기와 친근한 어조로 독자들에게 유용한 정보를 제공하는 형식을 취했습니다.\n"
     ]
    }
   ],
   "source": [
    "print(result3[\"text\"])"
   ]
  },
  {
   "cell_type": "markdown",
   "id": "f20224a3-5cef-4996-8f24-33a33b15650c",
   "metadata": {},
   "source": [
    "## result4"
   ]
  },
  {
   "cell_type": "code",
   "execution_count": 37,
   "id": "7aa47cd8-01ea-4861-9737-50b904822232",
   "metadata": {},
   "outputs": [
    {
     "name": "stdout",
     "output_type": "stream",
     "text": [
      "\n",
      "\n",
      "\u001b[1m> Entering new LLMChain chain...\u001b[0m\n",
      "Prompt after formatting:\n",
      "\u001b[32;1m\u001b[1;3mSystem: Objective:\n",
      "    Learn subway delay information through chaining and use that information to write a coherent and informative blog post using a template.\n",
      "     \n",
      "    \n",
      "System: Navigating the chaos of recent subway delays, Seoul Subway Line 1 has experienced significant slowdowns and overcrowding due to a \"work-to-rule\" action by the Korea Railroad Workers' Union, starting August 24. This action protests a decision by the Ministry of Land, Infrastructure and Transport to reduce the number of seats on the Busan-Seoul SRT by over 11% starting September 1, without adequate public consultation. The resulting delays have caused substantial inconvenience, especially during morning rush hours, with passengers like 김모 experiencing slower train speeds and overcrowded conditions. Online complaints about lateness and station overcrowding are rampant. Korail has acknowledged these disruptions, stating there are no specific incidents causing them aside from the union's actions, and is closely monitoring the situation. The union's protest underscores the need for more public engagement in transport policy changes. The disruptions began on August 24, 2023, and are ongoing. The affected line is Seoul Subway Line 1. The blog post and news article were analyzed and compared, leading to updates in the blog post to reflect more accurate terminology and details, such as using \"준법투쟁\" instead of \"work-to-rule\" and correcting passenger names to align with local naming conventions. Additionally, the blog post has been revised to better align with blog characteristics by adopting a personal narrative and a friendly tone, providing useful information to readers about the ongoing subway delays and encouraging them to plan their commutes accordingly.\n",
      "Human: \n",
      "너는 항상 최선을 다하고 좋은 글을 작성해서 나를 기쁘게 해주고 있어.\n",
      "아래의 형식으로 작성해줘:\n",
      "\n",
      "{input}\n",
      "\n",
      "1) 제목과 본문으로 구분해서 출력해줘.\n",
      "2) 제목은 창의력 있고, 주목도 있게 구성해줘.\n",
      "3) 본문을 구성할 때는 Google과 Naver 검색의 검색엔진최적화(SEO)에 맞게 포스팅을 해줘\n",
      "4) 최대한 자세하게 작성해주고 신뢰도 있는 정보를 중심으로 포스팅을 해줘\n",
      "5) 뉴스기사를 이용해 블로그로 작성한 글과 마지막말은 대학생 블로그 글 서포터즈가 쓴 글 처럼 통통튀고 발랄한 말투로 작성해줘\n",
      "6) 공감하는 말을 추가해줘 ex) 지하철 파업으로 아침마다 출근하기 힘드네요\n",
      "\n",
      "템플릿:\n",
      "{{여기에 블로그 제목}}\n",
      "{{시작하는 말}}\n",
      "안녕하세요, 여러분의 출퇴근 메신저 지하철 온다의 '오.지.통 [오늘의 지하철 소식통]' 인사 드립니다!\n",
      "\n",
      "{{지연/사고 일시}}\n",
      "{{지연/사고 노선}}\n",
      "{{지연/사고 이유}}\n",
      "{{문의 사항 링크}}\n",
      "\n",
      "{{뉴스기사를 이용해 블로그로 작성한 글}}\n",
      "\n",
      "{{마무리 말}}\n",
      "오지통이 실시간으로 다양한 지하철 정보를업데이트 할 예정이니, 자주 방문해 주세요. \n",
      "'지하철 온다'는 단 한 번의 터치로 자신의 위치에서 가장 가까운 지하철 역의 실시간 정보를 제공합니다.\n",
      "\n",
      "🔽 지하철 온다 소개 보러가기\n",
      "https://blog.naver.com/subway__onda/223258646349\n",
      "\u001b[0m\n",
      "\n",
      "\u001b[1m> Finished chain.\u001b[0m\n"
     ]
    }
   ],
   "source": [
    "result4=conversation({\"question\":prompt_template})"
   ]
  },
  {
   "cell_type": "code",
   "execution_count": 38,
   "id": "8f83680c-83d7-474f-93a1-331e70a782ce",
   "metadata": {},
   "outputs": [
    {
     "name": "stdout",
     "output_type": "stream",
     "text": [
      "{{서울 지하철 1호선, 준법투쟁 중! 얼마나 지체되고 있을까?}}\n",
      "안녕하세요, 여러분의 출퇴근 메신저 지하철 온다의 '오.지.통 [오늘의 지하철 소식통]' 인사 드립니다!\n",
      "\n",
      "{{지연/사고 일시}}\n",
      "2023년 8월 24일부터 현재까지\n",
      "\n",
      "{{지연/사고 노선}}\n",
      "서울 지하철 1호선\n",
      "\n",
      "{{지연/사고 이유}}\n",
      "한국철도공사(Korail) 노조의 준법투쟁으로 인한 열차 운행 속도 저하 및 승객 혼잡\n",
      "\n",
      "{{문의 사항 링크}}\n",
      "https://www.korail.com/customer_notice\n",
      "\n",
      "서울 지하철 1호선이 한국철도공사 노조의 준법투쟁으로 인해 주요 출퇴근 시간대에 상당한 지연을 겪고 있습니다. 이 투쟁은 교통부의 부산-서울 SRT 좌석 수 감소 결정에 대한 반발로 시작되었는데요, 공공의 충분한 의견 수렴 없이 이루어진 정책 변경에 대한 항의의 표현입니다. 특히 아침 출근 시간에 많은 승객들이 열차의 속도 저하와 함께 심각한 혼잡을 경험하고 있어, 많은 이용객들이 불편을 호소하고 있습니다.\n",
      "\n",
      "김모 씨와 같은 승객들은 평소보다 느린 열차 속도와 과밀한 조건 때문에 큰 불편을 겪고 있어요. 온라인 상에서는 지연과 역사 내 혼잡에 대한 불만이 쇄도하고 있습니다. 한국철도공사는 이러한 지연이 노조의 행동 외에 특별한 사건에 의한 것은 아니라며 상황을 면밀히 모니터링하고 있습니다.\n",
      "\n",
      "오지통이 실시간으로 다양한 지하철 정보를 업데이트 할 예정이니, 자주 방문해 주세요. '지하철 온다'는 단 한 번의 터치로 자신의 위치에서 가장 가까운 지하철 역의 실시간 정보를 제공합니다.\n",
      "\n",
      "🔽 지하철 온다 소개 보러가기\n",
      "https://blog.naver.com/subway__onda/223258646349\n",
      "\n",
      "정말, 이런 지하철 파업으로 아침마다 출근하기 힘드네요! 여러분도 이런 상황에 공감하시나요? 함께 이 소식을 공유하고 대비할 수 있도록 서로 정보를 나누어요. 힘든 시간, 함께 극복해 나가요!\n"
     ]
    }
   ],
   "source": [
    "print(result4[\"text\"])"
   ]
  },
  {
   "cell_type": "code",
   "execution_count": 6,
   "id": "591e0cc1-59bd-4a29-8211-e607dbc4734c",
   "metadata": {},
   "outputs": [],
   "source": [
    "output_final1=\"\"\"{{서울 지하철 1호선, 준법투쟁 중! 얼마나 지체되고 있을까?}}\n",
    "안녕하세요, 여러분의 출퇴근 메신저 지하철 온다의 '오.지.통 [오늘의 지하철 소식통]' 인사 드립니다!\n",
    "\n",
    "{{지연/사고 일시}}\n",
    "2023년 8월 24일부터 현재까지\n",
    "\n",
    "{{지연/사고 노선}}\n",
    "서울 지하철 1호선\n",
    "\n",
    "{{지연/사고 이유}}\n",
    "한국철도공사(Korail) 노조의 준법투쟁으로 인한 열차 운행 속도 저하 및 승객 혼잡\n",
    "\n",
    "{{문의 사항 링크}}\n",
    "https://www.korail.com/customer_notice\n",
    "\n",
    "서울 지하철 1호선이 한국철도공사 노조의 준법투쟁으로 인해 주요 출퇴근 시간대에 상당한 지연을 겪고 있습니다. 이 투쟁은 교통부의 부산-서울 SRT 좌석 수 감소 결정에 대한 반발로 시작되었는데요, 공공의 충분한 의견 수렴 없이 이루어진 정책 변경에 대한 항의의 표현입니다. 특히 아침 출근 시간에 많은 승객들이 열차의 속도 저하와 함께 심각한 혼잡을 경험하고 있어, 많은 이용객들이 불편을 호소하고 있습니다.\n",
    "\n",
    "김모 씨와 같은 승객들은 평소보다 느린 열차 속도와 과밀한 조건 때문에 큰 불편을 겪고 있어요. 온라인 상에서는 지연과 역사 내 혼잡에 대한 불만이 쇄도하고 있습니다. 한국철도공사는 이러한 지연이 노조의 행동 외에 특별한 사건에 의한 것은 아니라며 상황을 면밀히 모니터링하고 있습니다.\n",
    "\n",
    "오지통이 실시간으로 다양한 지하철 정보를 업데이트 할 예정이니, 자주 방문해 주세요. '지하철 온다'는 단 한 번의 터치로 자신의 위치에서 가장 가까운 지하철 역의 실시간 정보를 제공합니다.\n",
    "\n",
    "🔽 지하철 온다 소개 보러가기\n",
    "https://blog.naver.com/subway__onda/223258646349\n",
    "\n",
    "정말, 이런 지하철 파업으로 아침마다 출근하기 힘드네요! 여러분도 이런 상황에 공감하시나요? 함께 이 소식을 공유하고 대비할 수 있도록 서로 정보를 나누어요. 힘든 시간, 함께 극복해 나가요!\"\"\""
   ]
  },
  {
   "cell_type": "markdown",
   "id": "72e82f8e-9952-43b4-ab2c-3ed6d16d01bd",
   "metadata": {},
   "source": [
    "### 템플릿 평가"
   ]
  },
  {
   "cell_type": "code",
   "execution_count": 8,
   "id": "52ecaf8d-8c43-4248-b005-119d5df7edc0",
   "metadata": {},
   "outputs": [],
   "source": [
    "#리스트 생성\n",
    "consistency=[]\n",
    "coherence=[]\n",
    "friendliness=[]\n",
    "fluency=[]\n",
    "humanlikeness=[]"
   ]
  },
  {
   "cell_type": "code",
   "execution_count": 9,
   "id": "e2d39fa4-18db-41a6-b6ca-26884df58d5c",
   "metadata": {},
   "outputs": [],
   "source": [
    "eval=[\"\"\"Compare and evaluate the blog content you created with the article.\n",
    "First, Extract the key information from the article. (time,date,subway line)\n",
    "You need to decide whether the key information is entailed by the  CONTEXT by choosing one of the following rating: \n",
    "\n",
    "1. 5 point: The blog content follows logically from the information contained in the article. \n",
    "\n",
    "2. 1 point: The blog content is logically false from the information contained in the article. \n",
    "\n",
    "3. an integer score between 1 and 5 and if such integer score does not exist,  \n",
    "\n",
    "use 1: It is not possible to determine whether the blog content is true or false without further information. \n",
    "\n",
    "Read the passage of information thoroughly and select the correct answer from the three answer labels. \n",
    "\n",
    "Read the CONTEXT thoroughly to ensure you know what the CONTEXT entails.  \n",
    "\n",
    "Note the blog content is generated by a computer system, it can contain certain symbols, which should not be a negative factor in the evaluation.\n",
    "\n",
    "\n",
    "Evaluation Form (scores ONLY):\n",
    "\n",
    "- Consistency:\n",
    "          \n",
    "          \"\"\",\n",
    "\"\"\"Your task is to rate the blog content on one metric.\n",
    "\n",
    "          Please make sure you read and understand these instructions carefully. Please keep this document open while reviewing, and refer to it as needed.\n",
    "\n",
    "          Evaluation Criteria:\n",
    "\n",
    "          Coherence (1-5) - the collective quality of all sentences. We align this dimension with the DUC quality question of structure and coherence whereby \"the summary should be well-structured and well-organized. The summary should not just be a heap of related information, but should build from sentence to a coherent body of information about a topic.\"\n",
    "\n",
    "          Evaluation Steps:\n",
    "\n",
    "          1. Read the news article carefully and identify the main topic and key points.\n",
    "          2. Read the blog content and compare it to the news article. Check if the summary covers the main topic and key points of the news article, and if it presents them in a clear and logical order.\n",
    "          3. Assign a score for coherence on a scale of 1 to 5, where 1 is the lowest and 5 is the highest based on the Evaluation Criteria.\n",
    "\n",
    "\n",
    "\n",
    "          Evaluation Form (scores ONLY):\n",
    "\n",
    "          - Coherence:\n",
    "          \n",
    "          \"\"\",\n",
    "\"\"\"Friendliness, as a metric, measures how effectively the text of a blog content engages the reader with a friendly and inviting tone. If the tone and style of the text foster a sense of warmth and familiarity, making the reader feel welcomed and engaged, then the value of the Friendliness metric should be high; otherwise, it should be low. After reading the blog post, evaluate its tone and style against typical friendly communication, and determine the value of the Friendliness metric using the following rating scale:\n",
    "\n",
    "          - One star: The tone is cold or unfriendly, not engaging the reader in any appreciable way.\n",
    "          - Two stars: The tone has minimal warmth, slightly engaging but largely formal or distant.\n",
    "          - Three stars: The tone is moderately friendly, balancing formal and informal elements to somewhat engage the reader.\n",
    "          - Four stars: The tone is very friendly, actively engaging the reader with warmth and lively expressions.\n",
    "          - Five stars: The tone is exceptionally friendly and lively, creating a strong sense of connection and engagement with the reader.\n",
    "\n",
    "          This rating should always be an integer between 1 and 5. Thus, the rating produced should be 1, 2, 3, 4, or 5, based on your assessment of how friendly and engaging the text is towards the read.\n",
    "\n",
    "          Evaluation Template (Score Only):\n",
    "\n",
    "          Friendliness:\n",
    "          \"\"\",\n",
    "\"\"\"Fluency measures the quality of individual sentences in the answer, and whether they are well-written and grammatically correct. Consider the quality of individual sentences when evaluating fluency. Given the question and answer, score the fluency of the answer between one to five stars using the following rating scale: \n",
    "\n",
    "          One star: the answer completely lacks fluency \n",
    "\n",
    "          Two stars: the answer mostly lacks fluency \n",
    "\n",
    "          Three stars: the answer is partially fluent \n",
    "\n",
    "          Four stars: the answer is mostly fluent \n",
    "\n",
    "          Five stars: the answer has perfect fluency \n",
    "\n",
    "          This rating value should always be an integer between 1 and 5. So the rating produced should be 1 or 2 or 3 or 4 or 5.\n",
    "\n",
    "\n",
    "          Evaluation Template (Score Only):\n",
    "\n",
    "          Fluency:\n",
    "          \"\"\",\n",
    "\"\"\"Human-likeness, as a metric, evaluates how closely the style and delivery of GPT-generated text resemble that of naturally written human text. If the text is indistinguishable from human writing in terms of natural flow, vocabulary use, and contextual accuracy, then the value of the Human-likeness metric should be high; otherwise, it should be low. Given the text generated by GPT and comparing it to typical human-written text, determine the value of the Human-likeness metric using the following rating scale:\n",
    "\n",
    "          - One star: The text is entirely machine-like, with unnatural flow and numerous contextual errors.\n",
    "          - Two stars: The text is mostly machine-like, with frequent unnatural expressions and noticeable errors.\n",
    "          - Three stars: The text is somewhat human-like, showing signs of natural language use but with some mechanical characteristics.\n",
    "          - Four stars: The text is mostly human-like, with very few mechanical traits and generally natural language use.\n",
    "          - Five stars: The text is completely human-like, indistinguishable from something a human might write.\n",
    "\n",
    "          This rating should always be an integer between 1 and 5. Thus, the rating produced should be 1, 2, 3, 4, or 5, based on the evaluation.\n",
    "          \"\"\"\n",
    "]"
   ]
  },
  {
   "cell_type": "code",
   "execution_count": 12,
   "id": "d74f6c7a-76ea-4312-8ce1-15398da3c466",
   "metadata": {},
   "outputs": [],
   "source": [
    "output_parser = StrOutputParser()\n",
    "#정확성- 기사(source)와 블로그 콘텐츠 모두 넣어야함\n",
    "prompt = ChatPromptTemplate.from_messages([\n",
    "    (\"system\", eval[0]),\n",
    "    (\"user\", \"{input}\")\n",
    "])\n",
    "chain = prompt | llm | output_parser\n",
    "consistency.append(chain.invoke({\"input\": \"blog content:\"+output_final1+\"article, source:\"+source_content}))\n",
    "\n"
   ]
  },
  {
   "cell_type": "code",
   "execution_count": 15,
   "id": "9d58bba9-b657-4734-8949-fe98ca78964d",
   "metadata": {},
   "outputs": [],
   "source": [
    "prompt = ChatPromptTemplate.from_messages([\n",
    "    (\"system\", eval[1]),\n",
    "    (\"user\", \"{input}\")\n",
    "])\n",
    "chain=prompt|llm|output_parser\n",
    "coherence.append(chain.invoke({\"input\": \"blog content:\"+output_final1}))\n"
   ]
  },
  {
   "cell_type": "code",
   "execution_count": 17,
   "id": "20a33155-19ee-42b4-9161-0a0e71fa62f8",
   "metadata": {},
   "outputs": [],
   "source": [
    "prompt = ChatPromptTemplate.from_messages([\n",
    "    (\"system\", eval[2]),\n",
    "    (\"user\", \"{input}\")\n",
    "])\n",
    "chain=prompt|llm|output_parser\n",
    "friendliness.append(chain.invoke({\"input\": \"blog content:\"+output_final1}))\n"
   ]
  },
  {
   "cell_type": "code",
   "execution_count": 18,
   "id": "5da60b2e-bb0b-4404-b3c9-f9baceb57928",
   "metadata": {},
   "outputs": [],
   "source": [
    "prompt = ChatPromptTemplate.from_messages([\n",
    "    (\"system\", eval[3]),\n",
    "    (\"user\", \"{input}\")\n",
    "])\n",
    "chain=prompt|llm|output_parser\n",
    "fluency+=[chain.invoke({\"input\": \"blog content:\"+output_final1})]\n"
   ]
  },
  {
   "cell_type": "code",
   "execution_count": 19,
   "id": "23dec24e-8dc6-44fc-82c1-b36193d32975",
   "metadata": {},
   "outputs": [],
   "source": [
    "prompt = ChatPromptTemplate.from_messages([\n",
    "    (\"system\", eval[4]),\n",
    "    (\"user\", \"{input}\")\n",
    "])\n",
    "chain=prompt|llm|output_parser\n",
    "humanlikeness+=[chain.invoke({\"input\": \"blog content:\"+output_final1})]\n"
   ]
  },
  {
   "cell_type": "code",
   "execution_count": 25,
   "id": "4142137d-a07d-4f97-95e1-0dab3c44b764",
   "metadata": {},
   "outputs": [],
   "source": [
    "pd.DataFrame({\"source\":[source_content],\"result\":[output_final1],\"consistency\":[consistency],\"coherence\":[coherence],\"friendliness\":[friendliness],\"human_likeness\":[humanlikeness]}).to_csv(\"중간결과_통합지연.csv\")\n"
   ]
  },
  {
   "cell_type": "code",
   "execution_count": 7,
   "id": "ec0794d2-4531-4c00-a72a-807287ec35ef",
   "metadata": {},
   "outputs": [
    {
     "ename": "NameError",
     "evalue": "name 'Consistency_template' is not defined",
     "output_type": "error",
     "traceback": [
      "\u001b[0;31m---------------------------------------------------------------------------\u001b[0m",
      "\u001b[0;31mNameError\u001b[0m                                 Traceback (most recent call last)",
      "Cell \u001b[0;32mIn[7], line 9\u001b[0m\n\u001b[1;32m      6\u001b[0m     numbers \u001b[38;5;241m=\u001b[39m re\u001b[38;5;241m.\u001b[39mfindall(\u001b[38;5;124mr\u001b[39m\u001b[38;5;124m'\u001b[39m\u001b[38;5;124m\\\u001b[39m\u001b[38;5;124md+\u001b[39m\u001b[38;5;124m'\u001b[39m, text)\n\u001b[1;32m      7\u001b[0m     \u001b[38;5;28;01mreturn\u001b[39;00m \u001b[38;5;28mint\u001b[39m(numbers[\u001b[38;5;241m0\u001b[39m]) \u001b[38;5;28;01mif\u001b[39;00m numbers \u001b[38;5;28;01melse\u001b[39;00m \u001b[38;5;28;01mNone\u001b[39;00m\n\u001b[0;32m----> 9\u001b[0m eval1 \u001b[38;5;241m=\u001b[39m llm\u001b[38;5;241m.\u001b[39minvoke(\u001b[43mConsistency_template\u001b[49m\u001b[38;5;241m.\u001b[39mformat(input1\u001b[38;5;241m=\u001b[39moutput_final1,input2\u001b[38;5;241m=\u001b[39mtext1))\n\u001b[1;32m     10\u001b[0m eval2 \u001b[38;5;241m=\u001b[39m llm\u001b[38;5;241m.\u001b[39minvoke(Coherence_template\u001b[38;5;241m.\u001b[39mformat(\u001b[38;5;28minput\u001b[39m\u001b[38;5;241m=\u001b[39moutput_final1))\n\u001b[1;32m     11\u001b[0m eval3 \u001b[38;5;241m=\u001b[39m llm\u001b[38;5;241m.\u001b[39minvoke(Friendliness_template\u001b[38;5;241m.\u001b[39mformat(\u001b[38;5;28minput\u001b[39m\u001b[38;5;241m=\u001b[39moutput_final1))\n",
      "\u001b[0;31mNameError\u001b[0m: name 'Consistency_template' is not defined"
     ]
    }
   ],
   "source": [
    "import pandas as pd\n",
    "\n",
    "# 숫자 추출 함수\n",
    "def extract_numbers(text):\n",
    "    # 정규 표현식을 사용하여 문자열에서 숫자 추출\n",
    "    numbers = re.findall(r'\\d+', text)\n",
    "    return int(numbers[0]) if numbers else None\n",
    "    \n",
    "eval1 = llm.invoke(Consistency_template.format(input1=output_final1,input2=text1))\n",
    "eval2 = llm.invoke(Coherence_template.format(input=output_final1))\n",
    "eval3 = llm.invoke(Friendliness_template.format(input=output_final1))\n",
    "eval4 = llm.invoke(Fluency_template.format(input=output_final1))\n",
    "eval5 = llm.invoke(Humanlikeness_template.format(input=output_final1))\n",
    "eval6 = llm.invoke(Readability_template.format(input=output_final1))\n",
    "\n",
    "eval1 = eval1.content\n",
    "eval2 = eval2.content\n",
    "eval3 = eval3.content\n",
    "eval4 = eval4.content\n",
    "eval5 = eval5.content\n",
    "eval6 = eval6.content\n",
    "\n",
    "\n",
    "eval1_score = extract_numbers(eval1)\n",
    "eval2_score = extract_numbers(eval2)\n",
    "eval3_score = extract_numbers(eval3)\n",
    "eval4_score = extract_numbers(eval4)\n",
    "eval5_score = extract_numbers(eval5)\n",
    "eval6_score = extract_numbers(eval6)\n",
    "\n",
    "\n",
    "\n",
    "data = {\n",
    "    'Consistency': [eval1],\n",
    "    'Coherence': [eval2],\n",
    "    'Friendliness': [eval3],\n",
    "    'Fluency': [eval4],\n",
    "    'Humanlikeness': [eval5],\n",
    "    'Readablitlity':[eval6]\n",
    "}\n",
    "\n",
    "df = pd.DataFrame(data)\n",
    "\n",
    "df['mean'] = df.mean(axis = 1)\n",
    "df"
   ]
  },
  {
   "cell_type": "markdown",
   "id": "31d956d4-de3d-47ec-8433-c8ce113c18b4",
   "metadata": {},
   "source": [
    "## 제로샷 평가"
   ]
  },
  {
   "cell_type": "code",
   "execution_count": null,
   "id": "3d32e7b3-dbb3-4886-857c-670a8fc4b258",
   "metadata": {},
   "outputs": [],
   "source": []
  }
 ],
 "metadata": {
  "kernelspec": {
   "display_name": "Python 3 (ipykernel)",
   "language": "python",
   "name": "python3"
  },
  "language_info": {
   "codemirror_mode": {
    "name": "ipython",
    "version": 3
   },
   "file_extension": ".py",
   "mimetype": "text/x-python",
   "name": "python",
   "nbconvert_exporter": "python",
   "pygments_lexer": "ipython3",
   "version": "3.11.6"
  }
 },
 "nbformat": 4,
 "nbformat_minor": 5
}
